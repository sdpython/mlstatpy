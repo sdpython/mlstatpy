{
 "cells": [
  {
   "cell_type": "markdown",
   "metadata": {},
   "source": [
    "# Complétion\n",
    "\n",
    "Comparaion de plusieurs algorithmes pour implémenter un système de complétion."
   ]
  },
  {
   "cell_type": "markdown",
   "metadata": {},
   "source": [
    "## Tester des idées"
   ]
  },
  {
   "cell_type": "markdown",
   "metadata": {},
   "source": [
    "### Meilleur ordre pour a, ab, abc, abcd"
   ]
  },
  {
   "cell_type": "code",
   "execution_count": 2,
   "metadata": {
    "collapsed": false
   },
   "outputs": [
    {
     "name": "stdout",
     "output_type": "stream",
     "text": [
      "0 ordre ('a', 'ab', 'abc', 'abcd')\n",
      "1 ordre ('a', 'ab', 'abcd', 'abc')\n",
      "1 ordre ('a', 'abc', 'ab', 'abcd')\n",
      "2 ordre ('a', 'abc', 'abcd', 'ab')\n",
      "2 ordre ('a', 'abcd', 'ab', 'abc')\n",
      "2 ordre ('a', 'abcd', 'abc', 'ab')\n",
      "1 ordre ('ab', 'a', 'abc', 'abcd')\n",
      "2 ordre ('ab', 'a', 'abcd', 'abc')\n",
      "2 ordre ('ab', 'abc', 'a', 'abcd')\n",
      "3 ordre ('ab', 'abc', 'abcd', 'a')\n",
      "3 ordre ('ab', 'abcd', 'a', 'abc')\n",
      "3 ordre ('ab', 'abcd', 'abc', 'a')\n",
      "2 ordre ('abc', 'a', 'ab', 'abcd')\n",
      "3 ordre ('abc', 'a', 'abcd', 'ab')\n",
      "2 ordre ('abc', 'ab', 'a', 'abcd')\n",
      "3 ordre ('abc', 'ab', 'abcd', 'a')\n",
      "4 ordre ('abc', 'abcd', 'a', 'ab')\n",
      "4 ordre ('abc', 'abcd', 'ab', 'a')\n",
      "3 ordre ('abcd', 'a', 'ab', 'abc')\n",
      "3 ordre ('abcd', 'a', 'abc', 'ab')\n",
      "3 ordre ('abcd', 'ab', 'a', 'abc')\n",
      "3 ordre ('abcd', 'ab', 'abc', 'a')\n",
      "4 ordre ('abcd', 'abc', 'a', 'ab')\n",
      "4 ordre ('abcd', 'abc', 'ab', 'a')\n"
     ]
    }
   ],
   "source": [
    "from mlstatpy.nlp.completion import CompletionTrieNode\n",
    "import itertools\n",
    "\n",
    "queries = [\"a\", \"ab\", \"abc\", \"abcd\"]\n",
    "for per in itertools.permutations(queries):\n",
    "    trie = CompletionTrieNode.build([(None, w) for w in per])\n",
    "    gain = sum(len(w) - trie.min_keystroke(w)[0] for w in per)\n",
    "    print(gain, \"ordre\", per)"
   ]
  },
  {
   "cell_type": "markdown",
   "metadata": {},
   "source": [
    "### Meilleur ordre pour a, ab, abc, abcd, edf, edfh"
   ]
  },
  {
   "cell_type": "code",
   "execution_count": 3,
   "metadata": {
    "collapsed": false,
    "scrolled": false
   },
   "outputs": [
    {
     "name": "stdout",
     "output_type": "stream",
     "text": [
      "(6, 'ordre', ('edfh', 'edf', 'abcd', 'abc', 'ab', 'a'))\n",
      "(6, 'ordre', ('edfh', 'edf', 'abcd', 'abc', 'a', 'ab'))\n",
      "(6, 'ordre', ('edfh', 'edf', 'abcd', 'ab', 'abc', 'a'))\n",
      "(6, 'ordre', ('edfh', 'edf', 'abcd', 'ab', 'a', 'abc'))\n",
      "(6, 'ordre', ('edfh', 'edf', 'abcd', 'a', 'abc', 'ab'))\n",
      "(6, 'ordre', ('edfh', 'edf', 'abcd', 'a', 'ab', 'abc'))\n",
      "(6, 'ordre', ('edfh', 'edf', 'abc', 'abcd', 'ab', 'a'))\n",
      "(6, 'ordre', ('edfh', 'edf', 'abc', 'abcd', 'a', 'ab'))\n",
      "(6, 'ordre', ('edf', 'edfh', 'abcd', 'abc', 'ab', 'a'))\n",
      "(6, 'ordre', ('edf', 'edfh', 'abcd', 'abc', 'a', 'ab'))\n",
      "(6, 'ordre', ('edf', 'edfh', 'abcd', 'ab', 'abc', 'a'))\n",
      "(6, 'ordre', ('edf', 'edfh', 'abcd', 'ab', 'a', 'abc'))\n",
      "(6, 'ordre', ('edf', 'edfh', 'abcd', 'a', 'abc', 'ab'))\n",
      "(6, 'ordre', ('edf', 'edfh', 'abcd', 'a', 'ab', 'abc'))\n",
      "(6, 'ordre', ('edf', 'edfh', 'abc', 'abcd', 'ab', 'a'))\n",
      "(6, 'ordre', ('edf', 'edfh', 'abc', 'abcd', 'a', 'ab'))\n",
      "(6, 'ordre', ('abcd', 'abc', 'edfh', 'edf', 'ab', 'a'))\n",
      "(6, 'ordre', ('abcd', 'abc', 'edfh', 'edf', 'a', 'ab'))\n",
      "(6, 'ordre', ('abcd', 'abc', 'edfh', 'ab', 'edf', 'a'))\n",
      "(6, 'ordre', ('abcd', 'abc', 'edfh', 'ab', 'a', 'edf'))\n",
      "(6, 'ordre', ('abcd', 'abc', 'edfh', 'a', 'edf', 'ab'))\n",
      "(6, 'ordre', ('abcd', 'abc', 'edfh', 'a', 'ab', 'edf'))\n",
      "(6, 'ordre', ('abcd', 'abc', 'edf', 'edfh', 'ab', 'a'))\n",
      "(6, 'ordre', ('abcd', 'abc', 'edf', 'edfh', 'a', 'ab'))\n",
      "(6, 'ordre', ('abcd', 'abc', 'edf', 'ab', 'edfh', 'a'))\n",
      "(6, 'ordre', ('abcd', 'abc', 'edf', 'ab', 'a', 'edfh'))\n",
      "(6, 'ordre', ('abcd', 'abc', 'edf', 'a', 'edfh', 'ab'))\n",
      "(6, 'ordre', ('abcd', 'abc', 'edf', 'a', 'ab', 'edfh'))\n",
      "(6, 'ordre', ('abcd', 'abc', 'ab', 'edfh', 'edf', 'a'))\n",
      "(6, 'ordre', ('abcd', 'abc', 'ab', 'edfh', 'a', 'edf'))\n"
     ]
    }
   ],
   "source": [
    "queries = [\"a\", \"ab\", \"abc\", \"abcd\", \"edf\", \"edfh\"]\n",
    "res = []\n",
    "for per in itertools.permutations(queries):\n",
    "    trie = CompletionTrieNode.build([(None, w) for w in per])\n",
    "    gain = sum(len(w) - trie.min_keystroke(w)[0] for w in per)\n",
    "    res.append((gain, \"ordre\", per))\n",
    "res.sort(reverse=True)\n",
    "for r in res[:30]:\n",
    "    print(r)"
   ]
  },
  {
   "cell_type": "markdown",
   "metadata": {
    "collapsed": true
   },
   "source": [
    "### Influence du poids"
   ]
  },
  {
   "cell_type": "code",
   "execution_count": 4,
   "metadata": {
    "collapsed": false
   },
   "outputs": [
    {
     "name": "stdout",
     "output_type": "stream",
     "text": [
      "19.2 - actes p=2.0 g=4.0 | actuellement p=1.0 g=10.0 | acte p=1.0 g=1.0 | actualité p=1.0 g=5.0\n",
      "19.2 - actes p=2.0 g=4.0 | actualité p=1.0 g=7.0 | acte p=1.0 g=1.0 | actuellement p=1.0 g=8.0\n",
      "19.2 - actes p=2.0 g=4.0 | acte p=1.0 g=2.0 | actualité p=1.0 g=6.0 | actuellement p=1.0 g=8.0\n",
      "19.2 - actes p=2.0 g=4.0 | actuellement p=1.0 g=10.0 | actualité p=1.0 g=6.0 | acte p=1.0 g=0.0\n",
      "19.2 - actes p=2.0 g=4.0 | actualité p=1.0 g=7.0 | actuellement p=1.0 g=9.0 | acte p=1.0 g=0.0\n",
      "19.2 - actes p=2.0 g=4.0 | acte p=1.0 g=2.0 | actuellement p=1.0 g=9.0 | actualité p=1.0 g=5.0\n",
      "18.4 - actuellement p=1.0 g=11.0 | actes p=2.0 g=3.0 | actualité p=1.0 g=6.0 | acte p=1.0 g=0.0\n",
      "18.4 - actuellement p=1.0 g=11.0 | actes p=2.0 g=3.0 | acte p=1.0 g=1.0 | actualité p=1.0 g=5.0\n",
      "18.4 - actualité p=1.0 g=8.0 | actes p=2.0 g=3.0 | actuellement p=1.0 g=9.0 | acte p=1.0 g=0.0\n",
      "18.4 - actualité p=1.0 g=8.0 | actes p=2.0 g=3.0 | acte p=1.0 g=1.0 | actuellement p=1.0 g=8.0\n",
      "18.4 - acte p=1.0 g=3.0 | actes p=2.0 g=3.0 | actuellement p=1.0 g=9.0 | actualité p=1.0 g=5.0\n",
      "18.4 - acte p=1.0 g=3.0 | actes p=2.0 g=3.0 | actualité p=1.0 g=6.0 | actuellement p=1.0 g=8.0\n",
      "17.6 - actuellement p=1.0 g=11.0 | actualité p=1.0 g=7.0 | actes p=2.0 g=2.0 | acte p=1.0 g=0.0\n",
      "17.6 - actuellement p=1.0 g=11.0 | acte p=1.0 g=2.0 | actes p=2.0 g=2.0 | actualité p=1.0 g=5.0\n",
      "17.6 - actualité p=1.0 g=8.0 | actuellement p=1.0 g=10.0 | actes p=2.0 g=2.0 | acte p=1.0 g=0.0\n",
      "17.6 - actualité p=1.0 g=8.0 | acte p=1.0 g=2.0 | actes p=2.0 g=2.0 | actuellement p=1.0 g=8.0\n",
      "17.6 - acte p=1.0 g=3.0 | actuellement p=1.0 g=10.0 | actes p=2.0 g=2.0 | actualité p=1.0 g=5.0\n",
      "17.6 - acte p=1.0 g=3.0 | actualité p=1.0 g=7.0 | actes p=2.0 g=2.0 | actuellement p=1.0 g=8.0\n",
      "16.8 - actuellement p=1.0 g=11.0 | actualité p=1.0 g=7.0 | acte p=1.0 g=1.0 | actes p=2.0 g=1.0\n",
      "16.8 - actuellement p=1.0 g=11.0 | acte p=1.0 g=2.0 | actualité p=1.0 g=6.0 | actes p=2.0 g=1.0\n",
      "16.8 - actualité p=1.0 g=8.0 | actuellement p=1.0 g=10.0 | acte p=1.0 g=1.0 | actes p=2.0 g=1.0\n",
      "16.8 - actualité p=1.0 g=8.0 | acte p=1.0 g=2.0 | actuellement p=1.0 g=9.0 | actes p=2.0 g=1.0\n",
      "16.8 - acte p=1.0 g=3.0 | actuellement p=1.0 g=10.0 | actualité p=1.0 g=6.0 | actes p=2.0 g=1.0\n",
      "16.8 - acte p=1.0 g=3.0 | actualité p=1.0 g=7.0 | actuellement p=1.0 g=9.0 | actes p=2.0 g=1.0\n"
     ]
    }
   ],
   "source": [
    "queries = [\"actuellement\", \"actualité\", \"acte\", \"actes\"]\n",
    "weights = [1, 1, 1, 2]\n",
    "total = sum(weights) * 1.0 / len(queries)\n",
    "res = []\n",
    "for per in itertools.permutations(zip(queries, weights)):\n",
    "    trie = CompletionTrieNode.build([(None, w) for w, p in per])\n",
    "    wks = [(w, p, len(w) - trie.min_keystroke(w)[0]) for w, p in per]\n",
    "    gain = sum(g * p / total for w, p, g in wks)\n",
    "    res.append((gain, wks))\n",
    "res.sort(reverse=True)\n",
    "for r in res:\n",
    "    print(\n",
    "        \"{0:3.4} - {1}\".format(r[0], \" | \".join(\"%s p=%1.1f g=%1.1f\" % _ for _ in r[1]))\n",
    "    )"
   ]
  },
  {
   "cell_type": "markdown",
   "metadata": {},
   "source": [
    "## Nouvelle métrique"
   ]
  },
  {
   "cell_type": "markdown",
   "metadata": {},
   "source": [
    "### Intuition"
   ]
  },
  {
   "cell_type": "code",
   "execution_count": 5,
   "metadata": {
    "collapsed": false
   },
   "outputs": [],
   "source": [
    "def gain_moyen_par_mot(queries, weights):\n",
    "    total = sum(weights) * 1.0\n",
    "    res = []\n",
    "    for per in itertools.permutations(zip(queries, weights)):\n",
    "        trie = CompletionTrieNode.build([(None, w) for w, p in per])\n",
    "        wks = [(w, p, len(w) - trie.min_keystroke(w)[0]) for w, p in per]\n",
    "        gain = sum(g * p / total for w, p, g in wks)\n",
    "        res.append((gain, wks))\n",
    "    res.sort(reverse=True)\n",
    "    for i, r in enumerate(res):\n",
    "        print(\n",
    "            \"{0:3.4} - {1}\".format(\n",
    "                r[0], \" | \".join(\"%s p=%1.1f g=%1.1f\" % _ for _ in r[1])\n",
    "            )\n",
    "        )\n",
    "        if i > 10:\n",
    "            print(\"...\")\n",
    "            break"
   ]
  },
  {
   "cell_type": "code",
   "execution_count": 6,
   "metadata": {
    "collapsed": false
   },
   "outputs": [
    {
     "name": "stdout",
     "output_type": "stream",
     "text": [
      "7.0 - actuellement p=1.0 g=11.0 | actuel p=1.0 g=4.0 | actualité p=1.0 g=6.0\n",
      "7.0 - actuellement p=1.0 g=11.0 | actualité p=1.0 g=7.0 | actuel p=1.0 g=3.0\n",
      "7.0 - actuel p=1.0 g=5.0 | actuellement p=1.0 g=10.0 | actualité p=1.0 g=6.0\n",
      "7.0 - actuel p=1.0 g=5.0 | actualité p=1.0 g=7.0 | actuellement p=1.0 g=9.0\n",
      "7.0 - actualité p=1.0 g=8.0 | actuellement p=1.0 g=10.0 | actuel p=1.0 g=3.0\n",
      "7.0 - actualité p=1.0 g=8.0 | actuel p=1.0 g=4.0 | actuellement p=1.0 g=9.0\n"
     ]
    }
   ],
   "source": [
    "queries = [\"actuellement\", \"actualité\", \"actuel\"]\n",
    "weights = [1, 1, 1]\n",
    "gain_moyen_par_mot(queries, weights)"
   ]
  },
  {
   "cell_type": "code",
   "execution_count": 7,
   "metadata": {
    "collapsed": false
   },
   "outputs": [
    {
     "name": "stdout",
     "output_type": "stream",
     "text": [
      "9.0 - actuellement p=1.0 g=11.0 | actualité p=1.0 g=7.0 | actuel p=0.0 g=3.0\n",
      "9.0 - actualité p=1.0 g=8.0 | actuellement p=1.0 g=10.0 | actuel p=0.0 g=3.0\n",
      "8.5 - actuellement p=1.0 g=11.0 | actuel p=0.0 g=4.0 | actualité p=1.0 g=6.0\n",
      "8.5 - actualité p=1.0 g=8.0 | actuel p=0.0 g=4.0 | actuellement p=1.0 g=9.0\n",
      "8.0 - actuel p=0.0 g=5.0 | actuellement p=1.0 g=10.0 | actualité p=1.0 g=6.0\n",
      "8.0 - actuel p=0.0 g=5.0 | actualité p=1.0 g=7.0 | actuellement p=1.0 g=9.0\n"
     ]
    }
   ],
   "source": [
    "queries = [\"actuellement\", \"actualité\", \"actuel\"]\n",
    "weights = [1, 1, 0]\n",
    "gain_moyen_par_mot(queries, weights)"
   ]
  },
  {
   "cell_type": "code",
   "execution_count": 8,
   "metadata": {
    "collapsed": false
   },
   "outputs": [
    {
     "name": "stdout",
     "output_type": "stream",
     "text": [
      "9.0 - actuellement p=1.0 g=11.0 | actualité p=1.0 g=7.0\n",
      "9.0 - actualité p=1.0 g=8.0 | actuellement p=1.0 g=10.0\n"
     ]
    }
   ],
   "source": [
    "queries = [\"actuellement\", \"actualité\"]\n",
    "weights = [1, 1]\n",
    "gain_moyen_par_mot(queries, weights)"
   ]
  },
  {
   "cell_type": "markdown",
   "metadata": {
    "collapsed": true
   },
   "source": [
    "## Vérification"
   ]
  },
  {
   "cell_type": "code",
   "execution_count": 9,
   "metadata": {
    "collapsed": true
   },
   "outputs": [],
   "source": [
    "def gain_dynamique_moyen_par_mot(queries, weights, permutation=True):\n",
    "    total = sum(weights) * 1.0\n",
    "    res = []\n",
    "    for per in itertools.permutations(zip(queries, weights)):\n",
    "        trie = CompletionTrieNode.build([(None, w) for w, p in per])\n",
    "        trie.precompute_stat()\n",
    "        trie.update_stat_dynamic()\n",
    "        wks = [(w, p, len(w) - trie.min_dynamic_keystroke(w)[0]) for w, p in per]\n",
    "        gain = sum(g * p / total for w, p, g in wks)\n",
    "        res.append((gain, wks))\n",
    "        if not permutation:\n",
    "            break\n",
    "    res.sort(reverse=True)\n",
    "    for i, r in enumerate(res):\n",
    "        print(\n",
    "            \"{0:3.4} - {1}\".format(\n",
    "                r[0], \" | \".join(\"%s p=%1.1f g=%1.1f\" % _ for _ in r[1])\n",
    "            )\n",
    "        )\n",
    "        if i > 10:\n",
    "            print(\"...\")\n",
    "            break"
   ]
  },
  {
   "cell_type": "markdown",
   "metadata": {},
   "source": [
    "Pas de changement : "
   ]
  },
  {
   "cell_type": "code",
   "execution_count": 10,
   "metadata": {
    "collapsed": false
   },
   "outputs": [
    {
     "name": "stdout",
     "output_type": "stream",
     "text": [
      "9.0 - actuellement p=1.0 g=11.0 | actualité p=1.0 g=7.0 | actuel p=0.0 g=3.0\n",
      "9.0 - actualité p=1.0 g=8.0 | actuellement p=1.0 g=10.0 | actuel p=0.0 g=3.0\n",
      "8.5 - actuellement p=1.0 g=11.0 | actuel p=0.0 g=4.0 | actualité p=1.0 g=6.0\n",
      "8.5 - actuel p=0.0 g=5.0 | actualité p=1.0 g=7.0 | actuellement p=1.0 g=10.0\n",
      "8.5 - actualité p=1.0 g=8.0 | actuel p=0.0 g=4.0 | actuellement p=1.0 g=9.0\n",
      "8.0 - actuel p=0.0 g=5.0 | actuellement p=1.0 g=10.0 | actualité p=1.0 g=6.0\n"
     ]
    }
   ],
   "source": [
    "queries = [\"actuellement\", \"actualité\", \"actuel\"]\n",
    "weights = [1, 1, 0]\n",
    "gain_dynamique_moyen_par_mot(queries, weights)"
   ]
  },
  {
   "cell_type": "markdown",
   "metadata": {},
   "source": [
    "Changements :"
   ]
  },
  {
   "cell_type": "code",
   "execution_count": 11,
   "metadata": {
    "collapsed": false
   },
   "outputs": [
    {
     "name": "stdout",
     "output_type": "stream",
     "text": [
      "7.333 - actuel p=1.0 g=5.0 | actualité p=1.0 g=7.0 | actuellement p=1.0 g=10.0\n",
      "7.0 - actuellement p=1.0 g=11.0 | actuel p=1.0 g=4.0 | actualité p=1.0 g=6.0\n",
      "7.0 - actuellement p=1.0 g=11.0 | actualité p=1.0 g=7.0 | actuel p=1.0 g=3.0\n",
      "7.0 - actuel p=1.0 g=5.0 | actuellement p=1.0 g=10.0 | actualité p=1.0 g=6.0\n",
      "7.0 - actualité p=1.0 g=8.0 | actuellement p=1.0 g=10.0 | actuel p=1.0 g=3.0\n",
      "7.0 - actualité p=1.0 g=8.0 | actuel p=1.0 g=4.0 | actuellement p=1.0 g=9.0\n"
     ]
    }
   ],
   "source": [
    "queries = [\"actuellement\", \"actualité\", \"actuel\"]\n",
    "weights = [1, 1, 1]\n",
    "gain_dynamique_moyen_par_mot(queries, weights)"
   ]
  },
  {
   "cell_type": "code",
   "execution_count": 12,
   "metadata": {
    "collapsed": false
   },
   "outputs": [
    {
     "name": "stdout",
     "output_type": "stream",
     "text": [
      "7.0 - actuellement p=1.0 g=11.0 | actuel p=1.0 g=4.0 | actualité p=1.0 g=6.0\n",
      "7.0 - actuellement p=1.0 g=11.0 | actualité p=1.0 g=7.0 | actuel p=1.0 g=3.0\n",
      "7.0 - actuel p=1.0 g=5.0 | actuellement p=1.0 g=10.0 | actualité p=1.0 g=6.0\n",
      "7.0 - actuel p=1.0 g=5.0 | actualité p=1.0 g=7.0 | actuellement p=1.0 g=9.0\n",
      "7.0 - actualité p=1.0 g=8.0 | actuellement p=1.0 g=10.0 | actuel p=1.0 g=3.0\n",
      "7.0 - actualité p=1.0 g=8.0 | actuel p=1.0 g=4.0 | actuellement p=1.0 g=9.0\n"
     ]
    }
   ],
   "source": [
    "gain_moyen_par_mot(queries, weights)"
   ]
  },
  {
   "cell_type": "markdown",
   "metadata": {},
   "source": [
    "## Ajouter une complétion"
   ]
  },
  {
   "cell_type": "code",
   "execution_count": 13,
   "metadata": {
    "collapsed": false
   },
   "outputs": [
    {
     "name": "stdout",
     "output_type": "stream",
     "text": [
      "10.1 - macérer p=1.0 g=6.0 | maline p=1.0 g=4.0 | machinerie p=1.0 g=7.0 | machinerie infernale p=1.0 g=16.0 | machinerie infernalissime p=1.0 g=20.0 | machine artistique p=1.0 g=12.0 | machine automatique p=1.0 g=12.0 | machine chaplin p=1.0 g=7.0 | machine intelligente p=1.0 g=11.0 | machine learning p=1.0 g=6.0\n"
     ]
    }
   ],
   "source": [
    "queries = [\n",
    "    \"macérer\",\n",
    "    \"maline\",\n",
    "    \"machinerie\",\n",
    "    \"machinerie infernale\",\n",
    "    \"machinerie infernalissime\",\n",
    "    \"machine artistique\",\n",
    "    \"machine automatique\",\n",
    "    \"machine chaplin\",\n",
    "    \"machine intelligente\",\n",
    "    \"machine learning\",\n",
    "]\n",
    "weights = [1] * len(queries)\n",
    "gain_dynamique_moyen_par_mot(queries, weights, permutation=False)"
   ]
  },
  {
   "cell_type": "code",
   "execution_count": 14,
   "metadata": {
    "collapsed": false
   },
   "outputs": [
    {
     "name": "stdout",
     "output_type": "stream",
     "text": [
      "12.3 - machine p=0.0 g=6.0 | macérer p=1.0 g=5.0 | maline p=1.0 g=3.0 | machinerie p=1.0 g=8.0 | machinerie infernale p=1.0 g=17.0 | machinerie infernalissime p=1.0 g=21.0 | machine artistique p=1.0 g=15.0 | machine automatique p=1.0 g=15.0 | machine chaplin p=1.0 g=11.0 | machine intelligente p=1.0 g=16.0 | machine learning p=1.0 g=12.0\n"
     ]
    }
   ],
   "source": [
    "queries = [\"machine\"] + queries\n",
    "weights = [1] * len(queries)\n",
    "weights[queries.index(\"machine\")] = 0.0\n",
    "gain_dynamique_moyen_par_mot(queries, weights, permutation=False)"
   ]
  },
  {
   "cell_type": "markdown",
   "metadata": {},
   "source": [
    "## Wikipedia\n",
    "\n",
    "* [PageCount](https://dumps.wikimedia.org/other/pagecounts-raw/)\n",
    "* [dump](https://dumps.wikimedia.org/backup-index.html)"
   ]
  },
  {
   "cell_type": "code",
   "execution_count": 15,
   "metadata": {
    "collapsed": true
   },
   "outputs": [],
   "source": []
  }
 ],
 "metadata": {
  "kernelspec": {
   "display_name": "Python 3",
   "language": "python",
   "name": "python3"
  },
  "language_info": {
   "codemirror_mode": {
    "name": "ipython",
    "version": 3
   },
   "file_extension": ".py",
   "mimetype": "text/x-python",
   "name": "python",
   "nbconvert_exporter": "python",
   "pygments_lexer": "ipython3",
   "version": "3.5.2"
  }
 },
 "nbformat": 4,
 "nbformat_minor": 0
}
