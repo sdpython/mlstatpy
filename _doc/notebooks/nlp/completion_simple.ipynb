{
 "cells": [
  {
   "cell_type": "markdown",
   "metadata": {},
   "source": [
    "# Complétion Simple\n",
    "\n",
    "Evaluation d'une métrique pour un système de complétion sur quelques cas simples."
   ]
  },
  {
   "cell_type": "markdown",
   "metadata": {},
   "source": [
    "## Métrique M'"
   ]
  },
  {
   "cell_type": "code",
   "execution_count": 2,
   "metadata": {
    "collapsed": false
   },
   "outputs": [
    {
     "name": "stdout",
     "output_type": "stream",
     "text": [
      "n=0 : M'=1 | po\n",
      "n=1 : M'=2 | po rouge\n",
      "n=2 : M'=3 | po vert\n",
      "n=3 : M'=4 | po orange\n",
      "n=4 : M'=3 | port\n",
      "n=5 : M'=4 | port blanc\n",
      "n=6 : M'=5 | port bleu\n",
      "n=7 : M'=6 | port rouge\n"
     ]
    }
   ],
   "source": [
    "from mlstatpy.nlp import CompletionSystem\n",
    "\n",
    "mots = [\n",
    "    \"po\",\n",
    "    \"po rouge\",\n",
    "    \"po vert\",\n",
    "    \"po orange\",\n",
    "    \"port\",\n",
    "    \"port blanc\",\n",
    "    \"port bleu\",\n",
    "    \"port rouge\",\n",
    "]\n",
    "ens = CompletionSystem(mots)\n",
    "ens.compute_metrics()\n",
    "for el in ens:\n",
    "    print(\"n={1} : M'={0} | {2}\".format(el.mks1, el.weight, el.value))"
   ]
  },
  {
   "cell_type": "code",
   "execution_count": 3,
   "metadata": {
    "collapsed": false
   },
   "outputs": [
    {
     "name": "stdout",
     "output_type": "stream",
     "text": [
      "n=0 : M'=1 | po\n",
      "n=1 : M'=2 | po rouge\n",
      "n=2 : M'=3 | po vert\n",
      "n=3 : M'=4 | po orange\n",
      "n=4 : M'=3 | port rouge\n",
      "n=5 : M'=4 | port blanc\n",
      "n=6 : M'=5 | port bleu\n",
      "n=7 : M'=3 | port\n"
     ]
    }
   ],
   "source": [
    "mots_rev = mots.copy()\n",
    "mots_rev[4], mots_rev[-1] = mots_rev[-1], mots_rev[4]\n",
    "ens = CompletionSystem(mots_rev)\n",
    "ens.compute_metrics()\n",
    "for el in ens:\n",
    "    print(\"n={1} : M'={0} | {2}\".format(el.mks1, el.weight, el.value))"
   ]
  },
  {
   "cell_type": "code",
   "execution_count": 4,
   "metadata": {
    "collapsed": false
   },
   "outputs": [
    {
     "name": "stdout",
     "output_type": "stream",
     "text": [
      "n=0 : M'=1 |  blanc\n",
      "n=1 : M'=2 |  bleu\n",
      "n=2 : M'=3 |  rouge\n"
     ]
    }
   ],
   "source": [
    "mots_court = [m[4:] for m in mots if m.startswith(\"port\") and len(m) > 4]\n",
    "ens = CompletionSystem(mots_court)\n",
    "ens.compute_metrics()\n",
    "for el in ens:\n",
    "    print(\"n={1} : M'={0} | {2}\".format(el.mks1, el.weight, el.value))"
   ]
  },
  {
   "cell_type": "code",
   "execution_count": 5,
   "metadata": {
    "collapsed": false
   },
   "outputs": [
    {
     "name": "stdout",
     "output_type": "stream",
     "text": [
      "n=0 : M'=1 | po\n",
      "n=1 : M'=2 | po rouge\n",
      "n=2 : M'=3 | po vert\n",
      "n=3 : M'=4 | po orange\n",
      "n=4 : M'=3 | port blanc\n",
      "n=5 : M'=4 | port bleu\n",
      "n=6 : M'=5 | port rouge\n"
     ]
    }
   ],
   "source": [
    "mots_court = [m for m in mots if m != \"port\"]\n",
    "ens = CompletionSystem(mots_court)\n",
    "ens.compute_metrics()\n",
    "for el in ens:\n",
    "    print(\"n={1} : M'={0} | {2}\".format(el.mks1, el.weight, el.value))"
   ]
  },
  {
   "cell_type": "code",
   "execution_count": 6,
   "metadata": {
    "collapsed": false
   },
   "outputs": [
    {
     "name": "stdout",
     "output_type": "stream",
     "text": [
      "n=0 : M'=1 | port\n",
      "n=1 : M'=2 | port rouge\n",
      "n=2 : M'=3 | port vert\n",
      "n=3 : M'=4 | port orange\n",
      "n=4 : M'=4 | pore\n",
      "n=5 : M'=4 | pour\n",
      "n=6 : M'=3 | portes\n",
      "n=7 : M'=4 | portes blanc\n",
      "n=8 : M'=5 | portes vert\n",
      "n=9 : M'=6 | portes orange\n",
      "n=10 : M'=6 | portes rouge\n",
      "n=11 : M'=6 | portes noir\n",
      "n=12 : M'=7 | portes noire\n",
      "n=13 : M'=5 | portes blanche\n"
     ]
    }
   ],
   "source": [
    "couleur = [\"blanc\", \"vert\", \"orange\", \"rouge\", \"noir\", \"noire\", \"blanche\"]\n",
    "key = \"portes\"\n",
    "mots = [\"port\", \"port rouge\", \"port vert\", \"port orange\", \"pore\", \"pour\"]\n",
    "mots.append(key)\n",
    "mots += [key + \" \" + c for c in couleur]\n",
    "ens = CompletionSystem(mots)\n",
    "ens.compute_metrics()\n",
    "for el in ens:\n",
    "    print(\"n={1} : M'={0} | {2}\".format(el.mks1, el.weight, el.value))"
   ]
  },
  {
   "cell_type": "code",
   "execution_count": 7,
   "metadata": {
    "collapsed": false
   },
   "outputs": [
    {
     "name": "stdout",
     "output_type": "stream",
     "text": [
      "n=0 : M'=1 | port\n",
      "n=1 : M'=2 | port rouge\n",
      "n=2 : M'=3 | port vert\n",
      "n=3 : M'=4 | port orange\n",
      "n=4 : M'=4 | pore\n",
      "n=5 : M'=4 | pour\n",
      "n=6 : M'=3 | portes blanc\n",
      "n=7 : M'=4 | portes vert\n",
      "n=8 : M'=5 | portes orange\n",
      "n=9 : M'=6 | portes rouge\n",
      "n=10 : M'=6 | portes noir\n",
      "n=11 : M'=7 | portes noire\n",
      "n=12 : M'=4 | portes blanche\n"
     ]
    }
   ],
   "source": [
    "mots2 = [m for m in mots if m != \"portes\"]\n",
    "ens = CompletionSystem(mots2)\n",
    "ens.compute_metrics()\n",
    "for el in ens:\n",
    "    print(\"n={1} : M'={0} | {2}\".format(el.mks1, el.weight, el.value))"
   ]
  },
  {
   "cell_type": "code",
   "execution_count": 8,
   "metadata": {
    "collapsed": false
   },
   "outputs": [
    {
     "name": "stdout",
     "output_type": "stream",
     "text": [
      "n=0 : M'=1 | port\n",
      "n=1 : M'=2 | portes\n",
      "n=2 : M'=3 | port rouge\n",
      "n=3 : M'=4 | port vert\n",
      "n=4 : M'=4 | port orange\n",
      "n=5 : M'=4 | pore\n",
      "n=6 : M'=4 | pour\n",
      "n=7 : M'=3 | portes blanc\n",
      "n=8 : M'=4 | portes vert\n",
      "n=9 : M'=5 | portes orange\n",
      "n=10 : M'=5 | portes rouge\n",
      "n=11 : M'=5 | portes noir\n",
      "n=12 : M'=6 | portes noire\n",
      "n=13 : M'=4 | portes blanche\n"
     ]
    }
   ],
   "source": [
    "mots3 = mots2.copy()\n",
    "mots3.insert(1, \"portes\")\n",
    "ens = CompletionSystem(mots3)\n",
    "ens.compute_metrics()\n",
    "for el in ens:\n",
    "    print(\"n={1} : M'={0} | {2}\".format(el.mks1, el.weight, el.value))"
   ]
  },
  {
   "cell_type": "code",
   "execution_count": 9,
   "metadata": {
    "collapsed": true
   },
   "outputs": [],
   "source": []
  }
 ],
 "metadata": {
  "kernelspec": {
   "display_name": "Python 3",
   "language": "python",
   "name": "python3"
  },
  "language_info": {
   "codemirror_mode": {
    "name": "ipython",
    "version": 3
   },
   "file_extension": ".py",
   "mimetype": "text/x-python",
   "name": "python",
   "nbconvert_exporter": "python",
   "pygments_lexer": "ipython3",
   "version": "3.5.2"
  }
 },
 "nbformat": 4,
 "nbformat_minor": 1
}
