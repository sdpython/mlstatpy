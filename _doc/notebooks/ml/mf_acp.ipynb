{
 "cells": [
  {
   "cell_type": "markdown",
   "metadata": {},
   "source": [
    "# Factorisation et matrice et ACP\n",
    "\n",
    "Un exemple pour montrer l'équivalence entre l'ACP et une factorisation de matrice."
   ]
  },
  {
   "cell_type": "code",
   "execution_count": 2,
   "metadata": {
    "collapsed": true
   },
   "outputs": [],
   "source": [
    "%matplotlib inline"
   ]
  },
  {
   "cell_type": "markdown",
   "metadata": {},
   "source": [
    "## Factorisation de matrices"
   ]
  },
  {
   "cell_type": "code",
   "execution_count": 3,
   "metadata": {
    "collapsed": true
   },
   "outputs": [],
   "source": [
    "def erreur_mf(M, W, H):\n",
    "    d = M - W @ H\n",
    "    a = d.ravel()\n",
    "    e = a @ a.T\n",
    "    e**0.5 / (M.shape[0] * M.shape[1])\n",
    "    return e"
   ]
  },
  {
   "cell_type": "markdown",
   "metadata": {},
   "source": [
    "On crée un nuage de points avec que des coordonnées positives pour satisfaire les hypothèses de la factorisation de matrices."
   ]
  },
  {
   "cell_type": "code",
   "execution_count": 4,
   "metadata": {},
   "outputs": [
    {
     "data": {
      "text/plain": [
       "array([[ 0.81960047,  0.63887134,  0.74019269,  0.96110175,  0.0685406 ,\n",
       "         0.11103301,  0.06033529,  0.67913157,  0.10460611,  0.98860048,\n",
       "         0.50497448,  0.26893866,  0.73143267,  0.32617974,  0.1332449 ,\n",
       "         0.83328515,  0.3775355 ,  0.69163261,  0.53095348,  0.15601268],\n",
       "       [ 2.48031078,  2.2279066 ,  2.85929872,  3.27833973,  0.27323095,\n",
       "         0.53806662,  0.48019992,  2.09428487,  0.40521666,  3.94539474,\n",
       "         2.36639105,  1.66857684,  3.14027534,  1.94032092,  1.22602705,\n",
       "         3.09679803,  1.696636  ,  2.69144798,  1.84350664,  1.16862532]])"
      ]
     },
     "execution_count": 5,
     "metadata": {},
     "output_type": "execute_result"
    }
   ],
   "source": [
    "from numpy.random import rand\n",
    "\n",
    "M = rand(2, 20)\n",
    "M[1, :] += 3 * M[0, :]\n",
    "M"
   ]
  },
  {
   "cell_type": "code",
   "execution_count": 5,
   "metadata": {},
   "outputs": [
    {
     "data": {
      "text/plain": [
       "0.19729615330190822"
      ]
     },
     "execution_count": 6,
     "metadata": {},
     "output_type": "execute_result"
    }
   ],
   "source": [
    "from sklearn.decomposition import NMF\n",
    "\n",
    "mf = NMF(1)\n",
    "W = mf.fit_transform(M)\n",
    "H = mf.components_\n",
    "erreur_mf(M, W, H)"
   ]
  },
  {
   "cell_type": "code",
   "execution_count": 6,
   "metadata": {
    "collapsed": true
   },
   "outputs": [],
   "source": [
    "wh = W @ H"
   ]
  },
  {
   "cell_type": "code",
   "execution_count": 7,
   "metadata": {},
   "outputs": [
    {
     "data": {
      "text/plain": [
       "(0, 4)"
      ]
     },
     "execution_count": 8,
     "metadata": {},
     "output_type": "execute_result"
    },
    {
     "data": {
      "image/png": "[encoded data removed]",
      "text/plain": [
       "<matplotlib.figure.Figure at 0x1c01a893940>"
      ]
     },
     "metadata": {},
     "output_type": "display_data"
    }
   ],
   "source": [
    "import matplotlib.pyplot as plt\n",
    "\n",
    "fig, ax = plt.subplots(1, 1)\n",
    "ax.plot(M[0, :], M[1, :], \"ob\")\n",
    "ax.plot(wh[0, :], wh[1, :], \"or\")\n",
    "ax.set_xlim([0, 1])\n",
    "ax.set_ylim([0, 4])"
   ]
  },
  {
   "cell_type": "markdown",
   "metadata": {},
   "source": [
    "## ACP : analyse en composantes principales"
   ]
  },
  {
   "cell_type": "code",
   "execution_count": 8,
   "metadata": {},
   "outputs": [
    {
     "data": {
      "text/plain": [
       "PCA(copy=True, iterated_power='auto', n_components=1, random_state=None,\n",
       "  svd_solver='auto', tol=0.0, whiten=False)"
      ]
     },
     "execution_count": 9,
     "metadata": {},
     "output_type": "execute_result"
    }
   ],
   "source": [
    "from sklearn.decomposition import PCA\n",
    "\n",
    "pca = PCA(n_components=1)\n",
    "pca.fit(M.T)"
   ]
  },
  {
   "cell_type": "code",
   "execution_count": 9,
   "metadata": {},
   "outputs": [],
   "source": [
    "projected_points = pca.inverse_transform(pca.transform(M.T))\n",
    "pj = projected_points.T"
   ]
  },
  {
   "cell_type": "code",
   "execution_count": 10,
   "metadata": {},
   "outputs": [
    {
     "data": {
      "text/plain": [
       "(0, 4)"
      ]
     },
     "execution_count": 11,
     "metadata": {},
     "output_type": "execute_result"
    },
    {
     "data": {
      "image/png": "[encoded data removed]",
      "text/plain": [
       "<matplotlib.figure.Figure at 0x1c0174d32b0>"
      ]
     },
     "metadata": {},
     "output_type": "display_data"
    }
   ],
   "source": [
    "import matplotlib.pyplot as plt\n",
    "\n",
    "fig, ax = plt.subplots(1, 1)\n",
    "ax.plot(M[0, :], M[1, :], \"ob\")\n",
    "ax.plot(wh[0, :], wh[1, :], \"or\")\n",
    "ax.plot(pj[0, :], pj[1, :], \"og\")\n",
    "ax.set_xlim([0, 1])\n",
    "ax.set_ylim([0, 4])"
   ]
  },
  {
   "cell_type": "markdown",
   "metadata": {},
   "source": [
    "Les résultats ne sont pas exactement identiques car l'[ACP](http://scikit-learn.org/stable/modules/generated/sklearn.decomposition.PCA.html) centre le nuage de points par défaut. On utilise celui\n",
    " de [statsmodels](http://www.statsmodels.org/dev/generated/statsmodels.multivariate.pca.PCA.html) pour éviter cela."
   ]
  },
  {
   "cell_type": "code",
   "execution_count": 11,
   "metadata": {},
   "outputs": [
    {
     "data": {
      "text/plain": [
       "Principal Component Analysis(nobs: 20, nvar: 2, transformation: None, normalization: False, number of components: 1, SVD, id: 0x1c01a2861d0)"
      ]
     },
     "execution_count": 12,
     "metadata": {},
     "output_type": "execute_result"
    }
   ],
   "source": [
    "from statsmodels.multivariate.pca import PCA\n",
    "\n",
    "pca = PCA(M.T, ncomp=1, standardize=False, demean=False, normalize=False)\n",
    "pca"
   ]
  },
  {
   "cell_type": "code",
   "execution_count": 12,
   "metadata": {},
   "outputs": [],
   "source": [
    "pj2 = pca.projection.T"
   ]
  },
  {
   "cell_type": "code",
   "execution_count": 13,
   "metadata": {},
   "outputs": [
    {
     "data": {
      "text/plain": [
       "(0, 4)"
      ]
     },
     "execution_count": 14,
     "metadata": {},
     "output_type": "execute_result"
    },
    {
     "data": {
      "image/png": "[encoded data removed]",
      "text/plain": [
       "<matplotlib.figure.Figure at 0x1c019e124a8>"
      ]
     },
     "metadata": {},
     "output_type": "display_data"
    }
   ],
   "source": [
    "import matplotlib.pyplot as plt\n",
    "\n",
    "fig, ax = plt.subplots(1, 1)\n",
    "ax.plot(M[0, :], M[1, :], \"ob\")\n",
    "# ax.plot(wh[0,:], wh[1,:], \"or\")\n",
    "ax.plot(pj[0, :], pj[1, :], \"og\")\n",
    "ax.plot(pj2[0, :], pj2[1, :], \"oy\")\n",
    "ax.set_xlim([0, 1])\n",
    "ax.set_ylim([0, 4])"
   ]
  },
  {
   "cell_type": "markdown",
   "metadata": {},
   "source": [
    "On retrouve exactement les mêmes résultats."
   ]
  },
  {
   "cell_type": "code",
   "execution_count": 14,
   "metadata": {
    "collapsed": true
   },
   "outputs": [],
   "source": []
  }
 ],
 "metadata": {
  "kernelspec": {
   "display_name": "Python 3",
   "language": "python",
   "name": "python3"
  },
  "language_info": {
   "codemirror_mode": {
    "name": "ipython",
    "version": 3
   },
   "file_extension": ".py",
   "mimetype": "text/x-python",
   "name": "python",
   "nbconvert_exporter": "python",
   "pygments_lexer": "ipython3",
   "version": "3.6.1"
  }
 },
 "nbformat": 4,
 "nbformat_minor": 2
}
