{
 "cells": [
  {
   "cell_type": "markdown",
   "id": "4b855db5",
   "metadata": {},
   "source": [
    "# NeuralTreeNet et ONNX\n",
    "\n",
    "La conversion d'un arbre de décision au format ONNX peut créer des différences entre le modèle original et le modèle converti (voir [Issues when switching to float](http://www.xavierdupre.fr/app/onnxcustom/helpsphinx/gyexamples/plot_ebegin_float_double.html). Le problème vient d'un changement de type, les seuils de décisions sont arrondis au float32 le plus proche de leur valeur en float64 (double). Qu'advient-il si l'arbre de décision est converti en réseau de neurones d'abord.\n",
    "\n",
    "L'approximation des seuils de décision ne change pas grand chose dans la majorité des cas. Cependant, il est possible que la comparaison d'une variable à un seuil de décision arrondi soit l'opposé de celle avec le seuil non arrondi. Dans ce cas, la décision suit un chemin différent dans l'arbre."
   ]
  },
  {
   "cell_type": "code",
   "execution_count": 1,
   "id": "636a122a",
   "metadata": {},
   "outputs": [
    {
     "data": {
      "text/html": [
       "<div id=\"my_id_menu_nb\">run previous cell, wait for 2 seconds</div>\n",
       "<script>\n",
       "function repeat_indent_string(n){\n",
       "    var a = \"\" ;\n",
       "    for ( ; n > 0 ; --n)\n",
       "        a += \"    \";\n",
       "    return a;\n",
       "}\n",
       "// look up into all sections and builds an automated menu //\n",
       "var update_menu_string = function(begin, lfirst, llast, sformat, send, keep_item, begin_format, end_format) {\n",
       "    var anchors = document.getElementsByClassName(\"section\");\n",
       "    if (anchors.length == 0) {\n",
       "        anchors = document.getElementsByClassName(\"text_cell_render rendered_html\");\n",
       "    }\n",
       "    var i,t;\n",
       "    var text_menu = begin;\n",
       "    var text_memo = \"<pre>\\nlength:\" + anchors.length + \"\\n\";\n",
       "    var ind = \"\";\n",
       "    var memo_level = 1;\n",
       "    var href;\n",
       "    var tags = [];\n",
       "    var main_item = 0;\n",
       "    var format_open = 0;\n",
       "    for (i = 0; i <= llast; i++)\n",
       "        tags.push(\"h\" + i);\n",
       "\n",
       "    for (i = 0; i < anchors.length; i++) {\n",
       "        text_memo += \"**\" + anchors[i].id + \"--\\n\";\n",
       "\n",
       "        var child = null;\n",
       "        for(t = 0; t < tags.length; t++) {\n",
       "            var r = anchors[i].getElementsByTagName(tags[t]);\n",
       "            if (r.length > 0) {\n",
       "child = r[0];\n",
       "break;\n",
       "            }\n",
       "        }\n",
       "        if (child == null) {\n",
       "            text_memo += \"null\\n\";\n",
       "            continue;\n",
       "        }\n",
       "        if (anchors[i].hasAttribute(\"id\")) {\n",
       "            // when converted in RST\n",
       "            href = anchors[i].id;\n",
       "            text_memo += \"#1-\" + href;\n",
       "            // passer à child suivant (le chercher)\n",
       "        }\n",
       "        else if (child.hasAttribute(\"id\")) {\n",
       "            // in a notebook\n",
       "            href = child.id;\n",
       "            text_memo += \"#2-\" + href;\n",
       "        }\n",
       "        else {\n",
       "            text_memo += \"#3-\" + \"*\" + \"\\n\";\n",
       "            continue;\n",
       "        }\n",
       "        var title = child.textContent;\n",
       "        var level = parseInt(child.tagName.substring(1,2));\n",
       "\n",
       "        text_memo += \"--\" + level + \"?\" + lfirst + \"--\" + title + \"\\n\";\n",
       "\n",
       "        if ((level < lfirst) || (level > llast)) {\n",
       "            continue ;\n",
       "        }\n",
       "        if (title.endsWith('¶')) {\n",
       "            title = title.substring(0,title.length-1).replace(\"<\", \"&lt;\")\n",
       "         .replace(\">\", \"&gt;\").replace(\"&\", \"&amp;\");\n",
       "        }\n",
       "        if (title.length == 0) {\n",
       "            continue;\n",
       "        }\n",
       "\n",
       "        while (level < memo_level) {\n",
       "            text_menu += end_format + \"</ul>\\n\";\n",
       "            format_open -= 1;\n",
       "            memo_level -= 1;\n",
       "        }\n",
       "        if (level == lfirst) {\n",
       "            main_item += 1;\n",
       "        }\n",
       "        if (keep_item != -1 && main_item != keep_item + 1) {\n",
       "            // alert(main_item + \" - \" + level + \" - \" + keep_item);\n",
       "            continue;\n",
       "        }\n",
       "        while (level > memo_level) {\n",
       "            text_menu += \"<ul>\\n\";\n",
       "            memo_level += 1;\n",
       "        }\n",
       "        text_menu += repeat_indent_string(level-2);\n",
       "        text_menu += begin_format + sformat.replace(\"__HREF__\", href).replace(\"__TITLE__\", title);\n",
       "        format_open += 1;\n",
       "    }\n",
       "    while (1 < memo_level) {\n",
       "        text_menu += end_format + \"</ul>\\n\";\n",
       "        memo_level -= 1;\n",
       "        format_open -= 1;\n",
       "    }\n",
       "    text_menu += send;\n",
       "    //text_menu += \"\\n\" + text_memo;\n",
       "\n",
       "    while (format_open > 0) {\n",
       "        text_menu += end_format;\n",
       "        format_open -= 1;\n",
       "    }\n",
       "    return text_menu;\n",
       "};\n",
       "var update_menu = function() {\n",
       "    var sbegin = \"\";\n",
       "    var sformat = '<a href=\"#__HREF__\">__TITLE__</a>';\n",
       "    var send = \"\";\n",
       "    var begin_format = '<li>';\n",
       "    var end_format = '</li>';\n",
       "    var keep_item = -1;\n",
       "    var text_menu = update_menu_string(sbegin, 2, 4, sformat, send, keep_item,\n",
       "       begin_format, end_format);\n",
       "    var menu = document.getElementById(\"my_id_menu_nb\");\n",
       "    menu.innerHTML=text_menu;\n",
       "};\n",
       "window.setTimeout(update_menu,2000);\n",
       "            </script>"
      ],
      "text/plain": [
       "<IPython.core.display.HTML object>"
      ]
     },
     "execution_count": 2,
     "metadata": {},
     "output_type": "execute_result"
    }
   ],
   "source": [
    "from jyquickhelper import add_notebook_menu\n",
    "\n",
    "add_notebook_menu()"
   ]
  },
  {
   "cell_type": "code",
   "execution_count": 2,
   "id": "2f698cc0",
   "metadata": {},
   "outputs": [],
   "source": [
    "%matplotlib inline"
   ]
  },
  {
   "cell_type": "code",
   "execution_count": 3,
   "id": "ad53d7c6",
   "metadata": {},
   "outputs": [],
   "source": [
    "%load_ext mlprodict"
   ]
  },
  {
   "cell_type": "markdown",
   "id": "c7b2fb41",
   "metadata": {},
   "source": [
    "## Jeu de données\n",
    "\n",
    "On construit un jeu de donnée aléatoire."
   ]
  },
  {
   "cell_type": "code",
   "execution_count": 4,
   "id": "a8feffa5",
   "metadata": {},
   "outputs": [],
   "source": [
    "import numpy\n",
    "\n",
    "X = numpy.random.randn(10000, 10)\n",
    "y = X.sum(axis=1) / X.shape[1]\n",
    "X = X.astype(numpy.float64)\n",
    "y = y.astype(numpy.float64)"
   ]
  },
  {
   "cell_type": "code",
   "execution_count": 5,
   "id": "3c854905",
   "metadata": {},
   "outputs": [],
   "source": [
    "middle = X.shape[0] // 2\n",
    "X_train, X_test = X[:middle], X[middle:]\n",
    "y_train, y_test = y[:middle], y[middle:]"
   ]
  },
  {
   "cell_type": "markdown",
   "id": "2972ef7f",
   "metadata": {},
   "source": [
    "## Partie scikit-learn"
   ]
  },
  {
   "cell_type": "markdown",
   "id": "2a19a0c1",
   "metadata": {},
   "source": [
    "### Caler un arbre de décision"
   ]
  },
  {
   "cell_type": "code",
   "execution_count": 6,
   "id": "bfc49123",
   "metadata": {},
   "outputs": [
    {
     "data": {
      "text/plain": [
       "(0.6179766027481131, 0.33709933420465643)"
      ]
     },
     "execution_count": 7,
     "metadata": {},
     "output_type": "execute_result"
    }
   ],
   "source": [
    "from sklearn.tree import DecisionTreeRegressor\n",
    "\n",
    "tree = DecisionTreeRegressor(max_depth=7)\n",
    "tree.fit(X_train, y_train)\n",
    "tree.score(X_train, y_train), tree.score(X_test, y_test)"
   ]
  },
  {
   "cell_type": "code",
   "execution_count": 7,
   "id": "a38b0426",
   "metadata": {},
   "outputs": [
    {
     "data": {
      "text/plain": [
       "0.33709933420465643"
      ]
     },
     "execution_count": 8,
     "metadata": {},
     "output_type": "execute_result"
    }
   ],
   "source": [
    "from sklearn.metrics import r2_score\n",
    "\n",
    "r2_score(y_test, tree.predict(X_test))"
   ]
  },
  {
   "cell_type": "markdown",
   "id": "86a0f0a3",
   "metadata": {},
   "source": [
    "La profondeur de l'arbre est insuffisante mais ce n'est pas ce qui nous intéresse ici."
   ]
  },
  {
   "cell_type": "markdown",
   "id": "8e6038ff",
   "metadata": {},
   "source": [
    "### Conversion au format ONNX"
   ]
  },
  {
   "cell_type": "code",
   "execution_count": 8,
   "id": "f6849a2d",
   "metadata": {},
   "outputs": [],
   "source": [
    "from skl2onnx import to_onnx\n",
    "\n",
    "onx = to_onnx(tree, X[:1].astype(numpy.float32))"
   ]
  },
  {
   "cell_type": "code",
   "execution_count": 9,
   "id": "3daf9db1",
   "metadata": {},
   "outputs": [
    {
     "data": {
      "text/plain": [
       "1.7421041873949668"
      ]
     },
     "execution_count": 10,
     "metadata": {},
     "output_type": "execute_result"
    }
   ],
   "source": [
    "from onnxruntime import InferenceSession\n",
    "\n",
    "x_exp = X_test\n",
    "\n",
    "oinf = InferenceSession(onx.SerializeToString())\n",
    "expected = tree.predict(x_exp)\n",
    "\n",
    "got = oinf.run({\"X\": x_exp.astype(numpy.float32)})[0]\n",
    "numpy.abs(got - expected).max()"
   ]
  },
  {
   "cell_type": "code",
   "execution_count": 10,
   "id": "7ce247da",
   "metadata": {
    "scrolled": false
   },
   "outputs": [
    {
     "name": "stdout",
     "output_type": "stream",
     "text": [
      "opset: domain='ai.onnx.ml' version=1\n",
      "opset: domain='' version=15\n",
      "input: name='X' type=dtype('float32') shape=[None, 10]\n",
      "TreeEnsembleRegressor(X, n_targets=1, nodes_falsenodeids=253:[128,65,34...252,0,0], nodes_featureids=253:[8,3,9...2,0,0], nodes_hitrates=253:[1.0,1.0...1.0,1.0], nodes_missing_value_tracks_true=253:[0,0,0...0,0,0], nodes_modes=253:[b'BRANCH_LEQ',b'BRANCH_LEQ'...b'LEAF',b'LEAF'], nodes_nodeids=253:[0,1,2...250,251,252], nodes_treeids=253:[0,0,0...0,0,0], nodes_truenodeids=253:[1,2,3...251,0,0], nodes_values=253:[0.00792999193072319,-0.12246682494878769...0.0,0.0], post_transform=b'NONE', target_ids=127:[0,0,0...0,0,0], target_nodeids=127:[7,8,10...249,251,252], target_treeids=127:[0,0,0...0,0,0], target_weights=127:[-0.9345570802688599,-0.6372960805892944...0.6169403195381165,1.0096807479858398]) -> variable\n",
      "output: name='variable' type=dtype('float32') shape=[None, 1]\n"
     ]
    }
   ],
   "source": [
    "from onnx_array_api.plotting.text_plot import onnx_simple_text_plot\n",
    "\n",
    "print(onnx_simple_text_plot(onx))"
   ]
  },
  {
   "cell_type": "markdown",
   "id": "1ada8e37",
   "metadata": {},
   "source": [
    "## Après la conversion en un réseau de neurones"
   ]
  },
  {
   "cell_type": "markdown",
   "id": "7238d09b",
   "metadata": {},
   "source": [
    "### Conversion en un réseau de neurones\n",
    "\n",
    "Un paramètre permet de faire varier la pente des fonctions sigmoïdes utilisées."
   ]
  },
  {
   "cell_type": "code",
   "execution_count": 11,
   "id": "7729c242",
   "metadata": {},
   "outputs": [
    {
     "name": "stderr",
     "output_type": "stream",
     "text": [
      "100%|██████████| 18/18 [00:01<00:00, 12.49it/s]\n"
     ]
    }
   ],
   "source": [
    "from tqdm import tqdm\n",
    "from pandas import DataFrame\n",
    "from mlstatpy.ml.neural_tree import NeuralTreeNet\n",
    "\n",
    "xe = x_exp[:500]\n",
    "expected = tree.predict(xe)\n",
    "\n",
    "data = []\n",
    "trees = {}\n",
    "for i in tqdm([0.3, 0.4, 0.5, 0.7, 0.9, 1] + list(range(5, 61, 5))):\n",
    "    root = NeuralTreeNet.create_from_tree(tree, k=i, arch=\"compact\")\n",
    "    got = root.predict(xe)[:, -1]\n",
    "    me = numpy.abs(got - expected).mean()\n",
    "    mx = numpy.abs(got - expected).max()\n",
    "    obs = dict(k=i, max=mx, mean=me)\n",
    "    data.append(obs)\n",
    "    trees[i] = root"
   ]
  },
  {
   "cell_type": "code",
   "execution_count": 12,
   "id": "9d35377e",
   "metadata": {},
   "outputs": [
    {
     "data": {
      "text/html": [
       "<div>\n",
       "<style scoped>\n",
       "    .dataframe tbody tr th:only-of-type {\n",
       "        vertical-align: middle;\n",
       "    }\n",
       "\n",
       "    .dataframe tbody tr th {\n",
       "        vertical-align: top;\n",
       "    }\n",
       "\n",
       "    .dataframe thead th {\n",
       "        text-align: right;\n",
       "    }\n",
       "</style>\n",
       "<table border=\"1\" class=\"dataframe\">\n",
       "  <thead>\n",
       "    <tr style=\"text-align: right;\">\n",
       "      <th></th>\n",
       "      <th>k</th>\n",
       "      <th>max</th>\n",
       "      <th>mean</th>\n",
       "    </tr>\n",
       "  </thead>\n",
       "  <tbody>\n",
       "    <tr>\n",
       "      <th>0</th>\n",
       "      <td>0.3</td>\n",
       "      <td>0.568981</td>\n",
       "      <td>0.158758</td>\n",
       "    </tr>\n",
       "    <tr>\n",
       "      <th>1</th>\n",
       "      <td>0.4</td>\n",
       "      <td>0.608304</td>\n",
       "      <td>0.132576</td>\n",
       "    </tr>\n",
       "    <tr>\n",
       "      <th>2</th>\n",
       "      <td>0.5</td>\n",
       "      <td>0.692657</td>\n",
       "      <td>0.128525</td>\n",
       "    </tr>\n",
       "    <tr>\n",
       "      <th>3</th>\n",
       "      <td>0.7</td>\n",
       "      <td>0.780543</td>\n",
       "      <td>0.131497</td>\n",
       "    </tr>\n",
       "    <tr>\n",
       "      <th>4</th>\n",
       "      <td>0.9</td>\n",
       "      <td>0.809866</td>\n",
       "      <td>0.128368</td>\n",
       "    </tr>\n",
       "    <tr>\n",
       "      <th>5</th>\n",
       "      <td>1.0</td>\n",
       "      <td>0.813889</td>\n",
       "      <td>0.124802</td>\n",
       "    </tr>\n",
       "    <tr>\n",
       "      <th>6</th>\n",
       "      <td>5.0</td>\n",
       "      <td>0.392482</td>\n",
       "      <td>0.022466</td>\n",
       "    </tr>\n",
       "    <tr>\n",
       "      <th>7</th>\n",
       "      <td>10.0</td>\n",
       "      <td>0.341749</td>\n",
       "      <td>0.006350</td>\n",
       "    </tr>\n",
       "    <tr>\n",
       "      <th>8</th>\n",
       "      <td>15.0</td>\n",
       "      <td>0.270649</td>\n",
       "      <td>0.002939</td>\n",
       "    </tr>\n",
       "    <tr>\n",
       "      <th>9</th>\n",
       "      <td>20.0</td>\n",
       "      <td>0.299713</td>\n",
       "      <td>0.002110</td>\n",
       "    </tr>\n",
       "    <tr>\n",
       "      <th>10</th>\n",
       "      <td>25.0</td>\n",
       "      <td>0.305493</td>\n",
       "      <td>0.001842</td>\n",
       "    </tr>\n",
       "    <tr>\n",
       "      <th>11</th>\n",
       "      <td>30.0</td>\n",
       "      <td>0.306111</td>\n",
       "      <td>0.001767</td>\n",
       "    </tr>\n",
       "    <tr>\n",
       "      <th>12</th>\n",
       "      <td>35.0</td>\n",
       "      <td>0.299371</td>\n",
       "      <td>0.001665</td>\n",
       "    </tr>\n",
       "    <tr>\n",
       "      <th>13</th>\n",
       "      <td>40.0</td>\n",
       "      <td>0.233556</td>\n",
       "      <td>0.001011</td>\n",
       "    </tr>\n",
       "    <tr>\n",
       "      <th>14</th>\n",
       "      <td>45.0</td>\n",
       "      <td>0.233606</td>\n",
       "      <td>0.000801</td>\n",
       "    </tr>\n",
       "    <tr>\n",
       "      <th>15</th>\n",
       "      <td>50.0</td>\n",
       "      <td>0.233614</td>\n",
       "      <td>0.000547</td>\n",
       "    </tr>\n",
       "    <tr>\n",
       "      <th>16</th>\n",
       "      <td>55.0</td>\n",
       "      <td>0.233615</td>\n",
       "      <td>0.000499</td>\n",
       "    </tr>\n",
       "    <tr>\n",
       "      <th>17</th>\n",
       "      <td>60.0</td>\n",
       "      <td>0.233615</td>\n",
       "      <td>0.000484</td>\n",
       "    </tr>\n",
       "  </tbody>\n",
       "</table>\n",
       "</div>"
      ],
      "text/plain": [
       "       k       max      mean\n",
       "0    0.3  0.568981  0.158758\n",
       "1    0.4  0.608304  0.132576\n",
       "2    0.5  0.692657  0.128525\n",
       "3    0.7  0.780543  0.131497\n",
       "4    0.9  0.809866  0.128368\n",
       "5    1.0  0.813889  0.124802\n",
       "6    5.0  0.392482  0.022466\n",
       "7   10.0  0.341749  0.006350\n",
       "8   15.0  0.270649  0.002939\n",
       "9   20.0  0.299713  0.002110\n",
       "10  25.0  0.305493  0.001842\n",
       "11  30.0  0.306111  0.001767\n",
       "12  35.0  0.299371  0.001665\n",
       "13  40.0  0.233556  0.001011\n",
       "14  45.0  0.233606  0.000801\n",
       "15  50.0  0.233614  0.000547\n",
       "16  55.0  0.233615  0.000499\n",
       "17  60.0  0.233615  0.000484"
      ]
     },
     "execution_count": 13,
     "metadata": {},
     "output_type": "execute_result"
    }
   ],
   "source": [
    "df = DataFrame(data)\n",
    "df"
   ]
  },
  {
   "cell_type": "code",
   "execution_count": 13,
   "id": "0fcb9789",
   "metadata": {},
   "outputs": [
    {
     "data": {
      "image/png": "[encoded data removed]",
      "text/plain": [
       "<Figure size 432x288 with 1 Axes>"
      ]
     },
     "metadata": {
      "needs_background": "light"
     },
     "output_type": "display_data"
    }
   ],
   "source": [
    "df.set_index(\"k\").plot(title=\"Précision de la conversion\\nen réseau de neurones\");"
   ]
  },
  {
   "cell_type": "markdown",
   "id": "1f4bb3d9",
   "metadata": {},
   "source": [
    "L'erreur est meilleure mais il faudrait recommencer l'expérience plusieurs fois avant de pouvoir conclure afin d'obtenir un interval de confiance pour le même type de jeu de données. Ce sera pour une autre fois. Le résultat dépend du jeu de données et surtout de la proximité des seuils de décisions. Néanmoins, on calcule l'erreur sur l'ensemble de la base de test. Celle-ci a été tronquée pour aller plus vite."
   ]
  },
  {
   "cell_type": "code",
   "execution_count": 14,
   "id": "2f3eb6d0",
   "metadata": {},
   "outputs": [
    {
     "data": {
      "text/plain": [
       "(0.2336143002078063, 0.0002511855017989173)"
      ]
     },
     "execution_count": 15,
     "metadata": {},
     "output_type": "execute_result"
    }
   ],
   "source": [
    "expected = tree.predict(x_exp)\n",
    "got = trees[50].predict(x_exp)[:, -1]\n",
    "numpy.abs(got - expected).max(), numpy.abs(got - expected).mean()"
   ]
  },
  {
   "cell_type": "markdown",
   "id": "77163512",
   "metadata": {},
   "source": [
    "On voit que l'erreur peut-être très grande. Elle reste néanmoins plus petite que l'erreur de conversion introduite par ONNX."
   ]
  },
  {
   "cell_type": "markdown",
   "id": "738c8547",
   "metadata": {},
   "source": [
    "### Conversion au format ONNX\n",
    "\n",
    "On crée tout d'abord une classe qui suit l'API de scikit-learn et qui englobe l'arbre qui vient d'être créé qui sera ensuite convertit en ONNX."
   ]
  },
  {
   "cell_type": "code",
   "execution_count": 15,
   "id": "2439e4fa",
   "metadata": {},
   "outputs": [],
   "source": [
    "from mlstatpy.ml.neural_tree import NeuralTreeNetRegressor\n",
    "\n",
    "reg = NeuralTreeNetRegressor(trees[50])\n",
    "onx2 = to_onnx(reg, X[:1].astype(numpy.float32))"
   ]
  },
  {
   "cell_type": "code",
   "execution_count": 16,
   "id": "eae47e6a",
   "metadata": {},
   "outputs": [
    {
     "name": "stdout",
     "output_type": "stream",
     "text": [
      "opset: domain='' version=15\n",
      "input: name='X' type=dtype('float32') shape=[None, 10]\n",
      "init: name='Ma_MatMulcst' type=dtype('float32') shape=(1260,)\n",
      "init: name='Ad_Addcst' type=dtype('float32') shape=(126,)\n",
      "init: name='Mu_Mulcst' type=dtype('float32') shape=(1,) -- array([4.], dtype=float32)\n",
      "init: name='Ma_MatMulcst1' type=dtype('float32') shape=(16002,)\n",
      "init: name='Ad_Addcst1' type=dtype('float32') shape=(127,)\n",
      "init: name='Ma_MatMulcst2' type=dtype('float32') shape=(127,)\n",
      "init: name='Ad_Addcst2' type=dtype('float32') shape=(1,) -- array([0.], dtype=float32)\n",
      "MatMul(X, Ma_MatMulcst) -> Ma_Y02\n",
      "  Add(Ma_Y02, Ad_Addcst) -> Ad_C02\n",
      "    Mul(Ad_C02, Mu_Mulcst) -> Mu_C01\n",
      "      Sigmoid(Mu_C01) -> Si_Y01\n",
      "        MatMul(Si_Y01, Ma_MatMulcst1) -> Ma_Y01\n",
      "          Add(Ma_Y01, Ad_Addcst1) -> Ad_C01\n",
      "            Mul(Ad_C01, Mu_Mulcst) -> Mu_C0\n",
      "              Sigmoid(Mu_C0) -> Si_Y0\n",
      "                MatMul(Si_Y0, Ma_MatMulcst2) -> Ma_Y0\n",
      "                  Add(Ma_Y0, Ad_Addcst2) -> Ad_C0\n",
      "                    Identity(Ad_C0) -> variable\n",
      "output: name='variable' type=dtype('float32') shape=[None, 1]\n"
     ]
    }
   ],
   "source": [
    "print(onnx_simple_text_plot(onx2))"
   ]
  },
  {
   "cell_type": "code",
   "execution_count": 17,
   "id": "1d4e272f",
   "metadata": {},
   "outputs": [
    {
     "data": {
      "text/plain": [
       "1.7421041873949668"
      ]
     },
     "execution_count": 18,
     "metadata": {},
     "output_type": "execute_result"
    }
   ],
   "source": [
    "oinf2 = OnnxInference(onx2, runtime=\"onnxruntime1\")\n",
    "expected = tree.predict(x_exp)\n",
    "\n",
    "got = oinf2.run({\"X\": x_exp.astype(numpy.float32)})[\"variable\"]\n",
    "numpy.abs(got - expected).max()"
   ]
  },
  {
   "cell_type": "markdown",
   "id": "f4e64f63",
   "metadata": {},
   "source": [
    "L'erreur est la même."
   ]
  },
  {
   "cell_type": "markdown",
   "id": "c9207392",
   "metadata": {},
   "source": [
    "## Temps de calcul"
   ]
  },
  {
   "cell_type": "code",
   "execution_count": 18,
   "id": "a6febd37",
   "metadata": {},
   "outputs": [],
   "source": [
    "x_exp32 = x_exp.astype(numpy.float32)"
   ]
  },
  {
   "cell_type": "markdown",
   "id": "1bf0109e",
   "metadata": {},
   "source": [
    "Tout d'abord le temps de calcul pour scikit-learn."
   ]
  },
  {
   "cell_type": "code",
   "execution_count": 19,
   "id": "07caad53",
   "metadata": {},
   "outputs": [
    {
     "name": "stdout",
     "output_type": "stream",
     "text": [
      "513 µs ± 7.52 µs per loop (mean ± std. dev. of 7 runs, 1,000 loops each)\n"
     ]
    }
   ],
   "source": [
    "%timeit tree.predict(x_exp32)"
   ]
  },
  {
   "cell_type": "markdown",
   "id": "0cea5139",
   "metadata": {},
   "source": [
    "Le temps de calcul pour l'arbre de décision au format ONNX."
   ]
  },
  {
   "cell_type": "code",
   "execution_count": 20,
   "id": "984413fa",
   "metadata": {},
   "outputs": [
    {
     "name": "stdout",
     "output_type": "stream",
     "text": [
      "186 µs ± 3.41 µs per loop (mean ± std. dev. of 7 runs, 10,000 loops each)\n"
     ]
    }
   ],
   "source": [
    "%timeit oinf.run({'X': x_exp32})['variable']"
   ]
  },
  {
   "cell_type": "markdown",
   "id": "afb4f6bb",
   "metadata": {},
   "source": [
    "Et le temps de calcul pour le réseau de neurones au format ONNX.m"
   ]
  },
  {
   "cell_type": "code",
   "execution_count": 21,
   "id": "e3268dcd",
   "metadata": {},
   "outputs": [
    {
     "name": "stdout",
     "output_type": "stream",
     "text": [
      "3.75 ms ± 311 µs per loop (mean ± std. dev. of 7 runs, 100 loops each)\n"
     ]
    }
   ],
   "source": [
    "%timeit oinf2.run({'X': x_exp32})['variable']"
   ]
  },
  {
   "cell_type": "markdown",
   "id": "b3eafba0",
   "metadata": {},
   "source": [
    "Ce temps de calcul très long est attendu car le modèle contient une multiplication de matrice très grande et surtout que tous les seuils de l'arbre sont calculés pour chaque observation. Là où l'implémentation de l'arbre de décision calcule *d* seuils, la profondeur de l'arbre, la nouvelle implémentation calcule tous les seuils soit $2^d$ pour chaque feuille. Il y a $2^d$ feuilles. Même en étant sparse, on peut réduire les calculs à $d * 2^d$ ce qui fait encore beaucoup de calculs inutiles."
   ]
  },
  {
   "cell_type": "code",
   "execution_count": 22,
   "id": "d9911fff",
   "metadata": {},
   "outputs": [
    {
     "name": "stdout",
     "output_type": "stream",
     "text": [
      "(126, 11) (126,)\n",
      "(127, 127) (127,)\n",
      "(128,) ()\n"
     ]
    }
   ],
   "source": [
    "for node in trees[50].nodes:\n",
    "    print(node.coef.shape, node.bias.shape)"
   ]
  },
  {
   "cell_type": "markdown",
   "id": "27e187ac",
   "metadata": {},
   "source": [
    "Cela dit, la plus grande matrice est creuse, elle peut être réduite considérablement."
   ]
  },
  {
   "cell_type": "code",
   "execution_count": 23,
   "id": "e97479fe",
   "metadata": {},
   "outputs": [
    {
     "name": "stdout",
     "output_type": "stream",
     "text": [
      "coef.shape=(126, 11), size dense=1386, size sparse=252, ratio=0.18181818181818182\n",
      "coef.shape=(127, 127), size dense=16129, size sparse=1015, ratio=0.06293012586025172\n",
      "coef.shape=(128,), size dense=128, size sparse=127, ratio=0.9921875\n"
     ]
    }
   ],
   "source": [
    "from scipy.sparse import csr_matrix\n",
    "\n",
    "for node in trees[50].nodes:\n",
    "    csr = csr_matrix(node.coef)\n",
    "    print(\n",
    "        f\"coef.shape={node.coef.shape}, size dense={node.coef.size}, \"\n",
    "        f\"size sparse={csr.size}, ratio={csr.size / node.coef.size}\"\n",
    "    )"
   ]
  },
  {
   "cell_type": "code",
   "execution_count": 24,
   "id": "125547d9",
   "metadata": {},
   "outputs": [
    {
     "name": "stdout",
     "output_type": "stream",
     "text": [
      "49.8 µs ± 1.25 µs per loop (mean ± std. dev. of 7 runs, 10,000 loops each)\n"
     ]
    }
   ],
   "source": [
    "r = numpy.random.randn(trees[50].nodes[1].coef.shape[0])\n",
    "mat = trees[50].nodes[1].coef\n",
    "%timeit mat @ r"
   ]
  },
  {
   "cell_type": "code",
   "execution_count": 25,
   "id": "ad7173e5",
   "metadata": {},
   "outputs": [
    {
     "name": "stdout",
     "output_type": "stream",
     "text": [
      "7.08 µs ± 173 ns per loop (mean ± std. dev. of 7 runs, 100,000 loops each)\n"
     ]
    }
   ],
   "source": [
    "csr = csr_matrix(mat)\n",
    "%timeit csr @ r"
   ]
  },
  {
   "cell_type": "markdown",
   "id": "7599d94e",
   "metadata": {},
   "source": [
    "Ce serait beaucoup plus rapide avec une matrice sparse et d'autant plus rapide que l'arbre est profond. Le modèle ONNX se décompose comme suit."
   ]
  },
  {
   "cell_type": "code",
   "execution_count": 26,
   "id": "0c1839fd",
   "metadata": {},
   "outputs": [
    {
     "name": "stdout",
     "output_type": "stream",
     "text": [
      "opset: domain='' version=15\n",
      "input: name='X' type=dtype('float32') shape=[None, 10]\n",
      "init: name='Ma_MatMulcst' type=dtype('float32') shape=(1260,)\n",
      "init: name='Ad_Addcst' type=dtype('float32') shape=(126,)\n",
      "init: name='Mu_Mulcst' type=dtype('float32') shape=(1,) -- array([4.], dtype=float32)\n",
      "init: name='Ma_MatMulcst1' type=dtype('float32') shape=(16002,)\n",
      "init: name='Ad_Addcst1' type=dtype('float32') shape=(127,)\n",
      "init: name='Ma_MatMulcst2' type=dtype('float32') shape=(127,)\n",
      "init: name='Ad_Addcst2' type=dtype('float32') shape=(1,) -- array([0.], dtype=float32)\n",
      "MatMul(X, Ma_MatMulcst) -> Ma_Y02\n",
      "  Add(Ma_Y02, Ad_Addcst) -> Ad_C02\n",
      "    Mul(Ad_C02, Mu_Mulcst) -> Mu_C01\n",
      "      Sigmoid(Mu_C01) -> Si_Y01\n",
      "        MatMul(Si_Y01, Ma_MatMulcst1) -> Ma_Y01\n",
      "          Add(Ma_Y01, Ad_Addcst1) -> Ad_C01\n",
      "            Mul(Ad_C01, Mu_Mulcst) -> Mu_C0\n",
      "              Sigmoid(Mu_C0) -> Si_Y0\n",
      "                MatMul(Si_Y0, Ma_MatMulcst2) -> Ma_Y0\n",
      "                  Add(Ma_Y0, Ad_Addcst2) -> Ad_C0\n",
      "                    Identity(Ad_C0) -> variable\n",
      "output: name='variable' type=dtype('float32') shape=[None, 1]\n"
     ]
    }
   ],
   "source": [
    "print(onnx_simple_text_plot(onx2))"
   ]
  },
  {
   "cell_type": "markdown",
   "id": "318b95d7",
   "metadata": {},
   "source": [
    "Voyons comment le temps de calcul se répartit."
   ]
  },
  {
   "cell_type": "code",
   "execution_count": 27,
   "id": "11bccd22",
   "metadata": {},
   "outputs": [],
   "source": [
    "oinfpr = OnnxInference(\n",
    "    onx2, runtime=\"onnxruntime1\", runtime_options={\"enable_profiling\": True}\n",
    ")\n",
    "for i in range(0, 43):\n",
    "    oinfpr.run({\"X\": x_exp32})"
   ]
  },
  {
   "cell_type": "code",
   "execution_count": 28,
   "id": "5485970b",
   "metadata": {},
   "outputs": [
    {
     "data": {
      "text/html": [
       "<div>\n",
       "<style scoped>\n",
       "    .dataframe tbody tr th:only-of-type {\n",
       "        vertical-align: middle;\n",
       "    }\n",
       "\n",
       "    .dataframe tbody tr th {\n",
       "        vertical-align: top;\n",
       "    }\n",
       "\n",
       "    .dataframe thead th {\n",
       "        text-align: right;\n",
       "    }\n",
       "</style>\n",
       "<table border=\"1\" class=\"dataframe\">\n",
       "  <thead>\n",
       "    <tr style=\"text-align: right;\">\n",
       "      <th></th>\n",
       "      <th>cat</th>\n",
       "      <th>pid</th>\n",
       "      <th>tid</th>\n",
       "      <th>dur</th>\n",
       "      <th>ts</th>\n",
       "      <th>ph</th>\n",
       "      <th>name</th>\n",
       "      <th>args_op_name</th>\n",
       "      <th>args_parameter_size</th>\n",
       "      <th>args_graph_index</th>\n",
       "      <th>args_provider</th>\n",
       "      <th>args_exec_plan_index</th>\n",
       "      <th>args_activation_size</th>\n",
       "      <th>args_output_size</th>\n",
       "      <th>args_input_type_shape</th>\n",
       "      <th>args_output_type_shape</th>\n",
       "      <th>args_thread_scheduling_stats</th>\n",
       "    </tr>\n",
       "  </thead>\n",
       "  <tbody>\n",
       "    <tr>\n",
       "      <th>0</th>\n",
       "      <td>Session</td>\n",
       "      <td>78116</td>\n",
       "      <td>8820</td>\n",
       "      <td>387</td>\n",
       "      <td>4</td>\n",
       "      <td>X</td>\n",
       "      <td>model_loading_array</td>\n",
       "      <td>NaN</td>\n",
       "      <td>NaN</td>\n",
       "      <td>NaN</td>\n",
       "      <td>NaN</td>\n",
       "      <td>NaN</td>\n",
       "      <td>NaN</td>\n",
       "      <td>NaN</td>\n",
       "      <td>NaN</td>\n",
       "      <td>NaN</td>\n",
       "      <td>NaN</td>\n",
       "    </tr>\n",
       "    <tr>\n",
       "      <th>1</th>\n",
       "      <td>Session</td>\n",
       "      <td>78116</td>\n",
       "      <td>8820</td>\n",
       "      <td>2532</td>\n",
       "      <td>428</td>\n",
       "      <td>X</td>\n",
       "      <td>session_initialization</td>\n",
       "      <td>NaN</td>\n",
       "      <td>NaN</td>\n",
       "      <td>NaN</td>\n",
       "      <td>NaN</td>\n",
       "      <td>NaN</td>\n",
       "      <td>NaN</td>\n",
       "      <td>NaN</td>\n",
       "      <td>NaN</td>\n",
       "      <td>NaN</td>\n",
       "      <td>NaN</td>\n",
       "    </tr>\n",
       "    <tr>\n",
       "      <th>2</th>\n",
       "      <td>Node</td>\n",
       "      <td>78116</td>\n",
       "      <td>8820</td>\n",
       "      <td>0</td>\n",
       "      <td>3294</td>\n",
       "      <td>X</td>\n",
       "      <td>gemm_fence_before</td>\n",
       "      <td>Gemm</td>\n",
       "      <td>NaN</td>\n",
       "      <td>NaN</td>\n",
       "      <td>NaN</td>\n",
       "      <td>NaN</td>\n",
       "      <td>NaN</td>\n",
       "      <td>NaN</td>\n",
       "      <td>NaN</td>\n",
       "      <td>NaN</td>\n",
       "      <td>NaN</td>\n",
       "    </tr>\n",
       "    <tr>\n",
       "      <th>3</th>\n",
       "      <td>Node</td>\n",
       "      <td>78116</td>\n",
       "      <td>8820</td>\n",
       "      <td>1315</td>\n",
       "      <td>3300</td>\n",
       "      <td>X</td>\n",
       "      <td>gemm_kernel_time</td>\n",
       "      <td>Gemm</td>\n",
       "      <td>5544</td>\n",
       "      <td>11</td>\n",
       "      <td>CPUExecutionProvider</td>\n",
       "      <td>11</td>\n",
       "      <td>200000</td>\n",
       "      <td>2520000</td>\n",
       "      <td>[{'float': [5000, 10]}, {'float': [10, 126]}, ...</td>\n",
       "      <td>[{'float': [5000, 126]}]</td>\n",
       "      <td>{'main_thread': {'thread_pool_name': 'session-...</td>\n",
       "    </tr>\n",
       "    <tr>\n",
       "      <th>4</th>\n",
       "      <td>Node</td>\n",
       "      <td>78116</td>\n",
       "      <td>8820</td>\n",
       "      <td>0</td>\n",
       "      <td>4635</td>\n",
       "      <td>X</td>\n",
       "      <td>gemm_fence_after</td>\n",
       "      <td>Gemm</td>\n",
       "      <td>NaN</td>\n",
       "      <td>NaN</td>\n",
       "      <td>NaN</td>\n",
       "      <td>NaN</td>\n",
       "      <td>NaN</td>\n",
       "      <td>NaN</td>\n",
       "      <td>NaN</td>\n",
       "      <td>NaN</td>\n",
       "      <td>NaN</td>\n",
       "    </tr>\n",
       "    <tr>\n",
       "      <th>...</th>\n",
       "      <td>...</td>\n",
       "      <td>...</td>\n",
       "      <td>...</td>\n",
       "      <td>...</td>\n",
       "      <td>...</td>\n",
       "      <td>...</td>\n",
       "      <td>...</td>\n",
       "      <td>...</td>\n",
       "      <td>...</td>\n",
       "      <td>...</td>\n",
       "      <td>...</td>\n",
       "      <td>...</td>\n",
       "      <td>...</td>\n",
       "      <td>...</td>\n",
       "      <td>...</td>\n",
       "      <td>...</td>\n",
       "      <td>...</td>\n",
       "    </tr>\n",
       "    <tr>\n",
       "      <th>986</th>\n",
       "      <td>Node</td>\n",
       "      <td>78116</td>\n",
       "      <td>8820</td>\n",
       "      <td>0</td>\n",
       "      <td>210170</td>\n",
       "      <td>X</td>\n",
       "      <td>Ma_MatMul2_fence_before</td>\n",
       "      <td>MatMul</td>\n",
       "      <td>NaN</td>\n",
       "      <td>NaN</td>\n",
       "      <td>NaN</td>\n",
       "      <td>NaN</td>\n",
       "      <td>NaN</td>\n",
       "      <td>NaN</td>\n",
       "      <td>NaN</td>\n",
       "      <td>NaN</td>\n",
       "      <td>NaN</td>\n",
       "    </tr>\n",
       "    <tr>\n",
       "      <th>987</th>\n",
       "      <td>Node</td>\n",
       "      <td>78116</td>\n",
       "      <td>8820</td>\n",
       "      <td>124</td>\n",
       "      <td>210172</td>\n",
       "      <td>X</td>\n",
       "      <td>Ma_MatMul2_kernel_time</td>\n",
       "      <td>MatMul</td>\n",
       "      <td>508</td>\n",
       "      <td>8</td>\n",
       "      <td>CPUExecutionProvider</td>\n",
       "      <td>8</td>\n",
       "      <td>2540000</td>\n",
       "      <td>20000</td>\n",
       "      <td>[{'float': [5000, 127]}, {'float': [127, 1]}]</td>\n",
       "      <td>[{'float': [5000, 1]}]</td>\n",
       "      <td>{'main_thread': {'thread_pool_name': 'session-...</td>\n",
       "    </tr>\n",
       "    <tr>\n",
       "      <th>988</th>\n",
       "      <td>Node</td>\n",
       "      <td>78116</td>\n",
       "      <td>8820</td>\n",
       "      <td>0</td>\n",
       "      <td>210305</td>\n",
       "      <td>X</td>\n",
       "      <td>Ma_MatMul2_fence_after</td>\n",
       "      <td>MatMul</td>\n",
       "      <td>NaN</td>\n",
       "      <td>NaN</td>\n",
       "      <td>NaN</td>\n",
       "      <td>NaN</td>\n",
       "      <td>NaN</td>\n",
       "      <td>NaN</td>\n",
       "      <td>NaN</td>\n",
       "      <td>NaN</td>\n",
       "      <td>NaN</td>\n",
       "    </tr>\n",
       "    <tr>\n",
       "      <th>989</th>\n",
       "      <td>Session</td>\n",
       "      <td>78116</td>\n",
       "      <td>8820</td>\n",
       "      <td>4378</td>\n",
       "      <td>205930</td>\n",
       "      <td>X</td>\n",
       "      <td>SequentialExecutor::Execute</td>\n",
       "      <td>NaN</td>\n",
       "      <td>NaN</td>\n",
       "      <td>NaN</td>\n",
       "      <td>NaN</td>\n",
       "      <td>NaN</td>\n",
       "      <td>NaN</td>\n",
       "      <td>NaN</td>\n",
       "      <td>NaN</td>\n",
       "      <td>NaN</td>\n",
       "      <td>NaN</td>\n",
       "    </tr>\n",
       "    <tr>\n",
       "      <th>990</th>\n",
       "      <td>Session</td>\n",
       "      <td>78116</td>\n",
       "      <td>8820</td>\n",
       "      <td>4388</td>\n",
       "      <td>205925</td>\n",
       "      <td>X</td>\n",
       "      <td>model_run</td>\n",
       "      <td>NaN</td>\n",
       "      <td>NaN</td>\n",
       "      <td>NaN</td>\n",
       "      <td>NaN</td>\n",
       "      <td>NaN</td>\n",
       "      <td>NaN</td>\n",
       "      <td>NaN</td>\n",
       "      <td>NaN</td>\n",
       "      <td>NaN</td>\n",
       "      <td>NaN</td>\n",
       "    </tr>\n",
       "  </tbody>\n",
       "</table>\n",
       "<p>991 rows × 17 columns</p>\n",
       "</div>"
      ],
      "text/plain": [
       "         cat    pid   tid   dur      ts ph                         name  \\\n",
       "0    Session  78116  8820   387       4  X          model_loading_array   \n",
       "1    Session  78116  8820  2532     428  X       session_initialization   \n",
       "2       Node  78116  8820     0    3294  X            gemm_fence_before   \n",
       "3       Node  78116  8820  1315    3300  X             gemm_kernel_time   \n",
       "4       Node  78116  8820     0    4635  X             gemm_fence_after   \n",
       "..       ...    ...   ...   ...     ... ..                          ...   \n",
       "986     Node  78116  8820     0  210170  X      Ma_MatMul2_fence_before   \n",
       "987     Node  78116  8820   124  210172  X       Ma_MatMul2_kernel_time   \n",
       "988     Node  78116  8820     0  210305  X       Ma_MatMul2_fence_after   \n",
       "989  Session  78116  8820  4378  205930  X  SequentialExecutor::Execute   \n",
       "990  Session  78116  8820  4388  205925  X                    model_run   \n",
       "\n",
       "    args_op_name args_parameter_size args_graph_index         args_provider  \\\n",
       "0            NaN                 NaN              NaN                   NaN   \n",
       "1            NaN                 NaN              NaN                   NaN   \n",
       "2           Gemm                 NaN              NaN                   NaN   \n",
       "3           Gemm                5544               11  CPUExecutionProvider   \n",
       "4           Gemm                 NaN              NaN                   NaN   \n",
       "..           ...                 ...              ...                   ...   \n",
       "986       MatMul                 NaN              NaN                   NaN   \n",
       "987       MatMul                 508                8  CPUExecutionProvider   \n",
       "988       MatMul                 NaN              NaN                   NaN   \n",
       "989          NaN                 NaN              NaN                   NaN   \n",
       "990          NaN                 NaN              NaN                   NaN   \n",
       "\n",
       "    args_exec_plan_index args_activation_size args_output_size  \\\n",
       "0                    NaN                  NaN              NaN   \n",
       "1                    NaN                  NaN              NaN   \n",
       "2                    NaN                  NaN              NaN   \n",
       "3                     11               200000          2520000   \n",
       "4                    NaN                  NaN              NaN   \n",
       "..                   ...                  ...              ...   \n",
       "986                  NaN                  NaN              NaN   \n",
       "987                    8              2540000            20000   \n",
       "988                  NaN                  NaN              NaN   \n",
       "989                  NaN                  NaN              NaN   \n",
       "990                  NaN                  NaN              NaN   \n",
       "\n",
       "                                 args_input_type_shape  \\\n",
       "0                                                  NaN   \n",
       "1                                                  NaN   \n",
       "2                                                  NaN   \n",
       "3    [{'float': [5000, 10]}, {'float': [10, 126]}, ...   \n",
       "4                                                  NaN   \n",
       "..                                                 ...   \n",
       "986                                                NaN   \n",
       "987      [{'float': [5000, 127]}, {'float': [127, 1]}]   \n",
       "988                                                NaN   \n",
       "989                                                NaN   \n",
       "990                                                NaN   \n",
       "\n",
       "       args_output_type_shape  \\\n",
       "0                         NaN   \n",
       "1                         NaN   \n",
       "2                         NaN   \n",
       "3    [{'float': [5000, 126]}]   \n",
       "4                         NaN   \n",
       "..                        ...   \n",
       "986                       NaN   \n",
       "987    [{'float': [5000, 1]}]   \n",
       "988                       NaN   \n",
       "989                       NaN   \n",
       "990                       NaN   \n",
       "\n",
       "                          args_thread_scheduling_stats  \n",
       "0                                                  NaN  \n",
       "1                                                  NaN  \n",
       "2                                                  NaN  \n",
       "3    {'main_thread': {'thread_pool_name': 'session-...  \n",
       "4                                                  NaN  \n",
       "..                                                 ...  \n",
       "986                                                NaN  \n",
       "987  {'main_thread': {'thread_pool_name': 'session-...  \n",
       "988                                                NaN  \n",
       "989                                                NaN  \n",
       "990                                                NaN  \n",
       "\n",
       "[991 rows x 17 columns]"
      ]
     },
     "execution_count": 29,
     "metadata": {},
     "output_type": "execute_result"
    }
   ],
   "source": [
    "df = oinfpr.get_profiling(as_df=True)\n",
    "df"
   ]
  },
  {
   "cell_type": "code",
   "execution_count": 29,
   "id": "19bb5d0f",
   "metadata": {},
   "outputs": [
    {
     "data": {
      "text/plain": [
       "{'CPUExecutionProvider', nan}"
      ]
     },
     "execution_count": 30,
     "metadata": {},
     "output_type": "execute_result"
    }
   ],
   "source": [
    "set(df[\"args_provider\"])"
   ]
  },
  {
   "cell_type": "code",
   "execution_count": 30,
   "id": "e42d5644",
   "metadata": {},
   "outputs": [
    {
     "data": {
      "text/html": [
       "<div>\n",
       "<style scoped>\n",
       "    .dataframe tbody tr th:only-of-type {\n",
       "        vertical-align: middle;\n",
       "    }\n",
       "\n",
       "    .dataframe tbody tr th {\n",
       "        vertical-align: top;\n",
       "    }\n",
       "\n",
       "    .dataframe thead th {\n",
       "        text-align: right;\n",
       "    }\n",
       "</style>\n",
       "<table border=\"1\" class=\"dataframe\">\n",
       "  <thead>\n",
       "    <tr style=\"text-align: right;\">\n",
       "      <th></th>\n",
       "      <th></th>\n",
       "      <th>dur</th>\n",
       "    </tr>\n",
       "    <tr>\n",
       "      <th>args_op_name</th>\n",
       "      <th>name</th>\n",
       "      <th></th>\n",
       "    </tr>\n",
       "  </thead>\n",
       "  <tbody>\n",
       "    <tr>\n",
       "      <th>MatMul</th>\n",
       "      <th>Ma_MatMul2</th>\n",
       "      <td>6778</td>\n",
       "    </tr>\n",
       "    <tr>\n",
       "      <th>Mul</th>\n",
       "      <th>Mu_Mul</th>\n",
       "      <td>12923</td>\n",
       "    </tr>\n",
       "    <tr>\n",
       "      <th>Sigmoid</th>\n",
       "      <th>Si_Sigmoid</th>\n",
       "      <td>14849</td>\n",
       "    </tr>\n",
       "    <tr>\n",
       "      <th>Mul</th>\n",
       "      <th>Mu_Mul1</th>\n",
       "      <td>15151</td>\n",
       "    </tr>\n",
       "    <tr>\n",
       "      <th>Sigmoid</th>\n",
       "      <th>Si_Sigmoid1</th>\n",
       "      <td>15608</td>\n",
       "    </tr>\n",
       "    <tr>\n",
       "      <th rowspan=\"2\" valign=\"top\">Gemm</th>\n",
       "      <th>gemm</th>\n",
       "      <td>31763</td>\n",
       "    </tr>\n",
       "    <tr>\n",
       "      <th>gemm_token_0</th>\n",
       "      <td>99047</td>\n",
       "    </tr>\n",
       "  </tbody>\n",
       "</table>\n",
       "</div>"
      ],
      "text/plain": [
       "                             dur\n",
       "args_op_name name               \n",
       "MatMul       Ma_MatMul2     6778\n",
       "Mul          Mu_Mul        12923\n",
       "Sigmoid      Si_Sigmoid    14849\n",
       "Mul          Mu_Mul1       15151\n",
       "Sigmoid      Si_Sigmoid1   15608\n",
       "Gemm         gemm          31763\n",
       "             gemm_token_0  99047"
      ]
     },
     "execution_count": 31,
     "metadata": {},
     "output_type": "execute_result"
    }
   ],
   "source": [
    "dfp = df[df.args_provider == \"CPUExecutionProvider\"].copy()\n",
    "dfp[\"name\"] = dfp[\"name\"].apply(lambda s: s.replace(\"_kernel_time\", \"\"))\n",
    "gr_dur = (\n",
    "    dfp[[\"dur\", \"args_op_name\", \"name\"]]\n",
    "    .groupby([\"args_op_name\", \"name\"])\n",
    "    .sum()\n",
    "    .sort_values(\"dur\")\n",
    ")\n",
    "gr_dur"
   ]
  },
  {
   "cell_type": "code",
   "execution_count": 31,
   "id": "34b33616",
   "metadata": {},
   "outputs": [
    {
     "data": {
      "text/html": [
       "<div>\n",
       "<style scoped>\n",
       "    .dataframe tbody tr th:only-of-type {\n",
       "        vertical-align: middle;\n",
       "    }\n",
       "\n",
       "    .dataframe tbody tr th {\n",
       "        vertical-align: top;\n",
       "    }\n",
       "\n",
       "    .dataframe thead th {\n",
       "        text-align: right;\n",
       "    }\n",
       "</style>\n",
       "<table border=\"1\" class=\"dataframe\">\n",
       "  <thead>\n",
       "    <tr style=\"text-align: right;\">\n",
       "      <th></th>\n",
       "      <th></th>\n",
       "      <th>dur</th>\n",
       "    </tr>\n",
       "    <tr>\n",
       "      <th>args_op_name</th>\n",
       "      <th>name</th>\n",
       "      <th></th>\n",
       "    </tr>\n",
       "  </thead>\n",
       "  <tbody>\n",
       "    <tr>\n",
       "      <th>MatMul</th>\n",
       "      <th>Ma_MatMul2</th>\n",
       "      <td>43</td>\n",
       "    </tr>\n",
       "    <tr>\n",
       "      <th>Mul</th>\n",
       "      <th>Mu_Mul</th>\n",
       "      <td>43</td>\n",
       "    </tr>\n",
       "    <tr>\n",
       "      <th>Sigmoid</th>\n",
       "      <th>Si_Sigmoid</th>\n",
       "      <td>43</td>\n",
       "    </tr>\n",
       "    <tr>\n",
       "      <th>Mul</th>\n",
       "      <th>Mu_Mul1</th>\n",
       "      <td>43</td>\n",
       "    </tr>\n",
       "    <tr>\n",
       "      <th>Sigmoid</th>\n",
       "      <th>Si_Sigmoid1</th>\n",
       "      <td>43</td>\n",
       "    </tr>\n",
       "    <tr>\n",
       "      <th rowspan=\"2\" valign=\"top\">Gemm</th>\n",
       "      <th>gemm</th>\n",
       "      <td>43</td>\n",
       "    </tr>\n",
       "    <tr>\n",
       "      <th>gemm_token_0</th>\n",
       "      <td>43</td>\n",
       "    </tr>\n",
       "  </tbody>\n",
       "</table>\n",
       "</div>"
      ],
      "text/plain": [
       "                           dur\n",
       "args_op_name name             \n",
       "MatMul       Ma_MatMul2     43\n",
       "Mul          Mu_Mul         43\n",
       "Sigmoid      Si_Sigmoid     43\n",
       "Mul          Mu_Mul1        43\n",
       "Sigmoid      Si_Sigmoid1    43\n",
       "Gemm         gemm           43\n",
       "             gemm_token_0   43"
      ]
     },
     "execution_count": 32,
     "metadata": {},
     "output_type": "execute_result"
    }
   ],
   "source": [
    "gr_n = (\n",
    "    dfp[[\"dur\", \"args_op_name\", \"name\"]]\n",
    "    .groupby([\"args_op_name\", \"name\"])\n",
    "    .count()\n",
    "    .sort_values(\"dur\")\n",
    ")\n",
    "gr_n = gr_n.loc[gr_dur.index, :]\n",
    "gr_n"
   ]
  },
  {
   "cell_type": "code",
   "execution_count": 32,
   "id": "f34b2908",
   "metadata": {},
   "outputs": [
    {
     "data": {
      "image/png": "[encoded data removed]",
      "text/plain": [
       "<Figure size 864x288 with 2 Axes>"
      ]
     },
     "metadata": {
      "needs_background": "light"
     },
     "output_type": "display_data"
    }
   ],
   "source": [
    "import matplotlib.pyplot as plt\n",
    "\n",
    "fig, ax = plt.subplots(1, 2, figsize=(12, 4))\n",
    "gr_dur.plot.barh(ax=ax[0])\n",
    "gr_n.plot.barh(ax=ax[1])\n",
    "ax[0].set_title(\"duration\")\n",
    "ax[1].set_title(\"n occurences\");"
   ]
  },
  {
   "cell_type": "markdown",
   "id": "7b10ca8a",
   "metadata": {},
   "source": [
    "onnxruntime passe principalement son temps dans un produit matriciel. On vérifie plus précisément."
   ]
  },
  {
   "cell_type": "code",
   "execution_count": 33,
   "id": "4cbc2fa0",
   "metadata": {},
   "outputs": [
    {
     "data": {
      "text/html": [
       "<div>\n",
       "<style scoped>\n",
       "    .dataframe tbody tr th:only-of-type {\n",
       "        vertical-align: middle;\n",
       "    }\n",
       "\n",
       "    .dataframe tbody tr th {\n",
       "        vertical-align: top;\n",
       "    }\n",
       "\n",
       "    .dataframe thead th {\n",
       "        text-align: right;\n",
       "    }\n",
       "</style>\n",
       "<table border=\"1\" class=\"dataframe\">\n",
       "  <thead>\n",
       "    <tr style=\"text-align: right;\">\n",
       "      <th></th>\n",
       "      <th>127</th>\n",
       "      <th>12</th>\n",
       "    </tr>\n",
       "  </thead>\n",
       "  <tbody>\n",
       "    <tr>\n",
       "      <th>cat</th>\n",
       "      <td>Node</td>\n",
       "      <td>Node</td>\n",
       "    </tr>\n",
       "    <tr>\n",
       "      <th>pid</th>\n",
       "      <td>78116</td>\n",
       "      <td>78116</td>\n",
       "    </tr>\n",
       "    <tr>\n",
       "      <th>tid</th>\n",
       "      <td>8820</td>\n",
       "      <td>8820</td>\n",
       "    </tr>\n",
       "    <tr>\n",
       "      <th>dur</th>\n",
       "      <td>4603</td>\n",
       "      <td>4083</td>\n",
       "    </tr>\n",
       "    <tr>\n",
       "      <th>ts</th>\n",
       "      <td>37173</td>\n",
       "      <td>5949</td>\n",
       "    </tr>\n",
       "    <tr>\n",
       "      <th>ph</th>\n",
       "      <td>X</td>\n",
       "      <td>X</td>\n",
       "    </tr>\n",
       "    <tr>\n",
       "      <th>name</th>\n",
       "      <td>gemm_token_0_kernel_time</td>\n",
       "      <td>gemm_token_0_kernel_time</td>\n",
       "    </tr>\n",
       "    <tr>\n",
       "      <th>args_op_name</th>\n",
       "      <td>Gemm</td>\n",
       "      <td>Gemm</td>\n",
       "    </tr>\n",
       "    <tr>\n",
       "      <th>args_parameter_size</th>\n",
       "      <td>64516</td>\n",
       "      <td>64516</td>\n",
       "    </tr>\n",
       "    <tr>\n",
       "      <th>args_graph_index</th>\n",
       "      <td>12</td>\n",
       "      <td>12</td>\n",
       "    </tr>\n",
       "    <tr>\n",
       "      <th>args_provider</th>\n",
       "      <td>CPUExecutionProvider</td>\n",
       "      <td>CPUExecutionProvider</td>\n",
       "    </tr>\n",
       "    <tr>\n",
       "      <th>args_exec_plan_index</th>\n",
       "      <td>12</td>\n",
       "      <td>12</td>\n",
       "    </tr>\n",
       "    <tr>\n",
       "      <th>args_activation_size</th>\n",
       "      <td>2520000</td>\n",
       "      <td>2520000</td>\n",
       "    </tr>\n",
       "    <tr>\n",
       "      <th>args_output_size</th>\n",
       "      <td>2540000</td>\n",
       "      <td>2540000</td>\n",
       "    </tr>\n",
       "    <tr>\n",
       "      <th>args_input_type_shape</th>\n",
       "      <td>[{'float': [5000, 126]}, {'float': [126, 127]}...</td>\n",
       "      <td>[{'float': [5000, 126]}, {'float': [126, 127]}...</td>\n",
       "    </tr>\n",
       "    <tr>\n",
       "      <th>args_output_type_shape</th>\n",
       "      <td>[{'float': [5000, 127]}]</td>\n",
       "      <td>[{'float': [5000, 127]}]</td>\n",
       "    </tr>\n",
       "    <tr>\n",
       "      <th>args_thread_scheduling_stats</th>\n",
       "      <td>{'main_thread': {'thread_pool_name': 'session-...</td>\n",
       "      <td>{'main_thread': {'thread_pool_name': 'session-...</td>\n",
       "    </tr>\n",
       "  </tbody>\n",
       "</table>\n",
       "</div>"
      ],
      "text/plain": [
       "                                                                            127  \\\n",
       "cat                                                                        Node   \n",
       "pid                                                                       78116   \n",
       "tid                                                                        8820   \n",
       "dur                                                                        4603   \n",
       "ts                                                                        37173   \n",
       "ph                                                                            X   \n",
       "name                                                   gemm_token_0_kernel_time   \n",
       "args_op_name                                                               Gemm   \n",
       "args_parameter_size                                                       64516   \n",
       "args_graph_index                                                             12   \n",
       "args_provider                                              CPUExecutionProvider   \n",
       "args_exec_plan_index                                                         12   \n",
       "args_activation_size                                                    2520000   \n",
       "args_output_size                                                        2540000   \n",
       "args_input_type_shape         [{'float': [5000, 126]}, {'float': [126, 127]}...   \n",
       "args_output_type_shape                                 [{'float': [5000, 127]}]   \n",
       "args_thread_scheduling_stats  {'main_thread': {'thread_pool_name': 'session-...   \n",
       "\n",
       "                                                                            12   \n",
       "cat                                                                        Node  \n",
       "pid                                                                       78116  \n",
       "tid                                                                        8820  \n",
       "dur                                                                        4083  \n",
       "ts                                                                         5949  \n",
       "ph                                                                            X  \n",
       "name                                                   gemm_token_0_kernel_time  \n",
       "args_op_name                                                               Gemm  \n",
       "args_parameter_size                                                       64516  \n",
       "args_graph_index                                                             12  \n",
       "args_provider                                              CPUExecutionProvider  \n",
       "args_exec_plan_index                                                         12  \n",
       "args_activation_size                                                    2520000  \n",
       "args_output_size                                                        2540000  \n",
       "args_input_type_shape         [{'float': [5000, 126]}, {'float': [126, 127]}...  \n",
       "args_output_type_shape                                 [{'float': [5000, 127]}]  \n",
       "args_thread_scheduling_stats  {'main_thread': {'thread_pool_name': 'session-...  "
      ]
     },
     "execution_count": 34,
     "metadata": {},
     "output_type": "execute_result"
    }
   ],
   "source": [
    "df[(df.args_op_name == \"Gemm\") & (df.dur > 0)].sort_values(\"dur\", ascending=False).head(\n",
    "    n=2\n",
    ").T"
   ]
  },
  {
   "cell_type": "markdown",
   "id": "58320942",
   "metadata": {},
   "source": [
    "C'est un produit matriciel d'environ *5000x800* par *800x800*."
   ]
  },
  {
   "cell_type": "code",
   "execution_count": 34,
   "id": "de43df2f",
   "metadata": {},
   "outputs": [
    {
     "data": {
      "text/html": [
       "<div>\n",
       "<style scoped>\n",
       "    .dataframe tbody tr th:only-of-type {\n",
       "        vertical-align: middle;\n",
       "    }\n",
       "\n",
       "    .dataframe tbody tr th {\n",
       "        vertical-align: top;\n",
       "    }\n",
       "\n",
       "    .dataframe thead th {\n",
       "        text-align: right;\n",
       "    }\n",
       "</style>\n",
       "<table border=\"1\" class=\"dataframe\">\n",
       "  <thead>\n",
       "    <tr style=\"text-align: right;\">\n",
       "      <th></th>\n",
       "      <th></th>\n",
       "      <th>dur</th>\n",
       "    </tr>\n",
       "    <tr>\n",
       "      <th>args_op_name</th>\n",
       "      <th>name</th>\n",
       "      <th></th>\n",
       "    </tr>\n",
       "  </thead>\n",
       "  <tbody>\n",
       "    <tr>\n",
       "      <th>MatMul</th>\n",
       "      <th>Ma_MatMul2</th>\n",
       "      <td>0.034561</td>\n",
       "    </tr>\n",
       "    <tr>\n",
       "      <th>Mul</th>\n",
       "      <th>Mu_Mul</th>\n",
       "      <td>0.065894</td>\n",
       "    </tr>\n",
       "    <tr>\n",
       "      <th>Sigmoid</th>\n",
       "      <th>Si_Sigmoid</th>\n",
       "      <td>0.075714</td>\n",
       "    </tr>\n",
       "    <tr>\n",
       "      <th>Mul</th>\n",
       "      <th>Mu_Mul1</th>\n",
       "      <td>0.077254</td>\n",
       "    </tr>\n",
       "    <tr>\n",
       "      <th>Sigmoid</th>\n",
       "      <th>Si_Sigmoid1</th>\n",
       "      <td>0.079584</td>\n",
       "    </tr>\n",
       "    <tr>\n",
       "      <th rowspan=\"2\" valign=\"top\">Gemm</th>\n",
       "      <th>gemm</th>\n",
       "      <td>0.161958</td>\n",
       "    </tr>\n",
       "    <tr>\n",
       "      <th>gemm_token_0</th>\n",
       "      <td>0.505035</td>\n",
       "    </tr>\n",
       "  </tbody>\n",
       "</table>\n",
       "</div>"
      ],
      "text/plain": [
       "                                dur\n",
       "args_op_name name                  \n",
       "MatMul       Ma_MatMul2    0.034561\n",
       "Mul          Mu_Mul        0.065894\n",
       "Sigmoid      Si_Sigmoid    0.075714\n",
       "Mul          Mu_Mul1       0.077254\n",
       "Sigmoid      Si_Sigmoid1   0.079584\n",
       "Gemm         gemm          0.161958\n",
       "             gemm_token_0  0.505035"
      ]
     },
     "execution_count": 35,
     "metadata": {},
     "output_type": "execute_result"
    }
   ],
   "source": [
    "gr_dur / gr_dur.dur.sum()"
   ]
  },
  {
   "cell_type": "code",
   "execution_count": 35,
   "id": "0e5c02ec",
   "metadata": {},
   "outputs": [
    {
     "data": {
      "text/plain": [
       "0.5050352082154203"
      ]
     },
     "execution_count": 36,
     "metadata": {},
     "output_type": "execute_result"
    }
   ],
   "source": [
    "r = (gr_dur / gr_dur.dur.sum()).dur.max()\n",
    "r"
   ]
  },
  {
   "cell_type": "markdown",
   "id": "113a480a",
   "metadata": {},
   "source": [
    "Il occupe 82% du temps. et d'après l'expérience précédente, son temps d'éxecution peut-être réduit par 10 en le remplaçant par une matrice sparse. Cela ne suffira pas pour accélerer le temps de calcul de ce réseau de neurones. Il est 84 ms comparé à 247 µs pour l'arbre de décision. Avec cette optimisation, il pourrait passer de :"
   ]
  },
  {
   "cell_type": "code",
   "execution_count": 36,
   "id": "fa7950bc",
   "metadata": {},
   "outputs": [
    {
     "data": {
      "text/plain": [
       "2.013941471759493"
      ]
     },
     "execution_count": 37,
     "metadata": {},
     "output_type": "execute_result"
    }
   ],
   "source": [
    "t = 3.75  # ms\n",
    "t * (1 - r) + r * t / 12"
   ]
  },
  {
   "cell_type": "markdown",
   "id": "7c641d19",
   "metadata": {},
   "source": [
    "Soit une réduction du temps de calcul. Ce n'est pas mal mais pas assez."
   ]
  },
  {
   "cell_type": "markdown",
   "id": "535b7e56",
   "metadata": {},
   "source": [
    "## Hummingbird\n",
    "\n",
    "[hummingbird](https://github.com/microsoft/hummingbird) est une librairie qui convertit un arbre de décision en réseau de neurones. Voyons ses performances."
   ]
  },
  {
   "cell_type": "code",
   "execution_count": 37,
   "id": "3b3aa43b",
   "metadata": {},
   "outputs": [
    {
     "name": "stderr",
     "output_type": "stream",
     "text": [
      "C:\\xavierdupre\\__home_\\github_fork\\scikit-learn\\sklearn\\utils\\deprecation.py:103: FutureWarning: The attribute `n_features_` is deprecated in 1.0 and will be removed in 1.2. Use `n_features_in_` instead.\n",
      "  warnings.warn(msg, category=FutureWarning)\n"
     ]
    },
    {
     "data": {
      "text/plain": [
       "(4.3419181139370266e-08, 4.430287026515114e-09)"
      ]
     },
     "execution_count": 38,
     "metadata": {},
     "output_type": "execute_result"
    }
   ],
   "source": [
    "from hummingbird.ml import convert\n",
    "\n",
    "model = convert(tree, \"torch\")\n",
    "\n",
    "expected = tree.predict(x_exp)\n",
    "got = model.predict(x_exp)\n",
    "numpy.abs(got - expected).max(), numpy.abs(got - expected).mean()"
   ]
  },
  {
   "cell_type": "markdown",
   "id": "92365d70",
   "metadata": {},
   "source": [
    "Le résultat est beaucoup plus fidèle au modèle."
   ]
  },
  {
   "cell_type": "code",
   "execution_count": 38,
   "id": "605df039",
   "metadata": {},
   "outputs": [
    {
     "name": "stdout",
     "output_type": "stream",
     "text": [
      "1.17 ms ± 34.8 µs per loop (mean ± std. dev. of 7 runs, 1,000 loops each)\n"
     ]
    }
   ],
   "source": [
    "%timeit model.predict(x_exp)"
   ]
  },
  {
   "cell_type": "markdown",
   "id": "c2f80290",
   "metadata": {},
   "source": [
    "Il reste plus lent mais beaucoup plus rapide que la solution manuelle proposée dans les précédents paragraphes. Il contient un attribut `model`."
   ]
  },
  {
   "cell_type": "code",
   "execution_count": 39,
   "id": "e77ff4f0",
   "metadata": {},
   "outputs": [
    {
     "data": {
      "text/plain": [
       "True"
      ]
     },
     "execution_count": 40,
     "metadata": {},
     "output_type": "execute_result"
    }
   ],
   "source": [
    "from torch.nn import Module\n",
    "\n",
    "isinstance(model.model, Module)"
   ]
  },
  {
   "cell_type": "markdown",
   "id": "871277df",
   "metadata": {},
   "source": [
    "On convertit ce modèle au format ONNX."
   ]
  },
  {
   "cell_type": "code",
   "execution_count": 40,
   "id": "3c875b35",
   "metadata": {},
   "outputs": [],
   "source": [
    "import torch.onnx\n",
    "\n",
    "x = torch.randn(x_exp.shape[0], x_exp.shape[1], requires_grad=True)\n",
    "torch.onnx.export(\n",
    "    model.model,\n",
    "    x,\n",
    "    \"tree_torch.onnx\",\n",
    "    opset_version=15,\n",
    "    input_names=[\"X\"],\n",
    "    output_names=[\"variable\"],\n",
    "    dynamic_axes={\"X\": {0: \"batch_size\"}, \"variable\": {0: \"batch_size\"}},\n",
    ")"
   ]
  },
  {
   "cell_type": "code",
   "execution_count": 41,
   "id": "b8c41c5e",
   "metadata": {},
   "outputs": [],
   "source": [
    "import onnx\n",
    "\n",
    "onxh = onnx.load(\"tree_torch.onnx\")"
   ]
  },
  {
   "cell_type": "code",
   "execution_count": 42,
   "id": "861a94d0",
   "metadata": {
    "scrolled": false
   },
   "outputs": [
    {
     "name": "stdout",
     "output_type": "stream",
     "text": [
      "opset: domain='' version=15\n",
      "input: name='X' type=dtype('float32') shape=['batch_size', 10]\n",
      "init: name='_operators.0.root_nodes' type=dtype('int64') shape=(0,) -- array([8], dtype=int64)\n",
      "init: name='_operators.0.root_biases' type=dtype('float32') shape=(0,) -- array([0.00792999], dtype=float32)\n",
      "init: name='_operators.0.tree_indices' type=dtype('int64') shape=(0,) -- array([0], dtype=int64)\n",
      "init: name='_operators.0.leaf_nodes' type=dtype('float32') shape=(0,) -- array([ 1.0096807 ,  0.6169403 ,  0.61055773,  0.37810475,  0.31796893,\n",
      "        0.13317925,  0.0193846 , -0.2317742 ,  0.39089343,  0.23506087,\n",
      "        0.3711936 ,  0.10317916,  0.14956598, -0.14193445, -0.05965868,\n",
      "       -0.27377078,  0.4128183 ,  0.19658326,  0.25545415,  0.08118545,\n",
      "        0.08400188, -0.1502193 , -0.36846825, -0.79687625,  0.35822242,\n",
      "        0.49021915,  0.30870998,  0.01033915,  0.6740977 ,  0.6740977 ,\n",
      "       -0.15315758, -0.41128033,  0.42920846,  0.13145493,  0.21853392,\n",
      "       -0.10986731,  0.4493652 ,  0.11318789,  0.12666471, -0.0623082 ,\n",
      "        0.2872893 ,  0.09948976,  0.11439473, -0.08801427,  0.16091613,\n",
      "       -0.02319027, -0.10097775, -0.37583745,  0.18612385, -0.00453244,\n",
      "        0.3287116 , -0.1499349 ,  0.7919218 ,  0.04704398, -0.15423109,\n",
      "       -0.43160027,  0.10802375, -0.1073833 , -0.07759219, -0.29175794,\n",
      "       -0.1528881 , -0.4909434 , -0.23361537, -0.43578717,  0.7831867 ,\n",
      "        0.45349318,  0.34956965, -0.3199535 ,  0.3061573 , -0.34267113,\n",
      "        0.34963542,  0.04491445,  0.35399815,  0.14815213,  0.06678926,\n",
      "       -0.16095412,  0.3214274 ,  0.01484008, -0.1012276 , -0.3257699 ,\n",
      "        0.26727676,  0.01970094,  0.10760042, -0.09169976,  0.20044112,\n",
      "       -0.0324069 , -0.11015374, -0.28358367,  0.8083656 ,  0.13358633,\n",
      "       -0.07912118, -0.27182895, -0.07054728, -0.24895027, -0.20600456,\n",
      "       -0.42033467,  0.34701794, -0.0638995 ,  0.14252576, -0.06025055,\n",
      "        0.4228329 ,  0.06789401,  0.03919645, -0.17267554,  0.07274943,\n",
      "       -0.487512  ,  0.04517636, -0.18857062, -0.03975222, -0.2652712 ,\n",
      "       -0.30853328, -0.50844556,  0.03321444, -0.15481217, -0.20701212,\n",
      "       -0.40578464, -0.25884995, -0.46550158, -0.4797585 , -0.7324234 ,\n",
      "        0.43939307, -0.06170902, -0.51546025, -0.19215119, -0.3705445 ,\n",
      "       -0.57504356, -0.6372961 , -0.9345571 ], dtype=float32)\n",
      "init: name='_operators.0.nodes.0' type=dtype('int64') shape=(0,) -- array([0, 3], dtype=int64)\n",
      "init: name='_operators.0.nodes.1' type=dtype('int64') shape=(0,) -- array([1, 2, 5, 9], dtype=int64)\n",
      "init: name='_operators.0.nodes.2' type=dtype('int64') shape=(0,) -- array([5, 6, 3, 7, 2, 0, 7, 1], dtype=int64)\n",
      "init: name='_operators.0.nodes.3' type=dtype('int64') shape=(0,) -- array([3, 9, 5, 3, 6, 4, 1, 3, 6, 6, 1, 6, 5, 4, 6, 2], dtype=int64)\n",
      "init: name='_operators.0.nodes.4' type=dtype('int64') shape=(0,) -- array([3, 2, 7, 6, 2, 4, 7, 8, 9, 5, 7, 8, 9, 4, 6, 9, 7, 9, 0, 7, 7, 9,\n",
      "       2, 7, 6, 4, 6, 5, 4, 0, 6, 0], dtype=int64)\n",
      "init: name='_operators.0.nodes.5' type=dtype('int64') shape=(0,) -- array([2, 8, 7, 6, 6, 3, 4, 9, 7, 3, 2, 6, 3, 3, 0, 1, 1, 0, 4, 7, 9, 5,\n",
      "       7, 9, 5, 3, 5, 9, 0, 5, 1, 4, 9, 4, 7, 7, 1, 9, 1, 1, 6, 2, 7, 7,\n",
      "       6, 1, 4, 4, 0, 0, 9, 8, 8, 2, 6, 2, 0, 3, 4, 2, 5, 6, 7, 3],\n",
      "      dtype=int64)\n",
      "init: name='_operators.0.biases.0' type=dtype('float32') shape=(0,) -- array([ 0.19169255, -0.12246682], dtype=float32)\n",
      "init: name='_operators.0.biases.1' type=dtype('float32') shape=(0,) -- array([-0.40610337, -0.1467492 , -0.01880287,  0.15879431], dtype=float32)\n",
      "init: name='_operators.0.biases.2' type=dtype('float32') shape=(0,) -- array([ 0.736786  , -0.32427853,  0.30860555,  0.17994082,  0.6917758 ,\n",
      "       -0.00594712,  0.35950053, -0.9819274 ], dtype=float32)\n",
      "init: name='_operators.0.biases.3' type=dtype('float32') shape=(0,) -- array([-1.3495584 , -1.082793  , -0.6906011 , -0.08978076, -0.4007622 ,\n",
      "        0.10756078, -0.68507075,  0.15814054,  0.5132364 , -0.18426335,\n",
      "        0.13685235,  0.10721841,  0.01814443, -0.41644228, -0.59770894,\n",
      "        0.607365  ], dtype=float32)\n",
      "init: name='_operators.0.biases.4' type=dtype('float32') shape=(0,) -- array([ 1.4203796 , -0.49269757, -0.12210988, -0.09692484,  0.5076643 ,\n",
      "       -1.3609421 ,  1.154743  ,  2.8748922 , -0.08181615,  0.7741028 ,\n",
      "        0.20604724,  0.666296  , -0.6474025 ,  0.6459148 ,  0.02262808,\n",
      "       -0.42282397,  0.46360654, -0.10058792,  0.25486696,  0.60041225,\n",
      "       -0.06933744,  0.21294908,  0.96443814,  0.07923891,  0.4797698 ,\n",
      "        1.2852331 ,  0.24348404, -0.3404966 , -0.07175394, -0.8248828 ,\n",
      "       -0.74071133, -1.2140133 ], dtype=float32)\n",
      "init: name='_operators.0.biases.5' type=dtype('float32') shape=(0,) -- array([ 1.0626682 ,  1.4745288 ,  0.01898679,  0.5451088 ,  0.15444604,\n",
      "        1.0631477 , -0.7555804 , -1.7192128 , -0.20905146,  0.19752283,\n",
      "       -0.40471953,  0.13069782,  0.60331047,  1.5060809 ,  0.        ,\n",
      "       -1.8283446 , -0.8124372 , -1.381897  ,  0.59209645,  0.3239226 ,\n",
      "       -0.42840806, -0.43624896,  0.58229303, -1.0196047 , -0.5632828 ,\n",
      "        0.91483426,  1.8038778 , -0.5665638 , -1.2530733 , -0.6500004 ,\n",
      "       -1.3069727 ,  0.48267984,  0.73503745, -1.871724  , -1.4965518 ,\n",
      "        1.3147466 ,  0.03919952, -0.885836  ,  0.5479692 , -0.8086383 ,\n",
      "       -0.74240863,  0.14582941,  0.6496967 , -0.00911551,  2.4541488 ,\n",
      "       -0.90482277,  0.26108736,  0.7569448 , -1.0786855 , -0.45229852,\n",
      "        1.2146595 , -0.6756766 , -2.3066258 ,  0.7911504 ,  0.57490873,\n",
      "       -0.40741247,  0.24633038, -1.2022957 , -0.65162694, -0.04244827,\n",
      "        1.558136  , -1.6220782 ,  0.1574643 , -1.4209061 ], dtype=float32)\n",
      "Constant(value=[-1]) -> onnx::Reshape_27\n",
      "Gather(X, _operators.0.root_nodes, axis=1) -> onnx::LessOrEqual_17\n",
      "  LessOrEqual(onnx::LessOrEqual_17, _operators.0.root_biases) -> onnx::Cast_18\n",
      "    Cast(onnx::Cast_18, to=7) -> onnx::Add_19\n",
      "      Add(onnx::Add_19, _operators.0.tree_indices) -> onnx::Reshape_20\n",
      "Constant(value=[-1]) -> onnx::Reshape_21\n",
      "  Reshape(onnx::Reshape_20, onnx::Reshape_21, allowzero=0) -> onnx::Gather_22\n",
      "    Gather(_operators.0.nodes.0, onnx::Gather_22, axis=0) -> onnx::Reshape_23\n",
      "Constant(value=[-1, 1]) -> onnx::Reshape_24\n",
      "  Reshape(onnx::Reshape_23, onnx::Reshape_24, allowzero=0) -> onnx::GatherElements_25\n",
      "    GatherElements(X, onnx::GatherElements_25, axis=1) -> onnx::Reshape_26\n",
      "  Reshape(onnx::Reshape_26, onnx::Reshape_27, allowzero=0) -> onnx::LessOrEqual_28\n",
      "Constant(value=2) -> onnx::Mul_29\n",
      "  Mul(onnx::Gather_22, onnx::Mul_29) -> onnx::Add_30\n",
      "Gather(_operators.0.biases.0, onnx::Gather_22, axis=0) -> onnx::LessOrEqual_31\n",
      "  LessOrEqual(onnx::LessOrEqual_28, onnx::LessOrEqual_31) -> onnx::Cast_32\n",
      "    Cast(onnx::Cast_32, to=7) -> onnx::Add_33\n",
      "    Add(onnx::Add_30, onnx::Add_33) -> onnx::Gather_34\n",
      "      Gather(_operators.0.nodes.1, onnx::Gather_34, axis=0) -> onnx::Reshape_35\n",
      "Constant(value=[-1, 1]) -> onnx::Reshape_36\n",
      "  Reshape(onnx::Reshape_35, onnx::Reshape_36, allowzero=0) -> onnx::GatherElements_37\n",
      "    GatherElements(X, onnx::GatherElements_37, axis=1) -> onnx::Reshape_38\n",
      "Constant(value=[-1]) -> onnx::Reshape_39\n",
      "  Reshape(onnx::Reshape_38, onnx::Reshape_39, allowzero=0) -> onnx::LessOrEqual_40\n",
      "Constant(value=2) -> onnx::Mul_41\n",
      "  Mul(onnx::Gather_34, onnx::Mul_41) -> onnx::Add_42\n",
      "Gather(_operators.0.biases.1, onnx::Gather_34, axis=0) -> onnx::LessOrEqual_43\n",
      "  LessOrEqual(onnx::LessOrEqual_40, onnx::LessOrEqual_43) -> onnx::Cast_44\n",
      "    Cast(onnx::Cast_44, to=7) -> onnx::Add_45\n",
      "    Add(onnx::Add_42, onnx::Add_45) -> onnx::Gather_46\n",
      "      Gather(_operators.0.nodes.2, onnx::Gather_46, axis=0) -> onnx::Reshape_47\n",
      "Constant(value=[-1, 1]) -> onnx::Reshape_48\n",
      "  Reshape(onnx::Reshape_47, onnx::Reshape_48, allowzero=0) -> onnx::GatherElements_49\n",
      "    GatherElements(X, onnx::GatherElements_49, axis=1) -> onnx::Reshape_50\n",
      "Constant(value=[-1]) -> onnx::Reshape_51\n",
      "  Reshape(onnx::Reshape_50, onnx::Reshape_51, allowzero=0) -> onnx::LessOrEqual_52\n",
      "Constant(value=2) -> onnx::Mul_53\n",
      "  Mul(onnx::Gather_46, onnx::Mul_53) -> onnx::Add_54\n",
      "Gather(_operators.0.biases.2, onnx::Gather_46, axis=0) -> onnx::LessOrEqual_55\n",
      "  LessOrEqual(onnx::LessOrEqual_52, onnx::LessOrEqual_55) -> onnx::Cast_56\n",
      "    Cast(onnx::Cast_56, to=7) -> onnx::Add_57\n",
      "    Add(onnx::Add_54, onnx::Add_57) -> onnx::Gather_58\n",
      "      Gather(_operators.0.nodes.3, onnx::Gather_58, axis=0) -> onnx::Reshape_59\n",
      "Constant(value=[-1, 1]) -> onnx::Reshape_60\n",
      "  Reshape(onnx::Reshape_59, onnx::Reshape_60, allowzero=0) -> onnx::GatherElements_61\n",
      "    GatherElements(X, onnx::GatherElements_61, axis=1) -> onnx::Reshape_62\n",
      "Constant(value=[-1]) -> onnx::Reshape_63\n",
      "  Reshape(onnx::Reshape_62, onnx::Reshape_63, allowzero=0) -> onnx::LessOrEqual_64\n",
      "Constant(value=2) -> onnx::Mul_65\n",
      "  Mul(onnx::Gather_58, onnx::Mul_65) -> onnx::Add_66\n",
      "Gather(_operators.0.biases.3, onnx::Gather_58, axis=0) -> onnx::LessOrEqual_67\n",
      "  LessOrEqual(onnx::LessOrEqual_64, onnx::LessOrEqual_67) -> onnx::Cast_68\n",
      "    Cast(onnx::Cast_68, to=7) -> onnx::Add_69\n",
      "    Add(onnx::Add_66, onnx::Add_69) -> onnx::Gather_70\n",
      "      Gather(_operators.0.nodes.4, onnx::Gather_70, axis=0) -> onnx::Reshape_71\n",
      "Constant(value=[-1, 1]) -> onnx::Reshape_72\n",
      "  Reshape(onnx::Reshape_71, onnx::Reshape_72, allowzero=0) -> onnx::GatherElements_73\n",
      "    GatherElements(X, onnx::GatherElements_73, axis=1) -> onnx::Reshape_74\n",
      "Constant(value=[-1]) -> onnx::Reshape_75\n",
      "  Reshape(onnx::Reshape_74, onnx::Reshape_75, allowzero=0) -> onnx::LessOrEqual_76\n",
      "Constant(value=2) -> onnx::Mul_77\n",
      "  Mul(onnx::Gather_70, onnx::Mul_77) -> onnx::Add_78\n",
      "Gather(_operators.0.biases.4, onnx::Gather_70, axis=0) -> onnx::LessOrEqual_79\n",
      "  LessOrEqual(onnx::LessOrEqual_76, onnx::LessOrEqual_79) -> onnx::Cast_80\n",
      "    Cast(onnx::Cast_80, to=7) -> onnx::Add_81\n",
      "    Add(onnx::Add_78, onnx::Add_81) -> onnx::Gather_82\n",
      "      Gather(_operators.0.nodes.5, onnx::Gather_82, axis=0) -> onnx::Reshape_83\n",
      "Constant(value=[-1, 1]) -> onnx::Reshape_84\n",
      "  Reshape(onnx::Reshape_83, onnx::Reshape_84, allowzero=0) -> onnx::GatherElements_85\n",
      "    GatherElements(X, onnx::GatherElements_85, axis=1) -> onnx::Reshape_86\n",
      "Constant(value=[-1]) -> onnx::Reshape_87\n",
      "  Reshape(onnx::Reshape_86, onnx::Reshape_87, allowzero=0) -> onnx::LessOrEqual_88\n",
      "Constant(value=2) -> onnx::Mul_89\n",
      "  Mul(onnx::Gather_82, onnx::Mul_89) -> onnx::Add_90\n",
      "Gather(_operators.0.biases.5, onnx::Gather_82, axis=0) -> onnx::LessOrEqual_91\n",
      "  LessOrEqual(onnx::LessOrEqual_88, onnx::LessOrEqual_91) -> onnx::Cast_92\n",
      "    Cast(onnx::Cast_92, to=7) -> onnx::Add_93\n",
      "    Add(onnx::Add_90, onnx::Add_93) -> onnx::Gather_94\n",
      "      Gather(_operators.0.leaf_nodes, onnx::Gather_94, axis=0) -> onnx::Reshape_95\n",
      "Constant(value=[-1, 1, 1]) -> onnx::Reshape_96\n",
      "  Reshape(onnx::Reshape_95, onnx::Reshape_96, allowzero=0) -> output\n",
      "Constant(value=[1]) -> onnx::ReduceSum_98\n",
      "  ReduceSum(output, onnx::ReduceSum_98, keepdims=0) -> variable\n"
     ]
    },
    {
     "name": "stdout",
     "output_type": "stream",
     "text": [
      "output: name='variable' type=dtype('float32') shape=['batch_size', 'ReduceSumvariable_dim_1']\n"
     ]
    }
   ],
   "source": [
    "print(onnx_simple_text_plot(onxh, raise_exc=False))"
   ]
  },
  {
   "cell_type": "code",
   "execution_count": 43,
   "id": "822bfa80",
   "metadata": {},
   "outputs": [
    {
     "data": {
      "text/html": [
       "<div id=\"M383513f79aa048579be42d593ab48485-cont\"><div id=\"M383513f79aa048579be42d593ab48485\" style=\"width:;height:;\"></div></div>\n",
       "<script>\n",
       "\n",
       "require(['http://www.xavierdupre.fr/js/vizjs/viz.js'], function() { var svgGraph = Viz(\"digraph{\\n  nodesep=0.05;\\n  orientation=portrait;\\n  size=7;\\n  ranksep=0.25;\\n\\n  X [shape=box color=red label=\\\"X\\nfloat((0, 10))\\\" fontsize=10];\\n\\n  variable [shape=box color=green label=\\\"variable\\nfloat((0, 0))\\\" fontsize=10];\\n\\n  _operators_0_root_nodes [shape=box label=\\\"_operators_0_root_nodes\\nint64((1,))\\n[8]\\\" fontsize=10];\\n  _operators_0_root_biases [shape=box label=\\\"_operators_0_root_biases\\nfloat32((1,))\\n[0.00792999]\\\" fontsize=10];\\n  _operators_0_tree_indices [shape=box label=\\\"_operators_0_tree_indices\\nint64((1,))\\n[0]\\\" fontsize=10];\\n  _operators_0_leaf_nodes [shape=box label=\\\"_operators_0_leaf_nodes\\nfloat32((128, 1))\\n[[ 1.0096807 ]\\n [ 0.6169403 ]\\n [ 0.61055773]\\n [ 0....\\\" fontsize=10];\\n  _operators_0_nodes_0 [shape=box label=\\\"_operators_0_nodes_0\\nint64((2,))\\n[0 3]\\\" fontsize=10];\\n  _operators_0_nodes_1 [shape=box label=\\\"_operators_0_nodes_1\\nint64((4,))\\n[1 2 5 9]\\\" fontsize=10];\\n  _operators_0_nodes_2 [shape=box label=\\\"_operators_0_nodes_2\\nint64((8,))\\n[5 6 3 7 2 0 7 1]\\\" fontsize=10];\\n  _operators_0_nodes_3 [shape=box label=\\\"_operators_0_nodes_3\\nint64((16,))\\n[3 9 5 3 6 4 1 3 6 6 1 6 5 4 6 2]\\\" fontsize=10];\\n  _operators_0_nodes_4 [shape=box label=\\\"_operators_0_nodes_4\\nint64((32,))\\n[3 2 7 6 2 4 7 8 9 5 7 8 9 4 6 9 7 9 0 7 7 9 2 7 6...\\\" fontsize=10];\\n  _operators_0_nodes_5 [shape=box label=\\\"_operators_0_nodes_5\\nint64((64,))\\n[2 8 7 6 6 3 4 9 7 3 2 6 3 3 0 1 1 0 4 7 9 5 7 9 5...\\\" fontsize=10];\\n  _operators_0_biases_0 [shape=box label=\\\"_operators_0_biases_0\\nfloat32((2,))\\n[ 0.19169255 -0.12246682]\\\" fontsize=10];\\n  _operators_0_biases_1 [shape=box label=\\\"_operators_0_biases_1\\nfloat32((4,))\\n[-0.40610337 -0.1467492  -0.01880287  0.15879431]\\\" fontsize=10];\\n  _operators_0_biases_2 [shape=box label=\\\"_operators_0_biases_2\\nfloat32((8,))\\n[ 0.736786   -0.32427853  0.30860555  0.17994082  0.6917758  -0.00594712\\n  0.35950053 -0.9819274 ]\\\" fontsize=10];\\n  _operators_0_biases_3 [shape=box label=\\\"_operators_0_biases_3\\nfloat32((16,))\\n[-1.3495584  -1.082793   -0.6906011  -0.08978076 -...\\\" fontsize=10];\\n  _operators_0_biases_4 [shape=box label=\\\"_operators_0_biases_4\\nfloat32((32,))\\n[ 1.4203796  -0.49269757 -0.12210988 -0.09692484  ...\\\" fontsize=10];\\n  _operators_0_biases_5 [shape=box label=\\\"_operators_0_biases_5\\nfloat32((64,))\\n[ 1.0626682   1.4745288   0.01898679  0.5451088   ...\\\" fontsize=10];\\n\\n  onnx____LessOrEqual_17 [shape=box label=\\\"onnx____LessOrEqual_17\\\" fontsize=10];\\n  Gather_0 [shape=box style=\\\"filled,rounded\\\" color=orange label=\\\"Gather\\n(Gather_0)\\naxis=1\\\" fontsize=10];\\n  X -> Gather_0;\\n  _operators_0_root_nodes -> Gather_0;\\n  Gather_0 -> onnx____LessOrEqual_17;\\n\\n  onnx____Cast_18 [shape=box label=\\\"onnx____Cast_18\\\" fontsize=10];\\n  LessOrEqual_1 [shape=box style=\\\"filled,rounded\\\" color=orange label=\\\"LessOrEqual\\n(LessOrEqual_1)\\\" fontsize=10];\\n  onnx____LessOrEqual_17 -> LessOrEqual_1;\\n  _operators_0_root_biases -> LessOrEqual_1;\\n  LessOrEqual_1 -> onnx____Cast_18;\\n\\n  onnx____Add_19 [shape=box label=\\\"onnx____Add_19\\\" fontsize=10];\\n  Cast_2 [shape=box style=\\\"filled,rounded\\\" color=orange label=\\\"Cast\\n(Cast_2)\\nto=7\\\" fontsize=10];\\n  onnx____Cast_18 -> Cast_2;\\n  Cast_2 -> onnx____Add_19;\\n\\n  onnx____Reshape_20 [shape=box label=\\\"onnx____Reshape_20\\\" fontsize=10];\\n  Add_3 [shape=box style=\\\"filled,rounded\\\" color=orange label=\\\"Add\\n(Add_3)\\\" fontsize=10];\\n  onnx____Add_19 -> Add_3;\\n  _operators_0_tree_indices -> Add_3;\\n  Add_3 -> onnx____Reshape_20;\\n\\n  onnx____Reshape_21 [shape=box label=\\\"onnx____Reshape_21\\\" fontsize=10];\\n  Constant_4 [shape=box style=\\\"filled,rounded\\\" color=orange label=\\\"Constant\\n(Constant_4)\\nvalue=[-1]\\\" fontsize=10];\\n  Constant_4 -> onnx____Reshape_21;\\n\\n  onnx____Gather_22 [shape=box label=\\\"onnx____Gather_22\\\" fontsize=10];\\n  Reshape_5 [shape=box style=\\\"filled,rounded\\\" color=orange label=\\\"Reshape\\n(Reshape_5)\\nallowzero=0\\\" fontsize=10];\\n  onnx____Reshape_20 -> Reshape_5;\\n  onnx____Reshape_21 -> Reshape_5;\\n  Reshape_5 -> onnx____Gather_22;\\n\\n  onnx____Reshape_23 [shape=box label=\\\"onnx____Reshape_23\\\" fontsize=10];\\n  Gather_6 [shape=box style=\\\"filled,rounded\\\" color=orange label=\\\"Gather\\n(Gather_6)\\naxis=0\\\" fontsize=10];\\n  _operators_0_nodes_0 -> Gather_6;\\n  onnx____Gather_22 -> Gather_6;\\n  Gather_6 -> onnx____Reshape_23;\\n\\n  onnx____Reshape_24 [shape=box label=\\\"onnx____Reshape_24\\\" fontsize=10];\\n  Constant_7 [shape=box style=\\\"filled,rounded\\\" color=orange label=\\\"Constant\\n(Constant_7)\\nvalue=[-1  1]\\\" fontsize=10];\\n  Constant_7 -> onnx____Reshape_24;\\n\\n  onnx____GatherElements_25 [shape=box label=\\\"onnx____GatherElements_25\\\" fontsize=10];\\n  Reshape_8 [shape=box style=\\\"filled,rounded\\\" color=orange label=\\\"Reshape\\n(Reshape_8)\\nallowzero=0\\\" fontsize=10];\\n  onnx____Reshape_23 -> Reshape_8;\\n  onnx____Reshape_24 -> Reshape_8;\\n  Reshape_8 -> onnx____GatherElements_25;\\n\\n  onnx____Reshape_26 [shape=box label=\\\"onnx____Reshape_26\\\" fontsize=10];\\n  GatherElements_9 [shape=box style=\\\"filled,rounded\\\" color=orange label=\\\"GatherElements\\n(GatherElements_9)\\naxis=1\\\" fontsize=10];\\n  X -> GatherElements_9;\\n  onnx____GatherElements_25 -> GatherElements_9;\\n  GatherElements_9 -> onnx____Reshape_26;\\n\\n  onnx____Reshape_27 [shape=box label=\\\"onnx____Reshape_27\\\" fontsize=10];\\n  Constant_10 [shape=box style=\\\"filled,rounded\\\" color=orange label=\\\"Constant\\n(Constant_10)\\nvalue=[-1]\\\" fontsize=10];\\n  Constant_10 -> onnx____Reshape_27;\\n\\n  onnx____LessOrEqual_28 [shape=box label=\\\"onnx____LessOrEqual_28\\\" fontsize=10];\\n  Reshape_11 [shape=box style=\\\"filled,rounded\\\" color=orange label=\\\"Reshape\\n(Reshape_11)\\nallowzero=0\\\" fontsize=10];\\n  onnx____Reshape_26 -> Reshape_11;\\n  onnx____Reshape_27 -> Reshape_11;\\n  Reshape_11 -> onnx____LessOrEqual_28;\\n\\n  onnx____Mul_29 [shape=box label=\\\"onnx____Mul_29\\\" fontsize=10];\\n  Constant_12 [shape=box style=\\\"filled,rounded\\\" color=orange label=\\\"Constant\\n(Constant_12)\\nvalue=2\\\" fontsize=10];\\n  Constant_12 -> onnx____Mul_29;\\n\\n  onnx____Add_30 [shape=box label=\\\"onnx____Add_30\\\" fontsize=10];\\n  Mul_13 [shape=box style=\\\"filled,rounded\\\" color=orange label=\\\"Mul\\n(Mul_13)\\\" fontsize=10];\\n  onnx____Gather_22 -> Mul_13;\\n  onnx____Mul_29 -> Mul_13;\\n  Mul_13 -> onnx____Add_30;\\n\\n  onnx____LessOrEqual_31 [shape=box label=\\\"onnx____LessOrEqual_31\\\" fontsize=10];\\n  Gather_14 [shape=box style=\\\"filled,rounded\\\" color=orange label=\\\"Gather\\n(Gather_14)\\naxis=0\\\" fontsize=10];\\n  _operators_0_biases_0 -> Gather_14;\\n  onnx____Gather_22 -> Gather_14;\\n  Gather_14 -> onnx____LessOrEqual_31;\\n\\n  onnx____Cast_32 [shape=box label=\\\"onnx____Cast_32\\\" fontsize=10];\\n  LessOrEqual_15 [shape=box style=\\\"filled,rounded\\\" color=orange label=\\\"LessOrEqual\\n(LessOrEqual_15)\\\" fontsize=10];\\n  onnx____LessOrEqual_28 -> LessOrEqual_15;\\n  onnx____LessOrEqual_31 -> LessOrEqual_15;\\n  LessOrEqual_15 -> onnx____Cast_32;\\n\\n  onnx____Add_33 [shape=box label=\\\"onnx____Add_33\\\" fontsize=10];\\n  Cast_16 [shape=box style=\\\"filled,rounded\\\" color=orange label=\\\"Cast\\n(Cast_16)\\nto=7\\\" fontsize=10];\\n  onnx____Cast_32 -> Cast_16;\\n  Cast_16 -> onnx____Add_33;\\n\\n  onnx____Gather_34 [shape=box label=\\\"onnx____Gather_34\\\" fontsize=10];\\n  Add_17 [shape=box style=\\\"filled,rounded\\\" color=orange label=\\\"Add\\n(Add_17)\\\" fontsize=10];\\n  onnx____Add_30 -> Add_17;\\n  onnx____Add_33 -> Add_17;\\n  Add_17 -> onnx____Gather_34;\\n\\n  onnx____Reshape_35 [shape=box label=\\\"onnx____Reshape_35\\\" fontsize=10];\\n  Gather_18 [shape=box style=\\\"filled,rounded\\\" color=orange label=\\\"Gather\\n(Gather_18)\\naxis=0\\\" fontsize=10];\\n  _operators_0_nodes_1 -> Gather_18;\\n  onnx____Gather_34 -> Gather_18;\\n  Gather_18 -> onnx____Reshape_35;\\n\\n  onnx____Reshape_36 [shape=box label=\\\"onnx____Reshape_36\\\" fontsize=10];\\n  Constant_19 [shape=box style=\\\"filled,rounded\\\" color=orange label=\\\"Constant\\n(Constant_19)\\nvalue=[-1  1]\\\" fontsize=10];\\n  Constant_19 -> onnx____Reshape_36;\\n\\n  onnx____GatherElements_37 [shape=box label=\\\"onnx____GatherElements_37\\\" fontsize=10];\\n  Reshape_20 [shape=box style=\\\"filled,rounded\\\" color=orange label=\\\"Reshape\\n(Reshape_20)\\nallowzero=0\\\" fontsize=10];\\n  onnx____Reshape_35 -> Reshape_20;\\n  onnx____Reshape_36 -> Reshape_20;\\n  Reshape_20 -> onnx____GatherElements_37;\\n\\n  onnx____Reshape_38 [shape=box label=\\\"onnx____Reshape_38\\\" fontsize=10];\\n  GatherElements_21 [shape=box style=\\\"filled,rounded\\\" color=orange label=\\\"GatherElements\\n(GatherElements_21)\\naxis=1\\\" fontsize=10];\\n  X -> GatherElements_21;\\n  onnx____GatherElements_37 -> GatherElements_21;\\n  GatherElements_21 -> onnx____Reshape_38;\\n\\n  onnx____Reshape_39 [shape=box label=\\\"onnx____Reshape_39\\\" fontsize=10];\\n  Constant_22 [shape=box style=\\\"filled,rounded\\\" color=orange label=\\\"Constant\\n(Constant_22)\\nvalue=[-1]\\\" fontsize=10];\\n  Constant_22 -> onnx____Reshape_39;\\n\\n  onnx____LessOrEqual_40 [shape=box label=\\\"onnx____LessOrEqual_40\\\" fontsize=10];\\n  Reshape_23 [shape=box style=\\\"filled,rounded\\\" color=orange label=\\\"Reshape\\n(Reshape_23)\\nallowzero=0\\\" fontsize=10];\\n  onnx____Reshape_38 -> Reshape_23;\\n  onnx____Reshape_39 -> Reshape_23;\\n  Reshape_23 -> onnx____LessOrEqual_40;\\n\\n  onnx____Mul_41 [shape=box label=\\\"onnx____Mul_41\\\" fontsize=10];\\n  Constant_24 [shape=box style=\\\"filled,rounded\\\" color=orange label=\\\"Constant\\n(Constant_24)\\nvalue=2\\\" fontsize=10];\\n  Constant_24 -> onnx____Mul_41;\\n\\n  onnx____Add_42 [shape=box label=\\\"onnx____Add_42\\\" fontsize=10];\\n  Mul_25 [shape=box style=\\\"filled,rounded\\\" color=orange label=\\\"Mul\\n(Mul_25)\\\" fontsize=10];\\n  onnx____Gather_34 -> Mul_25;\\n  onnx____Mul_41 -> Mul_25;\\n  Mul_25 -> onnx____Add_42;\\n\\n  onnx____LessOrEqual_43 [shape=box label=\\\"onnx____LessOrEqual_43\\\" fontsize=10];\\n  Gather_26 [shape=box style=\\\"filled,rounded\\\" color=orange label=\\\"Gather\\n(Gather_26)\\naxis=0\\\" fontsize=10];\\n  _operators_0_biases_1 -> Gather_26;\\n  onnx____Gather_34 -> Gather_26;\\n  Gather_26 -> onnx____LessOrEqual_43;\\n\\n  onnx____Cast_44 [shape=box label=\\\"onnx____Cast_44\\\" fontsize=10];\\n  LessOrEqual_27 [shape=box style=\\\"filled,rounded\\\" color=orange label=\\\"LessOrEqual\\n(LessOrEqual_27)\\\" fontsize=10];\\n  onnx____LessOrEqual_40 -> LessOrEqual_27;\\n  onnx____LessOrEqual_43 -> LessOrEqual_27;\\n  LessOrEqual_27 -> onnx____Cast_44;\\n\\n  onnx____Add_45 [shape=box label=\\\"onnx____Add_45\\\" fontsize=10];\\n  Cast_28 [shape=box style=\\\"filled,rounded\\\" color=orange label=\\\"Cast\\n(Cast_28)\\nto=7\\\" fontsize=10];\\n  onnx____Cast_44 -> Cast_28;\\n  Cast_28 -> onnx____Add_45;\\n\\n  onnx____Gather_46 [shape=box label=\\\"onnx____Gather_46\\\" fontsize=10];\\n  Add_29 [shape=box style=\\\"filled,rounded\\\" color=orange label=\\\"Add\\n(Add_29)\\\" fontsize=10];\\n  onnx____Add_42 -> Add_29;\\n  onnx____Add_45 -> Add_29;\\n  Add_29 -> onnx____Gather_46;\\n\\n  onnx____Reshape_47 [shape=box label=\\\"onnx____Reshape_47\\\" fontsize=10];\\n  Gather_30 [shape=box style=\\\"filled,rounded\\\" color=orange label=\\\"Gather\\n(Gather_30)\\naxis=0\\\" fontsize=10];\\n  _operators_0_nodes_2 -> Gather_30;\\n  onnx____Gather_46 -> Gather_30;\\n  Gather_30 -> onnx____Reshape_47;\\n\\n  onnx____Reshape_48 [shape=box label=\\\"onnx____Reshape_48\\\" fontsize=10];\\n  Constant_31 [shape=box style=\\\"filled,rounded\\\" color=orange label=\\\"Constant\\n(Constant_31)\\nvalue=[-1  1]\\\" fontsize=10];\\n  Constant_31 -> onnx____Reshape_48;\\n\\n  onnx____GatherElements_49 [shape=box label=\\\"onnx____GatherElements_49\\\" fontsize=10];\\n  Reshape_32 [shape=box style=\\\"filled,rounded\\\" color=orange label=\\\"Reshape\\n(Reshape_32)\\nallowzero=0\\\" fontsize=10];\\n  onnx____Reshape_47 -> Reshape_32;\\n  onnx____Reshape_48 -> Reshape_32;\\n  Reshape_32 -> onnx____GatherElements_49;\\n\\n  onnx____Reshape_50 [shape=box label=\\\"onnx____Reshape_50\\\" fontsize=10];\\n  GatherElements_33 [shape=box style=\\\"filled,rounded\\\" color=orange label=\\\"GatherElements\\n(GatherElements_33)\\naxis=1\\\" fontsize=10];\\n  X -> GatherElements_33;\\n  onnx____GatherElements_49 -> GatherElements_33;\\n  GatherElements_33 -> onnx____Reshape_50;\\n\\n  onnx____Reshape_51 [shape=box label=\\\"onnx____Reshape_51\\\" fontsize=10];\\n  Constant_34 [shape=box style=\\\"filled,rounded\\\" color=orange label=\\\"Constant\\n(Constant_34)\\nvalue=[-1]\\\" fontsize=10];\\n  Constant_34 -> onnx____Reshape_51;\\n\\n  onnx____LessOrEqual_52 [shape=box label=\\\"onnx____LessOrEqual_52\\\" fontsize=10];\\n  Reshape_35 [shape=box style=\\\"filled,rounded\\\" color=orange label=\\\"Reshape\\n(Reshape_35)\\nallowzero=0\\\" fontsize=10];\\n  onnx____Reshape_50 -> Reshape_35;\\n  onnx____Reshape_51 -> Reshape_35;\\n  Reshape_35 -> onnx____LessOrEqual_52;\\n\\n  onnx____Mul_53 [shape=box label=\\\"onnx____Mul_53\\\" fontsize=10];\\n  Constant_36 [shape=box style=\\\"filled,rounded\\\" color=orange label=\\\"Constant\\n(Constant_36)\\nvalue=2\\\" fontsize=10];\\n  Constant_36 -> onnx____Mul_53;\\n\\n  onnx____Add_54 [shape=box label=\\\"onnx____Add_54\\\" fontsize=10];\\n  Mul_37 [shape=box style=\\\"filled,rounded\\\" color=orange label=\\\"Mul\\n(Mul_37)\\\" fontsize=10];\\n  onnx____Gather_46 -> Mul_37;\\n  onnx____Mul_53 -> Mul_37;\\n  Mul_37 -> onnx____Add_54;\\n\\n  onnx____LessOrEqual_55 [shape=box label=\\\"onnx____LessOrEqual_55\\\" fontsize=10];\\n  Gather_38 [shape=box style=\\\"filled,rounded\\\" color=orange label=\\\"Gather\\n(Gather_38)\\naxis=0\\\" fontsize=10];\\n  _operators_0_biases_2 -> Gather_38;\\n  onnx____Gather_46 -> Gather_38;\\n  Gather_38 -> onnx____LessOrEqual_55;\\n\\n  onnx____Cast_56 [shape=box label=\\\"onnx____Cast_56\\\" fontsize=10];\\n  LessOrEqual_39 [shape=box style=\\\"filled,rounded\\\" color=orange label=\\\"LessOrEqual\\n(LessOrEqual_39)\\\" fontsize=10];\\n  onnx____LessOrEqual_52 -> LessOrEqual_39;\\n  onnx____LessOrEqual_55 -> LessOrEqual_39;\\n  LessOrEqual_39 -> onnx____Cast_56;\\n\\n  onnx____Add_57 [shape=box label=\\\"onnx____Add_57\\\" fontsize=10];\\n  Cast_40 [shape=box style=\\\"filled,rounded\\\" color=orange label=\\\"Cast\\n(Cast_40)\\nto=7\\\" fontsize=10];\\n  onnx____Cast_56 -> Cast_40;\\n  Cast_40 -> onnx____Add_57;\\n\\n  onnx____Gather_58 [shape=box label=\\\"onnx____Gather_58\\\" fontsize=10];\\n  Add_41 [shape=box style=\\\"filled,rounded\\\" color=orange label=\\\"Add\\n(Add_41)\\\" fontsize=10];\\n  onnx____Add_54 -> Add_41;\\n  onnx____Add_57 -> Add_41;\\n  Add_41 -> onnx____Gather_58;\\n\\n  onnx____Reshape_59 [shape=box label=\\\"onnx____Reshape_59\\\" fontsize=10];\\n  Gather_42 [shape=box style=\\\"filled,rounded\\\" color=orange label=\\\"Gather\\n(Gather_42)\\naxis=0\\\" fontsize=10];\\n  _operators_0_nodes_3 -> Gather_42;\\n  onnx____Gather_58 -> Gather_42;\\n  Gather_42 -> onnx____Reshape_59;\\n\\n  onnx____Reshape_60 [shape=box label=\\\"onnx____Reshape_60\\\" fontsize=10];\\n  Constant_43 [shape=box style=\\\"filled,rounded\\\" color=orange label=\\\"Constant\\n(Constant_43)\\nvalue=[-1  1]\\\" fontsize=10];\\n  Constant_43 -> onnx____Reshape_60;\\n\\n  onnx____GatherElements_61 [shape=box label=\\\"onnx____GatherElements_61\\\" fontsize=10];\\n  Reshape_44 [shape=box style=\\\"filled,rounded\\\" color=orange label=\\\"Reshape\\n(Reshape_44)\\nallowzero=0\\\" fontsize=10];\\n  onnx____Reshape_59 -> Reshape_44;\\n  onnx____Reshape_60 -> Reshape_44;\\n  Reshape_44 -> onnx____GatherElements_61;\\n\\n  onnx____Reshape_62 [shape=box label=\\\"onnx____Reshape_62\\\" fontsize=10];\\n  GatherElements_45 [shape=box style=\\\"filled,rounded\\\" color=orange label=\\\"GatherElements\\n(GatherElements_45)\\naxis=1\\\" fontsize=10];\\n  X -> GatherElements_45;\\n  onnx____GatherElements_61 -> GatherElements_45;\\n  GatherElements_45 -> onnx____Reshape_62;\\n\\n  onnx____Reshape_63 [shape=box label=\\\"onnx____Reshape_63\\\" fontsize=10];\\n  Constant_46 [shape=box style=\\\"filled,rounded\\\" color=orange label=\\\"Constant\\n(Constant_46)\\nvalue=[-1]\\\" fontsize=10];\\n  Constant_46 -> onnx____Reshape_63;\\n\\n  onnx____LessOrEqual_64 [shape=box label=\\\"onnx____LessOrEqual_64\\\" fontsize=10];\\n  Reshape_47 [shape=box style=\\\"filled,rounded\\\" color=orange label=\\\"Reshape\\n(Reshape_47)\\nallowzero=0\\\" fontsize=10];\\n  onnx____Reshape_62 -> Reshape_47;\\n  onnx____Reshape_63 -> Reshape_47;\\n  Reshape_47 -> onnx____LessOrEqual_64;\\n\\n  onnx____Mul_65 [shape=box label=\\\"onnx____Mul_65\\\" fontsize=10];\\n  Constant_48 [shape=box style=\\\"filled,rounded\\\" color=orange label=\\\"Constant\\n(Constant_48)\\nvalue=2\\\" fontsize=10];\\n  Constant_48 -> onnx____Mul_65;\\n\\n  onnx____Add_66 [shape=box label=\\\"onnx____Add_66\\\" fontsize=10];\\n  Mul_49 [shape=box style=\\\"filled,rounded\\\" color=orange label=\\\"Mul\\n(Mul_49)\\\" fontsize=10];\\n  onnx____Gather_58 -> Mul_49;\\n  onnx____Mul_65 -> Mul_49;\\n  Mul_49 -> onnx____Add_66;\\n\\n  onnx____LessOrEqual_67 [shape=box label=\\\"onnx____LessOrEqual_67\\\" fontsize=10];\\n  Gather_50 [shape=box style=\\\"filled,rounded\\\" color=orange label=\\\"Gather\\n(Gather_50)\\naxis=0\\\" fontsize=10];\\n  _operators_0_biases_3 -> Gather_50;\\n  onnx____Gather_58 -> Gather_50;\\n  Gather_50 -> onnx____LessOrEqual_67;\\n\\n  onnx____Cast_68 [shape=box label=\\\"onnx____Cast_68\\\" fontsize=10];\\n  LessOrEqual_51 [shape=box style=\\\"filled,rounded\\\" color=orange label=\\\"LessOrEqual\\n(LessOrEqual_51)\\\" fontsize=10];\\n  onnx____LessOrEqual_64 -> LessOrEqual_51;\\n  onnx____LessOrEqual_67 -> LessOrEqual_51;\\n  LessOrEqual_51 -> onnx____Cast_68;\\n\\n  onnx____Add_69 [shape=box label=\\\"onnx____Add_69\\\" fontsize=10];\\n  Cast_52 [shape=box style=\\\"filled,rounded\\\" color=orange label=\\\"Cast\\n(Cast_52)\\nto=7\\\" fontsize=10];\\n  onnx____Cast_68 -> Cast_52;\\n  Cast_52 -> onnx____Add_69;\\n\\n  onnx____Gather_70 [shape=box label=\\\"onnx____Gather_70\\\" fontsize=10];\\n  Add_53 [shape=box style=\\\"filled,rounded\\\" color=orange label=\\\"Add\\n(Add_53)\\\" fontsize=10];\\n  onnx____Add_66 -> Add_53;\\n  onnx____Add_69 -> Add_53;\\n  Add_53 -> onnx____Gather_70;\\n\\n  onnx____Reshape_71 [shape=box label=\\\"onnx____Reshape_71\\\" fontsize=10];\\n  Gather_54 [shape=box style=\\\"filled,rounded\\\" color=orange label=\\\"Gather\\n(Gather_54)\\naxis=0\\\" fontsize=10];\\n  _operators_0_nodes_4 -> Gather_54;\\n  onnx____Gather_70 -> Gather_54;\\n  Gather_54 -> onnx____Reshape_71;\\n\\n  onnx____Reshape_72 [shape=box label=\\\"onnx____Reshape_72\\\" fontsize=10];\\n  Constant_55 [shape=box style=\\\"filled,rounded\\\" color=orange label=\\\"Constant\\n(Constant_55)\\nvalue=[-1  1]\\\" fontsize=10];\\n  Constant_55 -> onnx____Reshape_72;\\n\\n  onnx____GatherElements_73 [shape=box label=\\\"onnx____GatherElements_73\\\" fontsize=10];\\n  Reshape_56 [shape=box style=\\\"filled,rounded\\\" color=orange label=\\\"Reshape\\n(Reshape_56)\\nallowzero=0\\\" fontsize=10];\\n  onnx____Reshape_71 -> Reshape_56;\\n  onnx____Reshape_72 -> Reshape_56;\\n  Reshape_56 -> onnx____GatherElements_73;\\n\\n  onnx____Reshape_74 [shape=box label=\\\"onnx____Reshape_74\\\" fontsize=10];\\n  GatherElements_57 [shape=box style=\\\"filled,rounded\\\" color=orange label=\\\"GatherElements\\n(GatherElements_57)\\naxis=1\\\" fontsize=10];\\n  X -> GatherElements_57;\\n  onnx____GatherElements_73 -> GatherElements_57;\\n  GatherElements_57 -> onnx____Reshape_74;\\n\\n  onnx____Reshape_75 [shape=box label=\\\"onnx____Reshape_75\\\" fontsize=10];\\n  Constant_58 [shape=box style=\\\"filled,rounded\\\" color=orange label=\\\"Constant\\n(Constant_58)\\nvalue=[-1]\\\" fontsize=10];\\n  Constant_58 -> onnx____Reshape_75;\\n\\n  onnx____LessOrEqual_76 [shape=box label=\\\"onnx____LessOrEqual_76\\\" fontsize=10];\\n  Reshape_59 [shape=box style=\\\"filled,rounded\\\" color=orange label=\\\"Reshape\\n(Reshape_59)\\nallowzero=0\\\" fontsize=10];\\n  onnx____Reshape_74 -> Reshape_59;\\n  onnx____Reshape_75 -> Reshape_59;\\n  Reshape_59 -> onnx____LessOrEqual_76;\\n\\n  onnx____Mul_77 [shape=box label=\\\"onnx____Mul_77\\\" fontsize=10];\\n  Constant_60 [shape=box style=\\\"filled,rounded\\\" color=orange label=\\\"Constant\\n(Constant_60)\\nvalue=2\\\" fontsize=10];\\n  Constant_60 -> onnx____Mul_77;\\n\\n  onnx____Add_78 [shape=box label=\\\"onnx____Add_78\\\" fontsize=10];\\n  Mul_61 [shape=box style=\\\"filled,rounded\\\" color=orange label=\\\"Mul\\n(Mul_61)\\\" fontsize=10];\\n  onnx____Gather_70 -> Mul_61;\\n  onnx____Mul_77 -> Mul_61;\\n  Mul_61 -> onnx____Add_78;\\n\\n  onnx____LessOrEqual_79 [shape=box label=\\\"onnx____LessOrEqual_79\\\" fontsize=10];\\n  Gather_62 [shape=box style=\\\"filled,rounded\\\" color=orange label=\\\"Gather\\n(Gather_62)\\naxis=0\\\" fontsize=10];\\n  _operators_0_biases_4 -> Gather_62;\\n  onnx____Gather_70 -> Gather_62;\\n  Gather_62 -> onnx____LessOrEqual_79;\\n\\n  onnx____Cast_80 [shape=box label=\\\"onnx____Cast_80\\\" fontsize=10];\\n  LessOrEqual_63 [shape=box style=\\\"filled,rounded\\\" color=orange label=\\\"LessOrEqual\\n(LessOrEqual_63)\\\" fontsize=10];\\n  onnx____LessOrEqual_76 -> LessOrEqual_63;\\n  onnx____LessOrEqual_79 -> LessOrEqual_63;\\n  LessOrEqual_63 -> onnx____Cast_80;\\n\\n  onnx____Add_81 [shape=box label=\\\"onnx____Add_81\\\" fontsize=10];\\n  Cast_64 [shape=box style=\\\"filled,rounded\\\" color=orange label=\\\"Cast\\n(Cast_64)\\nto=7\\\" fontsize=10];\\n  onnx____Cast_80 -> Cast_64;\\n  Cast_64 -> onnx____Add_81;\\n\\n  onnx____Gather_82 [shape=box label=\\\"onnx____Gather_82\\\" fontsize=10];\\n  Add_65 [shape=box style=\\\"filled,rounded\\\" color=orange label=\\\"Add\\n(Add_65)\\\" fontsize=10];\\n  onnx____Add_78 -> Add_65;\\n  onnx____Add_81 -> Add_65;\\n  Add_65 -> onnx____Gather_82;\\n\\n  onnx____Reshape_83 [shape=box label=\\\"onnx____Reshape_83\\\" fontsize=10];\\n  Gather_66 [shape=box style=\\\"filled,rounded\\\" color=orange label=\\\"Gather\\n(Gather_66)\\naxis=0\\\" fontsize=10];\\n  _operators_0_nodes_5 -> Gather_66;\\n  onnx____Gather_82 -> Gather_66;\\n  Gather_66 -> onnx____Reshape_83;\\n\\n  onnx____Reshape_84 [shape=box label=\\\"onnx____Reshape_84\\\" fontsize=10];\\n  Constant_67 [shape=box style=\\\"filled,rounded\\\" color=orange label=\\\"Constant\\n(Constant_67)\\nvalue=[-1  1]\\\" fontsize=10];\\n  Constant_67 -> onnx____Reshape_84;\\n\\n  onnx____GatherElements_85 [shape=box label=\\\"onnx____GatherElements_85\\\" fontsize=10];\\n  Reshape_68 [shape=box style=\\\"filled,rounded\\\" color=orange label=\\\"Reshape\\n(Reshape_68)\\nallowzero=0\\\" fontsize=10];\\n  onnx____Reshape_83 -> Reshape_68;\\n  onnx____Reshape_84 -> Reshape_68;\\n  Reshape_68 -> onnx____GatherElements_85;\\n\\n  onnx____Reshape_86 [shape=box label=\\\"onnx____Reshape_86\\\" fontsize=10];\\n  GatherElements_69 [shape=box style=\\\"filled,rounded\\\" color=orange label=\\\"GatherElements\\n(GatherElements_69)\\naxis=1\\\" fontsize=10];\\n  X -> GatherElements_69;\\n  onnx____GatherElements_85 -> GatherElements_69;\\n  GatherElements_69 -> onnx____Reshape_86;\\n\\n  onnx____Reshape_87 [shape=box label=\\\"onnx____Reshape_87\\\" fontsize=10];\\n  Constant_70 [shape=box style=\\\"filled,rounded\\\" color=orange label=\\\"Constant\\n(Constant_70)\\nvalue=[-1]\\\" fontsize=10];\\n  Constant_70 -> onnx____Reshape_87;\\n\\n  onnx____LessOrEqual_88 [shape=box label=\\\"onnx____LessOrEqual_88\\\" fontsize=10];\\n  Reshape_71 [shape=box style=\\\"filled,rounded\\\" color=orange label=\\\"Reshape\\n(Reshape_71)\\nallowzero=0\\\" fontsize=10];\\n  onnx____Reshape_86 -> Reshape_71;\\n  onnx____Reshape_87 -> Reshape_71;\\n  Reshape_71 -> onnx____LessOrEqual_88;\\n\\n  onnx____Mul_89 [shape=box label=\\\"onnx____Mul_89\\\" fontsize=10];\\n  Constant_72 [shape=box style=\\\"filled,rounded\\\" color=orange label=\\\"Constant\\n(Constant_72)\\nvalue=2\\\" fontsize=10];\\n  Constant_72 -> onnx____Mul_89;\\n\\n  onnx____Add_90 [shape=box label=\\\"onnx____Add_90\\\" fontsize=10];\\n  Mul_73 [shape=box style=\\\"filled,rounded\\\" color=orange label=\\\"Mul\\n(Mul_73)\\\" fontsize=10];\\n  onnx____Gather_82 -> Mul_73;\\n  onnx____Mul_89 -> Mul_73;\\n  Mul_73 -> onnx____Add_90;\\n\\n  onnx____LessOrEqual_91 [shape=box label=\\\"onnx____LessOrEqual_91\\\" fontsize=10];\\n  Gather_74 [shape=box style=\\\"filled,rounded\\\" color=orange label=\\\"Gather\\n(Gather_74)\\naxis=0\\\" fontsize=10];\\n  _operators_0_biases_5 -> Gather_74;\\n  onnx____Gather_82 -> Gather_74;\\n  Gather_74 -> onnx____LessOrEqual_91;\\n\\n  onnx____Cast_92 [shape=box label=\\\"onnx____Cast_92\\\" fontsize=10];\\n  LessOrEqual_75 [shape=box style=\\\"filled,rounded\\\" color=orange label=\\\"LessOrEqual\\n(LessOrEqual_75)\\\" fontsize=10];\\n  onnx____LessOrEqual_88 -> LessOrEqual_75;\\n  onnx____LessOrEqual_91 -> LessOrEqual_75;\\n  LessOrEqual_75 -> onnx____Cast_92;\\n\\n  onnx____Add_93 [shape=box label=\\\"onnx____Add_93\\\" fontsize=10];\\n  Cast_76 [shape=box style=\\\"filled,rounded\\\" color=orange label=\\\"Cast\\n(Cast_76)\\nto=7\\\" fontsize=10];\\n  onnx____Cast_92 -> Cast_76;\\n  Cast_76 -> onnx____Add_93;\\n\\n  onnx____Gather_94 [shape=box label=\\\"onnx____Gather_94\\\" fontsize=10];\\n  Add_77 [shape=box style=\\\"filled,rounded\\\" color=orange label=\\\"Add\\n(Add_77)\\\" fontsize=10];\\n  onnx____Add_90 -> Add_77;\\n  onnx____Add_93 -> Add_77;\\n  Add_77 -> onnx____Gather_94;\\n\\n  onnx____Reshape_95 [shape=box label=\\\"onnx____Reshape_95\\\" fontsize=10];\\n  Gather_78 [shape=box style=\\\"filled,rounded\\\" color=orange label=\\\"Gather\\n(Gather_78)\\naxis=0\\\" fontsize=10];\\n  _operators_0_leaf_nodes -> Gather_78;\\n  onnx____Gather_94 -> Gather_78;\\n  Gather_78 -> onnx____Reshape_95;\\n\\n  onnx____Reshape_96 [shape=box label=\\\"onnx____Reshape_96\\\" fontsize=10];\\n  Constant_79 [shape=box style=\\\"filled,rounded\\\" color=orange label=\\\"Constant\\n(Constant_79)\\nvalue=[-1  1  1]\\\" fontsize=10];\\n  Constant_79 -> onnx____Reshape_96;\\n\\n  output [shape=box label=\\\"output\\\" fontsize=10];\\n  Reshape_80 [shape=box style=\\\"filled,rounded\\\" color=orange label=\\\"Reshape\\n(Reshape_80)\\nallowzero=0\\\" fontsize=10];\\n  onnx____Reshape_95 -> Reshape_80;\\n  onnx____Reshape_96 -> Reshape_80;\\n  Reshape_80 -> output;\\n\\n  onnx____ReduceSum_98 [shape=box label=\\\"onnx____ReduceSum_98\\\" fontsize=10];\\n  Constant_81 [shape=box style=\\\"filled,rounded\\\" color=orange label=\\\"Constant\\n(Constant_81)\\nvalue=[1]\\\" fontsize=10];\\n  Constant_81 -> onnx____ReduceSum_98;\\n\\n  ReduceSum_82 [shape=box style=\\\"filled,rounded\\\" color=orange label=\\\"ReduceSum\\n(ReduceSum_82)\\nkeepdims=0\\\" fontsize=10];\\n  output -> ReduceSum_82;\\n  onnx____ReduceSum_98 -> ReduceSum_82;\\n  ReduceSum_82 -> variable;\\n}\");\n",
       "document.getElementById('M383513f79aa048579be42d593ab48485').innerHTML = svgGraph; });\n",
       "\n",
       "</script>"
      ],
      "text/plain": [
       "<jyquickhelper.jspy.render_nb_js_dot.RenderJsDot at 0x1ff466b22c0>"
      ]
     },
     "execution_count": 44,
     "metadata": {},
     "output_type": "execute_result"
    }
   ],
   "source": [
    "%onnxview onxh"
   ]
  },
  {
   "cell_type": "markdown",
   "id": "1edb6177",
   "metadata": {},
   "source": [
    "La librairie réimplémente la décision d'un arbre décision à partir d'un produit matriciel pour chaque niveau de l'arbre. Tous les seuils sont évalués. Les matrices n'ont pas besoin d'être sparses car les features nécessaires sont récupérées. Le seuil de décision est implémenté avec un test et non une sigmoïde. Ce modèle est donc identique en terme de prédiction au modèle initial."
   ]
  },
  {
   "cell_type": "code",
   "execution_count": 44,
   "id": "2220ca2e",
   "metadata": {},
   "outputs": [
    {
     "data": {
      "text/plain": [
       "1.7421041873949668"
      ]
     },
     "execution_count": 45,
     "metadata": {},
     "output_type": "execute_result"
    }
   ],
   "source": [
    "oinfh = OnnxInference(onxh, runtime=\"onnxruntime1\")\n",
    "expected = tree.predict(x_exp)\n",
    "\n",
    "got = oinfh.run({\"X\": x_exp.astype(numpy.float32)})[\"variable\"]\n",
    "numpy.abs(got - expected).max()"
   ]
  },
  {
   "cell_type": "markdown",
   "id": "10de2a80",
   "metadata": {},
   "source": [
    "La conversion reste imparfaite également."
   ]
  },
  {
   "cell_type": "code",
   "execution_count": 45,
   "id": "fd13b28b",
   "metadata": {},
   "outputs": [
    {
     "name": "stdout",
     "output_type": "stream",
     "text": [
      "3.13 ms ± 445 µs per loop (mean ± std. dev. of 7 runs, 100 loops each)\n"
     ]
    }
   ],
   "source": [
    "%timeit oinfh.run({'X': x_exp32})['variable']"
   ]
  },
  {
   "cell_type": "markdown",
   "id": "11a36a32",
   "metadata": {},
   "source": [
    "Et le temps de calcul est aussi plus long."
   ]
  },
  {
   "cell_type": "markdown",
   "id": "20afcc41",
   "metadata": {},
   "source": [
    "## Apprentissage\n",
    "\n",
    "L'idée derrière tout cela est aussi de pouvoir réestimer les coefficients du réseau de neurones une fois converti."
   ]
  },
  {
   "cell_type": "code",
   "execution_count": 46,
   "id": "96abfddb",
   "metadata": {},
   "outputs": [],
   "source": [
    "x_train = X_train[:100]\n",
    "expected = tree.predict(x_train)\n",
    "reg = NeuralTreeNetRegressor(trees[1], verbose=1, max_iter=10, lr=1e-4)"
   ]
  },
  {
   "cell_type": "code",
   "execution_count": 47,
   "id": "94dc4d66",
   "metadata": {},
   "outputs": [
    {
     "data": {
      "text/plain": [
       "(1.0246115055833722, 0.24094382754240642)"
      ]
     },
     "execution_count": 48,
     "metadata": {},
     "output_type": "execute_result"
    }
   ],
   "source": [
    "got = reg.predict(x_train)\n",
    "numpy.abs(got - expected).max(), numpy.abs(got - expected).mean()"
   ]
  },
  {
   "cell_type": "markdown",
   "id": "111970a1",
   "metadata": {},
   "source": [
    "La différence est grande."
   ]
  },
  {
   "cell_type": "code",
   "execution_count": 48,
   "id": "a50b3384",
   "metadata": {
    "scrolled": false
   },
   "outputs": [
    {
     "name": "stdout",
     "output_type": "stream",
     "text": [
      "0/10: loss: 3.201 lr=0.0001 max(coef): 6.5 l1=0/1.5e+03 l2=0/2.5e+03\n",
      "1/10: loss: 2.593 lr=9.95e-06 max(coef): 6.5 l1=2e+03/1.5e+03 l2=1.3e+03/2.5e+03\n",
      "2/10: loss: 2.506 lr=7.05e-06 max(coef): 6.5 l1=1.4e+02/1.5e+03 l2=6.2/2.5e+03\n",
      "3/10: loss: 2.461 lr=5.76e-06 max(coef): 6.5 l1=1.2e+03/1.5e+03 l2=6.8e+02/2.5e+03\n",
      "4/10: loss: 2.429 lr=4.99e-06 max(coef): 6.5 l1=6.5e+02/1.5e+03 l2=2.1e+02/2.5e+03\n",
      "5/10: loss: 2.405 lr=4.47e-06 max(coef): 6.5 l1=1.9e+02/1.5e+03 l2=13/2.5e+03\n",
      "6/10: loss: 2.392 lr=4.08e-06 max(coef): 6.5 l1=1.6e+02/1.5e+03 l2=6.8/2.5e+03\n",
      "7/10: loss: 2.375 lr=3.78e-06 max(coef): 6.5 l1=1.8e+02/1.5e+03 l2=9.5/2.5e+03\n",
      "8/10: loss: 2.358 lr=3.53e-06 max(coef): 6.5 l1=1.1e+02/1.5e+03 l2=7/2.5e+03\n",
      "9/10: loss: 2.345 lr=3.33e-06 max(coef): 6.5 l1=3.7e+02/1.5e+03 l2=56/2.5e+03\n",
      "10/10: loss: 2.333 lr=3.16e-06 max(coef): 6.5 l1=6.1e+02/1.5e+03 l2=1.3e+02/2.5e+03\n"
     ]
    },
    {
     "data": {
      "text/html": [
       "<style>#sk-container-id-2 {color: black;background-color: white;}#sk-container-id-2 pre{padding: 0;}#sk-container-id-2 div.sk-toggleable {background-color: white;}#sk-container-id-2 label.sk-toggleable__label {cursor: pointer;display: block;width: 100%;margin-bottom: 0;padding: 0.3em;box-sizing: border-box;text-align: center;}#sk-container-id-2 label.sk-toggleable__label-arrow:before {content: \"▸\";float: left;margin-right: 0.25em;color: #696969;}#sk-container-id-2 label.sk-toggleable__label-arrow:hover:before {color: black;}#sk-container-id-2 div.sk-estimator:hover label.sk-toggleable__label-arrow:before {color: black;}#sk-container-id-2 div.sk-toggleable__content {max-height: 0;max-width: 0;overflow: hidden;text-align: left;background-color: #f0f8ff;}#sk-container-id-2 div.sk-toggleable__content pre {margin: 0.2em;color: black;border-radius: 0.25em;background-color: #f0f8ff;}#sk-container-id-2 input.sk-toggleable__control:checked~div.sk-toggleable__content {max-height: 200px;max-width: 100%;overflow: auto;}#sk-container-id-2 input.sk-toggleable__control:checked~label.sk-toggleable__label-arrow:before {content: \"▾\";}#sk-container-id-2 div.sk-estimator input.sk-toggleable__control:checked~label.sk-toggleable__label {background-color: #d4ebff;}#sk-container-id-2 div.sk-label input.sk-toggleable__control:checked~label.sk-toggleable__label {background-color: #d4ebff;}#sk-container-id-2 input.sk-hidden--visually {border: 0;clip: rect(1px 1px 1px 1px);clip: rect(1px, 1px, 1px, 1px);height: 1px;margin: -1px;overflow: hidden;padding: 0;position: absolute;width: 1px;}#sk-container-id-2 div.sk-estimator {font-family: monospace;background-color: #f0f8ff;border: 1px dotted black;border-radius: 0.25em;box-sizing: border-box;margin-bottom: 0.5em;}#sk-container-id-2 div.sk-estimator:hover {background-color: #d4ebff;}#sk-container-id-2 div.sk-parallel-item::after {content: \"\";width: 100%;border-bottom: 1px solid gray;flex-grow: 1;}#sk-container-id-2 div.sk-label:hover label.sk-toggleable__label {background-color: #d4ebff;}#sk-container-id-2 div.sk-serial::before {content: \"\";position: absolute;border-left: 1px solid gray;box-sizing: border-box;top: 0;bottom: 0;left: 50%;z-index: 0;}#sk-container-id-2 div.sk-serial {display: flex;flex-direction: column;align-items: center;background-color: white;padding-right: 0.2em;padding-left: 0.2em;position: relative;}#sk-container-id-2 div.sk-item {position: relative;z-index: 1;}#sk-container-id-2 div.sk-parallel {display: flex;align-items: stretch;justify-content: center;background-color: white;position: relative;}#sk-container-id-2 div.sk-item::before, #sk-container-id-2 div.sk-parallel-item::before {content: \"\";position: absolute;border-left: 1px solid gray;box-sizing: border-box;top: 0;bottom: 0;left: 50%;z-index: -1;}#sk-container-id-2 div.sk-parallel-item {display: flex;flex-direction: column;z-index: 1;position: relative;background-color: white;}#sk-container-id-2 div.sk-parallel-item:first-child::after {align-self: flex-end;width: 50%;}#sk-container-id-2 div.sk-parallel-item:last-child::after {align-self: flex-start;width: 50%;}#sk-container-id-2 div.sk-parallel-item:only-child::after {width: 0;}#sk-container-id-2 div.sk-dashed-wrapped {border: 1px dashed gray;margin: 0 0.4em 0.5em 0.4em;box-sizing: border-box;padding-bottom: 0.4em;background-color: white;}#sk-container-id-2 div.sk-label label {font-family: monospace;font-weight: bold;display: inline-block;line-height: 1.2em;}#sk-container-id-2 div.sk-label-container {text-align: center;}#sk-container-id-2 div.sk-container {/* jupyter's `normalize.less` sets `[hidden] { display: none; }` but bootstrap.min.css set `[hidden] { display: none !important; }` so we also need the `!important` here to be able to override the default hidden behavior on the sphinx rendered scikit-learn.org. See: https://github.com/scikit-learn/scikit-learn/issues/21755 */display: inline-block !important;position: relative;}#sk-container-id-2 div.sk-text-repr-fallback {display: none;}</style><div id=\"sk-container-id-2\" class=\"sk-top-container\"><div class=\"sk-text-repr-fallback\"><pre>NeuralTreeNetRegressor(estimator=None, lr=0.0001, max_iter=10, verbose=1)</pre><b>In a Jupyter environment, please rerun this cell to show the HTML representation or trust the notebook. <br />On GitHub, the HTML representation is unable to render, please try loading this page with nbviewer.org.</b></div><div class=\"sk-container\" hidden><div class=\"sk-item\"><div class=\"sk-estimator sk-toggleable\"><input class=\"sk-toggleable__control sk-hidden--visually\" id=\"sk-estimator-id-2\" type=\"checkbox\" checked><label for=\"sk-estimator-id-2\" class=\"sk-toggleable__label sk-toggleable__label-arrow\">NeuralTreeNetRegressor</label><div class=\"sk-toggleable__content\"><pre>NeuralTreeNetRegressor(estimator=None, lr=0.0001, max_iter=10, verbose=1)</pre></div></div></div></div></div>"
      ],
      "text/plain": [
       "NeuralTreeNetRegressor(estimator=None, lr=0.0001, max_iter=10, verbose=1)"
      ]
     },
     "execution_count": 49,
     "metadata": {},
     "output_type": "execute_result"
    }
   ],
   "source": [
    "reg.fit(x_train, expected)"
   ]
  },
  {
   "cell_type": "code",
   "execution_count": 49,
   "id": "c3ae49b2",
   "metadata": {},
   "outputs": [
    {
     "data": {
      "text/plain": [
       "(1.256860512819292, 0.25663312220721907)"
      ]
     },
     "execution_count": 50,
     "metadata": {},
     "output_type": "execute_result"
    }
   ],
   "source": [
    "got = reg.predict(x_train)\n",
    "numpy.abs(got - expected).max(), numpy.abs(got - expected).mean()"
   ]
  },
  {
   "cell_type": "markdown",
   "id": "831e538f",
   "metadata": {},
   "source": [
    "Ca ne marche pas aussi bien que prévu. Il faudrait sans doute plusieurs itérations et jouer avec les paramètres d'apprentissage."
   ]
  },
  {
   "cell_type": "code",
   "execution_count": 50,
   "id": "6cfe39bd",
   "metadata": {},
   "outputs": [],
   "source": []
  }
 ],
 "metadata": {
  "kernelspec": {
   "display_name": "Python 3 (ipykernel)",
   "language": "python",
   "name": "python3"
  },
  "language_info": {
   "codemirror_mode": {
    "name": "ipython",
    "version": 3
   },
   "file_extension": ".py",
   "mimetype": "text/x-python",
   "name": "python",
   "nbconvert_exporter": "python",
   "pygments_lexer": "ipython3",
   "version": "3.10.5"
  }
 },
 "nbformat": 4,
 "nbformat_minor": 5
}
