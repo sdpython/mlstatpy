{
  "cells": [
    {
      "cell_type": "markdown",
      "id": "4b855db5",
      "metadata": {},
      "source": [
        "# NeuralTreeNet and ONNX\n",
        "\n",
        "La conversion d'un arbre de d\u00e9cision au format ONNX peut cr\u00e9er des diff\u00e9rences entre le mod\u00e8le original et le mod\u00e8le converti (voir [Issues when switching to float](http://www.xavierdupre.fr/app/onnxcustom/helpsphinx/gyexamples/plot_ebegin_float_double.html). Le probl\u00e8me vient d'un changement de type, les seuils de d\u00e9cisions sont arrondis au float32 le plus proche de leur valeur en float64 (double). Qu'advient-il si l'arbre de d\u00e9cision est converti en r\u00e9seau de neurones d'abord.\n",
        "\n",
        "L'approximation des seuils de d\u00e9cision ne change pas grand chose dans la majorit\u00e9 des cas. Cependant, il est possible que la comparaison d'une variable \u00e0 un seuil de d\u00e9cision arrondi soit l'oppos\u00e9 de celle avec le seuil non arrondi. Dans ce cas, la d\u00e9cision suit un chemin diff\u00e9rent dans l'arbre."
      ]
    },
    {
      "cell_type": "code",
      "execution_count": 1,
      "id": "636a122a",
      "metadata": {},
      "outputs": [
        {
          "data": {
            "text/html": [
              "<div id=\"my_id_menu_nb\">run previous cell, wait for 2 seconds</div>\n",
              "<script>\n",
              "function repeat_indent_string(n){\n",
              "    var a = \"\" ;\n",
              "    for ( ; n > 0 ; --n)\n",
              "        a += \"    \";\n",
              "    return a;\n",
              "}\n",
              "// look up into all sections and builds an automated menu //\n",
              "var update_menu_string = function(begin, lfirst, llast, sformat, send, keep_item, begin_format, end_format) {\n",
              "    var anchors = document.getElementsByClassName(\"section\");\n",
              "    if (anchors.length == 0) {\n",
              "        anchors = document.getElementsByClassName(\"text_cell_render rendered_html\");\n",
              "    }\n",
              "    var i,t;\n",
              "    var text_menu = begin;\n",
              "    var text_memo = \"<pre>\\nlength:\" + anchors.length + \"\\n\";\n",
              "    var ind = \"\";\n",
              "    var memo_level = 1;\n",
              "    var href;\n",
              "    var tags = [];\n",
              "    var main_item = 0;\n",
              "    var format_open = 0;\n",
              "    for (i = 0; i <= llast; i++)\n",
              "        tags.push(\"h\" + i);\n",
              "\n",
              "    for (i = 0; i < anchors.length; i++) {\n",
              "        text_memo += \"**\" + anchors[i].id + \"--\\n\";\n",
              "\n",
              "        var child = null;\n",
              "        for(t = 0; t < tags.length; t++) {\n",
              "            var r = anchors[i].getElementsByTagName(tags[t]);\n",
              "            if (r.length > 0) {\n",
              "child = r[0];\n",
              "break;\n",
              "            }\n",
              "        }\n",
              "        if (child == null) {\n",
              "            text_memo += \"null\\n\";\n",
              "            continue;\n",
              "        }\n",
              "        if (anchors[i].hasAttribute(\"id\")) {\n",
              "            // when converted in RST\n",
              "            href = anchors[i].id;\n",
              "            text_memo += \"#1-\" + href;\n",
              "            // passer \u00e0 child suivant (le chercher)\n",
              "        }\n",
              "        else if (child.hasAttribute(\"id\")) {\n",
              "            // in a notebook\n",
              "            href = child.id;\n",
              "            text_memo += \"#2-\" + href;\n",
              "        }\n",
              "        else {\n",
              "            text_memo += \"#3-\" + \"*\" + \"\\n\";\n",
              "            continue;\n",
              "        }\n",
              "        var title = child.textContent;\n",
              "        var level = parseInt(child.tagName.substring(1,2));\n",
              "\n",
              "        text_memo += \"--\" + level + \"?\" + lfirst + \"--\" + title + \"\\n\";\n",
              "\n",
              "        if ((level < lfirst) || (level > llast)) {\n",
              "            continue ;\n",
              "        }\n",
              "        if (title.endsWith('\u00b6')) {\n",
              "            title = title.substring(0,title.length-1).replace(\"<\", \"&lt;\")\n",
              "         .replace(\">\", \"&gt;\").replace(\"&\", \"&amp;\");\n",
              "        }\n",
              "        if (title.length == 0) {\n",
              "            continue;\n",
              "        }\n",
              "\n",
              "        while (level < memo_level) {\n",
              "            text_menu += end_format + \"</ul>\\n\";\n",
              "            format_open -= 1;\n",
              "            memo_level -= 1;\n",
              "        }\n",
              "        if (level == lfirst) {\n",
              "            main_item += 1;\n",
              "        }\n",
              "        if (keep_item != -1 && main_item != keep_item + 1) {\n",
              "            // alert(main_item + \" - \" + level + \" - \" + keep_item);\n",
              "            continue;\n",
              "        }\n",
              "        while (level > memo_level) {\n",
              "            text_menu += \"<ul>\\n\";\n",
              "            memo_level += 1;\n",
              "        }\n",
              "        text_menu += repeat_indent_string(level-2);\n",
              "        text_menu += begin_format + sformat.replace(\"__HREF__\", href).replace(\"__TITLE__\", title);\n",
              "        format_open += 1;\n",
              "    }\n",
              "    while (1 < memo_level) {\n",
              "        text_menu += end_format + \"</ul>\\n\";\n",
              "        memo_level -= 1;\n",
              "        format_open -= 1;\n",
              "    }\n",
              "    text_menu += send;\n",
              "    //text_menu += \"\\n\" + text_memo;\n",
              "\n",
              "    while (format_open > 0) {\n",
              "        text_menu += end_format;\n",
              "        format_open -= 1;\n",
              "    }\n",
              "    return text_menu;\n",
              "};\n",
              "var update_menu = function() {\n",
              "    var sbegin = \"\";\n",
              "    var sformat = '<a href=\"#__HREF__\">__TITLE__</a>';\n",
              "    var send = \"\";\n",
              "    var begin_format = '<li>';\n",
              "    var end_format = '</li>';\n",
              "    var keep_item = -1;\n",
              "    var text_menu = update_menu_string(sbegin, 2, 4, sformat, send, keep_item,\n",
              "       begin_format, end_format);\n",
              "    var menu = document.getElementById(\"my_id_menu_nb\");\n",
              "    menu.innerHTML=text_menu;\n",
              "};\n",
              "window.setTimeout(update_menu,2000);\n",
              "            </script>"
            ],
            "text/plain": [
              "<IPython.core.display.HTML object>"
            ]
          },
          "execution_count": 2,
          "metadata": {},
          "output_type": "execute_result"
        }
      ],
      "source": [
        "from jyquickhelper import add_notebook_menu\n",
        "add_notebook_menu()"
      ]
    },
    {
      "cell_type": "code",
      "execution_count": 2,
      "id": "2f698cc0",
      "metadata": {},
      "outputs": [],
      "source": [
        "%matplotlib inline"
      ]
    },
    {
      "cell_type": "markdown",
      "id": "c7b2fb41",
      "metadata": {},
      "source": [
        "## Jeu de donn\u00e9es\n",
        "\n",
        "On construit un jeu de donn\u00e9e al\u00e9atoire."
      ]
    },
    {
      "cell_type": "code",
      "execution_count": 3,
      "id": "a8feffa5",
      "metadata": {},
      "outputs": [],
      "source": [
        "import numpy\n",
        "\n",
        "X = numpy.random.randn(10000, 10)\n",
        "y = X.sum(axis=1) / X.shape[1] + numpy.random.randn(X.shape[0]) / 2000\n",
        "X = X.astype(numpy.float64)\n",
        "y = y.astype(numpy.float64)"
      ]
    },
    {
      "cell_type": "code",
      "execution_count": 4,
      "id": "3c854905",
      "metadata": {},
      "outputs": [],
      "source": [
        "middle = X.shape[0] // 2\n",
        "X_train, X_test = X[:middle], X[middle:]\n",
        "y_train, y_test = y[:middle], y[middle:]"
      ]
    },
    {
      "cell_type": "markdown",
      "id": "2a19a0c1",
      "metadata": {},
      "source": [
        "## Caler un arbre de d\u00e9cision"
      ]
    },
    {
      "cell_type": "code",
      "execution_count": 5,
      "id": "bfc49123",
      "metadata": {},
      "outputs": [
        {
          "data": {
            "text/plain": [
              "(0.8703013749822193, 0.416418893707294)"
            ]
          },
          "execution_count": 6,
          "metadata": {},
          "output_type": "execute_result"
        }
      ],
      "source": [
        "from sklearn.tree import DecisionTreeRegressor\n",
        "\n",
        "tree = DecisionTreeRegressor(max_depth=10)\n",
        "tree.fit(X_train, y_train)\n",
        "tree.score(X_train, y_train), tree.score(X_test, y_test)"
      ]
    },
    {
      "cell_type": "code",
      "execution_count": 6,
      "id": "a38b0426",
      "metadata": {},
      "outputs": [
        {
          "data": {
            "text/plain": [
              "0.416418893707294"
            ]
          },
          "execution_count": 7,
          "metadata": {},
          "output_type": "execute_result"
        }
      ],
      "source": [
        "from sklearn.metrics import r2_score\n",
        "r2_score(y_test, tree.predict(X_test))"
      ]
    },
    {
      "cell_type": "markdown",
      "id": "8e6038ff",
      "metadata": {},
      "source": [
        "## Conversion au format ONNX"
      ]
    },
    {
      "cell_type": "code",
      "execution_count": 7,
      "id": "f6849a2d",
      "metadata": {},
      "outputs": [],
      "source": [
        "from mlprodict.onnx_conv import to_onnx\n",
        "\n",
        "onx = to_onnx(tree, X[:1].astype(numpy.float32))"
      ]
    },
    {
      "cell_type": "code",
      "execution_count": 8,
      "id": "3daf9db1",
      "metadata": {},
      "outputs": [
        {
          "data": {
            "text/plain": [
              "2.035147748808148"
            ]
          },
          "execution_count": 9,
          "metadata": {},
          "output_type": "execute_result"
        }
      ],
      "source": [
        "from mlprodict.onnxrt import OnnxInference\n",
        "\n",
        "x_exp = X_test\n",
        "\n",
        "oinf = OnnxInference(onx, runtime='onnxruntime1')\n",
        "expected = tree.predict(x_exp)\n",
        "got = oinf.run({'X': x_exp.astype(numpy.float32)})['variable']\n",
        "numpy.abs(got - expected).max()"
      ]
    },
    {
      "cell_type": "code",
      "execution_count": 9,
      "id": "7ce247da",
      "metadata": {},
      "outputs": [],
      "source": []
    },
    {
      "cell_type": "code",
      "execution_count": 10,
      "id": "e2b093d9",
      "metadata": {},
      "outputs": [],
      "source": []
    }
  ],
  "metadata": {
    "kernelspec": {
      "display_name": "Python 3 (ipykernel)",
      "language": "python",
      "name": "python3"
    },
    "language_info": {
      "codemirror_mode": {
        "name": "ipython",
        "version": 3
      },
      "file_extension": ".py",
      "mimetype": "text/x-python",
      "name": "python",
      "nbconvert_exporter": "python",
      "pygments_lexer": "ipython3",
      "version": "3.10.5"
    }
  },
  "nbformat": 4,
  "nbformat_minor": 5
}