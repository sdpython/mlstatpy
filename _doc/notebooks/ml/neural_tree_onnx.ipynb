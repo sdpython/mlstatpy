{
 "cells": [
  {
   "cell_type": "markdown",
   "id": "4b855db5",
   "metadata": {},
   "source": [
    "# NeuralTreeNet et ONNX\n",
    "\n",
    "La conversion d'un arbre de décision au format ONNX peut créer des différences entre le modèle original et le modèle converti (voir [Issues when switching to float](https://onnx.ai/sklearn-onnx/auto_tutorial/plot_ebegin_float_double.html). Le problème vient d'un changement de type, les seuils de décisions sont arrondis au float32 le plus proche de leur valeur en float64 (double). Qu'advient-il si l'arbre de décision est converti en réseau de neurones d'abord.\n",
    "\n",
    "L'approximation des seuils de décision ne change pas grand chose dans la majorité des cas. Cependant, il est possible que la comparaison d'une variable à un seuil de décision arrondi soit l'opposé de celle avec le seuil non arrondi. Dans ce cas, la décision suit un chemin différent dans l'arbre."
   ]
  },
  {
   "cell_type": "code",
   "execution_count": 48,
   "id": "2f698cc0",
   "metadata": {},
   "outputs": [],
   "source": [
    "%matplotlib inline"
   ]
  },
  {
   "cell_type": "markdown",
   "id": "c7b2fb41",
   "metadata": {},
   "source": [
    "## Jeu de données\n",
    "\n",
    "On construit un jeu de donnée aléatoire."
   ]
  },
  {
   "cell_type": "code",
   "execution_count": 49,
   "id": "a8feffa5",
   "metadata": {},
   "outputs": [],
   "source": [
    "import numpy\n",
    "\n",
    "X = numpy.random.randn(10000, 10)\n",
    "y = X.sum(axis=1) / X.shape[1]\n",
    "X = X.astype(numpy.float64)\n",
    "y = y.astype(numpy.float64)"
   ]
  },
  {
   "cell_type": "code",
   "execution_count": 50,
   "id": "3c854905",
   "metadata": {},
   "outputs": [],
   "source": [
    "middle = X.shape[0] // 2\n",
    "X_train, X_test = X[:middle], X[middle:]\n",
    "y_train, y_test = y[:middle], y[middle:]"
   ]
  },
  {
   "cell_type": "markdown",
   "id": "2972ef7f",
   "metadata": {},
   "source": [
    "## Partie scikit-learn"
   ]
  },
  {
   "cell_type": "markdown",
   "id": "2a19a0c1",
   "metadata": {},
   "source": [
    "### Caler un arbre de décision"
   ]
  },
  {
   "cell_type": "code",
   "execution_count": 51,
   "id": "bfc49123",
   "metadata": {},
   "outputs": [
    {
     "data": {
      "text/plain": [
       "(0.618779473874829, 0.38661000086182784)"
      ]
     },
     "execution_count": 51,
     "metadata": {},
     "output_type": "execute_result"
    }
   ],
   "source": [
    "from sklearn.tree import DecisionTreeRegressor\n",
    "\n",
    "tree = DecisionTreeRegressor(max_depth=7)\n",
    "tree.fit(X_train, y_train)\n",
    "tree.score(X_train, y_train), tree.score(X_test, y_test)"
   ]
  },
  {
   "cell_type": "code",
   "execution_count": 52,
   "id": "a38b0426",
   "metadata": {},
   "outputs": [
    {
     "data": {
      "text/plain": [
       "0.38661000086182784"
      ]
     },
     "execution_count": 52,
     "metadata": {},
     "output_type": "execute_result"
    }
   ],
   "source": [
    "from sklearn.metrics import r2_score\n",
    "\n",
    "r2_score(y_test, tree.predict(X_test))"
   ]
  },
  {
   "cell_type": "markdown",
   "id": "86a0f0a3",
   "metadata": {},
   "source": [
    "La profondeur de l'arbre est insuffisante mais ce n'est pas ce qui nous intéresse ici."
   ]
  },
  {
   "cell_type": "markdown",
   "id": "8e6038ff",
   "metadata": {},
   "source": [
    "### Conversion au format ONNX"
   ]
  },
  {
   "cell_type": "code",
   "execution_count": 53,
   "id": "f6849a2d",
   "metadata": {},
   "outputs": [],
   "source": [
    "from skl2onnx import to_onnx\n",
    "\n",
    "onx = to_onnx(tree, X[:1].astype(numpy.float32))"
   ]
  },
  {
   "cell_type": "code",
   "execution_count": 54,
   "id": "3daf9db1",
   "metadata": {},
   "outputs": [
    {
     "data": {
      "text/plain": [
       "np.float64(1.4748302929273112)"
      ]
     },
     "execution_count": 54,
     "metadata": {},
     "output_type": "execute_result"
    }
   ],
   "source": [
    "from onnxruntime import InferenceSession\n",
    "\n",
    "x_exp = X_test\n",
    "\n",
    "oinf = InferenceSession(onx.SerializeToString())\n",
    "expected = tree.predict(x_exp)\n",
    "\n",
    "got = oinf.run(None, {\"X\": x_exp.astype(numpy.float32)})[0]\n",
    "numpy.abs(got - expected).max()"
   ]
  },
  {
   "cell_type": "code",
   "execution_count": 55,
   "id": "7ce247da",
   "metadata": {
    "scrolled": false
   },
   "outputs": [
    {
     "name": "stdout",
     "output_type": "stream",
     "text": [
      "opset: domain='ai.onnx.ml' version=1\n",
      "opset: domain='' version=21\n",
      "input: name='X' type=dtype('float32') shape=['', 10]\n",
      "TreeEnsembleRegressor(X, n_targets=1, nodes_falsenodeids=255:[128,65,34...254,0,0], nodes_featureids=255:[8,4,5...8,0,0], nodes_hitrates=255:[1.0,1.0...1.0,1.0], nodes_missing_value_tracks_true=255:[0,0,0...0,0,0], nodes_modes=255:[b'BRANCH_LEQ',b'BRANCH_LEQ'...b'LEAF',b'LEAF'], nodes_nodeids=255:[0,1,2...252,253,254], nodes_treeids=255:[0,0,0...0,0,0], nodes_truenodeids=255:[1,2,3...253,0,0], nodes_values=255:[-0.002677354495972395,-0.16326862573623657...0.0,0.0], post_transform=b'NONE', target_ids=128:[0,0,0...0,0,0], target_nodeids=128:[7,8,10...251,253,254], target_treeids=128:[0,0,0...0,0,0], target_weights=128:[-0.7625784277915955,-0.5277675986289978...0.5070647597312927,0.7122518420219421]) -> variable\n",
      "output: name='variable' type=dtype('float32') shape=['', 1]\n"
     ]
    }
   ],
   "source": [
    "from onnx_array_api.plotting.text_plot import onnx_simple_text_plot\n",
    "\n",
    "print(onnx_simple_text_plot(onx))"
   ]
  },
  {
   "cell_type": "markdown",
   "id": "1ada8e37",
   "metadata": {},
   "source": [
    "## Après la conversion en un réseau de neurones"
   ]
  },
  {
   "cell_type": "markdown",
   "id": "7238d09b",
   "metadata": {},
   "source": [
    "### Conversion en un réseau de neurones\n",
    "\n",
    "Un paramètre permet de faire varier la pente des fonctions sigmoïdes utilisées."
   ]
  },
  {
   "cell_type": "code",
   "execution_count": 56,
   "id": "7729c242",
   "metadata": {},
   "outputs": [
    {
     "name": "stderr",
     "output_type": "stream",
     "text": [
      "  0%|          | 0/18 [00:00<?, ?it/s]"
     ]
    },
    {
     "name": "stderr",
     "output_type": "stream",
     "text": [
      "100%|██████████| 18/18 [00:00<00:00, 29.67it/s]\n"
     ]
    }
   ],
   "source": [
    "from tqdm import tqdm\n",
    "from pandas import DataFrame\n",
    "from mlstatpy.ml.neural_tree import NeuralTreeNet\n",
    "\n",
    "xe = x_exp[:500]\n",
    "expected = tree.predict(xe)\n",
    "\n",
    "data = []\n",
    "trees = {}\n",
    "for i in tqdm([0.3, 0.4, 0.5, 0.7, 0.9, 1] + list(range(5, 61, 5))):\n",
    "    root = NeuralTreeNet.create_from_tree(tree, k=i, arch=\"compact\")\n",
    "    got = root.predict(xe)[:, -1]\n",
    "    me = numpy.abs(got - expected).mean()\n",
    "    mx = numpy.abs(got - expected).max()\n",
    "    obs = dict(k=i, max=mx, mean=me)\n",
    "    data.append(obs)\n",
    "    trees[i] = root"
   ]
  },
  {
   "cell_type": "code",
   "execution_count": 57,
   "id": "9d35377e",
   "metadata": {},
   "outputs": [
    {
     "data": {
      "text/html": [
       "<div>\n",
       "<style scoped>\n",
       "    .dataframe tbody tr th:only-of-type {\n",
       "        vertical-align: middle;\n",
       "    }\n",
       "\n",
       "    .dataframe tbody tr th {\n",
       "        vertical-align: top;\n",
       "    }\n",
       "\n",
       "    .dataframe thead th {\n",
       "        text-align: right;\n",
       "    }\n",
       "</style>\n",
       "<table border=\"1\" class=\"dataframe\">\n",
       "  <thead>\n",
       "    <tr style=\"text-align: right;\">\n",
       "      <th></th>\n",
       "      <th>k</th>\n",
       "      <th>max</th>\n",
       "      <th>mean</th>\n",
       "    </tr>\n",
       "  </thead>\n",
       "  <tbody>\n",
       "    <tr>\n",
       "      <th>0</th>\n",
       "      <td>0.3</td>\n",
       "      <td>0.608627</td>\n",
       "      <td>0.184665</td>\n",
       "    </tr>\n",
       "    <tr>\n",
       "      <th>1</th>\n",
       "      <td>0.4</td>\n",
       "      <td>0.512055</td>\n",
       "      <td>0.134114</td>\n",
       "    </tr>\n",
       "    <tr>\n",
       "      <th>2</th>\n",
       "      <td>0.5</td>\n",
       "      <td>0.589569</td>\n",
       "      <td>0.127825</td>\n",
       "    </tr>\n",
       "    <tr>\n",
       "      <th>3</th>\n",
       "      <td>0.7</td>\n",
       "      <td>0.656907</td>\n",
       "      <td>0.129821</td>\n",
       "    </tr>\n",
       "    <tr>\n",
       "      <th>4</th>\n",
       "      <td>0.9</td>\n",
       "      <td>0.678652</td>\n",
       "      <td>0.126351</td>\n",
       "    </tr>\n",
       "    <tr>\n",
       "      <th>5</th>\n",
       "      <td>1.0</td>\n",
       "      <td>0.682859</td>\n",
       "      <td>0.122856</td>\n",
       "    </tr>\n",
       "    <tr>\n",
       "      <th>6</th>\n",
       "      <td>5.0</td>\n",
       "      <td>0.642153</td>\n",
       "      <td>0.017346</td>\n",
       "    </tr>\n",
       "    <tr>\n",
       "      <th>7</th>\n",
       "      <td>10.0</td>\n",
       "      <td>0.285482</td>\n",
       "      <td>0.004404</td>\n",
       "    </tr>\n",
       "    <tr>\n",
       "      <th>8</th>\n",
       "      <td>15.0</td>\n",
       "      <td>0.228076</td>\n",
       "      <td>0.001954</td>\n",
       "    </tr>\n",
       "    <tr>\n",
       "      <th>9</th>\n",
       "      <td>20.0</td>\n",
       "      <td>0.193608</td>\n",
       "      <td>0.000996</td>\n",
       "    </tr>\n",
       "    <tr>\n",
       "      <th>10</th>\n",
       "      <td>25.0</td>\n",
       "      <td>0.113368</td>\n",
       "      <td>0.000424</td>\n",
       "    </tr>\n",
       "    <tr>\n",
       "      <th>11</th>\n",
       "      <td>30.0</td>\n",
       "      <td>0.113368</td>\n",
       "      <td>0.000324</td>\n",
       "    </tr>\n",
       "    <tr>\n",
       "      <th>12</th>\n",
       "      <td>35.0</td>\n",
       "      <td>0.113368</td>\n",
       "      <td>0.000278</td>\n",
       "    </tr>\n",
       "    <tr>\n",
       "      <th>13</th>\n",
       "      <td>40.0</td>\n",
       "      <td>0.113367</td>\n",
       "      <td>0.000252</td>\n",
       "    </tr>\n",
       "    <tr>\n",
       "      <th>14</th>\n",
       "      <td>45.0</td>\n",
       "      <td>0.113361</td>\n",
       "      <td>0.000238</td>\n",
       "    </tr>\n",
       "    <tr>\n",
       "      <th>15</th>\n",
       "      <td>50.0</td>\n",
       "      <td>0.113318</td>\n",
       "      <td>0.000231</td>\n",
       "    </tr>\n",
       "    <tr>\n",
       "      <th>16</th>\n",
       "      <td>55.0</td>\n",
       "      <td>0.113074</td>\n",
       "      <td>0.000228</td>\n",
       "    </tr>\n",
       "    <tr>\n",
       "      <th>17</th>\n",
       "      <td>60.0</td>\n",
       "      <td>0.111955</td>\n",
       "      <td>0.000224</td>\n",
       "    </tr>\n",
       "  </tbody>\n",
       "</table>\n",
       "</div>"
      ],
      "text/plain": [
       "       k       max      mean\n",
       "0    0.3  0.608627  0.184665\n",
       "1    0.4  0.512055  0.134114\n",
       "2    0.5  0.589569  0.127825\n",
       "3    0.7  0.656907  0.129821\n",
       "4    0.9  0.678652  0.126351\n",
       "5    1.0  0.682859  0.122856\n",
       "6    5.0  0.642153  0.017346\n",
       "7   10.0  0.285482  0.004404\n",
       "8   15.0  0.228076  0.001954\n",
       "9   20.0  0.193608  0.000996\n",
       "10  25.0  0.113368  0.000424\n",
       "11  30.0  0.113368  0.000324\n",
       "12  35.0  0.113368  0.000278\n",
       "13  40.0  0.113367  0.000252\n",
       "14  45.0  0.113361  0.000238\n",
       "15  50.0  0.113318  0.000231\n",
       "16  55.0  0.113074  0.000228\n",
       "17  60.0  0.111955  0.000224"
      ]
     },
     "execution_count": 57,
     "metadata": {},
     "output_type": "execute_result"
    }
   ],
   "source": [
    "df = DataFrame(data)\n",
    "df"
   ]
  },
  {
   "cell_type": "code",
   "execution_count": 58,
   "id": "0fcb9789",
   "metadata": {},
   "outputs": [
    {
     "data": {
      "image/png": "[encoded data removed]",
      "text/plain": [
       "<Figure size 640x480 with 1 Axes>"
      ]
     },
     "metadata": {},
     "output_type": "display_data"
    }
   ],
   "source": [
    "df.set_index(\"k\").plot(title=\"Précision de la conversion\\nen réseau de neurones\");"
   ]
  },
  {
   "cell_type": "markdown",
   "id": "1f4bb3d9",
   "metadata": {},
   "source": [
    "L'erreur est meilleure mais il faudrait recommencer l'expérience plusieurs fois avant de pouvoir conclure afin d'obtenir un interval de confiance pour le même type de jeu de données. Ce sera pour une autre fois. Le résultat dépend du jeu de données et surtout de la proximité des seuils de décisions. Néanmoins, on calcule l'erreur sur l'ensemble de la base de test. Celle-ci a été tronquée pour aller plus vite."
   ]
  },
  {
   "cell_type": "code",
   "execution_count": 59,
   "id": "2f3eb6d0",
   "metadata": {},
   "outputs": [
    {
     "data": {
      "text/plain": [
       "(np.float64(0.19684418355179628), np.float64(0.0001876957464482374))"
      ]
     },
     "execution_count": 59,
     "metadata": {},
     "output_type": "execute_result"
    }
   ],
   "source": [
    "expected = tree.predict(x_exp)\n",
    "got = trees[50].predict(x_exp)[:, -1]\n",
    "numpy.abs(got - expected).max(), numpy.abs(got - expected).mean()"
   ]
  },
  {
   "cell_type": "markdown",
   "id": "77163512",
   "metadata": {},
   "source": [
    "On voit que l'erreur peut-être très grande. Elle reste néanmoins plus petite que l'erreur de conversion introduite par ONNX."
   ]
  },
  {
   "cell_type": "markdown",
   "id": "738c8547",
   "metadata": {},
   "source": [
    "### Conversion au format ONNX\n",
    "\n",
    "On crée tout d'abord une classe qui suit l'API de scikit-learn et qui englobe l'arbre qui vient d'être créé qui sera ensuite convertit en ONNX."
   ]
  },
  {
   "cell_type": "code",
   "execution_count": 60,
   "id": "2439e4fa",
   "metadata": {},
   "outputs": [],
   "source": [
    "from mlstatpy.ml.neural_tree import NeuralTreeNetRegressor\n",
    "\n",
    "reg = NeuralTreeNetRegressor(trees[50])\n",
    "onx2 = to_onnx(reg, X[:1].astype(numpy.float32))"
   ]
  },
  {
   "cell_type": "code",
   "execution_count": 61,
   "id": "eae47e6a",
   "metadata": {},
   "outputs": [
    {
     "name": "stdout",
     "output_type": "stream",
     "text": [
      "opset: domain='' version=21\n",
      "input: name='X' type=dtype('float32') shape=['', 10]\n",
      "init: name='Ma_MatMulcst' type=dtype('float32') shape=(10, 127)\n",
      "init: name='Ad_Addcst' type=dtype('float32') shape=(127,)\n",
      "init: name='Mu_Mulcst' type=dtype('float32') shape=(1,) -- array([4.], dtype=float32)\n",
      "init: name='Ma_MatMulcst1' type=dtype('float32') shape=(127, 128)\n",
      "init: name='Ad_Addcst1' type=dtype('float32') shape=(128,)\n",
      "init: name='Ma_MatMulcst2' type=dtype('float32') shape=(128, 1)\n",
      "init: name='Ad_Addcst2' type=dtype('float32') shape=(1,) -- array([0.], dtype=float32)\n",
      "MatMul(X, Ma_MatMulcst) -> Ma_Y02\n",
      "  Add(Ma_Y02, Ad_Addcst) -> Ad_C02\n",
      "    Mul(Ad_C02, Mu_Mulcst) -> Mu_C01\n",
      "      Sigmoid(Mu_C01) -> Si_Y01\n",
      "        MatMul(Si_Y01, Ma_MatMulcst1) -> Ma_Y01\n",
      "          Add(Ma_Y01, Ad_Addcst1) -> Ad_C01\n",
      "            Mul(Ad_C01, Mu_Mulcst) -> Mu_C0\n",
      "              Sigmoid(Mu_C0) -> Si_Y0\n",
      "                MatMul(Si_Y0, Ma_MatMulcst2) -> Ma_Y0\n",
      "                  Add(Ma_Y0, Ad_Addcst2) -> Ad_C0\n",
      "                    Identity(Ad_C0) -> variable\n",
      "output: name='variable' type=dtype('float32') shape=['', 1]\n"
     ]
    }
   ],
   "source": [
    "print(onnx_simple_text_plot(onx2))"
   ]
  },
  {
   "cell_type": "code",
   "execution_count": 62,
   "id": "1d4e272f",
   "metadata": {},
   "outputs": [
    {
     "data": {
      "text/plain": [
       "np.float64(1.4748302929273112)"
      ]
     },
     "execution_count": 62,
     "metadata": {},
     "output_type": "execute_result"
    }
   ],
   "source": [
    "oinf2 = InferenceSession(\n",
    "    onx2.SerializePartialToString(), providers=[\"CPUExecutionProvider\"]\n",
    ")\n",
    "expected = tree.predict(x_exp)\n",
    "\n",
    "got = oinf2.run([\"variable\"], {\"X\": x_exp.astype(numpy.float32)})[0]\n",
    "numpy.abs(got - expected).max()"
   ]
  },
  {
   "cell_type": "markdown",
   "id": "f4e64f63",
   "metadata": {},
   "source": [
    "L'erreur est la même."
   ]
  },
  {
   "cell_type": "markdown",
   "id": "c9207392",
   "metadata": {},
   "source": [
    "## Temps de calcul"
   ]
  },
  {
   "cell_type": "code",
   "execution_count": 63,
   "id": "a6febd37",
   "metadata": {},
   "outputs": [],
   "source": [
    "x_exp32 = x_exp.astype(numpy.float32)"
   ]
  },
  {
   "cell_type": "markdown",
   "id": "1bf0109e",
   "metadata": {},
   "source": [
    "Tout d'abord le temps de calcul pour scikit-learn."
   ]
  },
  {
   "cell_type": "code",
   "execution_count": 64,
   "id": "07caad53",
   "metadata": {},
   "outputs": [
    {
     "name": "stdout",
     "output_type": "stream",
     "text": [
      "485 μs ± 15.9 μs per loop (mean ± std. dev. of 7 runs, 1,000 loops each)\n"
     ]
    }
   ],
   "source": [
    "%timeit tree.predict(x_exp32)"
   ]
  },
  {
   "cell_type": "markdown",
   "id": "0cea5139",
   "metadata": {},
   "source": [
    "Le temps de calcul pour l'arbre de décision au format ONNX."
   ]
  },
  {
   "cell_type": "code",
   "execution_count": 65,
   "id": "984413fa",
   "metadata": {},
   "outputs": [
    {
     "name": "stdout",
     "output_type": "stream",
     "text": [
      "39.8 μs ± 4.37 μs per loop (mean ± std. dev. of 7 runs, 10,000 loops each)\n"
     ]
    }
   ],
   "source": [
    "%timeit oinf.run(None, {'X': x_exp32})[0]"
   ]
  },
  {
   "cell_type": "markdown",
   "id": "afb4f6bb",
   "metadata": {},
   "source": [
    "Et le temps de calcul pour le réseau de neurones au format ONNX.m"
   ]
  },
  {
   "cell_type": "code",
   "execution_count": 66,
   "id": "e3268dcd",
   "metadata": {},
   "outputs": [
    {
     "name": "stdout",
     "output_type": "stream",
     "text": [
      "1.23 ms ± 57.6 μs per loop (mean ± std. dev. of 7 runs, 100 loops each)\n"
     ]
    }
   ],
   "source": [
    "%timeit oinf2.run(None, {'X': x_exp32})[0]"
   ]
  },
  {
   "cell_type": "markdown",
   "id": "b3eafba0",
   "metadata": {},
   "source": [
    "Ce temps de calcul très long est attendu car le modèle contient une multiplication de matrice très grande et surtout que tous les seuils de l'arbre sont calculés pour chaque observation. Là où l'implémentation de l'arbre de décision calcule *d* seuils, la profondeur de l'arbre, la nouvelle implémentation calcule tous les seuils soit $2^d$ pour chaque feuille. Il y a $2^d$ feuilles. Même en étant sparse, on peut réduire les calculs à $d * 2^d$ ce qui fait encore beaucoup de calculs inutiles."
   ]
  },
  {
   "cell_type": "code",
   "execution_count": 67,
   "id": "d9911fff",
   "metadata": {},
   "outputs": [
    {
     "name": "stdout",
     "output_type": "stream",
     "text": [
      "(127, 11) (127,)\n",
      "(128, 128) (128,)\n",
      "(129,) ()\n"
     ]
    }
   ],
   "source": [
    "for node in trees[50].nodes:\n",
    "    print(node.coef.shape, node.bias.shape)"
   ]
  },
  {
   "cell_type": "markdown",
   "id": "27e187ac",
   "metadata": {},
   "source": [
    "Cela dit, la plus grande matrice est creuse, elle peut être réduite considérablement."
   ]
  },
  {
   "cell_type": "code",
   "execution_count": 68,
   "id": "e97479fe",
   "metadata": {},
   "outputs": [
    {
     "name": "stdout",
     "output_type": "stream",
     "text": [
      "coef.shape=(127, 11), size dense=1397, size sparse=254, ratio=0.18181818181818182\n",
      "coef.shape=(128, 128), size dense=16384, size sparse=1024, ratio=0.0625\n",
      "coef.shape=(129,), size dense=129, size sparse=128, ratio=0.9922480620155039\n"
     ]
    }
   ],
   "source": [
    "from scipy.sparse import csr_matrix\n",
    "\n",
    "for node in trees[50].nodes:\n",
    "    csr = csr_matrix(node.coef)\n",
    "    print(\n",
    "        f\"coef.shape={node.coef.shape}, size dense={node.coef.size}, \"\n",
    "        f\"size sparse={csr.size}, ratio={csr.size / node.coef.size}\"\n",
    "    )"
   ]
  },
  {
   "cell_type": "code",
   "execution_count": 69,
   "id": "125547d9",
   "metadata": {},
   "outputs": [
    {
     "name": "stdout",
     "output_type": "stream",
     "text": [
      "4.47 μs ± 236 ns per loop (mean ± std. dev. of 7 runs, 100,000 loops each)\n"
     ]
    }
   ],
   "source": [
    "r = numpy.random.randn(trees[50].nodes[1].coef.shape[0])\n",
    "mat = trees[50].nodes[1].coef\n",
    "%timeit mat @ r"
   ]
  },
  {
   "cell_type": "code",
   "execution_count": 70,
   "id": "ad7173e5",
   "metadata": {},
   "outputs": [
    {
     "name": "stdout",
     "output_type": "stream",
     "text": [
      "6.33 μs ± 289 ns per loop (mean ± std. dev. of 7 runs, 100,000 loops each)\n"
     ]
    }
   ],
   "source": [
    "csr = csr_matrix(mat)\n",
    "%timeit csr @ r"
   ]
  },
  {
   "cell_type": "markdown",
   "id": "7599d94e",
   "metadata": {},
   "source": [
    "Ce serait beaucoup plus rapide avec une matrice sparse et d'autant plus rapide que l'arbre est profond. Le modèle ONNX se décompose comme suit."
   ]
  },
  {
   "cell_type": "code",
   "execution_count": 71,
   "id": "0c1839fd",
   "metadata": {},
   "outputs": [
    {
     "name": "stdout",
     "output_type": "stream",
     "text": [
      "opset: domain='' version=21\n",
      "input: name='X' type=dtype('float32') shape=['', 10]\n",
      "init: name='Ma_MatMulcst' type=dtype('float32') shape=(10, 127)\n",
      "init: name='Ad_Addcst' type=dtype('float32') shape=(127,)\n",
      "init: name='Mu_Mulcst' type=dtype('float32') shape=(1,) -- array([4.], dtype=float32)\n",
      "init: name='Ma_MatMulcst1' type=dtype('float32') shape=(127, 128)\n",
      "init: name='Ad_Addcst1' type=dtype('float32') shape=(128,)\n",
      "init: name='Ma_MatMulcst2' type=dtype('float32') shape=(128, 1)\n",
      "init: name='Ad_Addcst2' type=dtype('float32') shape=(1,) -- array([0.], dtype=float32)\n",
      "MatMul(X, Ma_MatMulcst) -> Ma_Y02\n",
      "  Add(Ma_Y02, Ad_Addcst) -> Ad_C02\n",
      "    Mul(Ad_C02, Mu_Mulcst) -> Mu_C01\n",
      "      Sigmoid(Mu_C01) -> Si_Y01\n",
      "        MatMul(Si_Y01, Ma_MatMulcst1) -> Ma_Y01\n",
      "          Add(Ma_Y01, Ad_Addcst1) -> Ad_C01\n",
      "            Mul(Ad_C01, Mu_Mulcst) -> Mu_C0\n",
      "              Sigmoid(Mu_C0) -> Si_Y0\n",
      "                MatMul(Si_Y0, Ma_MatMulcst2) -> Ma_Y0\n",
      "                  Add(Ma_Y0, Ad_Addcst2) -> Ad_C0\n",
      "                    Identity(Ad_C0) -> variable\n",
      "output: name='variable' type=dtype('float32') shape=['', 1]\n"
     ]
    }
   ],
   "source": [
    "print(onnx_simple_text_plot(onx2))"
   ]
  },
  {
   "cell_type": "markdown",
   "id": "318b95d7",
   "metadata": {},
   "source": [
    "Voyons comment le temps de calcul se répartit."
   ]
  },
  {
   "cell_type": "code",
   "execution_count": 73,
   "id": "11bccd22",
   "metadata": {},
   "outputs": [],
   "source": [
    "from onnxruntime import InferenceSession, SessionOptions\n",
    "from onnx_extended.tools.js_profile import js_profile_to_dataframe\n",
    "\n",
    "sess_options = SessionOptions()\n",
    "sess_options.enable_profiling = True\n",
    "\n",
    "sess = InferenceSession(\n",
    "    onx2.SerializeToString(), sess_options, providers=[\"CPUExecutionProvider\"]\n",
    ")\n",
    "for i in range(43):\n",
    "    sess.run(None, {\"X\": x_exp32})\n",
    "\n",
    "prof = sess.end_profiling()"
   ]
  },
  {
   "cell_type": "code",
   "execution_count": 74,
   "id": "5485970b",
   "metadata": {},
   "outputs": [
    {
     "data": {
      "text/html": [
       "<div>\n",
       "<style scoped>\n",
       "    .dataframe tbody tr th:only-of-type {\n",
       "        vertical-align: middle;\n",
       "    }\n",
       "\n",
       "    .dataframe tbody tr th {\n",
       "        vertical-align: top;\n",
       "    }\n",
       "\n",
       "    .dataframe thead th {\n",
       "        text-align: right;\n",
       "    }\n",
       "</style>\n",
       "<table border=\"1\" class=\"dataframe\">\n",
       "  <thead>\n",
       "    <tr style=\"text-align: right;\">\n",
       "      <th></th>\n",
       "      <th>cat</th>\n",
       "      <th>pid</th>\n",
       "      <th>tid</th>\n",
       "      <th>dur</th>\n",
       "      <th>ts</th>\n",
       "      <th>ph</th>\n",
       "      <th>name</th>\n",
       "      <th>args_op_name</th>\n",
       "      <th>op_name</th>\n",
       "      <th>args_thread_scheduling_stats</th>\n",
       "      <th>args_output_size</th>\n",
       "      <th>args_parameter_size</th>\n",
       "      <th>args_activation_size</th>\n",
       "      <th>args_node_index</th>\n",
       "      <th>args_provider</th>\n",
       "      <th>event_name</th>\n",
       "      <th>iteration</th>\n",
       "      <th>it==0</th>\n",
       "    </tr>\n",
       "  </thead>\n",
       "  <tbody>\n",
       "    <tr>\n",
       "      <th>0</th>\n",
       "      <td>Session</td>\n",
       "      <td>32438</td>\n",
       "      <td>32438</td>\n",
       "      <td>511</td>\n",
       "      <td>9</td>\n",
       "      <td>X</td>\n",
       "      <td>model_loading_array</td>\n",
       "      <td>NaN</td>\n",
       "      <td>NaN</td>\n",
       "      <td>NaN</td>\n",
       "      <td>NaN</td>\n",
       "      <td>NaN</td>\n",
       "      <td>NaN</td>\n",
       "      <td>NaN</td>\n",
       "      <td>NaN</td>\n",
       "      <td>model_loading_array</td>\n",
       "      <td>-1</td>\n",
       "      <td>1</td>\n",
       "    </tr>\n",
       "    <tr>\n",
       "      <th>1</th>\n",
       "      <td>Session</td>\n",
       "      <td>32438</td>\n",
       "      <td>32438</td>\n",
       "      <td>1851</td>\n",
       "      <td>2693</td>\n",
       "      <td>X</td>\n",
       "      <td>session_initialization</td>\n",
       "      <td>NaN</td>\n",
       "      <td>NaN</td>\n",
       "      <td>NaN</td>\n",
       "      <td>NaN</td>\n",
       "      <td>NaN</td>\n",
       "      <td>NaN</td>\n",
       "      <td>NaN</td>\n",
       "      <td>NaN</td>\n",
       "      <td>session_initialization</td>\n",
       "      <td>-1</td>\n",
       "      <td>1</td>\n",
       "    </tr>\n",
       "    <tr>\n",
       "      <th>2</th>\n",
       "      <td>Node</td>\n",
       "      <td>32438</td>\n",
       "      <td>32438</td>\n",
       "      <td>0</td>\n",
       "      <td>8036</td>\n",
       "      <td>X</td>\n",
       "      <td>Ma_MatMul/MatMulAddFusion/_fence_before</td>\n",
       "      <td>Gemm</td>\n",
       "      <td>Ma_MatMul/MatMulAddFusion/</td>\n",
       "      <td>NaN</td>\n",
       "      <td>NaN</td>\n",
       "      <td>NaN</td>\n",
       "      <td>NaN</td>\n",
       "      <td>NaN</td>\n",
       "      <td>NaN</td>\n",
       "      <td>fence_before</td>\n",
       "      <td>-1</td>\n",
       "      <td>1</td>\n",
       "    </tr>\n",
       "    <tr>\n",
       "      <th>3</th>\n",
       "      <td>Node</td>\n",
       "      <td>32438</td>\n",
       "      <td>32438</td>\n",
       "      <td>632</td>\n",
       "      <td>8043</td>\n",
       "      <td>X</td>\n",
       "      <td>Ma_MatMul/MatMulAddFusion/_kernel_time</td>\n",
       "      <td>Gemm</td>\n",
       "      <td>Ma_MatMul/MatMulAddFusion/</td>\n",
       "      <td>{'main_thread': {'thread_pool_name': 'session-...</td>\n",
       "      <td>2540000</td>\n",
       "      <td>508</td>\n",
       "      <td>200000</td>\n",
       "      <td>11</td>\n",
       "      <td>CPUExecutionProvider</td>\n",
       "      <td>kernel_time</td>\n",
       "      <td>-1</td>\n",
       "      <td>1</td>\n",
       "    </tr>\n",
       "    <tr>\n",
       "      <th>4</th>\n",
       "      <td>Node</td>\n",
       "      <td>32438</td>\n",
       "      <td>32438</td>\n",
       "      <td>0</td>\n",
       "      <td>8687</td>\n",
       "      <td>X</td>\n",
       "      <td>Ma_MatMul/MatMulAddFusion/_fence_after</td>\n",
       "      <td>Gemm</td>\n",
       "      <td>Ma_MatMul/MatMulAddFusion/</td>\n",
       "      <td>NaN</td>\n",
       "      <td>NaN</td>\n",
       "      <td>NaN</td>\n",
       "      <td>NaN</td>\n",
       "      <td>NaN</td>\n",
       "      <td>NaN</td>\n",
       "      <td>fence_after</td>\n",
       "      <td>-1</td>\n",
       "      <td>1</td>\n",
       "    </tr>\n",
       "    <tr>\n",
       "      <th>...</th>\n",
       "      <td>...</td>\n",
       "      <td>...</td>\n",
       "      <td>...</td>\n",
       "      <td>...</td>\n",
       "      <td>...</td>\n",
       "      <td>...</td>\n",
       "      <td>...</td>\n",
       "      <td>...</td>\n",
       "      <td>...</td>\n",
       "      <td>...</td>\n",
       "      <td>...</td>\n",
       "      <td>...</td>\n",
       "      <td>...</td>\n",
       "      <td>...</td>\n",
       "      <td>...</td>\n",
       "      <td>...</td>\n",
       "      <td>...</td>\n",
       "      <td>...</td>\n",
       "    </tr>\n",
       "    <tr>\n",
       "      <th>986</th>\n",
       "      <td>Node</td>\n",
       "      <td>32438</td>\n",
       "      <td>32438</td>\n",
       "      <td>0</td>\n",
       "      <td>175317</td>\n",
       "      <td>X</td>\n",
       "      <td>Ma_MatMul2_fence_before</td>\n",
       "      <td>MatMul</td>\n",
       "      <td>Ma_MatMul2</td>\n",
       "      <td>NaN</td>\n",
       "      <td>NaN</td>\n",
       "      <td>NaN</td>\n",
       "      <td>NaN</td>\n",
       "      <td>NaN</td>\n",
       "      <td>NaN</td>\n",
       "      <td>fence_before</td>\n",
       "      <td>41</td>\n",
       "      <td>0</td>\n",
       "    </tr>\n",
       "    <tr>\n",
       "      <th>987</th>\n",
       "      <td>Node</td>\n",
       "      <td>32438</td>\n",
       "      <td>32438</td>\n",
       "      <td>77</td>\n",
       "      <td>175318</td>\n",
       "      <td>X</td>\n",
       "      <td>Ma_MatMul2_kernel_time</td>\n",
       "      <td>MatMul</td>\n",
       "      <td>Ma_MatMul2</td>\n",
       "      <td>{'main_thread': {'thread_pool_name': 'session-...</td>\n",
       "      <td>20000</td>\n",
       "      <td>0</td>\n",
       "      <td>2560000</td>\n",
       "      <td>8</td>\n",
       "      <td>CPUExecutionProvider</td>\n",
       "      <td>kernel_time</td>\n",
       "      <td>41</td>\n",
       "      <td>0</td>\n",
       "    </tr>\n",
       "    <tr>\n",
       "      <th>988</th>\n",
       "      <td>Node</td>\n",
       "      <td>32438</td>\n",
       "      <td>32438</td>\n",
       "      <td>0</td>\n",
       "      <td>175401</td>\n",
       "      <td>X</td>\n",
       "      <td>Ma_MatMul2_fence_after</td>\n",
       "      <td>MatMul</td>\n",
       "      <td>Ma_MatMul2</td>\n",
       "      <td>NaN</td>\n",
       "      <td>NaN</td>\n",
       "      <td>NaN</td>\n",
       "      <td>NaN</td>\n",
       "      <td>NaN</td>\n",
       "      <td>NaN</td>\n",
       "      <td>fence_after</td>\n",
       "      <td>41</td>\n",
       "      <td>0</td>\n",
       "    </tr>\n",
       "    <tr>\n",
       "      <th>989</th>\n",
       "      <td>Session</td>\n",
       "      <td>32438</td>\n",
       "      <td>32438</td>\n",
       "      <td>1448</td>\n",
       "      <td>173955</td>\n",
       "      <td>X</td>\n",
       "      <td>SequentialExecutor::Execute</td>\n",
       "      <td>NaN</td>\n",
       "      <td>NaN</td>\n",
       "      <td>NaN</td>\n",
       "      <td>NaN</td>\n",
       "      <td>NaN</td>\n",
       "      <td>NaN</td>\n",
       "      <td>NaN</td>\n",
       "      <td>NaN</td>\n",
       "      <td>SequentialExecutor::Execute</td>\n",
       "      <td>42</td>\n",
       "      <td>0</td>\n",
       "    </tr>\n",
       "    <tr>\n",
       "      <th>990</th>\n",
       "      <td>Session</td>\n",
       "      <td>32438</td>\n",
       "      <td>32438</td>\n",
       "      <td>1458</td>\n",
       "      <td>173948</td>\n",
       "      <td>X</td>\n",
       "      <td>model_run</td>\n",
       "      <td>NaN</td>\n",
       "      <td>NaN</td>\n",
       "      <td>NaN</td>\n",
       "      <td>NaN</td>\n",
       "      <td>NaN</td>\n",
       "      <td>NaN</td>\n",
       "      <td>NaN</td>\n",
       "      <td>NaN</td>\n",
       "      <td>model_run</td>\n",
       "      <td>42</td>\n",
       "      <td>0</td>\n",
       "    </tr>\n",
       "  </tbody>\n",
       "</table>\n",
       "<p>991 rows × 18 columns</p>\n",
       "</div>"
      ],
      "text/plain": [
       "         cat    pid    tid   dur      ts ph  \\\n",
       "0    Session  32438  32438   511       9  X   \n",
       "1    Session  32438  32438  1851    2693  X   \n",
       "2       Node  32438  32438     0    8036  X   \n",
       "3       Node  32438  32438   632    8043  X   \n",
       "4       Node  32438  32438     0    8687  X   \n",
       "..       ...    ...    ...   ...     ... ..   \n",
       "986     Node  32438  32438     0  175317  X   \n",
       "987     Node  32438  32438    77  175318  X   \n",
       "988     Node  32438  32438     0  175401  X   \n",
       "989  Session  32438  32438  1448  173955  X   \n",
       "990  Session  32438  32438  1458  173948  X   \n",
       "\n",
       "                                        name args_op_name  \\\n",
       "0                        model_loading_array          NaN   \n",
       "1                     session_initialization          NaN   \n",
       "2    Ma_MatMul/MatMulAddFusion/_fence_before         Gemm   \n",
       "3     Ma_MatMul/MatMulAddFusion/_kernel_time         Gemm   \n",
       "4     Ma_MatMul/MatMulAddFusion/_fence_after         Gemm   \n",
       "..                                       ...          ...   \n",
       "986                  Ma_MatMul2_fence_before       MatMul   \n",
       "987                   Ma_MatMul2_kernel_time       MatMul   \n",
       "988                   Ma_MatMul2_fence_after       MatMul   \n",
       "989              SequentialExecutor::Execute          NaN   \n",
       "990                                model_run          NaN   \n",
       "\n",
       "                        op_name  \\\n",
       "0                           NaN   \n",
       "1                           NaN   \n",
       "2    Ma_MatMul/MatMulAddFusion/   \n",
       "3    Ma_MatMul/MatMulAddFusion/   \n",
       "4    Ma_MatMul/MatMulAddFusion/   \n",
       "..                          ...   \n",
       "986                  Ma_MatMul2   \n",
       "987                  Ma_MatMul2   \n",
       "988                  Ma_MatMul2   \n",
       "989                         NaN   \n",
       "990                         NaN   \n",
       "\n",
       "                          args_thread_scheduling_stats args_output_size  \\\n",
       "0                                                  NaN              NaN   \n",
       "1                                                  NaN              NaN   \n",
       "2                                                  NaN              NaN   \n",
       "3    {'main_thread': {'thread_pool_name': 'session-...          2540000   \n",
       "4                                                  NaN              NaN   \n",
       "..                                                 ...              ...   \n",
       "986                                                NaN              NaN   \n",
       "987  {'main_thread': {'thread_pool_name': 'session-...            20000   \n",
       "988                                                NaN              NaN   \n",
       "989                                                NaN              NaN   \n",
       "990                                                NaN              NaN   \n",
       "\n",
       "    args_parameter_size args_activation_size args_node_index  \\\n",
       "0                   NaN                  NaN             NaN   \n",
       "1                   NaN                  NaN             NaN   \n",
       "2                   NaN                  NaN             NaN   \n",
       "3                   508               200000              11   \n",
       "4                   NaN                  NaN             NaN   \n",
       "..                  ...                  ...             ...   \n",
       "986                 NaN                  NaN             NaN   \n",
       "987                   0              2560000               8   \n",
       "988                 NaN                  NaN             NaN   \n",
       "989                 NaN                  NaN             NaN   \n",
       "990                 NaN                  NaN             NaN   \n",
       "\n",
       "            args_provider                   event_name  iteration  it==0  \n",
       "0                     NaN          model_loading_array         -1      1  \n",
       "1                     NaN       session_initialization         -1      1  \n",
       "2                     NaN                 fence_before         -1      1  \n",
       "3    CPUExecutionProvider                  kernel_time         -1      1  \n",
       "4                     NaN                  fence_after         -1      1  \n",
       "..                    ...                          ...        ...    ...  \n",
       "986                   NaN                 fence_before         41      0  \n",
       "987  CPUExecutionProvider                  kernel_time         41      0  \n",
       "988                   NaN                  fence_after         41      0  \n",
       "989                   NaN  SequentialExecutor::Execute         42      0  \n",
       "990                   NaN                    model_run         42      0  \n",
       "\n",
       "[991 rows x 18 columns]"
      ]
     },
     "execution_count": 74,
     "metadata": {},
     "output_type": "execute_result"
    }
   ],
   "source": [
    "df = js_profile_to_dataframe(prof, first_it_out=True)\n",
    "df"
   ]
  },
  {
   "cell_type": "code",
   "execution_count": 75,
   "id": "19bb5d0f",
   "metadata": {},
   "outputs": [
    {
     "data": {
      "text/plain": [
       "{'CPUExecutionProvider', nan}"
      ]
     },
     "execution_count": 75,
     "metadata": {},
     "output_type": "execute_result"
    }
   ],
   "source": [
    "set(df[\"args_provider\"])"
   ]
  },
  {
   "cell_type": "code",
   "execution_count": 76,
   "id": "e42d5644",
   "metadata": {},
   "outputs": [
    {
     "data": {
      "text/html": [
       "<div>\n",
       "<style scoped>\n",
       "    .dataframe tbody tr th:only-of-type {\n",
       "        vertical-align: middle;\n",
       "    }\n",
       "\n",
       "    .dataframe tbody tr th {\n",
       "        vertical-align: top;\n",
       "    }\n",
       "\n",
       "    .dataframe thead th {\n",
       "        text-align: right;\n",
       "    }\n",
       "</style>\n",
       "<table border=\"1\" class=\"dataframe\">\n",
       "  <thead>\n",
       "    <tr style=\"text-align: right;\">\n",
       "      <th></th>\n",
       "      <th></th>\n",
       "      <th>dur</th>\n",
       "    </tr>\n",
       "    <tr>\n",
       "      <th>args_op_name</th>\n",
       "      <th>name</th>\n",
       "      <th></th>\n",
       "    </tr>\n",
       "  </thead>\n",
       "  <tbody>\n",
       "    <tr>\n",
       "      <th rowspan=\"2\" valign=\"top\">Sigmoid</th>\n",
       "      <th>Si_Sigmoid1</th>\n",
       "      <td>5304</td>\n",
       "    </tr>\n",
       "    <tr>\n",
       "      <th>Si_Sigmoid</th>\n",
       "      <td>5461</td>\n",
       "    </tr>\n",
       "    <tr>\n",
       "      <th rowspan=\"2\" valign=\"top\">Mul</th>\n",
       "      <th>Mu_Mul</th>\n",
       "      <td>8087</td>\n",
       "    </tr>\n",
       "    <tr>\n",
       "      <th>Mu_Mul1</th>\n",
       "      <td>9945</td>\n",
       "    </tr>\n",
       "    <tr>\n",
       "      <th>MatMul</th>\n",
       "      <th>Ma_MatMul2</th>\n",
       "      <td>9952</td>\n",
       "    </tr>\n",
       "    <tr>\n",
       "      <th rowspan=\"2\" valign=\"top\">Gemm</th>\n",
       "      <th>Ma_MatMul/MatMulAddFusion/</th>\n",
       "      <td>16856</td>\n",
       "    </tr>\n",
       "    <tr>\n",
       "      <th>Ma_MatMul1/MatMulAddFusion/</th>\n",
       "      <td>103444</td>\n",
       "    </tr>\n",
       "  </tbody>\n",
       "</table>\n",
       "</div>"
      ],
      "text/plain": [
       "                                             dur\n",
       "args_op_name name                               \n",
       "Sigmoid      Si_Sigmoid1                    5304\n",
       "             Si_Sigmoid                     5461\n",
       "Mul          Mu_Mul                         8087\n",
       "             Mu_Mul1                        9945\n",
       "MatMul       Ma_MatMul2                     9952\n",
       "Gemm         Ma_MatMul/MatMulAddFusion/    16856\n",
       "             Ma_MatMul1/MatMulAddFusion/  103444"
      ]
     },
     "execution_count": 76,
     "metadata": {},
     "output_type": "execute_result"
    }
   ],
   "source": [
    "dfp = df[df.args_provider == \"CPUExecutionProvider\"].copy()\n",
    "dfp[\"name\"] = dfp[\"name\"].apply(lambda s: s.replace(\"_kernel_time\", \"\"))\n",
    "gr_dur = (\n",
    "    dfp[[\"dur\", \"args_op_name\", \"name\"]]\n",
    "    .groupby([\"args_op_name\", \"name\"])\n",
    "    .sum()\n",
    "    .sort_values(\"dur\")\n",
    ")\n",
    "gr_dur"
   ]
  },
  {
   "cell_type": "code",
   "execution_count": 77,
   "id": "34b33616",
   "metadata": {},
   "outputs": [
    {
     "data": {
      "text/html": [
       "<div>\n",
       "<style scoped>\n",
       "    .dataframe tbody tr th:only-of-type {\n",
       "        vertical-align: middle;\n",
       "    }\n",
       "\n",
       "    .dataframe tbody tr th {\n",
       "        vertical-align: top;\n",
       "    }\n",
       "\n",
       "    .dataframe thead th {\n",
       "        text-align: right;\n",
       "    }\n",
       "</style>\n",
       "<table border=\"1\" class=\"dataframe\">\n",
       "  <thead>\n",
       "    <tr style=\"text-align: right;\">\n",
       "      <th></th>\n",
       "      <th></th>\n",
       "      <th>dur</th>\n",
       "    </tr>\n",
       "    <tr>\n",
       "      <th>args_op_name</th>\n",
       "      <th>name</th>\n",
       "      <th></th>\n",
       "    </tr>\n",
       "  </thead>\n",
       "  <tbody>\n",
       "    <tr>\n",
       "      <th rowspan=\"2\" valign=\"top\">Sigmoid</th>\n",
       "      <th>Si_Sigmoid1</th>\n",
       "      <td>43</td>\n",
       "    </tr>\n",
       "    <tr>\n",
       "      <th>Si_Sigmoid</th>\n",
       "      <td>43</td>\n",
       "    </tr>\n",
       "    <tr>\n",
       "      <th rowspan=\"2\" valign=\"top\">Mul</th>\n",
       "      <th>Mu_Mul</th>\n",
       "      <td>43</td>\n",
       "    </tr>\n",
       "    <tr>\n",
       "      <th>Mu_Mul1</th>\n",
       "      <td>43</td>\n",
       "    </tr>\n",
       "    <tr>\n",
       "      <th>MatMul</th>\n",
       "      <th>Ma_MatMul2</th>\n",
       "      <td>43</td>\n",
       "    </tr>\n",
       "    <tr>\n",
       "      <th rowspan=\"2\" valign=\"top\">Gemm</th>\n",
       "      <th>Ma_MatMul/MatMulAddFusion/</th>\n",
       "      <td>43</td>\n",
       "    </tr>\n",
       "    <tr>\n",
       "      <th>Ma_MatMul1/MatMulAddFusion/</th>\n",
       "      <td>43</td>\n",
       "    </tr>\n",
       "  </tbody>\n",
       "</table>\n",
       "</div>"
      ],
      "text/plain": [
       "                                          dur\n",
       "args_op_name name                            \n",
       "Sigmoid      Si_Sigmoid1                   43\n",
       "             Si_Sigmoid                    43\n",
       "Mul          Mu_Mul                        43\n",
       "             Mu_Mul1                       43\n",
       "MatMul       Ma_MatMul2                    43\n",
       "Gemm         Ma_MatMul/MatMulAddFusion/    43\n",
       "             Ma_MatMul1/MatMulAddFusion/   43"
      ]
     },
     "execution_count": 77,
     "metadata": {},
     "output_type": "execute_result"
    }
   ],
   "source": [
    "gr_n = (\n",
    "    dfp[[\"dur\", \"args_op_name\", \"name\"]]\n",
    "    .groupby([\"args_op_name\", \"name\"])\n",
    "    .count()\n",
    "    .sort_values(\"dur\")\n",
    ")\n",
    "gr_n = gr_n.loc[gr_dur.index, :]\n",
    "gr_n"
   ]
  },
  {
   "cell_type": "code",
   "execution_count": 78,
   "id": "f34b2908",
   "metadata": {},
   "outputs": [
    {
     "data": {
      "image/png": "[encoded data removed]",
      "text/plain": [
       "<Figure size 1200x400 with 2 Axes>"
      ]
     },
     "metadata": {},
     "output_type": "display_data"
    }
   ],
   "source": [
    "import matplotlib.pyplot as plt\n",
    "\n",
    "fig, ax = plt.subplots(1, 2, figsize=(12, 4))\n",
    "gr_dur.plot.barh(ax=ax[0])\n",
    "gr_n.plot.barh(ax=ax[1])\n",
    "ax[0].set_title(\"duration\")\n",
    "ax[1].set_title(\"n occurences\");"
   ]
  },
  {
   "cell_type": "markdown",
   "id": "7b10ca8a",
   "metadata": {},
   "source": [
    "onnxruntime passe principalement son temps dans un produit matriciel. On vérifie plus précisément."
   ]
  },
  {
   "cell_type": "code",
   "execution_count": 79,
   "id": "4cbc2fa0",
   "metadata": {},
   "outputs": [
    {
     "data": {
      "text/html": [
       "<div>\n",
       "<style scoped>\n",
       "    .dataframe tbody tr th:only-of-type {\n",
       "        vertical-align: middle;\n",
       "    }\n",
       "\n",
       "    .dataframe tbody tr th {\n",
       "        vertical-align: top;\n",
       "    }\n",
       "\n",
       "    .dataframe thead th {\n",
       "        text-align: right;\n",
       "    }\n",
       "</style>\n",
       "<table border=\"1\" class=\"dataframe\">\n",
       "  <thead>\n",
       "    <tr style=\"text-align: right;\">\n",
       "      <th></th>\n",
       "      <th>541</th>\n",
       "      <th>564</th>\n",
       "    </tr>\n",
       "  </thead>\n",
       "  <tbody>\n",
       "    <tr>\n",
       "      <th>cat</th>\n",
       "      <td>Node</td>\n",
       "      <td>Node</td>\n",
       "    </tr>\n",
       "    <tr>\n",
       "      <th>pid</th>\n",
       "      <td>32438</td>\n",
       "      <td>32438</td>\n",
       "    </tr>\n",
       "    <tr>\n",
       "      <th>tid</th>\n",
       "      <td>32438</td>\n",
       "      <td>32438</td>\n",
       "    </tr>\n",
       "    <tr>\n",
       "      <th>dur</th>\n",
       "      <td>27614</td>\n",
       "      <td>10836</td>\n",
       "    </tr>\n",
       "    <tr>\n",
       "      <th>ts</th>\n",
       "      <td>85208</td>\n",
       "      <td>116118</td>\n",
       "    </tr>\n",
       "    <tr>\n",
       "      <th>ph</th>\n",
       "      <td>X</td>\n",
       "      <td>X</td>\n",
       "    </tr>\n",
       "    <tr>\n",
       "      <th>name</th>\n",
       "      <td>Ma_MatMul1/MatMulAddFusion/_kernel_time</td>\n",
       "      <td>Ma_MatMul1/MatMulAddFusion/_kernel_time</td>\n",
       "    </tr>\n",
       "    <tr>\n",
       "      <th>args_op_name</th>\n",
       "      <td>Gemm</td>\n",
       "      <td>Gemm</td>\n",
       "    </tr>\n",
       "    <tr>\n",
       "      <th>op_name</th>\n",
       "      <td>Ma_MatMul1/MatMulAddFusion/</td>\n",
       "      <td>Ma_MatMul1/MatMulAddFusion/</td>\n",
       "    </tr>\n",
       "    <tr>\n",
       "      <th>args_thread_scheduling_stats</th>\n",
       "      <td>{'main_thread': {'thread_pool_name': 'session-...</td>\n",
       "      <td>{'main_thread': {'thread_pool_name': 'session-...</td>\n",
       "    </tr>\n",
       "    <tr>\n",
       "      <th>args_output_size</th>\n",
       "      <td>2560000</td>\n",
       "      <td>2560000</td>\n",
       "    </tr>\n",
       "    <tr>\n",
       "      <th>args_parameter_size</th>\n",
       "      <td>512</td>\n",
       "      <td>512</td>\n",
       "    </tr>\n",
       "    <tr>\n",
       "      <th>args_activation_size</th>\n",
       "      <td>2540000</td>\n",
       "      <td>2540000</td>\n",
       "    </tr>\n",
       "    <tr>\n",
       "      <th>args_node_index</th>\n",
       "      <td>12</td>\n",
       "      <td>12</td>\n",
       "    </tr>\n",
       "    <tr>\n",
       "      <th>args_provider</th>\n",
       "      <td>CPUExecutionProvider</td>\n",
       "      <td>CPUExecutionProvider</td>\n",
       "    </tr>\n",
       "    <tr>\n",
       "      <th>event_name</th>\n",
       "      <td>kernel_time</td>\n",
       "      <td>kernel_time</td>\n",
       "    </tr>\n",
       "    <tr>\n",
       "      <th>iteration</th>\n",
       "      <td>22</td>\n",
       "      <td>23</td>\n",
       "    </tr>\n",
       "    <tr>\n",
       "      <th>it==0</th>\n",
       "      <td>0</td>\n",
       "      <td>0</td>\n",
       "    </tr>\n",
       "  </tbody>\n",
       "</table>\n",
       "</div>"
      ],
      "text/plain": [
       "                                                                            541  \\\n",
       "cat                                                                        Node   \n",
       "pid                                                                       32438   \n",
       "tid                                                                       32438   \n",
       "dur                                                                       27614   \n",
       "ts                                                                        85208   \n",
       "ph                                                                            X   \n",
       "name                                    Ma_MatMul1/MatMulAddFusion/_kernel_time   \n",
       "args_op_name                                                               Gemm   \n",
       "op_name                                             Ma_MatMul1/MatMulAddFusion/   \n",
       "args_thread_scheduling_stats  {'main_thread': {'thread_pool_name': 'session-...   \n",
       "args_output_size                                                        2560000   \n",
       "args_parameter_size                                                         512   \n",
       "args_activation_size                                                    2540000   \n",
       "args_node_index                                                              12   \n",
       "args_provider                                              CPUExecutionProvider   \n",
       "event_name                                                          kernel_time   \n",
       "iteration                                                                    22   \n",
       "it==0                                                                         0   \n",
       "\n",
       "                                                                            564  \n",
       "cat                                                                        Node  \n",
       "pid                                                                       32438  \n",
       "tid                                                                       32438  \n",
       "dur                                                                       10836  \n",
       "ts                                                                       116118  \n",
       "ph                                                                            X  \n",
       "name                                    Ma_MatMul1/MatMulAddFusion/_kernel_time  \n",
       "args_op_name                                                               Gemm  \n",
       "op_name                                             Ma_MatMul1/MatMulAddFusion/  \n",
       "args_thread_scheduling_stats  {'main_thread': {'thread_pool_name': 'session-...  \n",
       "args_output_size                                                        2560000  \n",
       "args_parameter_size                                                         512  \n",
       "args_activation_size                                                    2540000  \n",
       "args_node_index                                                              12  \n",
       "args_provider                                              CPUExecutionProvider  \n",
       "event_name                                                          kernel_time  \n",
       "iteration                                                                    23  \n",
       "it==0                                                                         0  "
      ]
     },
     "execution_count": 79,
     "metadata": {},
     "output_type": "execute_result"
    }
   ],
   "source": [
    "df[(df.args_op_name == \"Gemm\") & (df.dur > 0)].sort_values(\"dur\", ascending=False).head(\n",
    "    n=2\n",
    ").T"
   ]
  },
  {
   "cell_type": "markdown",
   "id": "58320942",
   "metadata": {},
   "source": [
    "C'est un produit matriciel d'environ *5000x800* par *800x800*."
   ]
  },
  {
   "cell_type": "code",
   "execution_count": 80,
   "id": "de43df2f",
   "metadata": {},
   "outputs": [
    {
     "data": {
      "text/html": [
       "<div>\n",
       "<style scoped>\n",
       "    .dataframe tbody tr th:only-of-type {\n",
       "        vertical-align: middle;\n",
       "    }\n",
       "\n",
       "    .dataframe tbody tr th {\n",
       "        vertical-align: top;\n",
       "    }\n",
       "\n",
       "    .dataframe thead th {\n",
       "        text-align: right;\n",
       "    }\n",
       "</style>\n",
       "<table border=\"1\" class=\"dataframe\">\n",
       "  <thead>\n",
       "    <tr style=\"text-align: right;\">\n",
       "      <th></th>\n",
       "      <th></th>\n",
       "      <th>dur</th>\n",
       "    </tr>\n",
       "    <tr>\n",
       "      <th>args_op_name</th>\n",
       "      <th>name</th>\n",
       "      <th></th>\n",
       "    </tr>\n",
       "  </thead>\n",
       "  <tbody>\n",
       "    <tr>\n",
       "      <th rowspan=\"2\" valign=\"top\">Sigmoid</th>\n",
       "      <th>Si_Sigmoid1</th>\n",
       "      <td>0.033348</td>\n",
       "    </tr>\n",
       "    <tr>\n",
       "      <th>Si_Sigmoid</th>\n",
       "      <td>0.034335</td>\n",
       "    </tr>\n",
       "    <tr>\n",
       "      <th rowspan=\"2\" valign=\"top\">Mul</th>\n",
       "      <th>Mu_Mul</th>\n",
       "      <td>0.050846</td>\n",
       "    </tr>\n",
       "    <tr>\n",
       "      <th>Mu_Mul1</th>\n",
       "      <td>0.062528</td>\n",
       "    </tr>\n",
       "    <tr>\n",
       "      <th>MatMul</th>\n",
       "      <th>Ma_MatMul2</th>\n",
       "      <td>0.062572</td>\n",
       "    </tr>\n",
       "    <tr>\n",
       "      <th rowspan=\"2\" valign=\"top\">Gemm</th>\n",
       "      <th>Ma_MatMul/MatMulAddFusion/</th>\n",
       "      <td>0.105980</td>\n",
       "    </tr>\n",
       "    <tr>\n",
       "      <th>Ma_MatMul1/MatMulAddFusion/</th>\n",
       "      <td>0.650391</td>\n",
       "    </tr>\n",
       "  </tbody>\n",
       "</table>\n",
       "</div>"
      ],
      "text/plain": [
       "                                               dur\n",
       "args_op_name name                                 \n",
       "Sigmoid      Si_Sigmoid1                  0.033348\n",
       "             Si_Sigmoid                   0.034335\n",
       "Mul          Mu_Mul                       0.050846\n",
       "             Mu_Mul1                      0.062528\n",
       "MatMul       Ma_MatMul2                   0.062572\n",
       "Gemm         Ma_MatMul/MatMulAddFusion/   0.105980\n",
       "             Ma_MatMul1/MatMulAddFusion/  0.650391"
      ]
     },
     "execution_count": 80,
     "metadata": {},
     "output_type": "execute_result"
    }
   ],
   "source": [
    "gr_dur / gr_dur.dur.sum()"
   ]
  },
  {
   "cell_type": "code",
   "execution_count": 81,
   "id": "0e5c02ec",
   "metadata": {},
   "outputs": [
    {
     "data": {
      "text/plain": [
       "np.float64(0.6503907600802269)"
      ]
     },
     "execution_count": 81,
     "metadata": {},
     "output_type": "execute_result"
    }
   ],
   "source": [
    "r = (gr_dur / gr_dur.dur.sum()).dur.max()\n",
    "r"
   ]
  },
  {
   "cell_type": "markdown",
   "id": "113a480a",
   "metadata": {},
   "source": [
    "Il occupe 82% du temps. et d'après l'expérience précédente, son temps d'éxecution peut-être réduit par 10 en le remplaçant par une matrice sparse. Cela ne suffira pas pour accélerer le temps de calcul de ce réseau de neurones. Il est 84 ms comparé à 247 µs pour l'arbre de décision. Avec cette optimisation, il pourrait passer de :"
   ]
  },
  {
   "cell_type": "code",
   "execution_count": 82,
   "id": "fa7950bc",
   "metadata": {},
   "outputs": [
    {
     "data": {
      "text/plain": [
       "np.float64(1.5142817622242202)"
      ]
     },
     "execution_count": 82,
     "metadata": {},
     "output_type": "execute_result"
    }
   ],
   "source": [
    "t = 3.75  # ms\n",
    "t * (1 - r) + r * t / 12"
   ]
  },
  {
   "cell_type": "markdown",
   "id": "7c641d19",
   "metadata": {},
   "source": [
    "Soit une réduction du temps de calcul. Ce n'est pas mal mais pas assez."
   ]
  },
  {
   "cell_type": "markdown",
   "id": "535b7e56",
   "metadata": {},
   "source": [
    "## Hummingbird\n",
    "\n",
    "[hummingbird](https://github.com/microsoft/hummingbird) est une librairie qui convertit un arbre de décision en réseau de neurones. Voyons ses performances."
   ]
  },
  {
   "cell_type": "code",
   "execution_count": 85,
   "id": "3b3aa43b",
   "metadata": {},
   "outputs": [
    {
     "data": {
      "text/plain": [
       "(np.float64(2.817548150346738e-08), np.float64(4.224119546935093e-09))"
      ]
     },
     "execution_count": 85,
     "metadata": {},
     "output_type": "execute_result"
    }
   ],
   "source": [
    "from hummingbird.ml import convert\n",
    "\n",
    "model = convert(tree, \"torch\")\n",
    "\n",
    "expected = tree.predict(x_exp)\n",
    "got = model.predict(x_exp)\n",
    "numpy.abs(got - expected).max(), numpy.abs(got - expected).mean()"
   ]
  },
  {
   "cell_type": "markdown",
   "id": "92365d70",
   "metadata": {},
   "source": [
    "Le résultat est beaucoup plus fidèle au modèle."
   ]
  },
  {
   "cell_type": "code",
   "execution_count": 86,
   "id": "605df039",
   "metadata": {},
   "outputs": [
    {
     "name": "stdout",
     "output_type": "stream",
     "text": [
      "872 μs ± 66.6 μs per loop (mean ± std. dev. of 7 runs, 1,000 loops each)\n"
     ]
    }
   ],
   "source": [
    "%timeit model.predict(x_exp)"
   ]
  },
  {
   "cell_type": "markdown",
   "id": "c2f80290",
   "metadata": {},
   "source": [
    "Il reste plus lent mais beaucoup plus rapide que la solution manuelle proposée dans les précédents paragraphes. Il contient un attribut `model`."
   ]
  },
  {
   "cell_type": "code",
   "execution_count": 87,
   "id": "e77ff4f0",
   "metadata": {},
   "outputs": [
    {
     "data": {
      "text/plain": [
       "True"
      ]
     },
     "execution_count": 87,
     "metadata": {},
     "output_type": "execute_result"
    }
   ],
   "source": [
    "from torch.nn import Module\n",
    "\n",
    "isinstance(model.model, Module)"
   ]
  },
  {
   "cell_type": "markdown",
   "id": "871277df",
   "metadata": {},
   "source": [
    "On convertit ce modèle au format ONNX."
   ]
  },
  {
   "cell_type": "code",
   "execution_count": 88,
   "id": "3c875b35",
   "metadata": {},
   "outputs": [],
   "source": [
    "import torch.onnx\n",
    "\n",
    "x = torch.randn(x_exp.shape[0], x_exp.shape[1], requires_grad=True)\n",
    "torch.onnx.export(\n",
    "    model.model,\n",
    "    x,\n",
    "    \"tree_torch.onnx\",\n",
    "    opset_version=15,\n",
    "    input_names=[\"X\"],\n",
    "    output_names=[\"variable\"],\n",
    "    dynamic_axes={\"X\": {0: \"batch_size\"}, \"variable\": {0: \"batch_size\"}},\n",
    ")"
   ]
  },
  {
   "cell_type": "code",
   "execution_count": 89,
   "id": "b8c41c5e",
   "metadata": {},
   "outputs": [],
   "source": [
    "import onnx\n",
    "\n",
    "onxh = onnx.load(\"tree_torch.onnx\")"
   ]
  },
  {
   "cell_type": "code",
   "execution_count": 90,
   "id": "861a94d0",
   "metadata": {
    "scrolled": false
   },
   "outputs": [
    {
     "name": "stdout",
     "output_type": "stream",
     "text": [
      "opset: domain='' version=15\n",
      "input: name='X' type=dtype('float32') shape=['batch_size', 10]\n",
      "init: name='_operators.0.root_nodes' type=dtype('int64') shape=(1,) -- array([8])\n",
      "init: name='_operators.0.root_biases' type=dtype('float32') shape=(1,) -- array([-0.00267735], dtype=float32)\n",
      "init: name='_operators.0.tree_indices' type=dtype('int64') shape=(1,) -- array([0])\n",
      "init: name='_operators.0.leaf_nodes' type=dtype('float32') shape=(128, 1)\n",
      "init: name='_operators.0.nodes.0' type=dtype('int64') shape=(2,) -- array([3, 4])\n",
      "init: name='_operators.0.nodes.1' type=dtype('int64') shape=(4,) -- array([4, 9, 0, 5])\n",
      "init: name='_operators.0.nodes.2' type=dtype('int64') shape=(8,)\n",
      "init: name='_operators.0.nodes.3' type=dtype('int64') shape=(16,)\n",
      "init: name='_operators.0.nodes.4' type=dtype('int64') shape=(32,)\n",
      "init: name='_operators.0.nodes.5' type=dtype('int64') shape=(64,)\n",
      "init: name='_operators.0.biases.0' type=dtype('float32') shape=(2,) -- array([-0.09563538, -0.16326863], dtype=float32)\n",
      "init: name='_operators.0.biases.1' type=dtype('float32') shape=(4,) -- array([-0.25053233,  0.6288608 , -0.48234493, -0.3351562 ], dtype=float32)\n",
      "init: name='_operators.0.biases.2' type=dtype('float32') shape=(8,)\n",
      "init: name='_operators.0.biases.3' type=dtype('float32') shape=(16,)\n",
      "init: name='_operators.0.biases.4' type=dtype('float32') shape=(32,)\n",
      "init: name='_operators.0.biases.5' type=dtype('float32') shape=(64,)\n",
      "Constant(value=[-1]) -> /_operators.0/Constant_output_0\n",
      "Gather(X, _operators.0.root_nodes, axis=1) -> /_operators.0/Gather_output_0\n",
      "  LessOrEqual(/_operators.0/Gather_output_0, _operators.0.root_biases) -> /_operators.0/LessOrEqual_output_0\n",
      "    Cast(/_operators.0/LessOrEqual_output_0, to=7) -> /_operators.0/Cast_output_0\n",
      "      Add(/_operators.0/Cast_output_0, _operators.0.tree_indices) -> /_operators.0/Add_output_0\n",
      "  Reshape(/_operators.0/Add_output_0, /_operators.0/Constant_output_0, allowzero=0) -> /_operators.0/Reshape_output_0\n",
      "    Gather(_operators.0.nodes.0, /_operators.0/Reshape_output_0, axis=0) -> /_operators.0/Gather_1_output_0\n",
      "Constant(value=[-1, 1]) -> /_operators.0/Constant_1_output_0\n",
      "  Reshape(/_operators.0/Gather_1_output_0, /_operators.0/Constant_1_output_0, allowzero=0) -> /_operators.0/Reshape_1_output_0\n",
      "    GatherElements(X, /_operators.0/Reshape_1_output_0, axis=1) -> /_operators.0/GatherElements_output_0\n",
      "Constant(value=[-1]) -> /_operators.0/Constant_2_output_0\n",
      "  Reshape(/_operators.0/GatherElements_output_0, /_operators.0/Constant_2_output_0, allowzero=0) -> /_operators.0/Reshape_2_output_0\n",
      "Constant(value=2) -> /_operators.0/Constant_3_output_0\n",
      "  Mul(/_operators.0/Reshape_output_0, /_operators.0/Constant_3_output_0) -> /_operators.0/Mul_output_0\n",
      "Gather(_operators.0.biases.0, /_operators.0/Reshape_output_0, axis=0) -> /_operators.0/Gather_2_output_0\n",
      "  LessOrEqual(/_operators.0/Reshape_2_output_0, /_operators.0/Gather_2_output_0) -> /_operators.0/LessOrEqual_1_output_0\n",
      "    Cast(/_operators.0/LessOrEqual_1_output_0, to=7) -> /_operators.0/Cast_1_output_0\n",
      "    Add(/_operators.0/Mul_output_0, /_operators.0/Cast_1_output_0) -> /_operators.0/Add_1_output_0\n",
      "      Gather(_operators.0.nodes.1, /_operators.0/Add_1_output_0, axis=0) -> /_operators.0/Gather_3_output_0\n",
      "Constant(value=[-1, 1]) -> /_operators.0/Constant_4_output_0\n",
      "  Reshape(/_operators.0/Gather_3_output_0, /_operators.0/Constant_4_output_0, allowzero=0) -> /_operators.0/Reshape_3_output_0\n",
      "    GatherElements(X, /_operators.0/Reshape_3_output_0, axis=1) -> /_operators.0/GatherElements_1_output_0\n",
      "Constant(value=[-1]) -> /_operators.0/Constant_5_output_0\n",
      "  Reshape(/_operators.0/GatherElements_1_output_0, /_operators.0/Constant_5_output_0, allowzero=0) -> /_operators.0/Reshape_4_output_0\n",
      "Constant(value=2) -> /_operators.0/Constant_6_output_0\n",
      "  Mul(/_operators.0/Add_1_output_0, /_operators.0/Constant_6_output_0) -> /_operators.0/Mul_1_output_0\n",
      "Gather(_operators.0.biases.1, /_operators.0/Add_1_output_0, axis=0) -> /_operators.0/Gather_4_output_0\n",
      "  LessOrEqual(/_operators.0/Reshape_4_output_0, /_operators.0/Gather_4_output_0) -> /_operators.0/LessOrEqual_2_output_0\n",
      "    Cast(/_operators.0/LessOrEqual_2_output_0, to=7) -> /_operators.0/Cast_2_output_0\n",
      "    Add(/_operators.0/Mul_1_output_0, /_operators.0/Cast_2_output_0) -> /_operators.0/Add_2_output_0\n",
      "      Gather(_operators.0.nodes.2, /_operators.0/Add_2_output_0, axis=0) -> /_operators.0/Gather_5_output_0\n",
      "Constant(value=[-1, 1]) -> /_operators.0/Constant_7_output_0\n",
      "  Reshape(/_operators.0/Gather_5_output_0, /_operators.0/Constant_7_output_0, allowzero=0) -> /_operators.0/Reshape_5_output_0\n",
      "    GatherElements(X, /_operators.0/Reshape_5_output_0, axis=1) -> /_operators.0/GatherElements_2_output_0\n",
      "Constant(value=[-1]) -> /_operators.0/Constant_8_output_0\n",
      "  Reshape(/_operators.0/GatherElements_2_output_0, /_operators.0/Constant_8_output_0, allowzero=0) -> /_operators.0/Reshape_6_output_0\n",
      "Constant(value=2) -> /_operators.0/Constant_9_output_0\n",
      "  Mul(/_operators.0/Add_2_output_0, /_operators.0/Constant_9_output_0) -> /_operators.0/Mul_2_output_0\n",
      "Gather(_operators.0.biases.2, /_operators.0/Add_2_output_0, axis=0) -> /_operators.0/Gather_6_output_0\n",
      "  LessOrEqual(/_operators.0/Reshape_6_output_0, /_operators.0/Gather_6_output_0) -> /_operators.0/LessOrEqual_3_output_0\n",
      "    Cast(/_operators.0/LessOrEqual_3_output_0, to=7) -> /_operators.0/Cast_3_output_0\n",
      "    Add(/_operators.0/Mul_2_output_0, /_operators.0/Cast_3_output_0) -> /_operators.0/Add_3_output_0\n",
      "      Gather(_operators.0.nodes.3, /_operators.0/Add_3_output_0, axis=0) -> /_operators.0/Gather_7_output_0\n",
      "Constant(value=[-1, 1]) -> /_operators.0/Constant_10_output_0\n",
      "  Reshape(/_operators.0/Gather_7_output_0, /_operators.0/Constant_10_output_0, allowzero=0) -> /_operators.0/Reshape_7_output_0\n",
      "    GatherElements(X, /_operators.0/Reshape_7_output_0, axis=1) -> /_operators.0/GatherElements_3_output_0\n",
      "Constant(value=[-1]) -> /_operators.0/Constant_11_output_0\n",
      "  Reshape(/_operators.0/GatherElements_3_output_0, /_operators.0/Constant_11_output_0, allowzero=0) -> /_operators.0/Reshape_8_output_0\n",
      "Constant(value=2) -> /_operators.0/Constant_12_output_0\n",
      "  Mul(/_operators.0/Add_3_output_0, /_operators.0/Constant_12_output_0) -> /_operators.0/Mul_3_output_0\n",
      "Gather(_operators.0.biases.3, /_operators.0/Add_3_output_0, axis=0) -> /_operators.0/Gather_8_output_0\n",
      "  LessOrEqual(/_operators.0/Reshape_8_output_0, /_operators.0/Gather_8_output_0) -> /_operators.0/LessOrEqual_4_output_0\n",
      "    Cast(/_operators.0/LessOrEqual_4_output_0, to=7) -> /_operators.0/Cast_4_output_0\n",
      "    Add(/_operators.0/Mul_3_output_0, /_operators.0/Cast_4_output_0) -> /_operators.0/Add_4_output_0\n",
      "      Gather(_operators.0.nodes.4, /_operators.0/Add_4_output_0, axis=0) -> /_operators.0/Gather_9_output_0\n",
      "Constant(value=[-1, 1]) -> /_operators.0/Constant_13_output_0\n",
      "  Reshape(/_operators.0/Gather_9_output_0, /_operators.0/Constant_13_output_0, allowzero=0) -> /_operators.0/Reshape_9_output_0\n",
      "    GatherElements(X, /_operators.0/Reshape_9_output_0, axis=1) -> /_operators.0/GatherElements_4_output_0\n",
      "Constant(value=[-1]) -> /_operators.0/Constant_14_output_0\n",
      "  Reshape(/_operators.0/GatherElements_4_output_0, /_operators.0/Constant_14_output_0, allowzero=0) -> /_operators.0/Reshape_10_output_0\n",
      "Constant(value=2) -> /_operators.0/Constant_15_output_0\n",
      "  Mul(/_operators.0/Add_4_output_0, /_operators.0/Constant_15_output_0) -> /_operators.0/Mul_4_output_0\n",
      "Gather(_operators.0.biases.4, /_operators.0/Add_4_output_0, axis=0) -> /_operators.0/Gather_10_output_0\n",
      "  LessOrEqual(/_operators.0/Reshape_10_output_0, /_operators.0/Gather_10_output_0) -> /_operators.0/LessOrEqual_5_output_0\n",
      "    Cast(/_operators.0/LessOrEqual_5_output_0, to=7) -> /_operators.0/Cast_5_output_0\n",
      "    Add(/_operators.0/Mul_4_output_0, /_operators.0/Cast_5_output_0) -> /_operators.0/Add_5_output_0\n",
      "      Gather(_operators.0.nodes.5, /_operators.0/Add_5_output_0, axis=0) -> /_operators.0/Gather_11_output_0\n",
      "Constant(value=[-1, 1]) -> /_operators.0/Constant_16_output_0\n",
      "  Reshape(/_operators.0/Gather_11_output_0, /_operators.0/Constant_16_output_0, allowzero=0) -> /_operators.0/Reshape_11_output_0\n",
      "    GatherElements(X, /_operators.0/Reshape_11_output_0, axis=1) -> /_operators.0/GatherElements_5_output_0\n",
      "Constant(value=[-1]) -> /_operators.0/Constant_17_output_0\n",
      "  Reshape(/_operators.0/GatherElements_5_output_0, /_operators.0/Constant_17_output_0, allowzero=0) -> /_operators.0/Reshape_12_output_0\n",
      "Constant(value=2) -> /_operators.0/Constant_18_output_0\n",
      "  Mul(/_operators.0/Add_5_output_0, /_operators.0/Constant_18_output_0) -> /_operators.0/Mul_5_output_0\n",
      "Gather(_operators.0.biases.5, /_operators.0/Add_5_output_0, axis=0) -> /_operators.0/Gather_12_output_0\n",
      "  LessOrEqual(/_operators.0/Reshape_12_output_0, /_operators.0/Gather_12_output_0) -> /_operators.0/LessOrEqual_6_output_0\n",
      "    Cast(/_operators.0/LessOrEqual_6_output_0, to=7) -> /_operators.0/Cast_6_output_0\n",
      "    Add(/_operators.0/Mul_5_output_0, /_operators.0/Cast_6_output_0) -> /_operators.0/Add_6_output_0\n",
      "      Gather(_operators.0.leaf_nodes, /_operators.0/Add_6_output_0, axis=0) -> /_operators.0/Gather_13_output_0\n",
      "Constant(value=[-1, 1, 1]) -> /_operators.0/Constant_19_output_0\n",
      "  Reshape(/_operators.0/Gather_13_output_0, /_operators.0/Constant_19_output_0, allowzero=0) -> /_operators.0/Reshape_13_output_0\n",
      "Constant(value=[1]) -> onnx::ReduceSum_98\n",
      "  ReduceSum(/_operators.0/Reshape_13_output_0, onnx::ReduceSum_98, keepdims=0) -> variable\n",
      "output: name='variable' type=dtype('float32') shape=['batch_size', 'ReduceSumvariable_dim_1']\n"
     ]
    }
   ],
   "source": [
    "print(onnx_simple_text_plot(onxh, raise_exc=False))"
   ]
  },
  {
   "cell_type": "markdown",
   "id": "1edb6177",
   "metadata": {},
   "source": [
    "La librairie réimplémente la décision d'un arbre décision à partir d'un produit matriciel pour chaque niveau de l'arbre. Tous les seuils sont évalués. Les matrices n'ont pas besoin d'être sparses car les features nécessaires sont récupérées. Le seuil de décision est implémenté avec un test et non une sigmoïde. Ce modèle est donc identique en terme de prédiction au modèle initial."
   ]
  },
  {
   "cell_type": "code",
   "execution_count": 93,
   "id": "2220ca2e",
   "metadata": {},
   "outputs": [
    {
     "data": {
      "text/plain": [
       "np.float64(1.4748302929273112)"
      ]
     },
     "execution_count": 93,
     "metadata": {},
     "output_type": "execute_result"
    }
   ],
   "source": [
    "oinfh = InferenceSession(onxh.SerializeToString(), providers=[\"CPUExecutionProvider\"])\n",
    "expected = tree.predict(x_exp)\n",
    "\n",
    "got = oinfh.run(None, {\"X\": x_exp.astype(numpy.float32)})[0]\n",
    "numpy.abs(got - expected).max()"
   ]
  },
  {
   "cell_type": "markdown",
   "id": "10de2a80",
   "metadata": {},
   "source": [
    "La conversion reste imparfaite également."
   ]
  },
  {
   "cell_type": "code",
   "execution_count": 94,
   "id": "fd13b28b",
   "metadata": {},
   "outputs": [
    {
     "name": "stdout",
     "output_type": "stream",
     "text": [
      "1.67 ms ± 17.8 μs per loop (mean ± std. dev. of 7 runs, 1,000 loops each)\n"
     ]
    }
   ],
   "source": [
    "%timeit oinfh.run(None, {'X': x_exp32})[0]"
   ]
  },
  {
   "cell_type": "markdown",
   "id": "11a36a32",
   "metadata": {},
   "source": [
    "Et le temps de calcul est aussi plus long."
   ]
  },
  {
   "cell_type": "markdown",
   "id": "20afcc41",
   "metadata": {},
   "source": [
    "## Apprentissage\n",
    "\n",
    "L'idée derrière tout cela est aussi de pouvoir réestimer les coefficients du réseau de neurones une fois converti."
   ]
  },
  {
   "cell_type": "code",
   "execution_count": 95,
   "id": "96abfddb",
   "metadata": {},
   "outputs": [],
   "source": [
    "x_train = X_train[:100]\n",
    "expected = tree.predict(x_train)\n",
    "reg = NeuralTreeNetRegressor(trees[1], verbose=1, max_iter=10, lr=1e-4)"
   ]
  },
  {
   "cell_type": "code",
   "execution_count": 96,
   "id": "94dc4d66",
   "metadata": {},
   "outputs": [
    {
     "data": {
      "text/plain": [
       "(np.float64(1.3105977468247925), np.float64(0.21366120021158772))"
      ]
     },
     "execution_count": 96,
     "metadata": {},
     "output_type": "execute_result"
    }
   ],
   "source": [
    "got = reg.predict(x_train)\n",
    "numpy.abs(got - expected).max(), numpy.abs(got - expected).mean()"
   ]
  },
  {
   "cell_type": "markdown",
   "id": "111970a1",
   "metadata": {},
   "source": [
    "La différence est grande."
   ]
  },
  {
   "cell_type": "code",
   "execution_count": 97,
   "id": "a50b3384",
   "metadata": {
    "scrolled": false
   },
   "outputs": [
    {
     "name": "stdout",
     "output_type": "stream",
     "text": [
      "0/10: loss: 2.76 lr=0.0001 max(coef): 6.5 l1=0/1.5e+03 l2=0/2.5e+03\n",
      "1/10: loss: 2.242 lr=9.95e-06 max(coef): 6.5 l1=8.4e+02/1.5e+03 l2=3.3e+02/2.5e+03\n",
      "2/10: loss: 2.165 lr=7.05e-06 max(coef): 6.5 l1=1.7e+03/1.5e+03 l2=2e+03/2.5e+03\n",
      "3/10: loss: 2.135 lr=5.76e-06 max(coef): 6.5 l1=2.6e+02/1.5e+03 l2=88/2.5e+03\n",
      "4/10: loss: 2.119 lr=4.99e-06 max(coef): 6.5 l1=4.7e+02/1.5e+03 l2=2.9e+02/2.5e+03\n",
      "5/10: loss: 2.106 lr=4.47e-06 max(coef): 6.5 l1=1.6e+02/1.5e+03 l2=23/2.5e+03\n",
      "6/10: loss: 2.098 lr=4.08e-06 max(coef): 6.5 l1=1.9e+03/1.5e+03 l2=3.5e+03/2.5e+03\n",
      "7/10: loss: 2.086 lr=3.78e-06 max(coef): 6.5 l1=9.9e+02/1.5e+03 l2=9.4e+02/2.5e+03\n",
      "8/10: loss: 2.072 lr=3.53e-06 max(coef): 6.5 l1=54/1.5e+03 l2=1.9/2.5e+03\n",
      "9/10: loss: 2.063 lr=3.33e-06 max(coef): 6.5 l1=6.4e+02/1.5e+03 l2=1.9e+02/2.5e+03\n",
      "10/10: loss: 2.054 lr=3.16e-06 max(coef): 6.5 l1=1.2e+03/1.5e+03 l2=6.4e+02/2.5e+03\n"
     ]
    },
    {
     "data": {
      "text/html": [
       "<style>#sk-container-id-1 {\n",
       "  /* Definition of color scheme common for light and dark mode */\n",
       "  --sklearn-color-text: black;\n",
       "  --sklearn-color-line: gray;\n",
       "  /* Definition of color scheme for unfitted estimators */\n",
       "  --sklearn-color-unfitted-level-0: #fff5e6;\n",
       "  --sklearn-color-unfitted-level-1: #f6e4d2;\n",
       "  --sklearn-color-unfitted-level-2: #ffe0b3;\n",
       "  --sklearn-color-unfitted-level-3: chocolate;\n",
       "  /* Definition of color scheme for fitted estimators */\n",
       "  --sklearn-color-fitted-level-0: #f0f8ff;\n",
       "  --sklearn-color-fitted-level-1: #d4ebff;\n",
       "  --sklearn-color-fitted-level-2: #b3dbfd;\n",
       "  --sklearn-color-fitted-level-3: cornflowerblue;\n",
       "\n",
       "  /* Specific color for light theme */\n",
       "  --sklearn-color-text-on-default-background: var(--sg-text-color, var(--theme-code-foreground, var(--jp-content-font-color1, black)));\n",
       "  --sklearn-color-background: var(--sg-background-color, var(--theme-background, var(--jp-layout-color0, white)));\n",
       "  --sklearn-color-border-box: var(--sg-text-color, var(--theme-code-foreground, var(--jp-content-font-color1, black)));\n",
       "  --sklearn-color-icon: #696969;\n",
       "\n",
       "  @media (prefers-color-scheme: dark) {\n",
       "    /* Redefinition of color scheme for dark theme */\n",
       "    --sklearn-color-text-on-default-background: var(--sg-text-color, var(--theme-code-foreground, var(--jp-content-font-color1, white)));\n",
       "    --sklearn-color-background: var(--sg-background-color, var(--theme-background, var(--jp-layout-color0, #111)));\n",
       "    --sklearn-color-border-box: var(--sg-text-color, var(--theme-code-foreground, var(--jp-content-font-color1, white)));\n",
       "    --sklearn-color-icon: #878787;\n",
       "  }\n",
       "}\n",
       "\n",
       "#sk-container-id-1 {\n",
       "  color: var(--sklearn-color-text);\n",
       "}\n",
       "\n",
       "#sk-container-id-1 pre {\n",
       "  padding: 0;\n",
       "}\n",
       "\n",
       "#sk-container-id-1 input.sk-hidden--visually {\n",
       "  border: 0;\n",
       "  clip: rect(1px 1px 1px 1px);\n",
       "  clip: rect(1px, 1px, 1px, 1px);\n",
       "  height: 1px;\n",
       "  margin: -1px;\n",
       "  overflow: hidden;\n",
       "  padding: 0;\n",
       "  position: absolute;\n",
       "  width: 1px;\n",
       "}\n",
       "\n",
       "#sk-container-id-1 div.sk-dashed-wrapped {\n",
       "  border: 1px dashed var(--sklearn-color-line);\n",
       "  margin: 0 0.4em 0.5em 0.4em;\n",
       "  box-sizing: border-box;\n",
       "  padding-bottom: 0.4em;\n",
       "  background-color: var(--sklearn-color-background);\n",
       "}\n",
       "\n",
       "#sk-container-id-1 div.sk-container {\n",
       "  /* jupyter's `normalize.less` sets `[hidden] { display: none; }`\n",
       "     but bootstrap.min.css set `[hidden] { display: none !important; }`\n",
       "     so we also need the `!important` here to be able to override the\n",
       "     default hidden behavior on the sphinx rendered scikit-learn.org.\n",
       "     See: https://github.com/scikit-learn/scikit-learn/issues/21755 */\n",
       "  display: inline-block !important;\n",
       "  position: relative;\n",
       "}\n",
       "\n",
       "#sk-container-id-1 div.sk-text-repr-fallback {\n",
       "  display: none;\n",
       "}\n",
       "\n",
       "div.sk-parallel-item,\n",
       "div.sk-serial,\n",
       "div.sk-item {\n",
       "  /* draw centered vertical line to link estimators */\n",
       "  background-image: linear-gradient(var(--sklearn-color-text-on-default-background), var(--sklearn-color-text-on-default-background));\n",
       "  background-size: 2px 100%;\n",
       "  background-repeat: no-repeat;\n",
       "  background-position: center center;\n",
       "}\n",
       "\n",
       "/* Parallel-specific style estimator block */\n",
       "\n",
       "#sk-container-id-1 div.sk-parallel-item::after {\n",
       "  content: \"\";\n",
       "  width: 100%;\n",
       "  border-bottom: 2px solid var(--sklearn-color-text-on-default-background);\n",
       "  flex-grow: 1;\n",
       "}\n",
       "\n",
       "#sk-container-id-1 div.sk-parallel {\n",
       "  display: flex;\n",
       "  align-items: stretch;\n",
       "  justify-content: center;\n",
       "  background-color: var(--sklearn-color-background);\n",
       "  position: relative;\n",
       "}\n",
       "\n",
       "#sk-container-id-1 div.sk-parallel-item {\n",
       "  display: flex;\n",
       "  flex-direction: column;\n",
       "}\n",
       "\n",
       "#sk-container-id-1 div.sk-parallel-item:first-child::after {\n",
       "  align-self: flex-end;\n",
       "  width: 50%;\n",
       "}\n",
       "\n",
       "#sk-container-id-1 div.sk-parallel-item:last-child::after {\n",
       "  align-self: flex-start;\n",
       "  width: 50%;\n",
       "}\n",
       "\n",
       "#sk-container-id-1 div.sk-parallel-item:only-child::after {\n",
       "  width: 0;\n",
       "}\n",
       "\n",
       "/* Serial-specific style estimator block */\n",
       "\n",
       "#sk-container-id-1 div.sk-serial {\n",
       "  display: flex;\n",
       "  flex-direction: column;\n",
       "  align-items: center;\n",
       "  background-color: var(--sklearn-color-background);\n",
       "  padding-right: 1em;\n",
       "  padding-left: 1em;\n",
       "}\n",
       "\n",
       "\n",
       "/* Toggleable style: style used for estimator/Pipeline/ColumnTransformer box that is\n",
       "clickable and can be expanded/collapsed.\n",
       "- Pipeline and ColumnTransformer use this feature and define the default style\n",
       "- Estimators will overwrite some part of the style using the `sk-estimator` class\n",
       "*/\n",
       "\n",
       "/* Pipeline and ColumnTransformer style (default) */\n",
       "\n",
       "#sk-container-id-1 div.sk-toggleable {\n",
       "  /* Default theme specific background. It is overwritten whether we have a\n",
       "  specific estimator or a Pipeline/ColumnTransformer */\n",
       "  background-color: var(--sklearn-color-background);\n",
       "}\n",
       "\n",
       "/* Toggleable label */\n",
       "#sk-container-id-1 label.sk-toggleable__label {\n",
       "  cursor: pointer;\n",
       "  display: block;\n",
       "  width: 100%;\n",
       "  margin-bottom: 0;\n",
       "  padding: 0.5em;\n",
       "  box-sizing: border-box;\n",
       "  text-align: center;\n",
       "}\n",
       "\n",
       "#sk-container-id-1 label.sk-toggleable__label-arrow:before {\n",
       "  /* Arrow on the left of the label */\n",
       "  content: \"▸\";\n",
       "  float: left;\n",
       "  margin-right: 0.25em;\n",
       "  color: var(--sklearn-color-icon);\n",
       "}\n",
       "\n",
       "#sk-container-id-1 label.sk-toggleable__label-arrow:hover:before {\n",
       "  color: var(--sklearn-color-text);\n",
       "}\n",
       "\n",
       "/* Toggleable content - dropdown */\n",
       "\n",
       "#sk-container-id-1 div.sk-toggleable__content {\n",
       "  max-height: 0;\n",
       "  max-width: 0;\n",
       "  overflow: hidden;\n",
       "  text-align: left;\n",
       "  /* unfitted */\n",
       "  background-color: var(--sklearn-color-unfitted-level-0);\n",
       "}\n",
       "\n",
       "#sk-container-id-1 div.sk-toggleable__content.fitted {\n",
       "  /* fitted */\n",
       "  background-color: var(--sklearn-color-fitted-level-0);\n",
       "}\n",
       "\n",
       "#sk-container-id-1 div.sk-toggleable__content pre {\n",
       "  margin: 0.2em;\n",
       "  border-radius: 0.25em;\n",
       "  color: var(--sklearn-color-text);\n",
       "  /* unfitted */\n",
       "  background-color: var(--sklearn-color-unfitted-level-0);\n",
       "}\n",
       "\n",
       "#sk-container-id-1 div.sk-toggleable__content.fitted pre {\n",
       "  /* unfitted */\n",
       "  background-color: var(--sklearn-color-fitted-level-0);\n",
       "}\n",
       "\n",
       "#sk-container-id-1 input.sk-toggleable__control:checked~div.sk-toggleable__content {\n",
       "  /* Expand drop-down */\n",
       "  max-height: 200px;\n",
       "  max-width: 100%;\n",
       "  overflow: auto;\n",
       "}\n",
       "\n",
       "#sk-container-id-1 input.sk-toggleable__control:checked~label.sk-toggleable__label-arrow:before {\n",
       "  content: \"▾\";\n",
       "}\n",
       "\n",
       "/* Pipeline/ColumnTransformer-specific style */\n",
       "\n",
       "#sk-container-id-1 div.sk-label input.sk-toggleable__control:checked~label.sk-toggleable__label {\n",
       "  color: var(--sklearn-color-text);\n",
       "  background-color: var(--sklearn-color-unfitted-level-2);\n",
       "}\n",
       "\n",
       "#sk-container-id-1 div.sk-label.fitted input.sk-toggleable__control:checked~label.sk-toggleable__label {\n",
       "  background-color: var(--sklearn-color-fitted-level-2);\n",
       "}\n",
       "\n",
       "/* Estimator-specific style */\n",
       "\n",
       "/* Colorize estimator box */\n",
       "#sk-container-id-1 div.sk-estimator input.sk-toggleable__control:checked~label.sk-toggleable__label {\n",
       "  /* unfitted */\n",
       "  background-color: var(--sklearn-color-unfitted-level-2);\n",
       "}\n",
       "\n",
       "#sk-container-id-1 div.sk-estimator.fitted input.sk-toggleable__control:checked~label.sk-toggleable__label {\n",
       "  /* fitted */\n",
       "  background-color: var(--sklearn-color-fitted-level-2);\n",
       "}\n",
       "\n",
       "#sk-container-id-1 div.sk-label label.sk-toggleable__label,\n",
       "#sk-container-id-1 div.sk-label label {\n",
       "  /* The background is the default theme color */\n",
       "  color: var(--sklearn-color-text-on-default-background);\n",
       "}\n",
       "\n",
       "/* On hover, darken the color of the background */\n",
       "#sk-container-id-1 div.sk-label:hover label.sk-toggleable__label {\n",
       "  color: var(--sklearn-color-text);\n",
       "  background-color: var(--sklearn-color-unfitted-level-2);\n",
       "}\n",
       "\n",
       "/* Label box, darken color on hover, fitted */\n",
       "#sk-container-id-1 div.sk-label.fitted:hover label.sk-toggleable__label.fitted {\n",
       "  color: var(--sklearn-color-text);\n",
       "  background-color: var(--sklearn-color-fitted-level-2);\n",
       "}\n",
       "\n",
       "/* Estimator label */\n",
       "\n",
       "#sk-container-id-1 div.sk-label label {\n",
       "  font-family: monospace;\n",
       "  font-weight: bold;\n",
       "  display: inline-block;\n",
       "  line-height: 1.2em;\n",
       "}\n",
       "\n",
       "#sk-container-id-1 div.sk-label-container {\n",
       "  text-align: center;\n",
       "}\n",
       "\n",
       "/* Estimator-specific */\n",
       "#sk-container-id-1 div.sk-estimator {\n",
       "  font-family: monospace;\n",
       "  border: 1px dotted var(--sklearn-color-border-box);\n",
       "  border-radius: 0.25em;\n",
       "  box-sizing: border-box;\n",
       "  margin-bottom: 0.5em;\n",
       "  /* unfitted */\n",
       "  background-color: var(--sklearn-color-unfitted-level-0);\n",
       "}\n",
       "\n",
       "#sk-container-id-1 div.sk-estimator.fitted {\n",
       "  /* fitted */\n",
       "  background-color: var(--sklearn-color-fitted-level-0);\n",
       "}\n",
       "\n",
       "/* on hover */\n",
       "#sk-container-id-1 div.sk-estimator:hover {\n",
       "  /* unfitted */\n",
       "  background-color: var(--sklearn-color-unfitted-level-2);\n",
       "}\n",
       "\n",
       "#sk-container-id-1 div.sk-estimator.fitted:hover {\n",
       "  /* fitted */\n",
       "  background-color: var(--sklearn-color-fitted-level-2);\n",
       "}\n",
       "\n",
       "/* Specification for estimator info (e.g. \"i\" and \"?\") */\n",
       "\n",
       "/* Common style for \"i\" and \"?\" */\n",
       "\n",
       ".sk-estimator-doc-link,\n",
       "a:link.sk-estimator-doc-link,\n",
       "a:visited.sk-estimator-doc-link {\n",
       "  float: right;\n",
       "  font-size: smaller;\n",
       "  line-height: 1em;\n",
       "  font-family: monospace;\n",
       "  background-color: var(--sklearn-color-background);\n",
       "  border-radius: 1em;\n",
       "  height: 1em;\n",
       "  width: 1em;\n",
       "  text-decoration: none !important;\n",
       "  margin-left: 1ex;\n",
       "  /* unfitted */\n",
       "  border: var(--sklearn-color-unfitted-level-1) 1pt solid;\n",
       "  color: var(--sklearn-color-unfitted-level-1);\n",
       "}\n",
       "\n",
       ".sk-estimator-doc-link.fitted,\n",
       "a:link.sk-estimator-doc-link.fitted,\n",
       "a:visited.sk-estimator-doc-link.fitted {\n",
       "  /* fitted */\n",
       "  border: var(--sklearn-color-fitted-level-1) 1pt solid;\n",
       "  color: var(--sklearn-color-fitted-level-1);\n",
       "}\n",
       "\n",
       "/* On hover */\n",
       "div.sk-estimator:hover .sk-estimator-doc-link:hover,\n",
       ".sk-estimator-doc-link:hover,\n",
       "div.sk-label-container:hover .sk-estimator-doc-link:hover,\n",
       ".sk-estimator-doc-link:hover {\n",
       "  /* unfitted */\n",
       "  background-color: var(--sklearn-color-unfitted-level-3);\n",
       "  color: var(--sklearn-color-background);\n",
       "  text-decoration: none;\n",
       "}\n",
       "\n",
       "div.sk-estimator.fitted:hover .sk-estimator-doc-link.fitted:hover,\n",
       ".sk-estimator-doc-link.fitted:hover,\n",
       "div.sk-label-container:hover .sk-estimator-doc-link.fitted:hover,\n",
       ".sk-estimator-doc-link.fitted:hover {\n",
       "  /* fitted */\n",
       "  background-color: var(--sklearn-color-fitted-level-3);\n",
       "  color: var(--sklearn-color-background);\n",
       "  text-decoration: none;\n",
       "}\n",
       "\n",
       "/* Span, style for the box shown on hovering the info icon */\n",
       ".sk-estimator-doc-link span {\n",
       "  display: none;\n",
       "  z-index: 9999;\n",
       "  position: relative;\n",
       "  font-weight: normal;\n",
       "  right: .2ex;\n",
       "  padding: .5ex;\n",
       "  margin: .5ex;\n",
       "  width: min-content;\n",
       "  min-width: 20ex;\n",
       "  max-width: 50ex;\n",
       "  color: var(--sklearn-color-text);\n",
       "  box-shadow: 2pt 2pt 4pt #999;\n",
       "  /* unfitted */\n",
       "  background: var(--sklearn-color-unfitted-level-0);\n",
       "  border: .5pt solid var(--sklearn-color-unfitted-level-3);\n",
       "}\n",
       "\n",
       ".sk-estimator-doc-link.fitted span {\n",
       "  /* fitted */\n",
       "  background: var(--sklearn-color-fitted-level-0);\n",
       "  border: var(--sklearn-color-fitted-level-3);\n",
       "}\n",
       "\n",
       ".sk-estimator-doc-link:hover span {\n",
       "  display: block;\n",
       "}\n",
       "\n",
       "/* \"?\"-specific style due to the `<a>` HTML tag */\n",
       "\n",
       "#sk-container-id-1 a.estimator_doc_link {\n",
       "  float: right;\n",
       "  font-size: 1rem;\n",
       "  line-height: 1em;\n",
       "  font-family: monospace;\n",
       "  background-color: var(--sklearn-color-background);\n",
       "  border-radius: 1rem;\n",
       "  height: 1rem;\n",
       "  width: 1rem;\n",
       "  text-decoration: none;\n",
       "  /* unfitted */\n",
       "  color: var(--sklearn-color-unfitted-level-1);\n",
       "  border: var(--sklearn-color-unfitted-level-1) 1pt solid;\n",
       "}\n",
       "\n",
       "#sk-container-id-1 a.estimator_doc_link.fitted {\n",
       "  /* fitted */\n",
       "  border: var(--sklearn-color-fitted-level-1) 1pt solid;\n",
       "  color: var(--sklearn-color-fitted-level-1);\n",
       "}\n",
       "\n",
       "/* On hover */\n",
       "#sk-container-id-1 a.estimator_doc_link:hover {\n",
       "  /* unfitted */\n",
       "  background-color: var(--sklearn-color-unfitted-level-3);\n",
       "  color: var(--sklearn-color-background);\n",
       "  text-decoration: none;\n",
       "}\n",
       "\n",
       "#sk-container-id-1 a.estimator_doc_link.fitted:hover {\n",
       "  /* fitted */\n",
       "  background-color: var(--sklearn-color-fitted-level-3);\n",
       "}\n",
       "</style><div id=\"sk-container-id-1\" class=\"sk-top-container\"><div class=\"sk-text-repr-fallback\"><pre>NeuralTreeNetRegressor(estimator=None, lr=0.0001, max_iter=10, verbose=1)</pre><b>In a Jupyter environment, please rerun this cell to show the HTML representation or trust the notebook. <br />On GitHub, the HTML representation is unable to render, please try loading this page with nbviewer.org.</b></div><div class=\"sk-container\" hidden><div class=\"sk-item\"><div class=\"sk-estimator fitted sk-toggleable\"><input class=\"sk-toggleable__control sk-hidden--visually\" id=\"sk-estimator-id-1\" type=\"checkbox\" checked><label for=\"sk-estimator-id-1\" class=\"sk-toggleable__label fitted sk-toggleable__label-arrow fitted\">&nbsp;NeuralTreeNetRegressor<span class=\"sk-estimator-doc-link fitted\">i<span>Fitted</span></span></label><div class=\"sk-toggleable__content fitted\"><pre>NeuralTreeNetRegressor(estimator=None, lr=0.0001, max_iter=10, verbose=1)</pre></div> </div></div></div></div>"
      ],
      "text/plain": [
       "NeuralTreeNetRegressor(estimator=None, lr=0.0001, max_iter=10, verbose=1)"
      ]
     },
     "execution_count": 97,
     "metadata": {},
     "output_type": "execute_result"
    }
   ],
   "source": [
    "reg.fit(x_train, expected)"
   ]
  },
  {
   "cell_type": "code",
   "execution_count": 98,
   "id": "c3ae49b2",
   "metadata": {},
   "outputs": [
    {
     "data": {
      "text/plain": [
       "(np.float64(1.324478311165207), np.float64(0.22581473935951998))"
      ]
     },
     "execution_count": 98,
     "metadata": {},
     "output_type": "execute_result"
    }
   ],
   "source": [
    "got = reg.predict(x_train)\n",
    "numpy.abs(got - expected).max(), numpy.abs(got - expected).mean()"
   ]
  },
  {
   "cell_type": "markdown",
   "id": "831e538f",
   "metadata": {},
   "source": [
    "Ca ne marche pas aussi bien que prévu. Il faudrait sans doute plusieurs itérations et jouer avec les paramètres d'apprentissage."
   ]
  },
  {
   "cell_type": "code",
   "execution_count": 50,
   "id": "6cfe39bd",
   "metadata": {},
   "outputs": [],
   "source": []
  }
 ],
 "metadata": {
  "kernelspec": {
   "display_name": "Python 3 (ipykernel)",
   "language": "python",
   "name": "python3"
  },
  "language_info": {
   "codemirror_mode": {
    "name": "ipython",
    "version": 3
   },
   "file_extension": ".py",
   "mimetype": "text/x-python",
   "name": "python",
   "nbconvert_exporter": "python",
   "pygments_lexer": "ipython3",
   "version": "3.10.12"
  }
 },
 "nbformat": 4,
 "nbformat_minor": 5
}
