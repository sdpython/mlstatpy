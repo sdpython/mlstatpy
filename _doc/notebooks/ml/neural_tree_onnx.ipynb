{
  "cells": [
    {
      "cell_type": "markdown",
      "id": "4b855db5",
      "metadata": {},
      "source": [
        "# NeuralTreeNet and ONNX\n",
        "\n",
        "La conversion d'un arbre de d\u00e9cision au format ONNX peut cr\u00e9er des diff\u00e9rences entre le mod\u00e8le original et le mod\u00e8le converti (voir [Issues when switching to float](http://www.xavierdupre.fr/app/onnxcustom/helpsphinx/gyexamples/plot_ebegin_float_double.html). Le probl\u00e8me vient d'un changement de type, les seuils de d\u00e9cisions sont arrondis au float32 le plus proche de leur valeur en float64 (double). Qu'advient-il si l'arbre de d\u00e9cision est converti en r\u00e9seau de neurones d'abord.\n",
        "\n",
        "L'approximation des seuils de d\u00e9cision ne change pas grand chose dans la majorit\u00e9 des cas. Cependant, il est possible que la comparaison d'une variable \u00e0 un seuil de d\u00e9cision arrondi soit l'oppos\u00e9 de celle avec le seuil non arrondi. Dans ce cas, la d\u00e9cision suit un chemin diff\u00e9rent dans l'arbre."
      ]
    },
    {
      "cell_type": "code",
      "execution_count": 1,
      "id": "636a122a",
      "metadata": {},
      "outputs": [
        {
          "data": {
            "text/html": [
              "<div id=\"my_id_menu_nb\">run previous cell, wait for 2 seconds</div>\n",
              "<script>\n",
              "function repeat_indent_string(n){\n",
              "    var a = \"\" ;\n",
              "    for ( ; n > 0 ; --n)\n",
              "        a += \"    \";\n",
              "    return a;\n",
              "}\n",
              "// look up into all sections and builds an automated menu //\n",
              "var update_menu_string = function(begin, lfirst, llast, sformat, send, keep_item, begin_format, end_format) {\n",
              "    var anchors = document.getElementsByClassName(\"section\");\n",
              "    if (anchors.length == 0) {\n",
              "        anchors = document.getElementsByClassName(\"text_cell_render rendered_html\");\n",
              "    }\n",
              "    var i,t;\n",
              "    var text_menu = begin;\n",
              "    var text_memo = \"<pre>\\nlength:\" + anchors.length + \"\\n\";\n",
              "    var ind = \"\";\n",
              "    var memo_level = 1;\n",
              "    var href;\n",
              "    var tags = [];\n",
              "    var main_item = 0;\n",
              "    var format_open = 0;\n",
              "    for (i = 0; i <= llast; i++)\n",
              "        tags.push(\"h\" + i);\n",
              "\n",
              "    for (i = 0; i < anchors.length; i++) {\n",
              "        text_memo += \"**\" + anchors[i].id + \"--\\n\";\n",
              "\n",
              "        var child = null;\n",
              "        for(t = 0; t < tags.length; t++) {\n",
              "            var r = anchors[i].getElementsByTagName(tags[t]);\n",
              "            if (r.length > 0) {\n",
              "child = r[0];\n",
              "break;\n",
              "            }\n",
              "        }\n",
              "        if (child == null) {\n",
              "            text_memo += \"null\\n\";\n",
              "            continue;\n",
              "        }\n",
              "        if (anchors[i].hasAttribute(\"id\")) {\n",
              "            // when converted in RST\n",
              "            href = anchors[i].id;\n",
              "            text_memo += \"#1-\" + href;\n",
              "            // passer \u00e0 child suivant (le chercher)\n",
              "        }\n",
              "        else if (child.hasAttribute(\"id\")) {\n",
              "            // in a notebook\n",
              "            href = child.id;\n",
              "            text_memo += \"#2-\" + href;\n",
              "        }\n",
              "        else {\n",
              "            text_memo += \"#3-\" + \"*\" + \"\\n\";\n",
              "            continue;\n",
              "        }\n",
              "        var title = child.textContent;\n",
              "        var level = parseInt(child.tagName.substring(1,2));\n",
              "\n",
              "        text_memo += \"--\" + level + \"?\" + lfirst + \"--\" + title + \"\\n\";\n",
              "\n",
              "        if ((level < lfirst) || (level > llast)) {\n",
              "            continue ;\n",
              "        }\n",
              "        if (title.endsWith('\u00b6')) {\n",
              "            title = title.substring(0,title.length-1).replace(\"<\", \"&lt;\")\n",
              "         .replace(\">\", \"&gt;\").replace(\"&\", \"&amp;\");\n",
              "        }\n",
              "        if (title.length == 0) {\n",
              "            continue;\n",
              "        }\n",
              "\n",
              "        while (level < memo_level) {\n",
              "            text_menu += end_format + \"</ul>\\n\";\n",
              "            format_open -= 1;\n",
              "            memo_level -= 1;\n",
              "        }\n",
              "        if (level == lfirst) {\n",
              "            main_item += 1;\n",
              "        }\n",
              "        if (keep_item != -1 && main_item != keep_item + 1) {\n",
              "            // alert(main_item + \" - \" + level + \" - \" + keep_item);\n",
              "            continue;\n",
              "        }\n",
              "        while (level > memo_level) {\n",
              "            text_menu += \"<ul>\\n\";\n",
              "            memo_level += 1;\n",
              "        }\n",
              "        text_menu += repeat_indent_string(level-2);\n",
              "        text_menu += begin_format + sformat.replace(\"__HREF__\", href).replace(\"__TITLE__\", title);\n",
              "        format_open += 1;\n",
              "    }\n",
              "    while (1 < memo_level) {\n",
              "        text_menu += end_format + \"</ul>\\n\";\n",
              "        memo_level -= 1;\n",
              "        format_open -= 1;\n",
              "    }\n",
              "    text_menu += send;\n",
              "    //text_menu += \"\\n\" + text_memo;\n",
              "\n",
              "    while (format_open > 0) {\n",
              "        text_menu += end_format;\n",
              "        format_open -= 1;\n",
              "    }\n",
              "    return text_menu;\n",
              "};\n",
              "var update_menu = function() {\n",
              "    var sbegin = \"\";\n",
              "    var sformat = '<a href=\"#__HREF__\">__TITLE__</a>';\n",
              "    var send = \"\";\n",
              "    var begin_format = '<li>';\n",
              "    var end_format = '</li>';\n",
              "    var keep_item = -1;\n",
              "    var text_menu = update_menu_string(sbegin, 2, 4, sformat, send, keep_item,\n",
              "       begin_format, end_format);\n",
              "    var menu = document.getElementById(\"my_id_menu_nb\");\n",
              "    menu.innerHTML=text_menu;\n",
              "};\n",
              "window.setTimeout(update_menu,2000);\n",
              "            </script>"
            ],
            "text/plain": [
              "<IPython.core.display.HTML object>"
            ]
          },
          "execution_count": 2,
          "metadata": {},
          "output_type": "execute_result"
        }
      ],
      "source": [
        "from jyquickhelper import add_notebook_menu\n",
        "add_notebook_menu()"
      ]
    },
    {
      "cell_type": "code",
      "execution_count": 2,
      "id": "2f698cc0",
      "metadata": {},
      "outputs": [],
      "source": [
        "%matplotlib inline"
      ]
    },
    {
      "cell_type": "code",
      "execution_count": 3,
      "id": "ad53d7c6",
      "metadata": {},
      "outputs": [],
      "source": [
        "%load_ext mlprodict"
      ]
    },
    {
      "cell_type": "markdown",
      "id": "c7b2fb41",
      "metadata": {},
      "source": [
        "## Jeu de donn\u00e9es\n",
        "\n",
        "On construit un jeu de donn\u00e9e al\u00e9atoire."
      ]
    },
    {
      "cell_type": "code",
      "execution_count": 4,
      "id": "a8feffa5",
      "metadata": {},
      "outputs": [],
      "source": [
        "import numpy\n",
        "\n",
        "X = numpy.random.randn(10000, 10)\n",
        "y = X.sum(axis=1) / X.shape[1] + numpy.random.randn(X.shape[0]) / 2000\n",
        "X = X.astype(numpy.float64)\n",
        "y = y.astype(numpy.float64)"
      ]
    },
    {
      "cell_type": "code",
      "execution_count": 5,
      "id": "3c854905",
      "metadata": {},
      "outputs": [],
      "source": [
        "middle = X.shape[0] // 2\n",
        "X_train, X_test = X[:middle], X[middle:]\n",
        "y_train, y_test = y[:middle], y[middle:]"
      ]
    },
    {
      "cell_type": "markdown",
      "id": "2972ef7f",
      "metadata": {},
      "source": [
        "## Partie scikit-learn"
      ]
    },
    {
      "cell_type": "markdown",
      "id": "2a19a0c1",
      "metadata": {},
      "source": [
        "### Caler un arbre de d\u00e9cision"
      ]
    },
    {
      "cell_type": "code",
      "execution_count": 6,
      "id": "bfc49123",
      "metadata": {},
      "outputs": [
        {
          "data": {
            "text/plain": [
              "(0.8645606992691686, 0.4077225150357101)"
            ]
          },
          "execution_count": 7,
          "metadata": {},
          "output_type": "execute_result"
        }
      ],
      "source": [
        "from sklearn.tree import DecisionTreeRegressor\n",
        "\n",
        "tree = DecisionTreeRegressor(max_depth=10)\n",
        "tree.fit(X_train, y_train)\n",
        "tree.score(X_train, y_train), tree.score(X_test, y_test)"
      ]
    },
    {
      "cell_type": "code",
      "execution_count": 7,
      "id": "a38b0426",
      "metadata": {},
      "outputs": [
        {
          "data": {
            "text/plain": [
              "0.4077225150357101"
            ]
          },
          "execution_count": 8,
          "metadata": {},
          "output_type": "execute_result"
        }
      ],
      "source": [
        "from sklearn.metrics import r2_score\n",
        "r2_score(y_test, tree.predict(X_test))"
      ]
    },
    {
      "cell_type": "markdown",
      "id": "8e6038ff",
      "metadata": {},
      "source": [
        "### Conversion au format ONNX"
      ]
    },
    {
      "cell_type": "code",
      "execution_count": 8,
      "id": "f6849a2d",
      "metadata": {},
      "outputs": [],
      "source": [
        "from mlprodict.onnx_conv import to_onnx\n",
        "\n",
        "onx = to_onnx(tree, X[:1].astype(numpy.float32))"
      ]
    },
    {
      "cell_type": "code",
      "execution_count": 9,
      "id": "3daf9db1",
      "metadata": {},
      "outputs": [
        {
          "data": {
            "text/plain": [
              "1.9300789394897055"
            ]
          },
          "execution_count": 10,
          "metadata": {},
          "output_type": "execute_result"
        }
      ],
      "source": [
        "from mlprodict.onnxrt import OnnxInference\n",
        "\n",
        "x_exp = X_test\n",
        "\n",
        "oinf = OnnxInference(onx, runtime='onnxruntime1')\n",
        "expected = tree.predict(x_exp)\n",
        "\n",
        "got = oinf.run({'X': x_exp.astype(numpy.float32)})['variable']\n",
        "numpy.abs(got - expected).max()"
      ]
    },
    {
      "cell_type": "code",
      "execution_count": 10,
      "id": "7ce247da",
      "metadata": {
        "scrolled": false
      },
      "outputs": [
        {
          "data": {
            "text/plain": [
              "\"opset: domain='ai.onnx.ml' version=1\\nopset: domain='' version=15\\ninput: name='X' type=dtype('float32') shape=[None, 10]\\nTreeEnsembleRegressor(X, n_targets=1, nodes_falsenodeids=1735:[842,435,218...0,0,0], nodes_featureids=1735:[3,9,1...0,0,0], nodes_hitrates=1735:[1.0,1.0...1.0,1.0], nodes_missing_value_tracks_true=1735:[0,0,0...0,0,0], nodes_modes=1735:[b'BRANCH_LEQ',b'BRANCH_LEQ'...b'LEAF',b'LEAF'], nodes_nodeids=1735:[0,1,2...1732,1733,1734], nodes_treeids=1735:[0,0,0...0,0,0], nodes_truenodeids=1735:[1,2,3...0,0,0], nodes_values=1735:[-0.14788652956485748,0.1124945729970932...0.0,0.0], post_transform=b'NONE', target_ids=868:[0,0,0...0,0,0], target_nodeids=868:[10,11,13...1732,1733,1734], target_treeids=868:[0,0,0...0,0,0], target_weights=868:[-0.9847356677055359,-0.9220503568649292...1.0245341062545776,0.8101320862770081]) -> variable\\noutput: name='variable' type=dtype('float32') shape=[None, 1]\""
            ]
          },
          "execution_count": 11,
          "metadata": {},
          "output_type": "execute_result"
        }
      ],
      "source": [
        "from mlprodict.plotting.text_plot import onnx_simple_text_plot\n",
        "onnx_simple_text_plot(onx)"
      ]
    },
    {
      "cell_type": "markdown",
      "id": "1ada8e37",
      "metadata": {},
      "source": [
        "## Apr\u00e8s la conversion en un r\u00e9seau de neurones"
      ]
    },
    {
      "cell_type": "markdown",
      "id": "7238d09b",
      "metadata": {},
      "source": [
        "### Conversion en un r\u00e9seau de neurones\n",
        "\n",
        "Un param\u00e8tre permet de faire varier la pente des fonctions sigmo\u00efdes utilis\u00e9es."
      ]
    },
    {
      "cell_type": "code",
      "execution_count": 11,
      "id": "7729c242",
      "metadata": {},
      "outputs": [
        {
          "name": "stderr",
          "output_type": "stream",
          "text": [
            "100%|\u2588\u2588\u2588\u2588\u2588\u2588\u2588\u2588\u2588\u2588| 18/18 [00:05<00:00,  3.14it/s]\n"
          ]
        }
      ],
      "source": [
        "from tqdm import tqdm\n",
        "from pandas import DataFrame\n",
        "from mlstatpy.ml.neural_tree import NeuralTreeNet\n",
        "\n",
        "xe = x_exp[:500]\n",
        "expected = tree.predict(xe)\n",
        "\n",
        "data = []\n",
        "trees = {}\n",
        "for i in tqdm([0.3, 0.4, 0.5, 0.7, 0.9, 1] + list(range(5, 61, 5))):\n",
        "    root = NeuralTreeNet.create_from_tree(tree, k=i, arch='compact')\n",
        "    got = root.predict(xe)[:, -1]\n",
        "    me = numpy.abs(got - expected).mean()\n",
        "    mx = numpy.abs(got - expected).max()\n",
        "    obs = dict(k=i, max=mx, mean=me)\n",
        "    data.append(obs)\n",
        "    trees[i] = root"
      ]
    },
    {
      "cell_type": "code",
      "execution_count": 12,
      "id": "9d35377e",
      "metadata": {},
      "outputs": [
        {
          "data": {
            "text/html": [
              "<div>\n",
              "<style scoped>\n",
              "    .dataframe tbody tr th:only-of-type {\n",
              "        vertical-align: middle;\n",
              "    }\n",
              "\n",
              "    .dataframe tbody tr th {\n",
              "        vertical-align: top;\n",
              "    }\n",
              "\n",
              "    .dataframe thead th {\n",
              "        text-align: right;\n",
              "    }\n",
              "</style>\n",
              "<table border=\"1\" class=\"dataframe\">\n",
              "  <thead>\n",
              "    <tr style=\"text-align: right;\">\n",
              "      <th></th>\n",
              "      <th>k</th>\n",
              "      <th>max</th>\n",
              "      <th>mean</th>\n",
              "    </tr>\n",
              "  </thead>\n",
              "  <tbody>\n",
              "    <tr>\n",
              "      <th>0</th>\n",
              "      <td>0.3</td>\n",
              "      <td>1.341325</td>\n",
              "      <td>0.295485</td>\n",
              "    </tr>\n",
              "    <tr>\n",
              "      <th>1</th>\n",
              "      <td>0.4</td>\n",
              "      <td>0.669381</td>\n",
              "      <td>0.163060</td>\n",
              "    </tr>\n",
              "    <tr>\n",
              "      <th>2</th>\n",
              "      <td>0.5</td>\n",
              "      <td>0.790209</td>\n",
              "      <td>0.166492</td>\n",
              "    </tr>\n",
              "    <tr>\n",
              "      <th>3</th>\n",
              "      <td>0.7</td>\n",
              "      <td>0.871027</td>\n",
              "      <td>0.184475</td>\n",
              "    </tr>\n",
              "    <tr>\n",
              "      <th>4</th>\n",
              "      <td>0.9</td>\n",
              "      <td>0.894633</td>\n",
              "      <td>0.184283</td>\n",
              "    </tr>\n",
              "    <tr>\n",
              "      <th>5</th>\n",
              "      <td>1.0</td>\n",
              "      <td>0.899989</td>\n",
              "      <td>0.180919</td>\n",
              "    </tr>\n",
              "    <tr>\n",
              "      <th>6</th>\n",
              "      <td>5.0</td>\n",
              "      <td>0.601072</td>\n",
              "      <td>0.035020</td>\n",
              "    </tr>\n",
              "    <tr>\n",
              "      <th>7</th>\n",
              "      <td>10.0</td>\n",
              "      <td>0.413121</td>\n",
              "      <td>0.007813</td>\n",
              "    </tr>\n",
              "    <tr>\n",
              "      <th>8</th>\n",
              "      <td>15.0</td>\n",
              "      <td>0.259682</td>\n",
              "      <td>0.002347</td>\n",
              "    </tr>\n",
              "    <tr>\n",
              "      <th>9</th>\n",
              "      <td>20.0</td>\n",
              "      <td>0.169421</td>\n",
              "      <td>0.001562</td>\n",
              "    </tr>\n",
              "    <tr>\n",
              "      <th>10</th>\n",
              "      <td>25.0</td>\n",
              "      <td>0.169421</td>\n",
              "      <td>0.000854</td>\n",
              "    </tr>\n",
              "    <tr>\n",
              "      <th>11</th>\n",
              "      <td>30.0</td>\n",
              "      <td>0.169393</td>\n",
              "      <td>0.000607</td>\n",
              "    </tr>\n",
              "    <tr>\n",
              "      <th>12</th>\n",
              "      <td>35.0</td>\n",
              "      <td>0.165621</td>\n",
              "      <td>0.000562</td>\n",
              "    </tr>\n",
              "    <tr>\n",
              "      <th>13</th>\n",
              "      <td>40.0</td>\n",
              "      <td>0.061495</td>\n",
              "      <td>0.000263</td>\n",
              "    </tr>\n",
              "    <tr>\n",
              "      <th>14</th>\n",
              "      <td>45.0</td>\n",
              "      <td>0.060841</td>\n",
              "      <td>0.000214</td>\n",
              "    </tr>\n",
              "    <tr>\n",
              "      <th>15</th>\n",
              "      <td>50.0</td>\n",
              "      <td>0.058291</td>\n",
              "      <td>0.000208</td>\n",
              "    </tr>\n",
              "    <tr>\n",
              "      <th>16</th>\n",
              "      <td>55.0</td>\n",
              "      <td>0.050874</td>\n",
              "      <td>0.000193</td>\n",
              "    </tr>\n",
              "    <tr>\n",
              "      <th>17</th>\n",
              "      <td>60.0</td>\n",
              "      <td>0.045787</td>\n",
              "      <td>0.000165</td>\n",
              "    </tr>\n",
              "  </tbody>\n",
              "</table>\n",
              "</div>"
            ],
            "text/plain": [
              "       k       max      mean\n",
              "0    0.3  1.341325  0.295485\n",
              "1    0.4  0.669381  0.163060\n",
              "2    0.5  0.790209  0.166492\n",
              "3    0.7  0.871027  0.184475\n",
              "4    0.9  0.894633  0.184283\n",
              "5    1.0  0.899989  0.180919\n",
              "6    5.0  0.601072  0.035020\n",
              "7   10.0  0.413121  0.007813\n",
              "8   15.0  0.259682  0.002347\n",
              "9   20.0  0.169421  0.001562\n",
              "10  25.0  0.169421  0.000854\n",
              "11  30.0  0.169393  0.000607\n",
              "12  35.0  0.165621  0.000562\n",
              "13  40.0  0.061495  0.000263\n",
              "14  45.0  0.060841  0.000214\n",
              "15  50.0  0.058291  0.000208\n",
              "16  55.0  0.050874  0.000193\n",
              "17  60.0  0.045787  0.000165"
            ]
          },
          "execution_count": 13,
          "metadata": {},
          "output_type": "execute_result"
        }
      ],
      "source": [
        "df = DataFrame(data)\n",
        "df"
      ]
    },
    {
      "cell_type": "code",
      "execution_count": 13,
      "id": "0fcb9789",
      "metadata": {},
      "outputs": [
        {
          "data": {
            "image/png": "[encoded data removed]",
            "text/plain": [
              "<Figure size 432x288 with 1 Axes>"
            ]
          },
          "metadata": {
            "needs_background": "light"
          },
          "output_type": "display_data"
        }
      ],
      "source": [
        "df.set_index('k').plot(title=\"Pr\u00e9cision de la conversion\\nen r\u00e9seau de neurones\");"
      ]
    },
    {
      "cell_type": "markdown",
      "id": "1f4bb3d9",
      "metadata": {},
      "source": [
        "L'erreur est meilleure mais il faudrait recommencer l'exp\u00e9rience plusieurs fois avant de pouvoir conclure afin d'obtenir un interval de confiance pour le m\u00eame type de jeu de donn\u00e9es. Ce sera pour une autre fois. Le r\u00e9sultat d\u00e9pend du jeu de donn\u00e9es et surtout de la proximit\u00e9 des seuils de d\u00e9cisions. N\u00e9anmoins, on calcule l'erreur sur l'ensemble de la base de test. Celle-ci a \u00e9t\u00e9 tronqu\u00e9e pour aller plus vite."
      ]
    },
    {
      "cell_type": "code",
      "execution_count": 14,
      "id": "2f3eb6d0",
      "metadata": {},
      "outputs": [
        {
          "data": {
            "text/plain": [
              "(0.5220511194985693, 0.000318675264010377)"
            ]
          },
          "execution_count": 15,
          "metadata": {},
          "output_type": "execute_result"
        }
      ],
      "source": [
        "expected = tree.predict(x_exp)\n",
        "got = trees[50].predict(x_exp)[:, -1]\n",
        "numpy.abs(got - expected).max(), numpy.abs(got - expected).mean()"
      ]
    },
    {
      "cell_type": "markdown",
      "id": "77163512",
      "metadata": {},
      "source": [
        "On voit que l'erreur peut-\u00eatre tr\u00e8s grande. Elle reste n\u00e9anmoins plus petite que l'erreur de conversion introduite par ONNX."
      ]
    },
    {
      "cell_type": "markdown",
      "id": "738c8547",
      "metadata": {},
      "source": [
        "### Conversion au format ONNX\n",
        "\n",
        "On cr\u00e9e tout d'abord une classe qui suit l'API de scikit-learn et qui englobe l'arbre qui vient d'\u00eatre cr\u00e9\u00e9 qui sera ensuite convertit en ONNX."
      ]
    },
    {
      "cell_type": "code",
      "execution_count": 15,
      "id": "2439e4fa",
      "metadata": {},
      "outputs": [],
      "source": [
        "from mlstatpy.ml.neural_tree import NeuralTreeNetRegressor\n",
        "\n",
        "reg = NeuralTreeNetRegressor(trees[50])\n",
        "onx2 = to_onnx(reg, X[:1].astype(numpy.float32))"
      ]
    },
    {
      "cell_type": "code",
      "execution_count": 16,
      "id": "eae47e6a",
      "metadata": {},
      "outputs": [
        {
          "name": "stdout",
          "output_type": "stream",
          "text": [
            "opset: domain='' version=15\n",
            "input: name='X' type=dtype('float32') shape=[None, 10]\n",
            "init: name='Ma_MatMulcst' type=dtype('float32') shape=(8670,)\n",
            "init: name='Ad_Addcst' type=dtype('float32') shape=(867,)\n",
            "init: name='Mu_Mulcst' type=dtype('float32') shape=(1,) -- array([4.], dtype=float32)\n",
            "init: name='Ma_MatMulcst1' type=dtype('float32') shape=(752556,)\n",
            "init: name='Ad_Addcst1' type=dtype('float32') shape=(868,)\n",
            "init: name='Ma_MatMulcst2' type=dtype('float32') shape=(868,)\n",
            "init: name='Ad_Addcst2' type=dtype('float32') shape=(1,) -- array([0.], dtype=float32)\n",
            "MatMul(X, Ma_MatMulcst) -> Ma_Y02\n",
            "  Add(Ma_Y02, Ad_Addcst) -> Ad_C02\n",
            "    Mul(Ad_C02, Mu_Mulcst) -> Mu_C01\n",
            "      Sigmoid(Mu_C01) -> Si_Y01\n",
            "        MatMul(Si_Y01, Ma_MatMulcst1) -> Ma_Y01\n",
            "          Add(Ma_Y01, Ad_Addcst1) -> Ad_C01\n",
            "            Mul(Ad_C01, Mu_Mulcst) -> Mu_C0\n",
            "              Sigmoid(Mu_C0) -> Si_Y0\n",
            "                MatMul(Si_Y0, Ma_MatMulcst2) -> Ma_Y0\n",
            "                  Add(Ma_Y0, Ad_Addcst2) -> Ad_C0\n",
            "                    Identity(Ad_C0) -> variable\n",
            "output: name='variable' type=dtype('float32') shape=[None, 1]\n"
          ]
        }
      ],
      "source": [
        "print(onnx_simple_text_plot(onx2))"
      ]
    },
    {
      "cell_type": "code",
      "execution_count": 17,
      "id": "1d4e272f",
      "metadata": {},
      "outputs": [
        {
          "data": {
            "text/plain": [
              "1.9300789394897055"
            ]
          },
          "execution_count": 18,
          "metadata": {},
          "output_type": "execute_result"
        }
      ],
      "source": [
        "oinf2 = OnnxInference(onx2, runtime='onnxruntime1')\n",
        "expected = tree.predict(x_exp)\n",
        "\n",
        "got = oinf2.run({'X': x_exp.astype(numpy.float32)})['variable']\n",
        "numpy.abs(got - expected).max()"
      ]
    },
    {
      "cell_type": "markdown",
      "id": "f4e64f63",
      "metadata": {},
      "source": [
        "L'erreur est la m\u00eame."
      ]
    },
    {
      "cell_type": "markdown",
      "id": "c9207392",
      "metadata": {},
      "source": [
        "## Temps de calcul"
      ]
    },
    {
      "cell_type": "code",
      "execution_count": 18,
      "id": "a6febd37",
      "metadata": {},
      "outputs": [],
      "source": [
        "x_exp32 = x_exp.astype(numpy.float32)"
      ]
    },
    {
      "cell_type": "markdown",
      "id": "1bf0109e",
      "metadata": {},
      "source": [
        "Tout d'abord le temps de calcul pour scikit-learn."
      ]
    },
    {
      "cell_type": "code",
      "execution_count": 19,
      "id": "07caad53",
      "metadata": {},
      "outputs": [
        {
          "name": "stdout",
          "output_type": "stream",
          "text": [
            "682 \u00b5s \u00b1 14 \u00b5s per loop (mean \u00b1 std. dev. of 7 runs, 1,000 loops each)\n"
          ]
        }
      ],
      "source": [
        "%timeit tree.predict(x_exp32)"
      ]
    },
    {
      "cell_type": "markdown",
      "id": "0cea5139",
      "metadata": {},
      "source": [
        "Le temps de calcul pour l'arbre de d\u00e9cision au format ONNX."
      ]
    },
    {
      "cell_type": "code",
      "execution_count": 20,
      "id": "984413fa",
      "metadata": {},
      "outputs": [
        {
          "name": "stdout",
          "output_type": "stream",
          "text": [
            "275 \u00b5s \u00b1 21.3 \u00b5s per loop (mean \u00b1 std. dev. of 7 runs, 1,000 loops each)\n"
          ]
        }
      ],
      "source": [
        "%timeit oinf.run({'X': x_exp32})['variable']"
      ]
    },
    {
      "cell_type": "markdown",
      "id": "afb4f6bb",
      "metadata": {},
      "source": [
        "Et le temps de calcul pour le r\u00e9seau de neurones au format ONNX.m"
      ]
    },
    {
      "cell_type": "code",
      "execution_count": 21,
      "id": "e3268dcd",
      "metadata": {},
      "outputs": [
        {
          "name": "stdout",
          "output_type": "stream",
          "text": [
            "83.5 ms \u00b1 7.88 ms per loop (mean \u00b1 std. dev. of 7 runs, 10 loops each)\n"
          ]
        }
      ],
      "source": [
        "%timeit oinf2.run({'X': x_exp32})['variable']"
      ]
    },
    {
      "cell_type": "markdown",
      "id": "b3eafba0",
      "metadata": {},
      "source": [
        "Ce temps de calcul tr\u00e8s long est attendu car le mod\u00e8le contient une multiplication de matrice tr\u00e8s grande."
      ]
    },
    {
      "cell_type": "code",
      "execution_count": 22,
      "id": "d9911fff",
      "metadata": {},
      "outputs": [
        {
          "name": "stdout",
          "output_type": "stream",
          "text": [
            "(867, 11) (867,)\n",
            "(868, 868) (868,)\n",
            "(869,) ()\n"
          ]
        }
      ],
      "source": [
        "for node in trees[50].nodes:\n",
        "    print(node.coef.shape, node.bias.shape)"
      ]
    },
    {
      "cell_type": "markdown",
      "id": "27e187ac",
      "metadata": {},
      "source": [
        "Cela dit, la plus grande matrice est creuse, elle peut \u00eatre r\u00e9duite consid\u00e9rablement."
      ]
    },
    {
      "cell_type": "code",
      "execution_count": 23,
      "id": "e97479fe",
      "metadata": {},
      "outputs": [
        {
          "name": "stdout",
          "output_type": "stream",
          "text": [
            "coef.shape=(867, 11), size dense=9537, size sparse=1734, ratio=0.18181818181818182\n",
            "coef.shape=(868, 868), size dense=753424, size sparse=9415, ratio=0.012496283633120261\n",
            "coef.shape=(869,), size dense=869, size sparse=868, ratio=0.998849252013809\n"
          ]
        }
      ],
      "source": [
        "from scipy.sparse import csr_matrix\n",
        "\n",
        "for node in trees[50].nodes:\n",
        "    csr = csr_matrix(node.coef)\n",
        "    print(f\"coef.shape={node.coef.shape}, size dense={node.coef.size}, \"\n",
        "          f\"size sparse={csr.size}, ratio={csr.size / node.coef.size}\")"
      ]
    },
    {
      "cell_type": "code",
      "execution_count": 24,
      "id": "125547d9",
      "metadata": {},
      "outputs": [
        {
          "name": "stdout",
          "output_type": "stream",
          "text": [
            "213 \u00b5s \u00b1 3.32 \u00b5s per loop (mean \u00b1 std. dev. of 7 runs, 1,000 loops each)\n"
          ]
        }
      ],
      "source": [
        "r = numpy.random.randn(trees[50].nodes[1].coef.shape[0])\n",
        "mat = trees[50].nodes[1].coef\n",
        "%timeit mat @ r"
      ]
    },
    {
      "cell_type": "code",
      "execution_count": 25,
      "id": "ad7173e5",
      "metadata": {},
      "outputs": [
        {
          "name": "stdout",
          "output_type": "stream",
          "text": [
            "15.3 \u00b5s \u00b1 313 ns per loop (mean \u00b1 std. dev. of 7 runs, 100,000 loops each)\n"
          ]
        }
      ],
      "source": [
        "csr = csr_matrix(mat)\n",
        "%timeit csr @ r"
      ]
    },
    {
      "cell_type": "markdown",
      "id": "7599d94e",
      "metadata": {},
      "source": [
        "Ce serait beaucoup plus rapide avec une matrice sparse. Le mod\u00e8le ONNX se d\u00e9compose comme suit."
      ]
    },
    {
      "cell_type": "code",
      "execution_count": 26,
      "id": "0c1839fd",
      "metadata": {},
      "outputs": [
        {
          "name": "stdout",
          "output_type": "stream",
          "text": [
            "opset: domain='' version=15\n",
            "input: name='X' type=dtype('float32') shape=[None, 10]\n",
            "init: name='Ma_MatMulcst' type=dtype('float32') shape=(8670,)\n",
            "init: name='Ad_Addcst' type=dtype('float32') shape=(867,)\n",
            "init: name='Mu_Mulcst' type=dtype('float32') shape=(1,) -- array([4.], dtype=float32)\n",
            "init: name='Ma_MatMulcst1' type=dtype('float32') shape=(752556,)\n",
            "init: name='Ad_Addcst1' type=dtype('float32') shape=(868,)\n",
            "init: name='Ma_MatMulcst2' type=dtype('float32') shape=(868,)\n",
            "init: name='Ad_Addcst2' type=dtype('float32') shape=(1,) -- array([0.], dtype=float32)\n",
            "MatMul(X, Ma_MatMulcst) -> Ma_Y02\n",
            "  Add(Ma_Y02, Ad_Addcst) -> Ad_C02\n",
            "    Mul(Ad_C02, Mu_Mulcst) -> Mu_C01\n",
            "      Sigmoid(Mu_C01) -> Si_Y01\n",
            "        MatMul(Si_Y01, Ma_MatMulcst1) -> Ma_Y01\n",
            "          Add(Ma_Y01, Ad_Addcst1) -> Ad_C01\n",
            "            Mul(Ad_C01, Mu_Mulcst) -> Mu_C0\n",
            "              Sigmoid(Mu_C0) -> Si_Y0\n",
            "                MatMul(Si_Y0, Ma_MatMulcst2) -> Ma_Y0\n",
            "                  Add(Ma_Y0, Ad_Addcst2) -> Ad_C0\n",
            "                    Identity(Ad_C0) -> variable\n",
            "output: name='variable' type=dtype('float32') shape=[None, 1]\n"
          ]
        }
      ],
      "source": [
        "print(onnx_simple_text_plot(onx2))"
      ]
    },
    {
      "cell_type": "markdown",
      "id": "318b95d7",
      "metadata": {},
      "source": [
        "Voyons comment le temps de calcul se r\u00e9partit."
      ]
    },
    {
      "cell_type": "code",
      "execution_count": 27,
      "id": "11bccd22",
      "metadata": {},
      "outputs": [],
      "source": [
        "oinfpr = OnnxInference(onx2, runtime=\"onnxruntime1\",\n",
        "                      runtime_options={\"enable_profiling\": True})\n",
        "for i in range(0, 43):\n",
        "    oinfpr.run({\"X\": x_exp32})"
      ]
    },
    {
      "cell_type": "code",
      "execution_count": 28,
      "id": "5485970b",
      "metadata": {},
      "outputs": [
        {
          "data": {
            "text/html": [
              "<div>\n",
              "<style scoped>\n",
              "    .dataframe tbody tr th:only-of-type {\n",
              "        vertical-align: middle;\n",
              "    }\n",
              "\n",
              "    .dataframe tbody tr th {\n",
              "        vertical-align: top;\n",
              "    }\n",
              "\n",
              "    .dataframe thead th {\n",
              "        text-align: right;\n",
              "    }\n",
              "</style>\n",
              "<table border=\"1\" class=\"dataframe\">\n",
              "  <thead>\n",
              "    <tr style=\"text-align: right;\">\n",
              "      <th></th>\n",
              "      <th>cat</th>\n",
              "      <th>pid</th>\n",
              "      <th>tid</th>\n",
              "      <th>dur</th>\n",
              "      <th>ts</th>\n",
              "      <th>ph</th>\n",
              "      <th>name</th>\n",
              "      <th>args_op_name</th>\n",
              "      <th>args_parameter_size</th>\n",
              "      <th>args_graph_index</th>\n",
              "      <th>args_provider</th>\n",
              "      <th>args_exec_plan_index</th>\n",
              "      <th>args_activation_size</th>\n",
              "      <th>args_output_size</th>\n",
              "      <th>args_input_type_shape</th>\n",
              "      <th>args_output_type_shape</th>\n",
              "      <th>args_thread_scheduling_stats</th>\n",
              "    </tr>\n",
              "  </thead>\n",
              "  <tbody>\n",
              "    <tr>\n",
              "      <th>0</th>\n",
              "      <td>Session</td>\n",
              "      <td>71460</td>\n",
              "      <td>89468</td>\n",
              "      <td>1245</td>\n",
              "      <td>3</td>\n",
              "      <td>X</td>\n",
              "      <td>model_loading_array</td>\n",
              "      <td>NaN</td>\n",
              "      <td>NaN</td>\n",
              "      <td>NaN</td>\n",
              "      <td>NaN</td>\n",
              "      <td>NaN</td>\n",
              "      <td>NaN</td>\n",
              "      <td>NaN</td>\n",
              "      <td>NaN</td>\n",
              "      <td>NaN</td>\n",
              "      <td>NaN</td>\n",
              "    </tr>\n",
              "    <tr>\n",
              "      <th>1</th>\n",
              "      <td>Session</td>\n",
              "      <td>71460</td>\n",
              "      <td>89468</td>\n",
              "      <td>4833</td>\n",
              "      <td>1642</td>\n",
              "      <td>X</td>\n",
              "      <td>session_initialization</td>\n",
              "      <td>NaN</td>\n",
              "      <td>NaN</td>\n",
              "      <td>NaN</td>\n",
              "      <td>NaN</td>\n",
              "      <td>NaN</td>\n",
              "      <td>NaN</td>\n",
              "      <td>NaN</td>\n",
              "      <td>NaN</td>\n",
              "      <td>NaN</td>\n",
              "      <td>NaN</td>\n",
              "    </tr>\n",
              "    <tr>\n",
              "      <th>2</th>\n",
              "      <td>Node</td>\n",
              "      <td>71460</td>\n",
              "      <td>89468</td>\n",
              "      <td>0</td>\n",
              "      <td>6735</td>\n",
              "      <td>X</td>\n",
              "      <td>gemm_fence_before</td>\n",
              "      <td>Gemm</td>\n",
              "      <td>NaN</td>\n",
              "      <td>NaN</td>\n",
              "      <td>NaN</td>\n",
              "      <td>NaN</td>\n",
              "      <td>NaN</td>\n",
              "      <td>NaN</td>\n",
              "      <td>NaN</td>\n",
              "      <td>NaN</td>\n",
              "      <td>NaN</td>\n",
              "    </tr>\n",
              "    <tr>\n",
              "      <th>3</th>\n",
              "      <td>Node</td>\n",
              "      <td>71460</td>\n",
              "      <td>89468</td>\n",
              "      <td>5411</td>\n",
              "      <td>6739</td>\n",
              "      <td>X</td>\n",
              "      <td>gemm_kernel_time</td>\n",
              "      <td>Gemm</td>\n",
              "      <td>38148</td>\n",
              "      <td>11</td>\n",
              "      <td>CPUExecutionProvider</td>\n",
              "      <td>11</td>\n",
              "      <td>200000</td>\n",
              "      <td>17340000</td>\n",
              "      <td>[{'float': [5000, 10]}, {'float': [10, 867]}, ...</td>\n",
              "      <td>[{'float': [5000, 867]}]</td>\n",
              "      <td>{'main_thread': {'thread_pool_name': 'session-...</td>\n",
              "    </tr>\n",
              "    <tr>\n",
              "      <th>4</th>\n",
              "      <td>Node</td>\n",
              "      <td>71460</td>\n",
              "      <td>89468</td>\n",
              "      <td>0</td>\n",
              "      <td>12167</td>\n",
              "      <td>X</td>\n",
              "      <td>gemm_fence_after</td>\n",
              "      <td>Gemm</td>\n",
              "      <td>NaN</td>\n",
              "      <td>NaN</td>\n",
              "      <td>NaN</td>\n",
              "      <td>NaN</td>\n",
              "      <td>NaN</td>\n",
              "      <td>NaN</td>\n",
              "      <td>NaN</td>\n",
              "      <td>NaN</td>\n",
              "      <td>NaN</td>\n",
              "    </tr>\n",
              "    <tr>\n",
              "      <th>...</th>\n",
              "      <td>...</td>\n",
              "      <td>...</td>\n",
              "      <td>...</td>\n",
              "      <td>...</td>\n",
              "      <td>...</td>\n",
              "      <td>...</td>\n",
              "      <td>...</td>\n",
              "      <td>...</td>\n",
              "      <td>...</td>\n",
              "      <td>...</td>\n",
              "      <td>...</td>\n",
              "      <td>...</td>\n",
              "      <td>...</td>\n",
              "      <td>...</td>\n",
              "      <td>...</td>\n",
              "      <td>...</td>\n",
              "      <td>...</td>\n",
              "    </tr>\n",
              "    <tr>\n",
              "      <th>986</th>\n",
              "      <td>Node</td>\n",
              "      <td>71460</td>\n",
              "      <td>89468</td>\n",
              "      <td>0</td>\n",
              "      <td>3746899</td>\n",
              "      <td>X</td>\n",
              "      <td>Ma_MatMul2_fence_before</td>\n",
              "      <td>MatMul</td>\n",
              "      <td>NaN</td>\n",
              "      <td>NaN</td>\n",
              "      <td>NaN</td>\n",
              "      <td>NaN</td>\n",
              "      <td>NaN</td>\n",
              "      <td>NaN</td>\n",
              "      <td>NaN</td>\n",
              "      <td>NaN</td>\n",
              "      <td>NaN</td>\n",
              "    </tr>\n",
              "    <tr>\n",
              "      <th>987</th>\n",
              "      <td>Node</td>\n",
              "      <td>71460</td>\n",
              "      <td>89468</td>\n",
              "      <td>887</td>\n",
              "      <td>3746900</td>\n",
              "      <td>X</td>\n",
              "      <td>Ma_MatMul2_kernel_time</td>\n",
              "      <td>MatMul</td>\n",
              "      <td>3472</td>\n",
              "      <td>8</td>\n",
              "      <td>CPUExecutionProvider</td>\n",
              "      <td>8</td>\n",
              "      <td>17360000</td>\n",
              "      <td>20000</td>\n",
              "      <td>[{'float': [5000, 868]}, {'float': [868, 1]}]</td>\n",
              "      <td>[{'float': [5000, 1]}]</td>\n",
              "      <td>{'main_thread': {'thread_pool_name': 'session-...</td>\n",
              "    </tr>\n",
              "    <tr>\n",
              "      <th>988</th>\n",
              "      <td>Node</td>\n",
              "      <td>71460</td>\n",
              "      <td>89468</td>\n",
              "      <td>0</td>\n",
              "      <td>3747795</td>\n",
              "      <td>X</td>\n",
              "      <td>Ma_MatMul2_fence_after</td>\n",
              "      <td>MatMul</td>\n",
              "      <td>NaN</td>\n",
              "      <td>NaN</td>\n",
              "      <td>NaN</td>\n",
              "      <td>NaN</td>\n",
              "      <td>NaN</td>\n",
              "      <td>NaN</td>\n",
              "      <td>NaN</td>\n",
              "      <td>NaN</td>\n",
              "      <td>NaN</td>\n",
              "    </tr>\n",
              "    <tr>\n",
              "      <th>989</th>\n",
              "      <td>Session</td>\n",
              "      <td>71460</td>\n",
              "      <td>89468</td>\n",
              "      <td>88831</td>\n",
              "      <td>3658968</td>\n",
              "      <td>X</td>\n",
              "      <td>SequentialExecutor::Execute</td>\n",
              "      <td>NaN</td>\n",
              "      <td>NaN</td>\n",
              "      <td>NaN</td>\n",
              "      <td>NaN</td>\n",
              "      <td>NaN</td>\n",
              "      <td>NaN</td>\n",
              "      <td>NaN</td>\n",
              "      <td>NaN</td>\n",
              "      <td>NaN</td>\n",
              "      <td>NaN</td>\n",
              "    </tr>\n",
              "    <tr>\n",
              "      <th>990</th>\n",
              "      <td>Session</td>\n",
              "      <td>71460</td>\n",
              "      <td>89468</td>\n",
              "      <td>88842</td>\n",
              "      <td>3658961</td>\n",
              "      <td>X</td>\n",
              "      <td>model_run</td>\n",
              "      <td>NaN</td>\n",
              "      <td>NaN</td>\n",
              "      <td>NaN</td>\n",
              "      <td>NaN</td>\n",
              "      <td>NaN</td>\n",
              "      <td>NaN</td>\n",
              "      <td>NaN</td>\n",
              "      <td>NaN</td>\n",
              "      <td>NaN</td>\n",
              "      <td>NaN</td>\n",
              "    </tr>\n",
              "  </tbody>\n",
              "</table>\n",
              "<p>991 rows \u00d7 17 columns</p>\n",
              "</div>"
            ],
            "text/plain": [
              "         cat    pid    tid    dur       ts ph                         name  \\\n",
              "0    Session  71460  89468   1245        3  X          model_loading_array   \n",
              "1    Session  71460  89468   4833     1642  X       session_initialization   \n",
              "2       Node  71460  89468      0     6735  X            gemm_fence_before   \n",
              "3       Node  71460  89468   5411     6739  X             gemm_kernel_time   \n",
              "4       Node  71460  89468      0    12167  X             gemm_fence_after   \n",
              "..       ...    ...    ...    ...      ... ..                          ...   \n",
              "986     Node  71460  89468      0  3746899  X      Ma_MatMul2_fence_before   \n",
              "987     Node  71460  89468    887  3746900  X       Ma_MatMul2_kernel_time   \n",
              "988     Node  71460  89468      0  3747795  X       Ma_MatMul2_fence_after   \n",
              "989  Session  71460  89468  88831  3658968  X  SequentialExecutor::Execute   \n",
              "990  Session  71460  89468  88842  3658961  X                    model_run   \n",
              "\n",
              "    args_op_name args_parameter_size args_graph_index         args_provider  \\\n",
              "0            NaN                 NaN              NaN                   NaN   \n",
              "1            NaN                 NaN              NaN                   NaN   \n",
              "2           Gemm                 NaN              NaN                   NaN   \n",
              "3           Gemm               38148               11  CPUExecutionProvider   \n",
              "4           Gemm                 NaN              NaN                   NaN   \n",
              "..           ...                 ...              ...                   ...   \n",
              "986       MatMul                 NaN              NaN                   NaN   \n",
              "987       MatMul                3472                8  CPUExecutionProvider   \n",
              "988       MatMul                 NaN              NaN                   NaN   \n",
              "989          NaN                 NaN              NaN                   NaN   \n",
              "990          NaN                 NaN              NaN                   NaN   \n",
              "\n",
              "    args_exec_plan_index args_activation_size args_output_size  \\\n",
              "0                    NaN                  NaN              NaN   \n",
              "1                    NaN                  NaN              NaN   \n",
              "2                    NaN                  NaN              NaN   \n",
              "3                     11               200000         17340000   \n",
              "4                    NaN                  NaN              NaN   \n",
              "..                   ...                  ...              ...   \n",
              "986                  NaN                  NaN              NaN   \n",
              "987                    8             17360000            20000   \n",
              "988                  NaN                  NaN              NaN   \n",
              "989                  NaN                  NaN              NaN   \n",
              "990                  NaN                  NaN              NaN   \n",
              "\n",
              "                                 args_input_type_shape  \\\n",
              "0                                                  NaN   \n",
              "1                                                  NaN   \n",
              "2                                                  NaN   \n",
              "3    [{'float': [5000, 10]}, {'float': [10, 867]}, ...   \n",
              "4                                                  NaN   \n",
              "..                                                 ...   \n",
              "986                                                NaN   \n",
              "987      [{'float': [5000, 868]}, {'float': [868, 1]}]   \n",
              "988                                                NaN   \n",
              "989                                                NaN   \n",
              "990                                                NaN   \n",
              "\n",
              "       args_output_type_shape  \\\n",
              "0                         NaN   \n",
              "1                         NaN   \n",
              "2                         NaN   \n",
              "3    [{'float': [5000, 867]}]   \n",
              "4                         NaN   \n",
              "..                        ...   \n",
              "986                       NaN   \n",
              "987    [{'float': [5000, 1]}]   \n",
              "988                       NaN   \n",
              "989                       NaN   \n",
              "990                       NaN   \n",
              "\n",
              "                          args_thread_scheduling_stats  \n",
              "0                                                  NaN  \n",
              "1                                                  NaN  \n",
              "2                                                  NaN  \n",
              "3    {'main_thread': {'thread_pool_name': 'session-...  \n",
              "4                                                  NaN  \n",
              "..                                                 ...  \n",
              "986                                                NaN  \n",
              "987  {'main_thread': {'thread_pool_name': 'session-...  \n",
              "988                                                NaN  \n",
              "989                                                NaN  \n",
              "990                                                NaN  \n",
              "\n",
              "[991 rows x 17 columns]"
            ]
          },
          "execution_count": 29,
          "metadata": {},
          "output_type": "execute_result"
        }
      ],
      "source": [
        "df = oinfpr.get_profiling(as_df=True)\n",
        "df"
      ]
    },
    {
      "cell_type": "code",
      "execution_count": 29,
      "id": "19bb5d0f",
      "metadata": {},
      "outputs": [
        {
          "data": {
            "text/plain": [
              "{'CPUExecutionProvider', nan}"
            ]
          },
          "execution_count": 30,
          "metadata": {},
          "output_type": "execute_result"
        }
      ],
      "source": [
        "set(df['args_provider'])"
      ]
    },
    {
      "cell_type": "code",
      "execution_count": 30,
      "id": "e42d5644",
      "metadata": {},
      "outputs": [
        {
          "data": {
            "text/html": [
              "<div>\n",
              "<style scoped>\n",
              "    .dataframe tbody tr th:only-of-type {\n",
              "        vertical-align: middle;\n",
              "    }\n",
              "\n",
              "    .dataframe tbody tr th {\n",
              "        vertical-align: top;\n",
              "    }\n",
              "\n",
              "    .dataframe thead th {\n",
              "        text-align: right;\n",
              "    }\n",
              "</style>\n",
              "<table border=\"1\" class=\"dataframe\">\n",
              "  <thead>\n",
              "    <tr style=\"text-align: right;\">\n",
              "      <th></th>\n",
              "      <th></th>\n",
              "      <th>dur</th>\n",
              "    </tr>\n",
              "    <tr>\n",
              "      <th>args_op_name</th>\n",
              "      <th>name</th>\n",
              "      <th></th>\n",
              "    </tr>\n",
              "  </thead>\n",
              "  <tbody>\n",
              "    <tr>\n",
              "      <th>MatMul</th>\n",
              "      <th>Ma_MatMul2</th>\n",
              "      <td>39710</td>\n",
              "    </tr>\n",
              "    <tr>\n",
              "      <th>Mul</th>\n",
              "      <th>Mu_Mul1</th>\n",
              "      <td>97282</td>\n",
              "    </tr>\n",
              "    <tr>\n",
              "      <th rowspan=\"2\" valign=\"top\">Sigmoid</th>\n",
              "      <th>Si_Sigmoid</th>\n",
              "      <td>98096</td>\n",
              "    </tr>\n",
              "    <tr>\n",
              "      <th>Si_Sigmoid1</th>\n",
              "      <td>98591</td>\n",
              "    </tr>\n",
              "    <tr>\n",
              "      <th>Mul</th>\n",
              "      <th>Mu_Mul</th>\n",
              "      <td>100221</td>\n",
              "    </tr>\n",
              "    <tr>\n",
              "      <th rowspan=\"2\" valign=\"top\">Gemm</th>\n",
              "      <th>gemm</th>\n",
              "      <td>184563</td>\n",
              "    </tr>\n",
              "    <tr>\n",
              "      <th>gemm_token_0</th>\n",
              "      <td>3111581</td>\n",
              "    </tr>\n",
              "  </tbody>\n",
              "</table>\n",
              "</div>"
            ],
            "text/plain": [
              "                               dur\n",
              "args_op_name name                 \n",
              "MatMul       Ma_MatMul2      39710\n",
              "Mul          Mu_Mul1         97282\n",
              "Sigmoid      Si_Sigmoid      98096\n",
              "             Si_Sigmoid1     98591\n",
              "Mul          Mu_Mul         100221\n",
              "Gemm         gemm           184563\n",
              "             gemm_token_0  3111581"
            ]
          },
          "execution_count": 31,
          "metadata": {},
          "output_type": "execute_result"
        }
      ],
      "source": [
        "dfp = df[df.args_provider == 'CPUExecutionProvider'].copy()\n",
        "dfp['name'] = dfp['name'].apply(lambda s: s.replace(\"_kernel_time\", \"\"))\n",
        "gr_dur = dfp[['dur', \"args_op_name\", \"name\"]].groupby([\"args_op_name\", \"name\"]).sum().sort_values('dur')\n",
        "gr_dur"
      ]
    },
    {
      "cell_type": "code",
      "execution_count": 31,
      "id": "34b33616",
      "metadata": {},
      "outputs": [
        {
          "data": {
            "text/html": [
              "<div>\n",
              "<style scoped>\n",
              "    .dataframe tbody tr th:only-of-type {\n",
              "        vertical-align: middle;\n",
              "    }\n",
              "\n",
              "    .dataframe tbody tr th {\n",
              "        vertical-align: top;\n",
              "    }\n",
              "\n",
              "    .dataframe thead th {\n",
              "        text-align: right;\n",
              "    }\n",
              "</style>\n",
              "<table border=\"1\" class=\"dataframe\">\n",
              "  <thead>\n",
              "    <tr style=\"text-align: right;\">\n",
              "      <th></th>\n",
              "      <th></th>\n",
              "      <th>dur</th>\n",
              "    </tr>\n",
              "    <tr>\n",
              "      <th>args_op_name</th>\n",
              "      <th>name</th>\n",
              "      <th></th>\n",
              "    </tr>\n",
              "  </thead>\n",
              "  <tbody>\n",
              "    <tr>\n",
              "      <th>MatMul</th>\n",
              "      <th>Ma_MatMul2</th>\n",
              "      <td>43</td>\n",
              "    </tr>\n",
              "    <tr>\n",
              "      <th>Mul</th>\n",
              "      <th>Mu_Mul1</th>\n",
              "      <td>43</td>\n",
              "    </tr>\n",
              "    <tr>\n",
              "      <th rowspan=\"2\" valign=\"top\">Sigmoid</th>\n",
              "      <th>Si_Sigmoid</th>\n",
              "      <td>43</td>\n",
              "    </tr>\n",
              "    <tr>\n",
              "      <th>Si_Sigmoid1</th>\n",
              "      <td>43</td>\n",
              "    </tr>\n",
              "    <tr>\n",
              "      <th>Mul</th>\n",
              "      <th>Mu_Mul</th>\n",
              "      <td>43</td>\n",
              "    </tr>\n",
              "    <tr>\n",
              "      <th rowspan=\"2\" valign=\"top\">Gemm</th>\n",
              "      <th>gemm</th>\n",
              "      <td>43</td>\n",
              "    </tr>\n",
              "    <tr>\n",
              "      <th>gemm_token_0</th>\n",
              "      <td>43</td>\n",
              "    </tr>\n",
              "  </tbody>\n",
              "</table>\n",
              "</div>"
            ],
            "text/plain": [
              "                           dur\n",
              "args_op_name name             \n",
              "MatMul       Ma_MatMul2     43\n",
              "Mul          Mu_Mul1        43\n",
              "Sigmoid      Si_Sigmoid     43\n",
              "             Si_Sigmoid1    43\n",
              "Mul          Mu_Mul         43\n",
              "Gemm         gemm           43\n",
              "             gemm_token_0   43"
            ]
          },
          "execution_count": 32,
          "metadata": {},
          "output_type": "execute_result"
        }
      ],
      "source": [
        "gr_n = dfp[['dur', \"args_op_name\", \"name\"]].groupby([\"args_op_name\", \"name\"]).count().sort_values('dur')\n",
        "gr_n = gr_n.loc[gr_dur.index, :]\n",
        "gr_n"
      ]
    },
    {
      "cell_type": "code",
      "execution_count": 32,
      "id": "f34b2908",
      "metadata": {},
      "outputs": [
        {
          "data": {
            "image/png": "[encoded data removed]",
            "text/plain": [
              "<Figure size 864x288 with 2 Axes>"
            ]
          },
          "metadata": {
            "needs_background": "light"
          },
          "output_type": "display_data"
        }
      ],
      "source": [
        "import matplotlib.pyplot as plt\n",
        "\n",
        "fig, ax = plt.subplots(1, 2, figsize=(12, 4))\n",
        "gr_dur.plot.barh(ax=ax[0])\n",
        "gr_n.plot.barh(ax=ax[1])\n",
        "ax[0].set_title(\"duration\")\n",
        "ax[1].set_title(\"n occurences\");"
      ]
    },
    {
      "cell_type": "markdown",
      "id": "7b10ca8a",
      "metadata": {},
      "source": [
        "onnxruntime passe principalement son temps dans un produit matriciel. On v\u00e9rifie plus pr\u00e9cis\u00e9ment."
      ]
    },
    {
      "cell_type": "code",
      "execution_count": 33,
      "id": "4cbc2fa0",
      "metadata": {},
      "outputs": [
        {
          "data": {
            "text/html": [
              "<div>\n",
              "<style scoped>\n",
              "    .dataframe tbody tr th:only-of-type {\n",
              "        vertical-align: middle;\n",
              "    }\n",
              "\n",
              "    .dataframe tbody tr th {\n",
              "        vertical-align: top;\n",
              "    }\n",
              "\n",
              "    .dataframe thead th {\n",
              "        text-align: right;\n",
              "    }\n",
              "</style>\n",
              "<table border=\"1\" class=\"dataframe\">\n",
              "  <thead>\n",
              "    <tr style=\"text-align: right;\">\n",
              "      <th></th>\n",
              "      <th>426</th>\n",
              "      <th>12</th>\n",
              "    </tr>\n",
              "  </thead>\n",
              "  <tbody>\n",
              "    <tr>\n",
              "      <th>cat</th>\n",
              "      <td>Node</td>\n",
              "      <td>Node</td>\n",
              "    </tr>\n",
              "    <tr>\n",
              "      <th>pid</th>\n",
              "      <td>71460</td>\n",
              "      <td>71460</td>\n",
              "    </tr>\n",
              "    <tr>\n",
              "      <th>tid</th>\n",
              "      <td>89468</td>\n",
              "      <td>89468</td>\n",
              "    </tr>\n",
              "    <tr>\n",
              "      <th>dur</th>\n",
              "      <td>101064</td>\n",
              "      <td>97222</td>\n",
              "    </tr>\n",
              "    <tr>\n",
              "      <th>ts</th>\n",
              "      <td>1511573</td>\n",
              "      <td>17402</td>\n",
              "    </tr>\n",
              "    <tr>\n",
              "      <th>ph</th>\n",
              "      <td>X</td>\n",
              "      <td>X</td>\n",
              "    </tr>\n",
              "    <tr>\n",
              "      <th>name</th>\n",
              "      <td>gemm_token_0_kernel_time</td>\n",
              "      <td>gemm_token_0_kernel_time</td>\n",
              "    </tr>\n",
              "    <tr>\n",
              "      <th>args_op_name</th>\n",
              "      <td>Gemm</td>\n",
              "      <td>Gemm</td>\n",
              "    </tr>\n",
              "    <tr>\n",
              "      <th>args_parameter_size</th>\n",
              "      <td>3013696</td>\n",
              "      <td>3013696</td>\n",
              "    </tr>\n",
              "    <tr>\n",
              "      <th>args_graph_index</th>\n",
              "      <td>12</td>\n",
              "      <td>12</td>\n",
              "    </tr>\n",
              "    <tr>\n",
              "      <th>args_provider</th>\n",
              "      <td>CPUExecutionProvider</td>\n",
              "      <td>CPUExecutionProvider</td>\n",
              "    </tr>\n",
              "    <tr>\n",
              "      <th>args_exec_plan_index</th>\n",
              "      <td>12</td>\n",
              "      <td>12</td>\n",
              "    </tr>\n",
              "    <tr>\n",
              "      <th>args_activation_size</th>\n",
              "      <td>17340000</td>\n",
              "      <td>17340000</td>\n",
              "    </tr>\n",
              "    <tr>\n",
              "      <th>args_output_size</th>\n",
              "      <td>17360000</td>\n",
              "      <td>17360000</td>\n",
              "    </tr>\n",
              "    <tr>\n",
              "      <th>args_input_type_shape</th>\n",
              "      <td>[{'float': [5000, 867]}, {'float': [867, 868]}...</td>\n",
              "      <td>[{'float': [5000, 867]}, {'float': [867, 868]}...</td>\n",
              "    </tr>\n",
              "    <tr>\n",
              "      <th>args_output_type_shape</th>\n",
              "      <td>[{'float': [5000, 868]}]</td>\n",
              "      <td>[{'float': [5000, 868]}]</td>\n",
              "    </tr>\n",
              "    <tr>\n",
              "      <th>args_thread_scheduling_stats</th>\n",
              "      <td>{'main_thread': {'thread_pool_name': 'session-...</td>\n",
              "      <td>{'main_thread': {'thread_pool_name': 'session-...</td>\n",
              "    </tr>\n",
              "  </tbody>\n",
              "</table>\n",
              "</div>"
            ],
            "text/plain": [
              "                                                                            426  \\\n",
              "cat                                                                        Node   \n",
              "pid                                                                       71460   \n",
              "tid                                                                       89468   \n",
              "dur                                                                      101064   \n",
              "ts                                                                      1511573   \n",
              "ph                                                                            X   \n",
              "name                                                   gemm_token_0_kernel_time   \n",
              "args_op_name                                                               Gemm   \n",
              "args_parameter_size                                                     3013696   \n",
              "args_graph_index                                                             12   \n",
              "args_provider                                              CPUExecutionProvider   \n",
              "args_exec_plan_index                                                         12   \n",
              "args_activation_size                                                   17340000   \n",
              "args_output_size                                                       17360000   \n",
              "args_input_type_shape         [{'float': [5000, 867]}, {'float': [867, 868]}...   \n",
              "args_output_type_shape                                 [{'float': [5000, 868]}]   \n",
              "args_thread_scheduling_stats  {'main_thread': {'thread_pool_name': 'session-...   \n",
              "\n",
              "                                                                            12   \n",
              "cat                                                                        Node  \n",
              "pid                                                                       71460  \n",
              "tid                                                                       89468  \n",
              "dur                                                                       97222  \n",
              "ts                                                                        17402  \n",
              "ph                                                                            X  \n",
              "name                                                   gemm_token_0_kernel_time  \n",
              "args_op_name                                                               Gemm  \n",
              "args_parameter_size                                                     3013696  \n",
              "args_graph_index                                                             12  \n",
              "args_provider                                              CPUExecutionProvider  \n",
              "args_exec_plan_index                                                         12  \n",
              "args_activation_size                                                   17340000  \n",
              "args_output_size                                                       17360000  \n",
              "args_input_type_shape         [{'float': [5000, 867]}, {'float': [867, 868]}...  \n",
              "args_output_type_shape                                 [{'float': [5000, 868]}]  \n",
              "args_thread_scheduling_stats  {'main_thread': {'thread_pool_name': 'session-...  "
            ]
          },
          "execution_count": 34,
          "metadata": {},
          "output_type": "execute_result"
        }
      ],
      "source": [
        "df[(df.args_op_name == 'Gemm') & (df.dur > 0)].sort_values('dur', ascending=False).head(n=2).T"
      ]
    },
    {
      "cell_type": "markdown",
      "id": "58320942",
      "metadata": {},
      "source": [
        "C'est un produit matriciel d'environ *5000x800* par *800x800*."
      ]
    },
    {
      "cell_type": "code",
      "execution_count": 34,
      "id": "de43df2f",
      "metadata": {},
      "outputs": [
        {
          "data": {
            "text/html": [
              "<div>\n",
              "<style scoped>\n",
              "    .dataframe tbody tr th:only-of-type {\n",
              "        vertical-align: middle;\n",
              "    }\n",
              "\n",
              "    .dataframe tbody tr th {\n",
              "        vertical-align: top;\n",
              "    }\n",
              "\n",
              "    .dataframe thead th {\n",
              "        text-align: right;\n",
              "    }\n",
              "</style>\n",
              "<table border=\"1\" class=\"dataframe\">\n",
              "  <thead>\n",
              "    <tr style=\"text-align: right;\">\n",
              "      <th></th>\n",
              "      <th></th>\n",
              "      <th>dur</th>\n",
              "    </tr>\n",
              "    <tr>\n",
              "      <th>args_op_name</th>\n",
              "      <th>name</th>\n",
              "      <th></th>\n",
              "    </tr>\n",
              "  </thead>\n",
              "  <tbody>\n",
              "    <tr>\n",
              "      <th>MatMul</th>\n",
              "      <th>Ma_MatMul2</th>\n",
              "      <td>0.010646</td>\n",
              "    </tr>\n",
              "    <tr>\n",
              "      <th>Mul</th>\n",
              "      <th>Mu_Mul1</th>\n",
              "      <td>0.026081</td>\n",
              "    </tr>\n",
              "    <tr>\n",
              "      <th rowspan=\"2\" valign=\"top\">Sigmoid</th>\n",
              "      <th>Si_Sigmoid</th>\n",
              "      <td>0.026299</td>\n",
              "    </tr>\n",
              "    <tr>\n",
              "      <th>Si_Sigmoid1</th>\n",
              "      <td>0.026432</td>\n",
              "    </tr>\n",
              "    <tr>\n",
              "      <th>Mul</th>\n",
              "      <th>Mu_Mul</th>\n",
              "      <td>0.026869</td>\n",
              "    </tr>\n",
              "    <tr>\n",
              "      <th rowspan=\"2\" valign=\"top\">Gemm</th>\n",
              "      <th>gemm</th>\n",
              "      <td>0.049480</td>\n",
              "    </tr>\n",
              "    <tr>\n",
              "      <th>gemm_token_0</th>\n",
              "      <td>0.834194</td>\n",
              "    </tr>\n",
              "  </tbody>\n",
              "</table>\n",
              "</div>"
            ],
            "text/plain": [
              "                                dur\n",
              "args_op_name name                  \n",
              "MatMul       Ma_MatMul2    0.010646\n",
              "Mul          Mu_Mul1       0.026081\n",
              "Sigmoid      Si_Sigmoid    0.026299\n",
              "             Si_Sigmoid1   0.026432\n",
              "Mul          Mu_Mul        0.026869\n",
              "Gemm         gemm          0.049480\n",
              "             gemm_token_0  0.834194"
            ]
          },
          "execution_count": 35,
          "metadata": {},
          "output_type": "execute_result"
        }
      ],
      "source": [
        "gr_dur / gr_dur.dur.sum()"
      ]
    },
    {
      "cell_type": "code",
      "execution_count": 35,
      "id": "0e5c02ec",
      "metadata": {},
      "outputs": [
        {
          "data": {
            "text/plain": [
              "0.8341941810874081"
            ]
          },
          "execution_count": 36,
          "metadata": {},
          "output_type": "execute_result"
        }
      ],
      "source": [
        "r = (gr_dur / gr_dur.dur.sum()).dur.max()\n",
        "r"
      ]
    },
    {
      "cell_type": "markdown",
      "id": "113a480a",
      "metadata": {},
      "source": [
        "Il occupe 82% du temps. et d'apr\u00e8s l'exp\u00e9rience pr\u00e9c\u00e9dente, son temps d'\u00e9xecution peut-\u00eatre r\u00e9duit par 10 en le rempla\u00e7ant par une matrice sparse. Cela ne suffira pas pour acc\u00e9lerer le temps de calcul de ce r\u00e9seau de neurones. Il est 84 ms compar\u00e9 \u00e0 247 \u00b5s pour l'arbre de d\u00e9cision. Avec cette optimisation, il pourrait passer de :"
      ]
    },
    {
      "cell_type": "code",
      "execution_count": 36,
      "id": "fa7950bc",
      "metadata": {},
      "outputs": [
        {
          "data": {
            "text/plain": [
              "19.76704805626958"
            ]
          },
          "execution_count": 37,
          "metadata": {},
          "output_type": "execute_result"
        }
      ],
      "source": [
        "t = 84\n",
        "t * (1 - r) + r * t / 12"
      ]
    },
    {
      "cell_type": "markdown",
      "id": "7c641d19",
      "metadata": {},
      "source": [
        "Soit une r\u00e9duction du temps de calcul par 4. Ce n'est pas mal mais pas assez."
      ]
    },
    {
      "cell_type": "markdown",
      "id": "535b7e56",
      "metadata": {},
      "source": [
        "## Hummingbird\n",
        "\n",
        "[hummingbird](https://github.com/microsoft/hummingbird) est une librairie qui convertit un arbre de d\u00e9cision en r\u00e9seau de neurones. Voyons ses performances."
      ]
    },
    {
      "cell_type": "code",
      "execution_count": 37,
      "id": "3b3aa43b",
      "metadata": {},
      "outputs": [
        {
          "name": "stderr",
          "output_type": "stream",
          "text": [
            "C:\\xavierdupre\\__home_\\github_fork\\scikit-learn\\sklearn\\experimental\\enable_hist_gradient_boosting.py:16: UserWarning: Since version 1.0, it is not needed to import enable_hist_gradient_boosting anymore. HistGradientBoostingClassifier and HistGradientBoostingRegressor are now stable and can be normally imported from sklearn.ensemble.\n",
            "  warnings.warn(\n",
            "C:\\xavierdupre\\__home_\\github_fork\\scikit-learn\\sklearn\\utils\\deprecation.py:103: FutureWarning: The attribute `n_features_` is deprecated in 1.0 and will be removed in 1.2. Use `n_features_in_` instead.\n",
            "  warnings.warn(msg, category=FutureWarning)\n"
          ]
        },
        {
          "data": {
            "text/plain": [
              "(2.9793571165726007e-08, 4.972897520481769e-09)"
            ]
          },
          "execution_count": 38,
          "metadata": {},
          "output_type": "execute_result"
        }
      ],
      "source": [
        "from hummingbird.ml import convert\n",
        "\n",
        "model = convert(tree, 'torch')\n",
        "\n",
        "expected = tree.predict(x_exp)\n",
        "got = model.predict(x_exp)\n",
        "numpy.abs(got - expected).max(), numpy.abs(got - expected).mean()"
      ]
    },
    {
      "cell_type": "markdown",
      "id": "92365d70",
      "metadata": {},
      "source": [
        "Le r\u00e9sultat est beaucoup plus fid\u00e8le au mod\u00e8le."
      ]
    },
    {
      "cell_type": "code",
      "execution_count": 38,
      "id": "605df039",
      "metadata": {},
      "outputs": [
        {
          "name": "stdout",
          "output_type": "stream",
          "text": [
            "1.75 ms \u00b1 201 \u00b5s per loop (mean \u00b1 std. dev. of 7 runs, 1,000 loops each)\n"
          ]
        }
      ],
      "source": [
        "%timeit model.predict(x_exp)"
      ]
    },
    {
      "cell_type": "markdown",
      "id": "c2f80290",
      "metadata": {},
      "source": [
        "Il reste plus lent mais beaucoup plus rapide que la solution manuelle propos\u00e9e dans les pr\u00e9c\u00e9dents paragraphes. Il contient un attribut `model`."
      ]
    },
    {
      "cell_type": "code",
      "execution_count": 39,
      "id": "e77ff4f0",
      "metadata": {},
      "outputs": [
        {
          "data": {
            "text/plain": [
              "True"
            ]
          },
          "execution_count": 40,
          "metadata": {},
          "output_type": "execute_result"
        }
      ],
      "source": [
        "from torch.nn import Module\n",
        "isinstance(model.model, Module)"
      ]
    },
    {
      "cell_type": "markdown",
      "id": "871277df",
      "metadata": {},
      "source": [
        "On convertit ce mod\u00e8le au format ONNX."
      ]
    },
    {
      "cell_type": "code",
      "execution_count": 40,
      "id": "3c875b35",
      "metadata": {},
      "outputs": [],
      "source": [
        "import torch.onnx\n",
        "\n",
        "x = torch.randn(x_exp.shape[0], x_exp.shape[1], requires_grad=True)\n",
        "torch.onnx.export(model.model, x, 'tree_torch.onnx', opset_version=15,                         \n",
        "                  input_names=['X'], output_names=['variable'],\n",
        "                  dynamic_axes={\n",
        "                      'X' : {0 : 'batch_size'},\n",
        "                      'variable' : {0 : 'batch_size'}})"
      ]
    },
    {
      "cell_type": "code",
      "execution_count": 41,
      "id": "b8c41c5e",
      "metadata": {},
      "outputs": [],
      "source": [
        "import onnx\n",
        "\n",
        "onxh = onnx.load('tree_torch.onnx')"
      ]
    },
    {
      "cell_type": "code",
      "execution_count": 42,
      "id": "861a94d0",
      "metadata": {},
      "outputs": [
        {
          "name": "stdout",
          "output_type": "stream",
          "text": [
            "BUG Unexpected empty sequence (len(possibles)=0, len(done)=0, len(nodes)=119). This is usually due to a name used both as result name and node node. known={'_operators.0.nodes.2', '_operators.0.root_nodes', '_operators.0.nodes.6', '_operators.0.nodes.4', '_operators.0.nodes.3', '_operators.0.biases.4', '_operators.0.biases.6', '_operators.0.tree_indices', '_operators.0.nodes.0', '_operators.0.nodes.8', 'X', '_operators.0.biases.7', '_operators.0.biases.8', '_operators.0.biases.0', '_operators.0.nodes.5', '_operators.0.biases.1', '_operators.0.root_biases', '_operators.0.biases.5', '_operators.0.leaf_nodes', '_operators.0.nodes.1', '_operators.0.biases.2', '_operators.0.biases.3', '_operators.0.nodes.7'}.\n"
          ]
        }
      ],
      "source": [
        "try:\n",
        "    print(onnx_simple_text_plot(onxh))\n",
        "except Exception as e:\n",
        "    print(\"BUG\", e)"
      ]
    },
    {
      "cell_type": "code",
      "execution_count": 43,
      "id": "2220ca2e",
      "metadata": {},
      "outputs": [
        {
          "data": {
            "text/plain": [
              "1.9300789394897055"
            ]
          },
          "execution_count": 44,
          "metadata": {},
          "output_type": "execute_result"
        }
      ],
      "source": [
        "oinfh = OnnxInference(onxh, runtime='onnxruntime1')\n",
        "expected = tree.predict(x_exp)\n",
        "\n",
        "got = oinfh.run({'X': x_exp.astype(numpy.float32)})['variable']\n",
        "numpy.abs(got - expected).max()"
      ]
    },
    {
      "cell_type": "markdown",
      "id": "10de2a80",
      "metadata": {},
      "source": [
        "La conversion reste imparfaite \u00e9galement."
      ]
    },
    {
      "cell_type": "code",
      "execution_count": 44,
      "id": "fd13b28b",
      "metadata": {},
      "outputs": [
        {
          "name": "stdout",
          "output_type": "stream",
          "text": [
            "4 ms \u00b1 113 \u00b5s per loop (mean \u00b1 std. dev. of 7 runs, 100 loops each)\n"
          ]
        }
      ],
      "source": [
        "%timeit oinfh.run({'X': x_exp32})['variable']"
      ]
    },
    {
      "cell_type": "markdown",
      "id": "11a36a32",
      "metadata": {},
      "source": [
        "Et le temps de calcul est aussi plus long."
      ]
    },
    {
      "cell_type": "markdown",
      "id": "20afcc41",
      "metadata": {},
      "source": [
        "## Apprentissage"
      ]
    },
    {
      "cell_type": "code",
      "execution_count": 45,
      "id": "96abfddb",
      "metadata": {},
      "outputs": [],
      "source": []
    }
  ],
  "metadata": {
    "kernelspec": {
      "display_name": "Python 3 (ipykernel)",
      "language": "python",
      "name": "python3"
    },
    "language_info": {
      "codemirror_mode": {
        "name": "ipython",
        "version": 3
      },
      "file_extension": ".py",
      "mimetype": "text/x-python",
      "name": "python",
      "nbconvert_exporter": "python",
      "pygments_lexer": "ipython3",
      "version": "3.10.5"
    }
  },
  "nbformat": 4,
  "nbformat_minor": 5
}