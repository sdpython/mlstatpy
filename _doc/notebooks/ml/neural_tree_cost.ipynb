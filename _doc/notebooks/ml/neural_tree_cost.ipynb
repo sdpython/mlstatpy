{
 "cells": [
  {
   "cell_type": "markdown",
   "id": "59a065e8",
   "metadata": {},
   "source": [
    "# NeuralTreeNet et coût\n",
    "\n",
    "La classe *NeuralTreeNet* convertit un arbre de décision en réseau de neurones. Si la conversion n'est pas exacte mais elle permet d'obtenir un modèle différentiable et apprenable avec un algorithme d'optimisation à base de gradient. Ce notebook compare le temps d'éxécution entre un arbre et le réseau de neurones."
   ]
  },
  {
   "cell_type": "code",
   "execution_count": 2,
   "id": "e6ad71f6",
   "metadata": {},
   "outputs": [],
   "source": [
    "%matplotlib inline"
   ]
  },
  {
   "cell_type": "code",
   "execution_count": 3,
   "id": "04cccbdc",
   "metadata": {},
   "outputs": [],
   "source": [
    "%load_ext mlprodict"
   ]
  },
  {
   "cell_type": "markdown",
   "id": "52d5e7f8",
   "metadata": {},
   "source": [
    "## Jeux de données\n",
    "\n",
    "On construit un jeu de données aléatoire."
   ]
  },
  {
   "cell_type": "code",
   "execution_count": 4,
   "id": "0abef0bf",
   "metadata": {},
   "outputs": [],
   "source": [
    "import numpy\n",
    "\n",
    "X = numpy.random.randn(10000, 10)\n",
    "y = X.sum(axis=1) / X.shape[1]\n",
    "X = X.astype(numpy.float64)\n",
    "y = y.astype(numpy.float64)"
   ]
  },
  {
   "cell_type": "code",
   "execution_count": 5,
   "id": "8850b4e7",
   "metadata": {},
   "outputs": [],
   "source": [
    "middle = X.shape[0] // 2\n",
    "X_train, X_test = X[:middle], X[middle:]\n",
    "y_train, y_test = y[:middle], y[middle:]"
   ]
  },
  {
   "cell_type": "markdown",
   "id": "12c4a84c",
   "metadata": {},
   "source": [
    "## Caler un arbre de décision"
   ]
  },
  {
   "cell_type": "code",
   "execution_count": 6,
   "id": "1c0b0169",
   "metadata": {},
   "outputs": [
    {
     "data": {
      "text/plain": [
       "(0.6091161526814477, 0.3884519134946681)"
      ]
     },
     "execution_count": 7,
     "metadata": {},
     "output_type": "execute_result"
    }
   ],
   "source": [
    "from sklearn.tree import DecisionTreeRegressor\n",
    "\n",
    "tree = DecisionTreeRegressor(max_depth=7)\n",
    "tree.fit(X_train, y_train)\n",
    "tree.score(X_train, y_train), tree.score(X_test, y_test)"
   ]
  },
  {
   "cell_type": "code",
   "execution_count": 7,
   "id": "6b158b44",
   "metadata": {},
   "outputs": [
    {
     "data": {
      "text/plain": [
       "0.3884519134946681"
      ]
     },
     "execution_count": 8,
     "metadata": {},
     "output_type": "execute_result"
    }
   ],
   "source": [
    "from sklearn.metrics import r2_score\n",
    "\n",
    "r2_score(y_test, tree.predict(X_test))"
   ]
  },
  {
   "cell_type": "markdown",
   "id": "36db83ef",
   "metadata": {},
   "source": [
    "Covnersion de l'arbre en réseau de neurones"
   ]
  },
  {
   "cell_type": "code",
   "execution_count": 8,
   "id": "60e3e6ac",
   "metadata": {},
   "outputs": [
    {
     "data": {
      "text/html": [
       "<div>\n",
       "<style scoped>\n",
       "    .dataframe tbody tr th:only-of-type {\n",
       "        vertical-align: middle;\n",
       "    }\n",
       "\n",
       "    .dataframe tbody tr th {\n",
       "        vertical-align: top;\n",
       "    }\n",
       "\n",
       "    .dataframe thead th {\n",
       "        text-align: right;\n",
       "    }\n",
       "</style>\n",
       "<table border=\"1\" class=\"dataframe\">\n",
       "  <thead>\n",
       "    <tr style=\"text-align: right;\">\n",
       "      <th></th>\n",
       "      <th>0</th>\n",
       "    </tr>\n",
       "  </thead>\n",
       "  <tbody>\n",
       "    <tr>\n",
       "      <th>average absolute error</th>\n",
       "      <td>0.210314</td>\n",
       "    </tr>\n",
       "    <tr>\n",
       "      <th>max absolute error</th>\n",
       "      <td>1.679553</td>\n",
       "    </tr>\n",
       "  </tbody>\n",
       "</table>\n",
       "</div>"
      ],
      "text/plain": [
       "                               0\n",
       "average absolute error  0.210314\n",
       "max absolute error      1.679553"
      ]
     },
     "execution_count": 9,
     "metadata": {},
     "output_type": "execute_result"
    }
   ],
   "source": [
    "from pandas import DataFrame\n",
    "from mlstatpy.ml.neural_tree import NeuralTreeNet, NeuralTreeNetRegressor\n",
    "\n",
    "xe = X_test.astype(numpy.float32)\n",
    "expected = tree.predict(xe)\n",
    "\n",
    "nn = NeuralTreeNetRegressor(NeuralTreeNet.create_from_tree(tree, arch=\"compact\"))\n",
    "got = nn.predict(xe)\n",
    "me = numpy.abs(got - expected).mean()\n",
    "mx = numpy.abs(got - expected).max()\n",
    "DataFrame([{\"average absolute error\": me, \"max absolute error\": mx}]).T"
   ]
  },
  {
   "cell_type": "markdown",
   "id": "559f0a25",
   "metadata": {},
   "source": [
    "La conversion est loin d'être parfaite. La raison vient du fait que les fonctions de seuil sont approchées par des fonctions sigmoïdes. Il suffit d'une erreur minime pour que la décision prenne un chemin différent dans l'arbre et soit complètement différente."
   ]
  },
  {
   "cell_type": "markdown",
   "id": "c1ad28cf",
   "metadata": {},
   "source": [
    "## Conversion au format ONNX"
   ]
  },
  {
   "cell_type": "code",
   "execution_count": 9,
   "id": "b01518ec",
   "metadata": {},
   "outputs": [],
   "source": [
    "from skl2onnx import to_onnx\n",
    "\n",
    "onx_tree = to_onnx(tree, X[:1].astype(numpy.float32))\n",
    "onx_nn = to_onnx(nn, X[:1].astype(numpy.float32))"
   ]
  },
  {
   "cell_type": "markdown",
   "id": "f59994a5",
   "metadata": {},
   "source": [
    "Le réseau de neurones peut être représenté comme suit."
   ]
  },
  {
   "cell_type": "code",
   "execution_count": 10,
   "id": "2329bb80",
   "metadata": {},
   "outputs": [
    {
     "data": {
      "text/html": [
       "<div id=\"M1f0c5529ea564ba2bdf10042b00fd6b1-cont\"><div id=\"M1f0c5529ea564ba2bdf10042b00fd6b1\" style=\"width:;height:;\"></div></div>\n",
       "<script>\n",
       "\n",
       "require(['http://www.xavierdupre.fr/js/vizjs/viz.js'], function() { var svgGraph = Viz(\"digraph{\\n  nodesep=0.05;\\n  ranksep=0.25;\\n  size=7;\\n  orientation=portrait;\\n\\n  X [shape=box color=red label=\\\"X\\nfloat((0, 10))\\\" fontsize=10];\\n\\n  variable [shape=box color=green label=\\\"variable\\nfloat((0, 1))\\\" fontsize=10];\\n\\n  Ma_MatMulcst [shape=box label=\\\"Ma_MatMulcst\\nfloat32((10, 127))\\n[[ 0.  0.  0. ...  0.  0.  0.]\\n [ 0.  0.  0. ...  ...\\\" fontsize=10];\\n  Ad_Addcst [shape=box label=\\\"Ad_Addcst\\nfloat32((127,))\\n[-0.28751326 -0.3320096   0.24225289 -1.2377734   ...\\\" fontsize=10];\\n  Mu_Mulcst [shape=box label=\\\"Mu_Mulcst\\nfloat32((1,))\\n[4.]\\\" fontsize=10];\\n  Ma_MatMulcst1 [shape=box label=\\\"Ma_MatMulcst1\\nfloat32((127, 128))\\n[[ 1.  1.  1. ... -1. -1. -1.]\\n [ 1.  1.  1. ...  ...\\\" fontsize=10];\\n  Ad_Addcst1 [shape=box label=\\\"Ad_Addcst1\\nfloat32((128,))\\n[-6.5 -5.5 -5.5 -4.5 -5.5 -4.5 -4.5 -3.5 -5.5 -4.5...\\\" fontsize=10];\\n  Ma_MatMulcst2 [shape=box label=\\\"Ma_MatMulcst2\\nfloat32((128, 1))\\n[[-1.0975432 ]\\n [-0.9416567 ]\\n [-0.69355935]\\n [-0....\\\" fontsize=10];\\n  Ad_Addcst2 [shape=box label=\\\"Ad_Addcst2\\nfloat32((1,))\\n[0.]\\\" fontsize=10];\\n\\n  Ma_Y02 [shape=box label=\\\"Ma_Y02\\\" fontsize=10];\\n  Ma_MatMul [shape=box style=\\\"filled,rounded\\\" color=orange label=\\\"MatMul\\n(Ma_MatMul)\\\" fontsize=10];\\n  X -> Ma_MatMul;\\n  Ma_MatMulcst -> Ma_MatMul;\\n  Ma_MatMul -> Ma_Y02;\\n\\n  Ad_C02 [shape=box label=\\\"Ad_C02\\\" fontsize=10];\\n  Ad_Add [shape=box style=\\\"filled,rounded\\\" color=orange label=\\\"Add\\n(Ad_Add)\\\" fontsize=10];\\n  Ma_Y02 -> Ad_Add;\\n  Ad_Addcst -> Ad_Add;\\n  Ad_Add -> Ad_C02;\\n\\n  Mu_C01 [shape=box label=\\\"Mu_C01\\\" fontsize=10];\\n  Mu_Mul [shape=box style=\\\"filled,rounded\\\" color=orange label=\\\"Mul\\n(Mu_Mul)\\\" fontsize=10];\\n  Ad_C02 -> Mu_Mul;\\n  Mu_Mulcst -> Mu_Mul;\\n  Mu_Mul -> Mu_C01;\\n\\n  Si_Y01 [shape=box label=\\\"Si_Y01\\\" fontsize=10];\\n  Si_Sigmoid [shape=box style=\\\"filled,rounded\\\" color=orange label=\\\"Sigmoid\\n(Si_Sigmoid)\\\" fontsize=10];\\n  Mu_C01 -> Si_Sigmoid;\\n  Si_Sigmoid -> Si_Y01;\\n\\n  Ma_Y01 [shape=box label=\\\"Ma_Y01\\\" fontsize=10];\\n  Ma_MatMul1 [shape=box style=\\\"filled,rounded\\\" color=orange label=\\\"MatMul\\n(Ma_MatMul1)\\\" fontsize=10];\\n  Si_Y01 -> Ma_MatMul1;\\n  Ma_MatMulcst1 -> Ma_MatMul1;\\n  Ma_MatMul1 -> Ma_Y01;\\n\\n  Ad_C01 [shape=box label=\\\"Ad_C01\\\" fontsize=10];\\n  Ad_Add1 [shape=box style=\\\"filled,rounded\\\" color=orange label=\\\"Add\\n(Ad_Add1)\\\" fontsize=10];\\n  Ma_Y01 -> Ad_Add1;\\n  Ad_Addcst1 -> Ad_Add1;\\n  Ad_Add1 -> Ad_C01;\\n\\n  Mu_C0 [shape=box label=\\\"Mu_C0\\\" fontsize=10];\\n  Mu_Mul1 [shape=box style=\\\"filled,rounded\\\" color=orange label=\\\"Mul\\n(Mu_Mul1)\\\" fontsize=10];\\n  Ad_C01 -> Mu_Mul1;\\n  Mu_Mulcst -> Mu_Mul1;\\n  Mu_Mul1 -> Mu_C0;\\n\\n  Si_Y0 [shape=box label=\\\"Si_Y0\\\" fontsize=10];\\n  Si_Sigmoid1 [shape=box style=\\\"filled,rounded\\\" color=orange label=\\\"Sigmoid\\n(Si_Sigmoid1)\\\" fontsize=10];\\n  Mu_C0 -> Si_Sigmoid1;\\n  Si_Sigmoid1 -> Si_Y0;\\n\\n  Ma_Y0 [shape=box label=\\\"Ma_Y0\\\" fontsize=10];\\n  Ma_MatMul2 [shape=box style=\\\"filled,rounded\\\" color=orange label=\\\"MatMul\\n(Ma_MatMul2)\\\" fontsize=10];\\n  Si_Y0 -> Ma_MatMul2;\\n  Ma_MatMulcst2 -> Ma_MatMul2;\\n  Ma_MatMul2 -> Ma_Y0;\\n\\n  Ad_C0 [shape=box label=\\\"Ad_C0\\\" fontsize=10];\\n  Ad_Add2 [shape=box style=\\\"filled,rounded\\\" color=orange label=\\\"Add\\n(Ad_Add2)\\\" fontsize=10];\\n  Ma_Y0 -> Ad_Add2;\\n  Ad_Addcst2 -> Ad_Add2;\\n  Ad_Add2 -> Ad_C0;\\n\\n  Id_Identity1 [shape=box style=\\\"filled,rounded\\\" color=orange label=\\\"Identity\\n(Id_Identity1)\\\" fontsize=10];\\n  Ad_C0 -> Id_Identity1;\\n  Id_Identity1 -> variable;\\n}\");\n",
       "document.getElementById('M1f0c5529ea564ba2bdf10042b00fd6b1').innerHTML = svgGraph; });\n",
       "\n",
       "</script>"
      ],
      "text/plain": [
       "<jyquickhelper.jspy.render_nb_js_dot.RenderJsDot at 0x20413066080>"
      ]
     },
     "execution_count": 11,
     "metadata": {},
     "output_type": "execute_result"
    }
   ],
   "source": [
    "%onnxview onx_nn"
   ]
  },
  {
   "cell_type": "code",
   "execution_count": 11,
   "id": "a33fedcb",
   "metadata": {},
   "outputs": [
    {
     "name": "stdout",
     "output_type": "stream",
     "text": [
      "opset: domain='' version=15\n",
      "input: name='X' type=dtype('float32') shape=[None, 10]\n",
      "init: name='Ma_MatMulcst' type=dtype('float32') shape=(1270,)\n",
      "init: name='Ad_Addcst' type=dtype('float32') shape=(127,)\n",
      "init: name='Mu_Mulcst' type=dtype('float32') shape=(1,) -- array([4.], dtype=float32)\n",
      "init: name='Ma_MatMulcst1' type=dtype('float32') shape=(16256,)\n",
      "init: name='Ad_Addcst1' type=dtype('float32') shape=(128,)\n",
      "init: name='Ma_MatMulcst2' type=dtype('float32') shape=(128,)\n",
      "init: name='Ad_Addcst2' type=dtype('float32') shape=(1,) -- array([0.], dtype=float32)\n",
      "MatMul(X, Ma_MatMulcst) -> Ma_Y02\n",
      "  Add(Ma_Y02, Ad_Addcst) -> Ad_C02\n",
      "    Mul(Ad_C02, Mu_Mulcst) -> Mu_C01\n",
      "      Sigmoid(Mu_C01) -> Si_Y01\n",
      "        MatMul(Si_Y01, Ma_MatMulcst1) -> Ma_Y01\n",
      "          Add(Ma_Y01, Ad_Addcst1) -> Ad_C01\n",
      "            Mul(Ad_C01, Mu_Mulcst) -> Mu_C0\n",
      "              Sigmoid(Mu_C0) -> Si_Y0\n",
      "                MatMul(Si_Y0, Ma_MatMulcst2) -> Ma_Y0\n",
      "                  Add(Ma_Y0, Ad_Addcst2) -> Ad_C0\n",
      "                    Identity(Ad_C0) -> variable\n",
      "output: name='variable' type=dtype('float32') shape=[None, 1]\n"
     ]
    }
   ],
   "source": [
    "from onnx_array_api.plotting.text_plot import onnx_simple_text_plot\n",
    "\n",
    "print(onnx_simple_text_plot(onx_nn))"
   ]
  },
  {
   "cell_type": "markdown",
   "id": "857f2e42",
   "metadata": {},
   "source": [
    "## Temps de calcul des prédictions"
   ]
  },
  {
   "cell_type": "code",
   "execution_count": 12,
   "id": "7c810819",
   "metadata": {},
   "outputs": [
    {
     "name": "stdout",
     "output_type": "stream",
     "text": [
      "No CUDA runtime is found, using CUDA_HOME='C:\\Program Files\\NVIDIA GPU Computing Toolkit\\CUDA\\v11.5'\n",
      "518 µs ± 41.4 µs per loop (mean ± std. dev. of 7 runs, 1,000 loops each)\n"
     ]
    }
   ],
   "source": [
    "from onnxruntime import InferenceSession\n",
    "\n",
    "oinf_tree = InferenceSession(onx_tree.SerializeToString())\n",
    "oinf_nn = InferenceSession(onx_nn.SerializeToString())\n",
    "\n",
    "%timeit tree.predict(xe)"
   ]
  },
  {
   "cell_type": "code",
   "execution_count": 13,
   "id": "51f6c958",
   "metadata": {},
   "outputs": [
    {
     "name": "stdout",
     "output_type": "stream",
     "text": [
      "124 µs ± 5.21 µs per loop (mean ± std. dev. of 7 runs, 10,000 loops each)\n"
     ]
    }
   ],
   "source": [
    "%timeit oinf_tree.run(None, {'X': xe})"
   ]
  },
  {
   "cell_type": "code",
   "execution_count": 14,
   "id": "ab1ff3a8",
   "metadata": {},
   "outputs": [
    {
     "name": "stdout",
     "output_type": "stream",
     "text": [
      "3.18 ms ± 569 µs per loop (mean ± std. dev. of 7 runs, 100 loops each)\n"
     ]
    }
   ],
   "source": [
    "%timeit oinf_nn.run(None, {'X': xe})"
   ]
  },
  {
   "cell_type": "markdown",
   "id": "5d8ecaa5",
   "metadata": {},
   "source": [
    "Le temps de calcul est nettement plus long pour le réseau de neurones. Si l'arbre de décision a une profondeur de *d*, l'arbre de décision va faire exactement *d* comparaisons. Le réseau de neurones quant à lui évalue tous les seuils pour chaque prédiction, soit $2^d$. Vérifions cela en faisant variable la profondeur."
   ]
  },
  {
   "cell_type": "markdown",
   "id": "b27675e4",
   "metadata": {},
   "source": [
    "## Temps de calcul en fonction de la profondeur"
   ]
  },
  {
   "cell_type": "code",
   "execution_count": 15,
   "id": "ecef383a",
   "metadata": {},
   "outputs": [
    {
     "name": "stderr",
     "output_type": "stream",
     "text": [
      "100%|██████████| 8/8 [00:07<00:00,  1.04it/s]\n"
     ]
    },
    {
     "data": {
      "text/html": [
       "<div>\n",
       "<style scoped>\n",
       "    .dataframe tbody tr th:only-of-type {\n",
       "        vertical-align: middle;\n",
       "    }\n",
       "\n",
       "    .dataframe tbody tr th {\n",
       "        vertical-align: top;\n",
       "    }\n",
       "\n",
       "    .dataframe thead th {\n",
       "        text-align: right;\n",
       "    }\n",
       "</style>\n",
       "<table border=\"1\" class=\"dataframe\">\n",
       "  <thead>\n",
       "    <tr style=\"text-align: right;\">\n",
       "      <th></th>\n",
       "      <th>average</th>\n",
       "      <th>deviation</th>\n",
       "      <th>min_exec</th>\n",
       "      <th>max_exec</th>\n",
       "      <th>repeat</th>\n",
       "      <th>number</th>\n",
       "      <th>ttime</th>\n",
       "      <th>context_size</th>\n",
       "      <th>d</th>\n",
       "      <th>exp</th>\n",
       "    </tr>\n",
       "  </thead>\n",
       "  <tbody>\n",
       "    <tr>\n",
       "      <th>0</th>\n",
       "      <td>0.005656</td>\n",
       "      <td>0.001292</td>\n",
       "      <td>0.004990</td>\n",
       "      <td>0.009533</td>\n",
       "      <td>20</td>\n",
       "      <td>20</td>\n",
       "      <td>0.113116</td>\n",
       "      <td>64</td>\n",
       "      <td>2</td>\n",
       "      <td>skl</td>\n",
       "    </tr>\n",
       "    <tr>\n",
       "      <th>1</th>\n",
       "      <td>0.000609</td>\n",
       "      <td>0.000084</td>\n",
       "      <td>0.000538</td>\n",
       "      <td>0.000830</td>\n",
       "      <td>10</td>\n",
       "      <td>10</td>\n",
       "      <td>0.006088</td>\n",
       "      <td>64</td>\n",
       "      <td>2</td>\n",
       "      <td>onx_tree</td>\n",
       "    </tr>\n",
       "    <tr>\n",
       "      <th>2</th>\n",
       "      <td>0.002337</td>\n",
       "      <td>0.000563</td>\n",
       "      <td>0.001737</td>\n",
       "      <td>0.003299</td>\n",
       "      <td>10</td>\n",
       "      <td>10</td>\n",
       "      <td>0.023374</td>\n",
       "      <td>64</td>\n",
       "      <td>2</td>\n",
       "      <td>onx_nn</td>\n",
       "    </tr>\n",
       "    <tr>\n",
       "      <th>3</th>\n",
       "      <td>0.005607</td>\n",
       "      <td>0.000962</td>\n",
       "      <td>0.004669</td>\n",
       "      <td>0.007374</td>\n",
       "      <td>20</td>\n",
       "      <td>20</td>\n",
       "      <td>0.112131</td>\n",
       "      <td>64</td>\n",
       "      <td>3</td>\n",
       "      <td>skl</td>\n",
       "    </tr>\n",
       "    <tr>\n",
       "      <th>4</th>\n",
       "      <td>0.000709</td>\n",
       "      <td>0.000240</td>\n",
       "      <td>0.000534</td>\n",
       "      <td>0.001363</td>\n",
       "      <td>10</td>\n",
       "      <td>10</td>\n",
       "      <td>0.007087</td>\n",
       "      <td>64</td>\n",
       "      <td>3</td>\n",
       "      <td>onx_tree</td>\n",
       "    </tr>\n",
       "    <tr>\n",
       "      <th>5</th>\n",
       "      <td>0.002506</td>\n",
       "      <td>0.000448</td>\n",
       "      <td>0.002073</td>\n",
       "      <td>0.003736</td>\n",
       "      <td>10</td>\n",
       "      <td>10</td>\n",
       "      <td>0.025064</td>\n",
       "      <td>64</td>\n",
       "      <td>3</td>\n",
       "      <td>onx_nn</td>\n",
       "    </tr>\n",
       "    <tr>\n",
       "      <th>6</th>\n",
       "      <td>0.006398</td>\n",
       "      <td>0.000942</td>\n",
       "      <td>0.005576</td>\n",
       "      <td>0.009556</td>\n",
       "      <td>20</td>\n",
       "      <td>20</td>\n",
       "      <td>0.127961</td>\n",
       "      <td>64</td>\n",
       "      <td>4</td>\n",
       "      <td>skl</td>\n",
       "    </tr>\n",
       "    <tr>\n",
       "      <th>7</th>\n",
       "      <td>0.000852</td>\n",
       "      <td>0.000335</td>\n",
       "      <td>0.000633</td>\n",
       "      <td>0.001715</td>\n",
       "      <td>10</td>\n",
       "      <td>10</td>\n",
       "      <td>0.008519</td>\n",
       "      <td>64</td>\n",
       "      <td>4</td>\n",
       "      <td>onx_tree</td>\n",
       "    </tr>\n",
       "    <tr>\n",
       "      <th>8</th>\n",
       "      <td>0.004151</td>\n",
       "      <td>0.000763</td>\n",
       "      <td>0.003408</td>\n",
       "      <td>0.005826</td>\n",
       "      <td>10</td>\n",
       "      <td>10</td>\n",
       "      <td>0.041507</td>\n",
       "      <td>64</td>\n",
       "      <td>4</td>\n",
       "      <td>onx_nn</td>\n",
       "    </tr>\n",
       "    <tr>\n",
       "      <th>9</th>\n",
       "      <td>0.007266</td>\n",
       "      <td>0.000731</td>\n",
       "      <td>0.006400</td>\n",
       "      <td>0.009247</td>\n",
       "      <td>20</td>\n",
       "      <td>20</td>\n",
       "      <td>0.145314</td>\n",
       "      <td>64</td>\n",
       "      <td>5</td>\n",
       "      <td>skl</td>\n",
       "    </tr>\n",
       "    <tr>\n",
       "      <th>10</th>\n",
       "      <td>0.000963</td>\n",
       "      <td>0.000169</td>\n",
       "      <td>0.000826</td>\n",
       "      <td>0.001327</td>\n",
       "      <td>10</td>\n",
       "      <td>10</td>\n",
       "      <td>0.009634</td>\n",
       "      <td>64</td>\n",
       "      <td>5</td>\n",
       "      <td>onx_tree</td>\n",
       "    </tr>\n",
       "    <tr>\n",
       "      <th>11</th>\n",
       "      <td>0.006113</td>\n",
       "      <td>0.000560</td>\n",
       "      <td>0.005360</td>\n",
       "      <td>0.007255</td>\n",
       "      <td>10</td>\n",
       "      <td>10</td>\n",
       "      <td>0.061134</td>\n",
       "      <td>64</td>\n",
       "      <td>5</td>\n",
       "      <td>onx_nn</td>\n",
       "    </tr>\n",
       "    <tr>\n",
       "      <th>12</th>\n",
       "      <td>0.008881</td>\n",
       "      <td>0.001234</td>\n",
       "      <td>0.007601</td>\n",
       "      <td>0.012340</td>\n",
       "      <td>20</td>\n",
       "      <td>20</td>\n",
       "      <td>0.177622</td>\n",
       "      <td>64</td>\n",
       "      <td>6</td>\n",
       "      <td>skl</td>\n",
       "    </tr>\n",
       "    <tr>\n",
       "      <th>13</th>\n",
       "      <td>0.001175</td>\n",
       "      <td>0.000613</td>\n",
       "      <td>0.000815</td>\n",
       "      <td>0.002984</td>\n",
       "      <td>10</td>\n",
       "      <td>10</td>\n",
       "      <td>0.011754</td>\n",
       "      <td>64</td>\n",
       "      <td>6</td>\n",
       "      <td>onx_tree</td>\n",
       "    </tr>\n",
       "    <tr>\n",
       "      <th>14</th>\n",
       "      <td>0.011537</td>\n",
       "      <td>0.001079</td>\n",
       "      <td>0.010146</td>\n",
       "      <td>0.013582</td>\n",
       "      <td>10</td>\n",
       "      <td>10</td>\n",
       "      <td>0.115367</td>\n",
       "      <td>64</td>\n",
       "      <td>6</td>\n",
       "      <td>onx_nn</td>\n",
       "    </tr>\n",
       "    <tr>\n",
       "      <th>15</th>\n",
       "      <td>0.011134</td>\n",
       "      <td>0.000887</td>\n",
       "      <td>0.009569</td>\n",
       "      <td>0.013273</td>\n",
       "      <td>20</td>\n",
       "      <td>20</td>\n",
       "      <td>0.222676</td>\n",
       "      <td>64</td>\n",
       "      <td>7</td>\n",
       "      <td>skl</td>\n",
       "    </tr>\n",
       "    <tr>\n",
       "      <th>16</th>\n",
       "      <td>0.001399</td>\n",
       "      <td>0.000131</td>\n",
       "      <td>0.001301</td>\n",
       "      <td>0.001742</td>\n",
       "      <td>10</td>\n",
       "      <td>10</td>\n",
       "      <td>0.013988</td>\n",
       "      <td>64</td>\n",
       "      <td>7</td>\n",
       "      <td>onx_tree</td>\n",
       "    </tr>\n",
       "    <tr>\n",
       "      <th>17</th>\n",
       "      <td>0.034831</td>\n",
       "      <td>0.004986</td>\n",
       "      <td>0.027853</td>\n",
       "      <td>0.046760</td>\n",
       "      <td>10</td>\n",
       "      <td>10</td>\n",
       "      <td>0.348306</td>\n",
       "      <td>64</td>\n",
       "      <td>7</td>\n",
       "      <td>onx_nn</td>\n",
       "    </tr>\n",
       "    <tr>\n",
       "      <th>18</th>\n",
       "      <td>0.011263</td>\n",
       "      <td>0.001060</td>\n",
       "      <td>0.009911</td>\n",
       "      <td>0.013893</td>\n",
       "      <td>20</td>\n",
       "      <td>20</td>\n",
       "      <td>0.225251</td>\n",
       "      <td>64</td>\n",
       "      <td>8</td>\n",
       "      <td>skl</td>\n",
       "    </tr>\n",
       "    <tr>\n",
       "      <th>19</th>\n",
       "      <td>0.001226</td>\n",
       "      <td>0.000148</td>\n",
       "      <td>0.001033</td>\n",
       "      <td>0.001609</td>\n",
       "      <td>10</td>\n",
       "      <td>10</td>\n",
       "      <td>0.012259</td>\n",
       "      <td>64</td>\n",
       "      <td>8</td>\n",
       "      <td>onx_tree</td>\n",
       "    </tr>\n",
       "    <tr>\n",
       "      <th>20</th>\n",
       "      <td>0.141722</td>\n",
       "      <td>0.051041</td>\n",
       "      <td>0.089979</td>\n",
       "      <td>0.270129</td>\n",
       "      <td>10</td>\n",
       "      <td>10</td>\n",
       "      <td>1.417218</td>\n",
       "      <td>64</td>\n",
       "      <td>8</td>\n",
       "      <td>onx_nn</td>\n",
       "    </tr>\n",
       "    <tr>\n",
       "      <th>21</th>\n",
       "      <td>0.016436</td>\n",
       "      <td>0.004827</td>\n",
       "      <td>0.011379</td>\n",
       "      <td>0.028261</td>\n",
       "      <td>20</td>\n",
       "      <td>20</td>\n",
       "      <td>0.328716</td>\n",
       "      <td>64</td>\n",
       "      <td>9</td>\n",
       "      <td>skl</td>\n",
       "    </tr>\n",
       "    <tr>\n",
       "      <th>22</th>\n",
       "      <td>0.003879</td>\n",
       "      <td>0.001963</td>\n",
       "      <td>0.002402</td>\n",
       "      <td>0.008579</td>\n",
       "      <td>10</td>\n",
       "      <td>10</td>\n",
       "      <td>0.038786</td>\n",
       "      <td>64</td>\n",
       "      <td>9</td>\n",
       "      <td>onx_tree</td>\n",
       "    </tr>\n",
       "    <tr>\n",
       "      <th>23</th>\n",
       "      <td>0.323764</td>\n",
       "      <td>0.063045</td>\n",
       "      <td>0.261038</td>\n",
       "      <td>0.456420</td>\n",
       "      <td>10</td>\n",
       "      <td>10</td>\n",
       "      <td>3.237635</td>\n",
       "      <td>64</td>\n",
       "      <td>9</td>\n",
       "      <td>onx_nn</td>\n",
       "    </tr>\n",
       "  </tbody>\n",
       "</table>\n",
       "</div>"
      ],
      "text/plain": [
       "     average  deviation  min_exec  max_exec  repeat  number     ttime  \\\n",
       "0   0.005656   0.001292  0.004990  0.009533      20      20  0.113116   \n",
       "1   0.000609   0.000084  0.000538  0.000830      10      10  0.006088   \n",
       "2   0.002337   0.000563  0.001737  0.003299      10      10  0.023374   \n",
       "3   0.005607   0.000962  0.004669  0.007374      20      20  0.112131   \n",
       "4   0.000709   0.000240  0.000534  0.001363      10      10  0.007087   \n",
       "5   0.002506   0.000448  0.002073  0.003736      10      10  0.025064   \n",
       "6   0.006398   0.000942  0.005576  0.009556      20      20  0.127961   \n",
       "7   0.000852   0.000335  0.000633  0.001715      10      10  0.008519   \n",
       "8   0.004151   0.000763  0.003408  0.005826      10      10  0.041507   \n",
       "9   0.007266   0.000731  0.006400  0.009247      20      20  0.145314   \n",
       "10  0.000963   0.000169  0.000826  0.001327      10      10  0.009634   \n",
       "11  0.006113   0.000560  0.005360  0.007255      10      10  0.061134   \n",
       "12  0.008881   0.001234  0.007601  0.012340      20      20  0.177622   \n",
       "13  0.001175   0.000613  0.000815  0.002984      10      10  0.011754   \n",
       "14  0.011537   0.001079  0.010146  0.013582      10      10  0.115367   \n",
       "15  0.011134   0.000887  0.009569  0.013273      20      20  0.222676   \n",
       "16  0.001399   0.000131  0.001301  0.001742      10      10  0.013988   \n",
       "17  0.034831   0.004986  0.027853  0.046760      10      10  0.348306   \n",
       "18  0.011263   0.001060  0.009911  0.013893      20      20  0.225251   \n",
       "19  0.001226   0.000148  0.001033  0.001609      10      10  0.012259   \n",
       "20  0.141722   0.051041  0.089979  0.270129      10      10  1.417218   \n",
       "21  0.016436   0.004827  0.011379  0.028261      20      20  0.328716   \n",
       "22  0.003879   0.001963  0.002402  0.008579      10      10  0.038786   \n",
       "23  0.323764   0.063045  0.261038  0.456420      10      10  3.237635   \n",
       "\n",
       "    context_size  d       exp  \n",
       "0             64  2       skl  \n",
       "1             64  2  onx_tree  \n",
       "2             64  2    onx_nn  \n",
       "3             64  3       skl  \n",
       "4             64  3  onx_tree  \n",
       "5             64  3    onx_nn  \n",
       "6             64  4       skl  \n",
       "7             64  4  onx_tree  \n",
       "8             64  4    onx_nn  \n",
       "9             64  5       skl  \n",
       "10            64  5  onx_tree  \n",
       "11            64  5    onx_nn  \n",
       "12            64  6       skl  \n",
       "13            64  6  onx_tree  \n",
       "14            64  6    onx_nn  \n",
       "15            64  7       skl  \n",
       "16            64  7  onx_tree  \n",
       "17            64  7    onx_nn  \n",
       "18            64  8       skl  \n",
       "19            64  8  onx_tree  \n",
       "20            64  8    onx_nn  \n",
       "21            64  9       skl  \n",
       "22            64  9  onx_tree  \n",
       "23            64  9    onx_nn  "
      ]
     },
     "execution_count": 16,
     "metadata": {},
     "output_type": "execute_result"
    }
   ],
   "source": [
    "from tqdm import tqdm\n",
    "from onnx_array_api.ext_test_case import measure_time\n",
    "\n",
    "data = []\n",
    "for d in tqdm(range(2, 10)):\n",
    "    tree = DecisionTreeRegressor(max_depth=d)\n",
    "    tree.fit(X_train, y_train)\n",
    "    obs = measure_time(lambda tree=tree: tree.predict(xe), number=20, repeat=20)\n",
    "    obs.update(dict(d=d, exp=\"skl\"))\n",
    "    data.append(obs)\n",
    "\n",
    "    nn = NeuralTreeNetRegressor(NeuralTreeNet.create_from_tree(tree, arch=\"compact\"))\n",
    "\n",
    "    onx_tree = to_onnx(tree, X[:1].astype(numpy.float32))\n",
    "    onx_nn = to_onnx(nn, X[:1].astype(numpy.float32))\n",
    "    oinf_tree = InferenceSession(\n",
    "        onx_tree.SerializePartialToString(), providers=[\"CPUExecutionProvider\"]\n",
    "    )\n",
    "    oinf_nn = InferenceSession(\n",
    "        onx_nn.SerializePartialToString(), providers=[\"CPUExecutionProvider\"]\n",
    "    )\n",
    "\n",
    "    obs = measure_time(\n",
    "        lambda oinf_tree=oinf_tree: oinf_tree.run(None, {\"X\": xe}), number=10, repeat=10\n",
    "    )\n",
    "    obs.update(dict(d=d, exp=\"onx_tree\"))\n",
    "    data.append(obs)\n",
    "\n",
    "    obs = measure_time(\n",
    "        lambda oinf_nn=oinf_nn: oinf_nn.run(None, {\"X\": xe}), number=10, repeat=10\n",
    "    )\n",
    "    obs.update(dict(d=d, exp=\"onx_nn\"))\n",
    "    data.append(obs)\n",
    "\n",
    "df = DataFrame(data)\n",
    "df"
   ]
  },
  {
   "cell_type": "code",
   "execution_count": 16,
   "id": "871130aa",
   "metadata": {},
   "outputs": [
    {
     "data": {
      "image/png": "[encoded data removed]",
      "text/plain": [
       "<Figure size 432x288 with 1 Axes>"
      ]
     },
     "metadata": {
      "needs_background": "light"
     },
     "output_type": "display_data"
    }
   ],
   "source": [
    "piv = df.pivot(\"d\", \"exp\", \"average\")\n",
    "piv.plot(logy=True, title=\"Temps de calcul en fonction de la profondeur\");"
   ]
  },
  {
   "cell_type": "markdown",
   "id": "b30bbefe",
   "metadata": {},
   "source": [
    "L'hypothèse est vérifiée."
   ]
  },
  {
   "cell_type": "code",
   "execution_count": 17,
   "id": "8b163d83",
   "metadata": {},
   "outputs": [],
   "source": []
  }
 ],
 "metadata": {
  "kernelspec": {
   "display_name": "Python 3 (ipykernel)",
   "language": "python",
   "name": "python3"
  },
  "language_info": {
   "codemirror_mode": {
    "name": "ipython",
    "version": 3
   },
   "file_extension": ".py",
   "mimetype": "text/x-python",
   "name": "python",
   "nbconvert_exporter": "python",
   "pygments_lexer": "ipython3",
   "version": "3.10.5"
  }
 },
 "nbformat": 4,
 "nbformat_minor": 5
}
