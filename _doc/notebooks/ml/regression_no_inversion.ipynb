{
 "cells": [
  {
   "cell_type": "markdown",
   "metadata": {},
   "source": [
    "# Régression sans inversion\n",
    "\n",
    "Ce notebook mesure le temps de calcul dans deux algorithmes pour résoudre une régression linéaire, le premier inverse un matrice, le second le fait sans inverser une matrice, le troisième reprend l'idée du second mais utilise une décomposition [QR](https://fr.wikipedia.org/wiki/D%C3%A9composition_QR) puis inverse la matrice *R*."
   ]
  },
  {
   "cell_type": "code",
   "execution_count": 1,
   "metadata": {},
   "outputs": [],
   "source": [
    "%matplotlib inline"
   ]
  },
  {
   "cell_type": "code",
   "execution_count": 2,
   "metadata": {},
   "outputs": [
    {
     "data": {
      "text/plain": [
       "((1000, 7), (1000,), (1000, 1))"
      ]
     },
     "execution_count": 3,
     "metadata": {},
     "output_type": "execute_result"
    }
   ],
   "source": [
    "import numpy.random as rnd\n",
    "\n",
    "X = rnd.randn(1000, 7)\n",
    "eps = rnd.randn(1000, 1) / 3\n",
    "y = X.sum(axis=1).reshape((X.shape[0], 1)) + eps\n",
    "y = y.ravel()\n",
    "X.shape, y.shape, eps.shape"
   ]
  },
  {
   "cell_type": "code",
   "execution_count": 3,
   "metadata": {},
   "outputs": [
    {
     "data": {
      "text/plain": [
       "(array([0.97915374, 1.00078055, 1.00537618, 1.01021414, 1.0003261 ,\n",
       "        0.9944518 , 0.98742625]),\n",
       " array([0.97915374, 1.00078055, 1.00537618, 1.01021414, 1.0003261 ,\n",
       "        0.9944518 , 0.98742625]))"
      ]
     },
     "execution_count": 4,
     "metadata": {},
     "output_type": "execute_result"
    }
   ],
   "source": [
    "from mlstatpy.ml.matrices import linear_regression, gram_schmidt\n",
    "\n",
    "beta1 = linear_regression(X, y, algo=None)\n",
    "beta2 = linear_regression(X, y, algo=\"gram\")\n",
    "beta1, beta2"
   ]
  },
  {
   "cell_type": "code",
   "execution_count": 4,
   "metadata": {},
   "outputs": [
    {
     "name": "stdout",
     "output_type": "stream",
     "text": [
      "38.4 µs ± 2.07 µs per loop (mean ± std. dev. of 7 runs, 10000 loops each)\n"
     ]
    }
   ],
   "source": [
    "%timeit linear_regression(X, y, algo=None)"
   ]
  },
  {
   "cell_type": "code",
   "execution_count": 5,
   "metadata": {},
   "outputs": [
    {
     "name": "stdout",
     "output_type": "stream",
     "text": [
      "310 µs ± 13.6 µs per loop (mean ± std. dev. of 7 runs, 1000 loops each)\n"
     ]
    }
   ],
   "source": [
    "%timeit linear_regression(X, y, algo=\"gram\")"
   ]
  },
  {
   "cell_type": "code",
   "execution_count": 6,
   "metadata": {},
   "outputs": [
    {
     "name": "stdout",
     "output_type": "stream",
     "text": [
      "139 µs ± 8.29 µs per loop (mean ± std. dev. of 7 runs, 10000 loops each)\n"
     ]
    }
   ],
   "source": [
    "%timeit linear_regression(X, y, algo=\"qr\")"
   ]
  },
  {
   "cell_type": "code",
   "execution_count": 7,
   "metadata": {},
   "outputs": [
    {
     "name": "stdout",
     "output_type": "stream",
     "text": [
      "210 µs ± 5.91 µs per loop (mean ± std. dev. of 7 runs, 1000 loops each)\n"
     ]
    }
   ],
   "source": [
    "Xt = X.T\n",
    "%timeit gram_schmidt(Xt)"
   ]
  },
  {
   "cell_type": "markdown",
   "metadata": {},
   "source": [
    "Un exemple avec [scikit-learn](https://scikit-learn.org/stable/modules/generated/sklearn.linear_model.LinearRegression.html)."
   ]
  },
  {
   "cell_type": "code",
   "execution_count": 8,
   "metadata": {},
   "outputs": [
    {
     "name": "stdout",
     "output_type": "stream",
     "text": [
      "443 µs ± 48.3 µs per loop (mean ± std. dev. of 7 runs, 1000 loops each)\n"
     ]
    }
   ],
   "source": [
    "from sklearn.linear_model import LinearRegression\n",
    "\n",
    "clr = LinearRegression()\n",
    "%timeit clr.fit(X, y)"
   ]
  },
  {
   "cell_type": "markdown",
   "metadata": {},
   "source": [
    "Qui utilise la fonction [lstsq](https://docs.scipy.org/doc/numpy/reference/generated/numpy.linalg.lstsq.html?highlight=lstsq):"
   ]
  },
  {
   "cell_type": "code",
   "execution_count": 9,
   "metadata": {},
   "outputs": [
    {
     "name": "stdout",
     "output_type": "stream",
     "text": [
      "75.5 µs ± 2.57 µs per loop (mean ± std. dev. of 7 runs, 10000 loops each)\n"
     ]
    }
   ],
   "source": [
    "from numpy.linalg import lstsq\n",
    "\n",
    "%timeit lstsq(X, y, rcond=None)"
   ]
  },
  {
   "cell_type": "markdown",
   "metadata": {},
   "source": [
    "Il serait sans doute possible d'optimiser les calculs en réduisant le nombre de copie et de transposées. La version utilisant une décomposition [QR](https://fr.wikipedia.org/wiki/D%C3%A9composition_QR) est assez rapide. Le code est là [matrices.py](https://github.com/sdpython/mlstatpy/blob/main/mlstatpy/ml/matrices.py). Pour dépasser [numpy](https://www.numpy.org/), il faut passer au C++. *scikit-learn* ajoute des étapes intermédiaires pour vérifier les données ce qui explique la longueur. On résume le tout par un graphique."
   ]
  },
  {
   "cell_type": "code",
   "execution_count": 10,
   "metadata": {},
   "outputs": [],
   "source": [
    "from onnx_array_api.ext_test_case import measure_time"
   ]
  },
  {
   "cell_type": "code",
   "execution_count": 11,
   "metadata": {},
   "outputs": [
    {
     "name": "stdout",
     "output_type": "stream",
     "text": [
      "100 10\n",
      "1000 10\n",
      "10000 10\n",
      "100 20\n",
      "1000 20\n",
      "10000 20\n",
      "100 50\n",
      "1000 50\n"
     ]
    },
    {
     "data": {
      "text/html": [
       "<div>\n",
       "<style scoped>\n",
       "    .dataframe tbody tr th:only-of-type {\n",
       "        vertical-align: middle;\n",
       "    }\n",
       "\n",
       "    .dataframe tbody tr th {\n",
       "        vertical-align: top;\n",
       "    }\n",
       "\n",
       "    .dataframe thead th {\n",
       "        text-align: right;\n",
       "    }\n",
       "</style>\n",
       "<table border=\"1\" class=\"dataframe\">\n",
       "  <thead>\n",
       "    <tr style=\"text-align: right;\">\n",
       "      <th></th>\n",
       "      <th>average</th>\n",
       "      <th>context_size</th>\n",
       "      <th>deviation</th>\n",
       "      <th>dim</th>\n",
       "      <th>fct</th>\n",
       "      <th>max_exec</th>\n",
       "      <th>min_exec</th>\n",
       "      <th>name</th>\n",
       "      <th>number</th>\n",
       "      <th>repeat</th>\n",
       "      <th>size</th>\n",
       "    </tr>\n",
       "  </thead>\n",
       "  <tbody>\n",
       "    <tr>\n",
       "      <th>0</th>\n",
       "      <td>0.000039</td>\n",
       "      <td>368</td>\n",
       "      <td>0.000019</td>\n",
       "      <td>10</td>\n",
       "      <td>linear_regression(X, y, algo=None)</td>\n",
       "      <td>0.000091</td>\n",
       "      <td>0.000018</td>\n",
       "      <td>lr_matrix</td>\n",
       "      <td>20</td>\n",
       "      <td>20</td>\n",
       "      <td>100</td>\n",
       "    </tr>\n",
       "    <tr>\n",
       "      <th>1</th>\n",
       "      <td>0.000365</td>\n",
       "      <td>368</td>\n",
       "      <td>0.000045</td>\n",
       "      <td>10</td>\n",
       "      <td>linear_regression(X, y, algo='gram')</td>\n",
       "      <td>0.000485</td>\n",
       "      <td>0.000312</td>\n",
       "      <td>lr_gram</td>\n",
       "      <td>20</td>\n",
       "      <td>20</td>\n",
       "      <td>100</td>\n",
       "    </tr>\n",
       "    <tr>\n",
       "      <th>2</th>\n",
       "      <td>0.000114</td>\n",
       "      <td>368</td>\n",
       "      <td>0.000031</td>\n",
       "      <td>10</td>\n",
       "      <td>linear_regression(X, y, algo='qr')</td>\n",
       "      <td>0.000223</td>\n",
       "      <td>0.000093</td>\n",
       "      <td>lr_qr</td>\n",
       "      <td>20</td>\n",
       "      <td>20</td>\n",
       "      <td>100</td>\n",
       "    </tr>\n",
       "    <tr>\n",
       "      <th>3</th>\n",
       "      <td>0.000229</td>\n",
       "      <td>368</td>\n",
       "      <td>0.000020</td>\n",
       "      <td>10</td>\n",
       "      <td>gram_schmidt(Xt)</td>\n",
       "      <td>0.000256</td>\n",
       "      <td>0.000197</td>\n",
       "      <td>gram</td>\n",
       "      <td>20</td>\n",
       "      <td>20</td>\n",
       "      <td>100</td>\n",
       "    </tr>\n",
       "    <tr>\n",
       "      <th>4</th>\n",
       "      <td>0.000403</td>\n",
       "      <td>368</td>\n",
       "      <td>0.000031</td>\n",
       "      <td>10</td>\n",
       "      <td>clr.fit(X, y)</td>\n",
       "      <td>0.000464</td>\n",
       "      <td>0.000346</td>\n",
       "      <td>sklearn</td>\n",
       "      <td>20</td>\n",
       "      <td>20</td>\n",
       "      <td>100</td>\n",
       "    </tr>\n",
       "  </tbody>\n",
       "</table>\n",
       "</div>"
      ],
      "text/plain": [
       "    average  context_size  deviation  dim  \\\n",
       "0  0.000039           368   0.000019   10   \n",
       "1  0.000365           368   0.000045   10   \n",
       "2  0.000114           368   0.000031   10   \n",
       "3  0.000229           368   0.000020   10   \n",
       "4  0.000403           368   0.000031   10   \n",
       "\n",
       "                                    fct  max_exec  min_exec       name  \\\n",
       "0    linear_regression(X, y, algo=None)  0.000091  0.000018  lr_matrix   \n",
       "1  linear_regression(X, y, algo='gram')  0.000485  0.000312    lr_gram   \n",
       "2    linear_regression(X, y, algo='qr')  0.000223  0.000093      lr_qr   \n",
       "3                      gram_schmidt(Xt)  0.000256  0.000197       gram   \n",
       "4                         clr.fit(X, y)  0.000464  0.000346    sklearn   \n",
       "\n",
       "   number  repeat  size  \n",
       "0      20      20   100  \n",
       "1      20      20   100  \n",
       "2      20      20   100  \n",
       "3      20      20   100  \n",
       "4      20      20   100  "
      ]
     },
     "execution_count": 12,
     "metadata": {},
     "output_type": "execute_result"
    }
   ],
   "source": [
    "stmts = [\n",
    "    dict(name=\"lr_matrix\", fct=\"linear_regression(X, y, algo=None)\"),\n",
    "    dict(name=\"lr_gram\", fct=\"linear_regression(X, y, algo='gram')\"),\n",
    "    dict(name=\"lr_qr\", fct=\"linear_regression(X, y, algo='qr')\"),\n",
    "    dict(name=\"gram\", fct=\"gram_schmidt(Xt)\"),\n",
    "    dict(name=\"sklearn\", fct=\"clr.fit(X, y)\"),\n",
    "    dict(name=\"lstsq\", fct=\"lstsq(X, y)\"),\n",
    "]\n",
    "\n",
    "memo = []\n",
    "for size, dim in [\n",
    "    (100, 10),\n",
    "    (1000, 10),\n",
    "    (10000, 10),\n",
    "    (100, 20),\n",
    "    (1000, 20),\n",
    "    (10000, 20),\n",
    "    (100, 50),\n",
    "    (1000, 50),\n",
    "]:\n",
    "    print(size, dim)\n",
    "    X = rnd.randn(size, dim)\n",
    "    eps = rnd.randn(size, 1) / 3\n",
    "    y = X.sum(axis=1).reshape((X.shape[0], 1)) + eps\n",
    "    y = y.ravel()\n",
    "    context = dict(\n",
    "        linear_regression=linear_regression,\n",
    "        Xt=X.T,\n",
    "        X=X,\n",
    "        y=y,\n",
    "        gram_schmidt=gram_schmidt,\n",
    "        clr=clr,\n",
    "        lstsq=lambda X, y: lstsq(X, y, rcond=None),\n",
    "    )\n",
    "\n",
    "    for stmt in stmts:\n",
    "        res = measure_time(\n",
    "            stmt[\"fct\"], number=20, repeat=20, div_by_number=True, context=context\n",
    "        )\n",
    "        res.update(stmt)\n",
    "        res[\"size\"] = size\n",
    "        res[\"dim\"] = dim\n",
    "        memo.append(res)\n",
    "\n",
    "import pandas\n",
    "\n",
    "df = pandas.DataFrame(memo)\n",
    "df.head()"
   ]
  },
  {
   "cell_type": "code",
   "execution_count": 12,
   "metadata": {},
   "outputs": [
    {
     "data": {
      "text/html": [
       "<div>\n",
       "<style scoped>\n",
       "    .dataframe tbody tr th:only-of-type {\n",
       "        vertical-align: middle;\n",
       "    }\n",
       "\n",
       "    .dataframe tbody tr th {\n",
       "        vertical-align: top;\n",
       "    }\n",
       "\n",
       "    .dataframe thead th {\n",
       "        text-align: right;\n",
       "    }\n",
       "</style>\n",
       "<table border=\"1\" class=\"dataframe\">\n",
       "  <thead>\n",
       "    <tr style=\"text-align: right;\">\n",
       "      <th></th>\n",
       "      <th>name</th>\n",
       "      <th>gram</th>\n",
       "      <th>lr_gram</th>\n",
       "      <th>lr_matrix</th>\n",
       "      <th>lr_qr</th>\n",
       "      <th>lstsq</th>\n",
       "      <th>sklearn</th>\n",
       "    </tr>\n",
       "    <tr>\n",
       "      <th>size</th>\n",
       "      <th>dim</th>\n",
       "      <th></th>\n",
       "      <th></th>\n",
       "      <th></th>\n",
       "      <th></th>\n",
       "      <th></th>\n",
       "      <th></th>\n",
       "    </tr>\n",
       "  </thead>\n",
       "  <tbody>\n",
       "    <tr>\n",
       "      <th rowspan=\"3\" valign=\"top\">100</th>\n",
       "      <th>10</th>\n",
       "      <td>0.000229</td>\n",
       "      <td>0.000365</td>\n",
       "      <td>0.000039</td>\n",
       "      <td>0.000114</td>\n",
       "      <td>0.000081</td>\n",
       "      <td>0.000403</td>\n",
       "    </tr>\n",
       "    <tr>\n",
       "      <th>20</th>\n",
       "      <td>0.000442</td>\n",
       "      <td>0.000772</td>\n",
       "      <td>0.000057</td>\n",
       "      <td>0.000142</td>\n",
       "      <td>0.000143</td>\n",
       "      <td>0.000433</td>\n",
       "    </tr>\n",
       "    <tr>\n",
       "      <th>50</th>\n",
       "      <td>0.001384</td>\n",
       "      <td>0.002303</td>\n",
       "      <td>0.000115</td>\n",
       "      <td>0.000298</td>\n",
       "      <td>0.000619</td>\n",
       "      <td>0.000935</td>\n",
       "    </tr>\n",
       "    <tr>\n",
       "      <th rowspan=\"3\" valign=\"top\">1000</th>\n",
       "      <th>10</th>\n",
       "      <td>0.000335</td>\n",
       "      <td>0.000498</td>\n",
       "      <td>0.000052</td>\n",
       "      <td>0.000168</td>\n",
       "      <td>0.000140</td>\n",
       "      <td>0.000633</td>\n",
       "    </tr>\n",
       "    <tr>\n",
       "      <th>20</th>\n",
       "      <td>0.000867</td>\n",
       "      <td>0.001197</td>\n",
       "      <td>0.000093</td>\n",
       "      <td>0.000335</td>\n",
       "      <td>0.000246</td>\n",
       "      <td>0.000641</td>\n",
       "    </tr>\n",
       "    <tr>\n",
       "      <th>50</th>\n",
       "      <td>0.003242</td>\n",
       "      <td>0.004482</td>\n",
       "      <td>0.000263</td>\n",
       "      <td>0.001220</td>\n",
       "      <td>0.000945</td>\n",
       "      <td>0.001545</td>\n",
       "    </tr>\n",
       "    <tr>\n",
       "      <th rowspan=\"2\" valign=\"top\">10000</th>\n",
       "      <th>10</th>\n",
       "      <td>0.001434</td>\n",
       "      <td>0.001309</td>\n",
       "      <td>0.000234</td>\n",
       "      <td>0.002760</td>\n",
       "      <td>0.000551</td>\n",
       "      <td>0.001828</td>\n",
       "    </tr>\n",
       "    <tr>\n",
       "      <th>20</th>\n",
       "      <td>0.010212</td>\n",
       "      <td>0.010944</td>\n",
       "      <td>0.000293</td>\n",
       "      <td>0.005926</td>\n",
       "      <td>0.002128</td>\n",
       "      <td>0.005581</td>\n",
       "    </tr>\n",
       "  </tbody>\n",
       "</table>\n",
       "</div>"
      ],
      "text/plain": [
       "name           gram   lr_gram  lr_matrix     lr_qr     lstsq   sklearn\n",
       "size  dim                                                             \n",
       "100   10   0.000229  0.000365   0.000039  0.000114  0.000081  0.000403\n",
       "      20   0.000442  0.000772   0.000057  0.000142  0.000143  0.000433\n",
       "      50   0.001384  0.002303   0.000115  0.000298  0.000619  0.000935\n",
       "1000  10   0.000335  0.000498   0.000052  0.000168  0.000140  0.000633\n",
       "      20   0.000867  0.001197   0.000093  0.000335  0.000246  0.000641\n",
       "      50   0.003242  0.004482   0.000263  0.001220  0.000945  0.001545\n",
       "10000 10   0.001434  0.001309   0.000234  0.002760  0.000551  0.001828\n",
       "      20   0.010212  0.010944   0.000293  0.005926  0.002128  0.005581"
      ]
     },
     "execution_count": 13,
     "metadata": {},
     "output_type": "execute_result"
    }
   ],
   "source": [
    "piv = pandas.pivot_table(df, index=[\"size\", \"dim\"], columns=\"name\", values=\"average\")\n",
    "piv"
   ]
  },
  {
   "cell_type": "code",
   "execution_count": 13,
   "metadata": {
    "scrolled": true
   },
   "outputs": [
    {
     "data": {
      "image/png": "[encoded data removed]",
      "text/plain": [
       "<Figure size 1008x288 with 2 Axes>"
      ]
     },
     "metadata": {
      "needs_background": "light"
     },
     "output_type": "display_data"
    }
   ],
   "source": [
    "import matplotlib.pyplot as plt\n",
    "\n",
    "fig, ax = plt.subplots(1, 2, figsize=(14, 4))\n",
    "piv[:6].plot(kind=\"bar\", ax=ax[0])\n",
    "piv[6:].plot(kind=\"bar\", ax=ax[1])\n",
    "ax[0].set_title(\"Régression Linéaire, size < 10000\")\n",
    "ax[1].set_title(\"Régression Linéaire, size >= 10000\");"
   ]
  },
  {
   "cell_type": "markdown",
   "metadata": {},
   "source": [
    "## Streaming versions\n",
    "\n",
    "L'idée est différente ici puisqu'il s'agit de calculer toutes les régressions linéaires intermédiaires. Les algorithmes sont décrits par l'exposé [Régression linéaire par morceaux](find://l-reglin-piecewise-streaming)."
   ]
  },
  {
   "cell_type": "code",
   "execution_count": 14,
   "metadata": {},
   "outputs": [
    {
     "name": "stdout",
     "output_type": "stream",
     "text": [
      "100 10\n",
      "600 10\n",
      "1100 10\n",
      "1600 10\n",
      "2100 10\n",
      "2600 10\n",
      "3100 10\n"
     ]
    },
    {
     "data": {
      "text/html": [
       "<div>\n",
       "<style scoped>\n",
       "    .dataframe tbody tr th:only-of-type {\n",
       "        vertical-align: middle;\n",
       "    }\n",
       "\n",
       "    .dataframe tbody tr th {\n",
       "        vertical-align: top;\n",
       "    }\n",
       "\n",
       "    .dataframe thead th {\n",
       "        text-align: right;\n",
       "    }\n",
       "</style>\n",
       "<table border=\"1\" class=\"dataframe\">\n",
       "  <thead>\n",
       "    <tr style=\"text-align: right;\">\n",
       "      <th></th>\n",
       "      <th>average</th>\n",
       "      <th>context_size</th>\n",
       "      <th>deviation</th>\n",
       "      <th>dim</th>\n",
       "      <th>fct</th>\n",
       "      <th>max_exec</th>\n",
       "      <th>min_exec</th>\n",
       "      <th>name</th>\n",
       "      <th>number</th>\n",
       "      <th>repeat</th>\n",
       "      <th>size</th>\n",
       "    </tr>\n",
       "  </thead>\n",
       "  <tbody>\n",
       "    <tr>\n",
       "      <th>0</th>\n",
       "      <td>0.002589</td>\n",
       "      <td>368</td>\n",
       "      <td>0.001263</td>\n",
       "      <td>10</td>\n",
       "      <td>list(all_linear_regression(X, y))</td>\n",
       "      <td>0.005070</td>\n",
       "      <td>0.001753</td>\n",
       "      <td>lr_matrix</td>\n",
       "      <td>5</td>\n",
       "      <td>5</td>\n",
       "      <td>100</td>\n",
       "    </tr>\n",
       "    <tr>\n",
       "      <th>1</th>\n",
       "      <td>0.002621</td>\n",
       "      <td>368</td>\n",
       "      <td>0.000038</td>\n",
       "      <td>10</td>\n",
       "      <td>list(streaming_linear_regression(X, y))</td>\n",
       "      <td>0.002688</td>\n",
       "      <td>0.002572</td>\n",
       "      <td>lr_st_mat</td>\n",
       "      <td>5</td>\n",
       "      <td>5</td>\n",
       "      <td>100</td>\n",
       "    </tr>\n",
       "    <tr>\n",
       "      <th>2</th>\n",
       "      <td>0.031022</td>\n",
       "      <td>368</td>\n",
       "      <td>0.000000</td>\n",
       "      <td>10</td>\n",
       "      <td>list(streaming_linear_regression_gram_schmidt(...</td>\n",
       "      <td>0.031022</td>\n",
       "      <td>0.031022</td>\n",
       "      <td>lr_st_gram</td>\n",
       "      <td>1</td>\n",
       "      <td>1</td>\n",
       "      <td>100</td>\n",
       "    </tr>\n",
       "    <tr>\n",
       "      <th>3</th>\n",
       "      <td>0.018594</td>\n",
       "      <td>368</td>\n",
       "      <td>0.000749</td>\n",
       "      <td>10</td>\n",
       "      <td>list(all_linear_regression(X, y))</td>\n",
       "      <td>0.019532</td>\n",
       "      <td>0.017664</td>\n",
       "      <td>lr_matrix</td>\n",
       "      <td>5</td>\n",
       "      <td>5</td>\n",
       "      <td>600</td>\n",
       "    </tr>\n",
       "    <tr>\n",
       "      <th>4</th>\n",
       "      <td>0.022098</td>\n",
       "      <td>368</td>\n",
       "      <td>0.001805</td>\n",
       "      <td>10</td>\n",
       "      <td>list(streaming_linear_regression(X, y))</td>\n",
       "      <td>0.024896</td>\n",
       "      <td>0.020070</td>\n",
       "      <td>lr_st_mat</td>\n",
       "      <td>5</td>\n",
       "      <td>5</td>\n",
       "      <td>600</td>\n",
       "    </tr>\n",
       "  </tbody>\n",
       "</table>\n",
       "</div>"
      ],
      "text/plain": [
       "    average  context_size  deviation  dim  \\\n",
       "0  0.002589           368   0.001263   10   \n",
       "1  0.002621           368   0.000038   10   \n",
       "2  0.031022           368   0.000000   10   \n",
       "3  0.018594           368   0.000749   10   \n",
       "4  0.022098           368   0.001805   10   \n",
       "\n",
       "                                                 fct  max_exec  min_exec  \\\n",
       "0                  list(all_linear_regression(X, y))  0.005070  0.001753   \n",
       "1            list(streaming_linear_regression(X, y))  0.002688  0.002572   \n",
       "2  list(streaming_linear_regression_gram_schmidt(...  0.031022  0.031022   \n",
       "3                  list(all_linear_regression(X, y))  0.019532  0.017664   \n",
       "4            list(streaming_linear_regression(X, y))  0.024896  0.020070   \n",
       "\n",
       "         name  number  repeat  size  \n",
       "0   lr_matrix       5       5   100  \n",
       "1   lr_st_mat       5       5   100  \n",
       "2  lr_st_gram       1       1   100  \n",
       "3   lr_matrix       5       5   600  \n",
       "4   lr_st_mat       5       5   600  "
      ]
     },
     "execution_count": 15,
     "metadata": {},
     "output_type": "execute_result"
    }
   ],
   "source": [
    "from mlstatpy.ml.matrices import (\n",
    "    streaming_linear_regression,\n",
    "    streaming_linear_regression_gram_schmidt,\n",
    ")\n",
    "\n",
    "\n",
    "def all_linear_regression(X, y):\n",
    "    for i in range(X.shape[1], X.shape[0]):\n",
    "        yield linear_regression(X[:i], y[:i])\n",
    "\n",
    "\n",
    "stmts = [\n",
    "    dict(name=\"lr_matrix\", fct=\"list(all_linear_regression(X, y))\"),\n",
    "    dict(name=\"lr_st_mat\", fct=\"list(streaming_linear_regression(X, y))\"),\n",
    "    dict(name=\"lr_st_gram\", fct=\"list(streaming_linear_regression_gram_schmidt(X, y))\"),\n",
    "]\n",
    "\n",
    "memo = []\n",
    "for dim in (10,):\n",
    "    for size in range(100, 3500, 500):\n",
    "        print(size, dim)\n",
    "        X = rnd.randn(size, dim)\n",
    "        eps = rnd.randn(size, 1) / 3\n",
    "        y = X.sum(axis=1).reshape((X.shape[0], 1)) + eps\n",
    "        y = y.ravel()\n",
    "        context = dict(\n",
    "            X=X,\n",
    "            y=y,\n",
    "            all_linear_regression=all_linear_regression,\n",
    "            streaming_linear_regression=streaming_linear_regression,\n",
    "            streaming_linear_regression_gram_schmidt=streaming_linear_regression_gram_schmidt,\n",
    "        )\n",
    "\n",
    "        for stmt in stmts:\n",
    "            if \"gram\" in stmt[\"name\"]:\n",
    "                nn = 1\n",
    "                if size >= 1000:\n",
    "                    continue\n",
    "            else:\n",
    "                nn = 5\n",
    "            res = measure_time(\n",
    "                stmt[\"fct\"], number=nn, repeat=nn, div_by_number=True, context=context\n",
    "            )\n",
    "            res.update(stmt)\n",
    "            res[\"size\"] = size\n",
    "            res[\"dim\"] = dim\n",
    "            memo.append(res)\n",
    "\n",
    "import pandas\n",
    "\n",
    "df = pandas.DataFrame(memo)\n",
    "df.head()"
   ]
  },
  {
   "cell_type": "code",
   "execution_count": 15,
   "metadata": {},
   "outputs": [
    {
     "data": {
      "text/html": [
       "<div>\n",
       "<style scoped>\n",
       "    .dataframe tbody tr th:only-of-type {\n",
       "        vertical-align: middle;\n",
       "    }\n",
       "\n",
       "    .dataframe tbody tr th {\n",
       "        vertical-align: top;\n",
       "    }\n",
       "\n",
       "    .dataframe thead th {\n",
       "        text-align: right;\n",
       "    }\n",
       "</style>\n",
       "<table border=\"1\" class=\"dataframe\">\n",
       "  <thead>\n",
       "    <tr style=\"text-align: right;\">\n",
       "      <th>name</th>\n",
       "      <th>lr_matrix</th>\n",
       "      <th>lr_st_gram</th>\n",
       "      <th>lr_st_mat</th>\n",
       "    </tr>\n",
       "    <tr>\n",
       "      <th>size</th>\n",
       "      <th></th>\n",
       "      <th></th>\n",
       "      <th></th>\n",
       "    </tr>\n",
       "  </thead>\n",
       "  <tbody>\n",
       "    <tr>\n",
       "      <th>100</th>\n",
       "      <td>0.002589</td>\n",
       "      <td>0.031022</td>\n",
       "      <td>0.002621</td>\n",
       "    </tr>\n",
       "    <tr>\n",
       "      <th>600</th>\n",
       "      <td>0.018594</td>\n",
       "      <td>0.204768</td>\n",
       "      <td>0.022098</td>\n",
       "    </tr>\n",
       "    <tr>\n",
       "      <th>1100</th>\n",
       "      <td>0.040404</td>\n",
       "      <td>NaN</td>\n",
       "      <td>0.034072</td>\n",
       "    </tr>\n",
       "    <tr>\n",
       "      <th>1600</th>\n",
       "      <td>0.062186</td>\n",
       "      <td>NaN</td>\n",
       "      <td>0.052658</td>\n",
       "    </tr>\n",
       "    <tr>\n",
       "      <th>2100</th>\n",
       "      <td>0.097438</td>\n",
       "      <td>NaN</td>\n",
       "      <td>0.060824</td>\n",
       "    </tr>\n",
       "    <tr>\n",
       "      <th>2600</th>\n",
       "      <td>0.128451</td>\n",
       "      <td>NaN</td>\n",
       "      <td>0.079594</td>\n",
       "    </tr>\n",
       "    <tr>\n",
       "      <th>3100</th>\n",
       "      <td>0.161074</td>\n",
       "      <td>NaN</td>\n",
       "      <td>0.090113</td>\n",
       "    </tr>\n",
       "  </tbody>\n",
       "</table>\n",
       "</div>"
      ],
      "text/plain": [
       "name  lr_matrix  lr_st_gram  lr_st_mat\n",
       "size                                  \n",
       "100    0.002589    0.031022   0.002621\n",
       "600    0.018594    0.204768   0.022098\n",
       "1100   0.040404         NaN   0.034072\n",
       "1600   0.062186         NaN   0.052658\n",
       "2100   0.097438         NaN   0.060824\n",
       "2600   0.128451         NaN   0.079594\n",
       "3100   0.161074         NaN   0.090113"
      ]
     },
     "execution_count": 16,
     "metadata": {},
     "output_type": "execute_result"
    }
   ],
   "source": [
    "piv = pandas.pivot_table(df, index=[\"size\"], columns=\"name\", values=\"average\")\n",
    "piv"
   ]
  },
  {
   "cell_type": "code",
   "execution_count": 16,
   "metadata": {},
   "outputs": [
    {
     "data": {
      "image/png": "[encoded data removed]",
      "text/plain": [
       "<Figure size 1008x288 with 2 Axes>"
      ]
     },
     "metadata": {
      "needs_background": "light"
     },
     "output_type": "display_data"
    }
   ],
   "source": [
    "fig, ax = plt.subplots(1, 2, figsize=(14, 4))\n",
    "piv[[\"lr_matrix\", \"lr_st_mat\"]].plot(ax=ax[0])\n",
    "piv.plot(ax=ax[1])\n",
    "ax[0].set_title(\"Régression Linéaire streaming (all)\\n10 features\")\n",
    "ax[1].set_title(\"Régression Linéaire no Gram-Schmidt\\n10 features\");"
   ]
  },
  {
   "cell_type": "markdown",
   "metadata": {},
   "source": [
    "La version streaming devient plus intéressante à partir de 1000 observations, le coût en linéaire en *N* contrairement à la version classique qui est en $N^2$. La version Gram-Schmidt devrait être réécrite en C++ pour proposer des temps comparables."
   ]
  },
  {
   "cell_type": "code",
   "execution_count": 17,
   "metadata": {},
   "outputs": [],
   "source": []
  }
 ],
 "metadata": {
  "kernelspec": {
   "display_name": "Python 3",
   "language": "python",
   "name": "python3"
  },
  "language_info": {
   "codemirror_mode": {
    "name": "ipython",
    "version": 3
   },
   "file_extension": ".py",
   "mimetype": "text/x-python",
   "name": "python",
   "nbconvert_exporter": "python",
   "pygments_lexer": "ipython3",
   "version": "3.7.2"
  }
 },
 "nbformat": 4,
 "nbformat_minor": 2
}