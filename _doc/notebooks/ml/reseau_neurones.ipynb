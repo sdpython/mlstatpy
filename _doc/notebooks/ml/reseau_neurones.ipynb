{
 "cells": [
  {
   "cell_type": "markdown",
   "metadata": {},
   "source": [
    "# Réseaux de neurones\n",
    "\n",
    "Réseaux de neurones avec scikit-learn."
   ]
  },
  {
   "cell_type": "code",
   "execution_count": 1,
   "metadata": {
    "collapsed": true
   },
   "outputs": [],
   "source": [
    "%matplotlib inline"
   ]
  },
  {
   "cell_type": "code",
   "execution_count": 2,
   "metadata": {},
   "outputs": [
    {
     "data": {
      "text/plain": [
       "Perceptron(alpha=0.0001, class_weight=None, eta0=1.0, fit_intercept=True,\n",
       "      n_iter=5, n_jobs=1, penalty=None, random_state=0, shuffle=True,\n",
       "      verbose=0, warm_start=False)"
      ]
     },
     "execution_count": 3,
     "metadata": {},
     "output_type": "execute_result"
    }
   ],
   "source": [
    "from sklearn.linear_model import Perceptron\n",
    "\n",
    "X = [[0.0, 0.0], [1.0, 1.0]]\n",
    "y = [0, 1]\n",
    "clf = Perceptron()\n",
    "clf.fit(X, y)"
   ]
  },
  {
   "cell_type": "code",
   "execution_count": 3,
   "metadata": {},
   "outputs": [
    {
     "data": {
      "text/plain": [
       "<matplotlib.legend.Legend at 0x1b651aeacf8>"
      ]
     },
     "execution_count": 4,
     "metadata": {},
     "output_type": "execute_result"
    },
    {
     "data": {
      "image/png": "[encoded data removed]",
      "text/plain": [
       "<matplotlib.figure.Figure at 0x1b650a72c88>"
      ]
     },
     "metadata": {},
     "output_type": "display_data"
    }
   ],
   "source": [
    "import matplotlib.pyplot as plt\n",
    "import numpy\n",
    "\n",
    "\n",
    "def softmax(x):\n",
    "    return 1.0 / (1 + numpy.exp(-x))\n",
    "\n",
    "\n",
    "def dsoftmax(x):\n",
    "    t = numpy.exp(-x)\n",
    "    return t / (1 + t) ** 2\n",
    "\n",
    "\n",
    "x = numpy.arange(-10, 10, 0.1)\n",
    "y = softmax(x)\n",
    "dy = dsoftmax(x)\n",
    "fig, ax = plt.subplots(1, 1)\n",
    "ax.plot(x, y, label=\"softmax\")\n",
    "ax.plot(x, dy, label=\"dérivée\")\n",
    "ax.set_ylim([-0.1, 1.1])\n",
    "ax.plot([-5, -5], [-0.1, 1.1], \"r\")\n",
    "ax.plot([5, 5], [-0.1, 1.1], \"r\")\n",
    "ax.legend(loc=2)"
   ]
  },
  {
   "cell_type": "code",
   "execution_count": 4,
   "metadata": {},
   "outputs": [
    {
     "data": {
      "text/plain": [
       "array([ -1.00000000e+01,  -9.90000000e+00,  -9.80000000e+00,\n",
       "        -9.70000000e+00,  -9.60000000e+00,  -9.50000000e+00,\n",
       "        -9.40000000e+00,  -9.30000000e+00,  -9.20000000e+00,\n",
       "        -9.10000000e+00,  -9.00000000e+00,  -8.90000000e+00,\n",
       "        -8.80000000e+00,  -8.70000000e+00,  -8.60000000e+00,\n",
       "        -8.50000000e+00,  -8.40000000e+00,  -8.30000000e+00,\n",
       "        -8.20000000e+00,  -8.10000000e+00,  -8.00000000e+00,\n",
       "        -7.90000000e+00,  -7.80000000e+00,  -7.70000000e+00,\n",
       "        -7.60000000e+00,  -7.50000000e+00,  -7.40000000e+00,\n",
       "        -7.30000000e+00,  -7.20000000e+00,  -7.10000000e+00,\n",
       "        -7.00000000e+00,  -6.90000000e+00,  -6.80000000e+00,\n",
       "        -6.70000000e+00,  -6.60000000e+00,  -6.50000000e+00,\n",
       "        -6.40000000e+00,  -6.30000000e+00,  -6.20000000e+00,\n",
       "        -6.10000000e+00,  -6.00000000e+00,  -5.90000000e+00,\n",
       "        -5.80000000e+00,  -5.70000000e+00,  -5.60000000e+00,\n",
       "        -5.50000000e+00,  -5.40000000e+00,  -5.30000000e+00,\n",
       "        -5.20000000e+00,  -5.10000000e+00,  -5.00000000e+00,\n",
       "        -4.90000000e+00,  -4.80000000e+00,  -4.70000000e+00,\n",
       "        -4.60000000e+00,  -4.50000000e+00,  -4.40000000e+00,\n",
       "        -4.30000000e+00,  -4.20000000e+00,  -4.10000000e+00,\n",
       "        -4.00000000e+00,  -3.90000000e+00,  -3.80000000e+00,\n",
       "        -3.70000000e+00,  -3.60000000e+00,  -3.50000000e+00,\n",
       "        -3.40000000e+00,  -3.30000000e+00,  -3.20000000e+00,\n",
       "        -3.10000000e+00,  -3.00000000e+00,  -2.90000000e+00,\n",
       "        -2.80000000e+00,  -2.70000000e+00,  -2.60000000e+00,\n",
       "        -2.50000000e+00,  -2.40000000e+00,  -2.30000000e+00,\n",
       "        -2.20000000e+00,  -2.10000000e+00,  -2.00000000e+00,\n",
       "        -1.90000000e+00,  -1.80000000e+00,  -1.70000000e+00,\n",
       "        -1.60000000e+00,  -1.50000000e+00,  -1.40000000e+00,\n",
       "        -1.30000000e+00,  -1.20000000e+00,  -1.10000000e+00,\n",
       "        -1.00000000e+00,  -9.00000000e-01,  -8.00000000e-01,\n",
       "        -7.00000000e-01,  -6.00000000e-01,  -5.00000000e-01,\n",
       "        -4.00000000e-01,  -3.00000000e-01,  -2.00000000e-01,\n",
       "        -1.00000000e-01,  -3.55271368e-14,   1.00000000e-01,\n",
       "         2.00000000e-01,   3.00000000e-01,   4.00000000e-01,\n",
       "         5.00000000e-01,   6.00000000e-01,   7.00000000e-01,\n",
       "         8.00000000e-01,   9.00000000e-01,   1.00000000e+00,\n",
       "         1.10000000e+00,   1.20000000e+00,   1.30000000e+00,\n",
       "         1.40000000e+00,   1.50000000e+00,   1.60000000e+00,\n",
       "         1.70000000e+00,   1.80000000e+00,   1.90000000e+00,\n",
       "         2.00000000e+00,   2.10000000e+00,   2.20000000e+00,\n",
       "         2.30000000e+00,   2.40000000e+00,   2.50000000e+00,\n",
       "         2.60000000e+00,   2.70000000e+00,   2.80000000e+00,\n",
       "         2.90000000e+00,   3.00000000e+00,   3.10000000e+00,\n",
       "         3.20000000e+00,   3.30000000e+00,   3.40000000e+00,\n",
       "         3.50000000e+00,   3.60000000e+00,   3.70000000e+00,\n",
       "         3.80000000e+00,   3.90000000e+00,   4.00000000e+00,\n",
       "         4.10000000e+00,   4.20000000e+00,   4.30000000e+00,\n",
       "         4.40000000e+00,   4.50000000e+00,   4.60000000e+00,\n",
       "         4.70000000e+00,   4.80000000e+00,   4.90000000e+00,\n",
       "         5.00000000e+00,   5.10000000e+00,   5.20000000e+00,\n",
       "         5.30000000e+00,   5.40000000e+00,   5.50000000e+00,\n",
       "         5.60000000e+00,   5.70000000e+00,   5.80000000e+00,\n",
       "         5.90000000e+00,   6.00000000e+00,   6.10000000e+00,\n",
       "         6.20000000e+00,   6.30000000e+00,   6.40000000e+00,\n",
       "         6.50000000e+00,   6.60000000e+00,   6.70000000e+00,\n",
       "         6.80000000e+00,   6.90000000e+00,   7.00000000e+00,\n",
       "         7.10000000e+00,   7.20000000e+00,   7.30000000e+00,\n",
       "         7.40000000e+00,   7.50000000e+00,   7.60000000e+00,\n",
       "         7.70000000e+00,   7.80000000e+00,   7.90000000e+00,\n",
       "         8.00000000e+00,   8.10000000e+00,   8.20000000e+00,\n",
       "         8.30000000e+00,   8.40000000e+00,   8.50000000e+00,\n",
       "         8.60000000e+00,   8.70000000e+00,   8.80000000e+00,\n",
       "         8.90000000e+00,   9.00000000e+00,   9.10000000e+00,\n",
       "         9.20000000e+00,   9.30000000e+00,   9.40000000e+00,\n",
       "         9.50000000e+00,   9.60000000e+00,   9.70000000e+00,\n",
       "         9.80000000e+00,   9.90000000e+00])"
      ]
     },
     "execution_count": 5,
     "metadata": {},
     "output_type": "execute_result"
    }
   ],
   "source": [
    "x"
   ]
  },
  {
   "cell_type": "code",
   "execution_count": 5,
   "metadata": {
    "collapsed": true
   },
   "outputs": [],
   "source": []
  }
 ],
 "metadata": {
  "kernelspec": {
   "display_name": "Python 3",
   "language": "python",
   "name": "python3"
  },
  "language_info": {
   "codemirror_mode": {
    "name": "ipython",
    "version": 3
   },
   "file_extension": ".py",
   "mimetype": "text/x-python",
   "name": "python",
   "nbconvert_exporter": "python",
   "pygments_lexer": "ipython3",
   "version": "3.6.1"
  }
 },
 "nbformat": 4,
 "nbformat_minor": 1
}
