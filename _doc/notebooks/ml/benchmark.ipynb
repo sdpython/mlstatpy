{
 "cells": [
  {
   "cell_type": "markdown",
   "metadata": {
    "deletable": true,
    "editable": true
   },
   "source": [
    "# Benchmark\n",
    "\n",
    "Ce notebook compare différents modèles depuis un notebook."
   ]
  },
  {
   "cell_type": "code",
   "execution_count": 1,
   "metadata": {
    "collapsed": false,
    "deletable": true,
    "editable": true
   },
   "outputs": [
    {
     "data": {
      "text/html": [
       "<div id=\"my_id_menu_nb\">run previous cell, wait for 2 seconds</div>\n",
       "<script>\n",
       "function repeat_indent_string(n){\n",
       "    var a = \"\" ;\n",
       "    for ( ; n > 0 ; --n) {\n",
       "        a += \"    \";\n",
       "    }\n",
       "    return a;\n",
       "}\n",
       "var update_menu_string = function(begin, lfirst, llast, sformat, send, keep_item) {\n",
       "    var anchors = document.getElementsByClassName(\"section\");\n",
       "    if (anchors.length == 0) {\n",
       "        anchors = document.getElementsByClassName(\"text_cell_render rendered_html\");\n",
       "    }\n",
       "    var i,t;\n",
       "    var text_menu = begin;\n",
       "    var text_memo = \"<pre>\\nlength:\" + anchors.length + \"\\n\";\n",
       "    var ind = \"\";\n",
       "    var memo_level = 1;\n",
       "    var href;\n",
       "    var tags = [];\n",
       "    var main_item = 0;\n",
       "    for (i = 0; i <= llast; i++) {\n",
       "        tags.push(\"h\" + i);\n",
       "    }\n",
       "\n",
       "    for (i = 0; i < anchors.length; i++) {\n",
       "        text_memo += \"**\" + anchors[i].id + \"--\\n\";\n",
       "\n",
       "        var child = null;\n",
       "        for(t = 0; t < tags.length; t++) {\n",
       "            var r = anchors[i].getElementsByTagName(tags[t]);\n",
       "            if (r.length > 0) {\n",
       "child = r[0];\n",
       "break;\n",
       "            }\n",
       "        }\n",
       "        if (child == null){\n",
       "            text_memo += \"null\\n\";\n",
       "            continue;\n",
       "        }\n",
       "        if (anchors[i].hasAttribute(\"id\")) {\n",
       "            // when converted in RST\n",
       "            href = anchors[i].id;\n",
       "            text_memo += \"#1-\" + href;\n",
       "            // passer à child suivant (le chercher)\n",
       "        }\n",
       "        else if (child.hasAttribute(\"id\")) {\n",
       "            // in a notebook\n",
       "            href = child.id;\n",
       "            text_memo += \"#2-\" + href;\n",
       "        }\n",
       "        else {\n",
       "            text_memo += \"#3-\" + \"*\" + \"\\n\";\n",
       "            continue;\n",
       "        }\n",
       "        var title = child.textContent;\n",
       "        var level = parseInt(child.tagName.substring(1,2));\n",
       "\n",
       "        text_memo += \"--\" + level + \"?\" + lfirst + \"--\" + title + \"\\n\";\n",
       "\n",
       "        if ((level < lfirst) || (level > llast)) {\n",
       "            continue ;\n",
       "        }\n",
       "        if (title.endsWith('¶')) {\n",
       "            title = title.substring(0,title.length-1).replace(\"<\", \"&lt;\").replace(\">\", \"&gt;\").replace(\"&\", \"&amp;\")\n",
       "        }\n",
       "\n",
       "        if (title.length == 0) {\n",
       "            continue;\n",
       "        }\n",
       "\n",
       "        while (level < memo_level) {\n",
       "            text_menu += \"</ul>\\n\";\n",
       "            memo_level -= 1;\n",
       "        }\n",
       "        if (level == lfirst) {\n",
       "            main_item += 1;\n",
       "        }\n",
       "        if (keep_item != -1 && main_item != keep_item + 1) {\n",
       "            // alert(main_item + \" - \" + level + \" - \" + keep_item);\n",
       "            continue;\n",
       "        }\n",
       "        while (level > memo_level) {\n",
       "            text_menu += \"<ul>\\n\";\n",
       "            memo_level += 1;\n",
       "        }\n",
       "        text_menu += repeat_indent_string(level-2) + sformat.replace(\"__HREF__\", href).replace(\"__TITLE__\", title);\n",
       "    }\n",
       "    while (1 < memo_level) {\n",
       "        text_menu += \"</ul>\\n\";\n",
       "        memo_level -= 1;\n",
       "    }\n",
       "    text_menu += send;\n",
       "    //text_menu += \"\\n\" + text_memo;\n",
       "    return text_menu;\n",
       "};\n",
       "var update_menu = function() {\n",
       "    var sbegin = \"\";\n",
       "    var sformat = '<li><a href=\"#__HREF__\">__TITLE__</a></li>';\n",
       "    var send = \"\";\n",
       "    var keep_item = -1;\n",
       "    var text_menu = update_menu_string(sbegin, 2, 4, sformat, send, keep_item);\n",
       "    var menu = document.getElementById(\"my_id_menu_nb\");\n",
       "    menu.innerHTML=text_menu;\n",
       "};\n",
       "window.setTimeout(update_menu,2000);\n",
       "            </script>"
      ],
      "text/plain": [
       "<IPython.core.display.HTML object>"
      ]
     },
     "execution_count": 2,
     "metadata": {},
     "output_type": "execute_result"
    }
   ],
   "source": [
    "from jyquickhelper import add_notebook_menu\n",
    "\n",
    "add_notebook_menu()"
   ]
  },
  {
   "cell_type": "markdown",
   "metadata": {
    "deletable": true,
    "editable": true
   },
   "source": [
    "Si le message *Widget Javascript not detected. It may not be installed or enabled properly.* apparaît, vous devriez exécuter la commande ``jupyter nbextension enable --py --sys-prefix widgetsnbextension`` depuis la ligne de commande. Le code suivant vous permet de vérifier que cela a été fait."
   ]
  },
  {
   "cell_type": "code",
   "execution_count": 2,
   "metadata": {
    "collapsed": false,
    "deletable": true,
    "editable": true
   },
   "outputs": [
    {
     "data": {
      "application/vnd.jupyter.widget-view+json": {
       "model_id": "a4f30591a01b4404ad63f2e1507bd5f3"
      }
     },
     "metadata": {},
     "output_type": "display_data"
    },
    {
     "data": {
      "application/vnd.jupyter.widget-view+json": {
       "model_id": "072625ddefdc4d6e963fc6c703cb9910"
      }
     },
     "metadata": {},
     "output_type": "display_data"
    },
    {
     "data": {
      "application/vnd.jupyter.widget-view+json": {
       "model_id": "92eef01d3a614aa284dea6cb591e2d85"
      }
     },
     "metadata": {},
     "output_type": "display_data"
    },
    {
     "data": {
      "application/vnd.jupyter.widget-view+json": {
       "model_id": "37fe02c008ce4cfc9249e5abdf74483a"
      }
     },
     "metadata": {},
     "output_type": "display_data"
    },
    {
     "name": "stdout",
     "output_type": "stream",
     "text": [
      "\n"
     ]
    }
   ],
   "source": [
    "from tqdm import tnrange, tqdm_notebook\n",
    "from time import sleep\n",
    "\n",
    "for i in tnrange(3, desc=\"1st loop\"):\n",
    "    for j in tqdm_notebook(range(20), desc=\"2nd loop\"):\n",
    "        sleep(0.01)"
   ]
  },
  {
   "cell_type": "code",
   "execution_count": 3,
   "metadata": {
    "collapsed": true,
    "deletable": true,
    "editable": true
   },
   "outputs": [],
   "source": [
    "%matplotlib inline"
   ]
  },
  {
   "cell_type": "markdown",
   "metadata": {
    "deletable": true,
    "editable": true
   },
   "source": [
    "## Petit bench sur le clustering"
   ]
  },
  {
   "cell_type": "markdown",
   "metadata": {},
   "source": [
    "### Définition du bench"
   ]
  },
  {
   "cell_type": "code",
   "execution_count": 4,
   "metadata": {
    "collapsed": false,
    "deletable": true,
    "editable": true
   },
   "outputs": [],
   "source": [
    "import dill\n",
    "from tqdm import tnrange\n",
    "from sklearn.cluster import AgglomerativeClustering, KMeans\n",
    "from sklearn.datasets import make_blobs\n",
    "from mlstatpy.ml import MlGridBenchMark\n",
    "\n",
    "params = [\n",
    "    dict(model=lambda: KMeans(n_clusters=3), name=\"KMeans-3\", shortname=\"km-3\"),\n",
    "    dict(\n",
    "        model=lambda: AgglomerativeClustering(),\n",
    "        name=\"AgglomerativeClustering\",\n",
    "        shortname=\"aggclus\",\n",
    "    ),\n",
    "]\n",
    "\n",
    "datasets = [\n",
    "    dict(\n",
    "        X=make_blobs(100, centers=3)[0],\n",
    "        Nclus=3,\n",
    "        name=\"blob-100-3\",\n",
    "        shortname=\"b-100-3\",\n",
    "        no_split=True,\n",
    "    ),\n",
    "    dict(\n",
    "        X=make_blobs(100, centers=5)[0],\n",
    "        Nclus=5,\n",
    "        name=\"blob-100-5\",\n",
    "        shortname=\"b-100-5\",\n",
    "        no_split=True,\n",
    "    ),\n",
    "]\n",
    "\n",
    "bench = MlGridBenchMark(\n",
    "    \"TestName\",\n",
    "    datasets,\n",
    "    fLOG=None,\n",
    "    clog=None,\n",
    "    cache_file=\"cache.pickle\",\n",
    "    pickle_module=dill,\n",
    "    repetition=3,\n",
    "    progressbar=tnrange,\n",
    "    graphx=[\"_time\", \"time_train\", \"Nclus\"],\n",
    "    graphy=[\"silhouette\", \"Nrows\"],\n",
    ")"
   ]
  },
  {
   "cell_type": "markdown",
   "metadata": {},
   "source": [
    "### Lancer le bench"
   ]
  },
  {
   "cell_type": "code",
   "execution_count": 5,
   "metadata": {
    "collapsed": false,
    "deletable": true,
    "editable": true,
    "scrolled": false
   },
   "outputs": [
    {
     "data": {
      "application/vnd.jupyter.widget-view+json": {
       "model_id": "f658c02f930b4b9099a601652a7807a7"
      }
     },
     "metadata": {},
     "output_type": "display_data"
    },
    {
     "name": "stdout",
     "output_type": "stream",
     "text": [
      "0/|/2017-03-19 20:11:11 [BenchMark.run] number of cached run: 4:   0%|| 0/4 [00:00<?, ?it/s]                           "
     ]
    },
    {
     "data": {
      "application/vnd.jupyter.widget-view+json": {
       "model_id": "597c15ddd6564fc4bc8eef27d102ff7c"
      }
     },
     "metadata": {},
     "output_type": "display_data"
    },
    {
     "name": "stdout",
     "output_type": "stream",
     "text": [
      "3/|/2017-03-19 20:11:13 [BenchMark.run] done.:  75%|| 3/4 [00:02<00:00,  1.10it/s]                                     11it/s]_train': 0.02142968022685221, 'time_test': 0.0025012412126208527, '_btry': 'aggclus-b-100-5', '_iexp': 2, 'model_name': 'AgglomerativeClustering', 'ds_name': 'blob-100-5', 'Nrows': 100, 'Nfeat': 2, 'Nclus': 5, 'no_split': True, '_date': datetime.datetime(2017, 3, 19, 20, 11, 11, 647355), '_time': 0.1007650830318858, '_span': datetime.timedelta(0, 0, 112581), '_i': 3, '_name': 'TestName'}:  75%|| 3/4 [00:00<00:00,  4.22it/s]]0:00,  3.53it/s]]\n"
     ]
    }
   ],
   "source": [
    "bench.run(params)"
   ]
  },
  {
   "cell_type": "markdown",
   "metadata": {},
   "source": [
    "### Récupérer les résultats"
   ]
  },
  {
   "cell_type": "code",
   "execution_count": 6,
   "metadata": {
    "collapsed": false,
    "deletable": true,
    "editable": true
   },
   "outputs": [
    {
     "data": {
      "text/html": [
       "<div>\n",
       "<table border=\"1\" class=\"dataframe\">\n",
       "  <thead>\n",
       "    <tr style=\"text-align: right;\">\n",
       "      <th></th>\n",
       "      <th>_btry</th>\n",
       "      <th>_date</th>\n",
       "      <th>_i</th>\n",
       "      <th>_iexp</th>\n",
       "      <th>_name</th>\n",
       "      <th>_span</th>\n",
       "      <th>_time</th>\n",
       "      <th>Nclus</th>\n",
       "      <th>Nfeat</th>\n",
       "      <th>Nrows</th>\n",
       "      <th>ds_name</th>\n",
       "      <th>model_name</th>\n",
       "      <th>no_split</th>\n",
       "      <th>own_score</th>\n",
       "      <th>silhouette</th>\n",
       "      <th>time_preproc</th>\n",
       "      <th>time_test</th>\n",
       "      <th>time_train</th>\n",
       "    </tr>\n",
       "  </thead>\n",
       "  <tbody>\n",
       "    <tr>\n",
       "      <th>0</th>\n",
       "      <td>km-3-b-100-3</td>\n",
       "      <td>2017-03-19 20:11:11.132135</td>\n",
       "      <td>0</td>\n",
       "      <td>0</td>\n",
       "      <td>TestName</td>\n",
       "      <td>0:00:00.147610</td>\n",
       "      <td>0.147594</td>\n",
       "      <td>3</td>\n",
       "      <td>2</td>\n",
       "      <td>100</td>\n",
       "      <td>blob-100-3</td>\n",
       "      <td>KMeans-3</td>\n",
       "      <td>True</td>\n",
       "      <td>-175.396944</td>\n",
       "      <td>0.700618</td>\n",
       "      <td>0.009154</td>\n",
       "      <td>0.003195</td>\n",
       "      <td>0.044693</td>\n",
       "    </tr>\n",
       "    <tr>\n",
       "      <th>1</th>\n",
       "      <td>km-3-b-100-3</td>\n",
       "      <td>0:00:00.147610</td>\n",
       "      <td>0</td>\n",
       "      <td>1</td>\n",
       "      <td>TestName</td>\n",
       "      <td>2017-03-19 20:11:11.140141</td>\n",
       "      <td>0.147594</td>\n",
       "      <td>3</td>\n",
       "      <td>2</td>\n",
       "      <td>100</td>\n",
       "      <td>blob-100-3</td>\n",
       "      <td>KMeans-3</td>\n",
       "      <td>True</td>\n",
       "      <td>-175.396944</td>\n",
       "      <td>0.700618</td>\n",
       "      <td>0.006068</td>\n",
       "      <td>0.002803</td>\n",
       "      <td>0.037633</td>\n",
       "    </tr>\n",
       "    <tr>\n",
       "      <th>2</th>\n",
       "      <td>km-3-b-100-3</td>\n",
       "      <td>2017-03-19 20:11:11.140141</td>\n",
       "      <td>0</td>\n",
       "      <td>2</td>\n",
       "      <td>TestName</td>\n",
       "      <td>0:00:00.155620</td>\n",
       "      <td>0.147594</td>\n",
       "      <td>3</td>\n",
       "      <td>2</td>\n",
       "      <td>100</td>\n",
       "      <td>blob-100-3</td>\n",
       "      <td>KMeans-3</td>\n",
       "      <td>True</td>\n",
       "      <td>-175.396944</td>\n",
       "      <td>0.700618</td>\n",
       "      <td>0.006230</td>\n",
       "      <td>0.002630</td>\n",
       "      <td>0.035106</td>\n",
       "    </tr>\n",
       "    <tr>\n",
       "      <th>3</th>\n",
       "      <td>aggclus-b-100-3</td>\n",
       "      <td>2017-03-19 20:11:11.317283</td>\n",
       "      <td>1</td>\n",
       "      <td>0</td>\n",
       "      <td>TestName</td>\n",
       "      <td>0:00:00.096081</td>\n",
       "      <td>0.096700</td>\n",
       "      <td>3</td>\n",
       "      <td>2</td>\n",
       "      <td>100</td>\n",
       "      <td>blob-100-3</td>\n",
       "      <td>AgglomerativeClustering</td>\n",
       "      <td>True</td>\n",
       "      <td>NaN</td>\n",
       "      <td>0.662345</td>\n",
       "      <td>0.008147</td>\n",
       "      <td>0.002508</td>\n",
       "      <td>0.026997</td>\n",
       "    </tr>\n",
       "    <tr>\n",
       "      <th>4</th>\n",
       "      <td>aggclus-b-100-3</td>\n",
       "      <td>0:00:00.096081</td>\n",
       "      <td>1</td>\n",
       "      <td>1</td>\n",
       "      <td>TestName</td>\n",
       "      <td>2017-03-19 20:11:11.325288</td>\n",
       "      <td>0.096700</td>\n",
       "      <td>3</td>\n",
       "      <td>2</td>\n",
       "      <td>100</td>\n",
       "      <td>blob-100-3</td>\n",
       "      <td>AgglomerativeClustering</td>\n",
       "      <td>True</td>\n",
       "      <td>NaN</td>\n",
       "      <td>0.662345</td>\n",
       "      <td>0.009511</td>\n",
       "      <td>0.004156</td>\n",
       "      <td>0.016807</td>\n",
       "    </tr>\n",
       "    <tr>\n",
       "      <th>5</th>\n",
       "      <td>aggclus-b-100-3</td>\n",
       "      <td>2017-03-19 20:11:11.325288</td>\n",
       "      <td>1</td>\n",
       "      <td>2</td>\n",
       "      <td>TestName</td>\n",
       "      <td>0:00:00.106088</td>\n",
       "      <td>0.096700</td>\n",
       "      <td>3</td>\n",
       "      <td>2</td>\n",
       "      <td>100</td>\n",
       "      <td>blob-100-3</td>\n",
       "      <td>AgglomerativeClustering</td>\n",
       "      <td>True</td>\n",
       "      <td>NaN</td>\n",
       "      <td>0.662345</td>\n",
       "      <td>0.007018</td>\n",
       "      <td>0.003252</td>\n",
       "      <td>0.018227</td>\n",
       "    </tr>\n",
       "    <tr>\n",
       "      <th>6</th>\n",
       "      <td>km-3-b-100-5</td>\n",
       "      <td>2017-03-19 20:11:11.452688</td>\n",
       "      <td>2</td>\n",
       "      <td>0</td>\n",
       "      <td>TestName</td>\n",
       "      <td>0:00:00.145130</td>\n",
       "      <td>0.145012</td>\n",
       "      <td>5</td>\n",
       "      <td>2</td>\n",
       "      <td>100</td>\n",
       "      <td>blob-100-5</td>\n",
       "      <td>KMeans-3</td>\n",
       "      <td>True</td>\n",
       "      <td>-466.829200</td>\n",
       "      <td>0.790511</td>\n",
       "      <td>0.007587</td>\n",
       "      <td>0.002748</td>\n",
       "      <td>0.033610</td>\n",
       "    </tr>\n",
       "    <tr>\n",
       "      <th>7</th>\n",
       "      <td>km-3-b-100-5</td>\n",
       "      <td>0:00:00.145130</td>\n",
       "      <td>2</td>\n",
       "      <td>1</td>\n",
       "      <td>TestName</td>\n",
       "      <td>2017-03-19 20:11:11.463199</td>\n",
       "      <td>0.145012</td>\n",
       "      <td>5</td>\n",
       "      <td>2</td>\n",
       "      <td>100</td>\n",
       "      <td>blob-100-5</td>\n",
       "      <td>KMeans-3</td>\n",
       "      <td>True</td>\n",
       "      <td>-466.829200</td>\n",
       "      <td>0.790511</td>\n",
       "      <td>0.007471</td>\n",
       "      <td>0.002278</td>\n",
       "      <td>0.036098</td>\n",
       "    </tr>\n",
       "    <tr>\n",
       "      <th>8</th>\n",
       "      <td>km-3-b-100-5</td>\n",
       "      <td>2017-03-19 20:11:11.463199</td>\n",
       "      <td>2</td>\n",
       "      <td>2</td>\n",
       "      <td>TestName</td>\n",
       "      <td>0:00:00.153136</td>\n",
       "      <td>0.145012</td>\n",
       "      <td>5</td>\n",
       "      <td>2</td>\n",
       "      <td>100</td>\n",
       "      <td>blob-100-5</td>\n",
       "      <td>KMeans-3</td>\n",
       "      <td>True</td>\n",
       "      <td>-466.829200</td>\n",
       "      <td>0.790511</td>\n",
       "      <td>0.011576</td>\n",
       "      <td>0.004463</td>\n",
       "      <td>0.039103</td>\n",
       "    </tr>\n",
       "    <tr>\n",
       "      <th>9</th>\n",
       "      <td>aggclus-b-100-5</td>\n",
       "      <td>2017-03-19 20:11:11.640351</td>\n",
       "      <td>3</td>\n",
       "      <td>0</td>\n",
       "      <td>TestName</td>\n",
       "      <td>0:00:00.101573</td>\n",
       "      <td>0.100765</td>\n",
       "      <td>5</td>\n",
       "      <td>2</td>\n",
       "      <td>100</td>\n",
       "      <td>blob-100-5</td>\n",
       "      <td>AgglomerativeClustering</td>\n",
       "      <td>True</td>\n",
       "      <td>NaN</td>\n",
       "      <td>0.636241</td>\n",
       "      <td>0.009483</td>\n",
       "      <td>0.002418</td>\n",
       "      <td>0.020562</td>\n",
       "    </tr>\n",
       "    <tr>\n",
       "      <th>10</th>\n",
       "      <td>aggclus-b-100-5</td>\n",
       "      <td>0:00:00.101573</td>\n",
       "      <td>3</td>\n",
       "      <td>1</td>\n",
       "      <td>TestName</td>\n",
       "      <td>2017-03-19 20:11:11.647355</td>\n",
       "      <td>0.100765</td>\n",
       "      <td>5</td>\n",
       "      <td>2</td>\n",
       "      <td>100</td>\n",
       "      <td>blob-100-5</td>\n",
       "      <td>AgglomerativeClustering</td>\n",
       "      <td>True</td>\n",
       "      <td>NaN</td>\n",
       "      <td>0.636241</td>\n",
       "      <td>0.011532</td>\n",
       "      <td>0.001634</td>\n",
       "      <td>0.021456</td>\n",
       "    </tr>\n",
       "    <tr>\n",
       "      <th>11</th>\n",
       "      <td>aggclus-b-100-5</td>\n",
       "      <td>2017-03-19 20:11:11.647355</td>\n",
       "      <td>3</td>\n",
       "      <td>2</td>\n",
       "      <td>TestName</td>\n",
       "      <td>0:00:00.112581</td>\n",
       "      <td>0.100765</td>\n",
       "      <td>5</td>\n",
       "      <td>2</td>\n",
       "      <td>100</td>\n",
       "      <td>blob-100-5</td>\n",
       "      <td>AgglomerativeClustering</td>\n",
       "      <td>True</td>\n",
       "      <td>NaN</td>\n",
       "      <td>0.636241</td>\n",
       "      <td>0.009643</td>\n",
       "      <td>0.002501</td>\n",
       "      <td>0.021430</td>\n",
       "    </tr>\n",
       "  </tbody>\n",
       "</table>\n",
       "</div>"
      ],
      "text/plain": [
       "              _btry                       _date  _i  _iexp     _name  \\\n",
       "0      km-3-b-100-3  2017-03-19 20:11:11.132135   0      0  TestName   \n",
       "1      km-3-b-100-3              0:00:00.147610   0      1  TestName   \n",
       "2      km-3-b-100-3  2017-03-19 20:11:11.140141   0      2  TestName   \n",
       "3   aggclus-b-100-3  2017-03-19 20:11:11.317283   1      0  TestName   \n",
       "4   aggclus-b-100-3              0:00:00.096081   1      1  TestName   \n",
       "5   aggclus-b-100-3  2017-03-19 20:11:11.325288   1      2  TestName   \n",
       "6      km-3-b-100-5  2017-03-19 20:11:11.452688   2      0  TestName   \n",
       "7      km-3-b-100-5              0:00:00.145130   2      1  TestName   \n",
       "8      km-3-b-100-5  2017-03-19 20:11:11.463199   2      2  TestName   \n",
       "9   aggclus-b-100-5  2017-03-19 20:11:11.640351   3      0  TestName   \n",
       "10  aggclus-b-100-5              0:00:00.101573   3      1  TestName   \n",
       "11  aggclus-b-100-5  2017-03-19 20:11:11.647355   3      2  TestName   \n",
       "\n",
       "                         _span     _time  Nclus  Nfeat  Nrows     ds_name  \\\n",
       "0               0:00:00.147610  0.147594      3      2    100  blob-100-3   \n",
       "1   2017-03-19 20:11:11.140141  0.147594      3      2    100  blob-100-3   \n",
       "2               0:00:00.155620  0.147594      3      2    100  blob-100-3   \n",
       "3               0:00:00.096081  0.096700      3      2    100  blob-100-3   \n",
       "4   2017-03-19 20:11:11.325288  0.096700      3      2    100  blob-100-3   \n",
       "5               0:00:00.106088  0.096700      3      2    100  blob-100-3   \n",
       "6               0:00:00.145130  0.145012      5      2    100  blob-100-5   \n",
       "7   2017-03-19 20:11:11.463199  0.145012      5      2    100  blob-100-5   \n",
       "8               0:00:00.153136  0.145012      5      2    100  blob-100-5   \n",
       "9               0:00:00.101573  0.100765      5      2    100  blob-100-5   \n",
       "10  2017-03-19 20:11:11.647355  0.100765      5      2    100  blob-100-5   \n",
       "11              0:00:00.112581  0.100765      5      2    100  blob-100-5   \n",
       "\n",
       "                 model_name no_split   own_score  silhouette  time_preproc  \\\n",
       "0                  KMeans-3     True -175.396944    0.700618      0.009154   \n",
       "1                  KMeans-3     True -175.396944    0.700618      0.006068   \n",
       "2                  KMeans-3     True -175.396944    0.700618      0.006230   \n",
       "3   AgglomerativeClustering     True         NaN    0.662345      0.008147   \n",
       "4   AgglomerativeClustering     True         NaN    0.662345      0.009511   \n",
       "5   AgglomerativeClustering     True         NaN    0.662345      0.007018   \n",
       "6                  KMeans-3     True -466.829200    0.790511      0.007587   \n",
       "7                  KMeans-3     True -466.829200    0.790511      0.007471   \n",
       "8                  KMeans-3     True -466.829200    0.790511      0.011576   \n",
       "9   AgglomerativeClustering     True         NaN    0.636241      0.009483   \n",
       "10  AgglomerativeClustering     True         NaN    0.636241      0.011532   \n",
       "11  AgglomerativeClustering     True         NaN    0.636241      0.009643   \n",
       "\n",
       "    time_test  time_train  \n",
       "0    0.003195    0.044693  \n",
       "1    0.002803    0.037633  \n",
       "2    0.002630    0.035106  \n",
       "3    0.002508    0.026997  \n",
       "4    0.004156    0.016807  \n",
       "5    0.003252    0.018227  \n",
       "6    0.002748    0.033610  \n",
       "7    0.002278    0.036098  \n",
       "8    0.004463    0.039103  \n",
       "9    0.002418    0.020562  \n",
       "10   0.001634    0.021456  \n",
       "11   0.002501    0.021430  "
      ]
     },
     "execution_count": 7,
     "metadata": {},
     "output_type": "execute_result"
    }
   ],
   "source": [
    "df = bench.to_df()\n",
    "df"
   ]
  },
  {
   "cell_type": "code",
   "execution_count": 7,
   "metadata": {
    "collapsed": false,
    "deletable": true,
    "editable": true,
    "scrolled": false
   },
   "outputs": [
    {
     "data": {
      "text/plain": [
       "<matplotlib.axes._subplots.AxesSubplot at 0x122b8004748>"
      ]
     },
     "execution_count": 8,
     "metadata": {},
     "output_type": "execute_result"
    },
    {
     "data": {
      "image/png": "[encoded data removed]",
      "text/plain": [
       "<matplotlib.figure.Figure at 0x122b7830550>"
      ]
     },
     "metadata": {},
     "output_type": "display_data"
    }
   ],
   "source": [
    "df.plot(x=\"time_train\", y=\"silhouette\", kind=\"scatter\")"
   ]
  },
  {
   "cell_type": "markdown",
   "metadata": {},
   "source": [
    "### Dessin, Graphs"
   ]
  },
  {
   "cell_type": "code",
   "execution_count": 8,
   "metadata": {
    "collapsed": false,
    "deletable": true,
    "editable": true
   },
   "outputs": [
    {
     "data": {
      "text/plain": [
       "array([[<matplotlib.axes._subplots.AxesSubplot object at 0x00000122B8269A90>,\n",
       "        <matplotlib.axes._subplots.AxesSubplot object at 0x00000122B82E1DA0>],\n",
       "       [<matplotlib.axes._subplots.AxesSubplot object at 0x00000122B83512E8>,\n",
       "        <matplotlib.axes._subplots.AxesSubplot object at 0x00000122B83A1828>],\n",
       "       [<matplotlib.axes._subplots.AxesSubplot object at 0x00000122B8409D68>,\n",
       "        <matplotlib.axes._subplots.AxesSubplot object at 0x00000122B8462588>]], dtype=object)"
      ]
     },
     "execution_count": 9,
     "metadata": {},
     "output_type": "execute_result"
    },
    {
     "data": {
      "image/png": "[encoded data removed]",
      "text/plain": [
       "<matplotlib.figure.Figure at 0x122b8289e48>"
      ]
     },
     "metadata": {},
     "output_type": "display_data"
    }
   ],
   "source": [
    "bench.plot_graphs(figsize=(12, 12))"
   ]
  },
  {
   "cell_type": "code",
   "execution_count": 9,
   "metadata": {
    "collapsed": true
   },
   "outputs": [],
   "source": []
  }
 ],
 "metadata": {
  "kernelspec": {
   "display_name": "Python 3",
   "language": "python",
   "name": "python3"
  },
  "language_info": {
   "codemirror_mode": {
    "name": "ipython",
    "version": 3
   },
   "file_extension": ".py",
   "mimetype": "text/x-python",
   "name": "python",
   "nbconvert_exporter": "python",
   "pygments_lexer": "ipython3",
   "version": "3.6.0"
  }
 },
 "nbformat": 4,
 "nbformat_minor": 2
}