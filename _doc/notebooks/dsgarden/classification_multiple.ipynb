{
 "cells": [
  {
   "cell_type": "markdown",
   "metadata": {},
   "source": [
    "# Classification multiple\n",
    "\n",
    "Explorations autour d'un problème de classification multiple."
   ]
  },
  {
   "cell_type": "code",
   "execution_count": 1,
   "metadata": {},
   "outputs": [
    {
     "data": {
      "text/html": [
       "<div id=\"my_id_menu_nb\">run previous cell, wait for 2 seconds</div>\n",
       "<script>\n",
       "function repeat_indent_string(n){\n",
       "    var a = \"\" ;\n",
       "    for ( ; n > 0 ; --n)\n",
       "        a += \"    \";\n",
       "    return a;\n",
       "}\n",
       "var update_menu_string = function(begin, lfirst, llast, sformat, send, keep_item, begin_format, end_format) {\n",
       "    var anchors = document.getElementsByClassName(\"section\");\n",
       "    if (anchors.length == 0) {\n",
       "        anchors = document.getElementsByClassName(\"text_cell_render rendered_html\");\n",
       "    }\n",
       "    var i,t;\n",
       "    var text_menu = begin;\n",
       "    var text_memo = \"<pre>\\nlength:\" + anchors.length + \"\\n\";\n",
       "    var ind = \"\";\n",
       "    var memo_level = 1;\n",
       "    var href;\n",
       "    var tags = [];\n",
       "    var main_item = 0;\n",
       "    var format_open = 0;\n",
       "    for (i = 0; i <= llast; i++)\n",
       "        tags.push(\"h\" + i);\n",
       "\n",
       "    for (i = 0; i < anchors.length; i++) {\n",
       "        text_memo += \"**\" + anchors[i].id + \"--\\n\";\n",
       "\n",
       "        var child = null;\n",
       "        for(t = 0; t < tags.length; t++) {\n",
       "            var r = anchors[i].getElementsByTagName(tags[t]);\n",
       "            if (r.length > 0) {\n",
       "child = r[0];\n",
       "break;\n",
       "            }\n",
       "        }\n",
       "        if (child == null) {\n",
       "            text_memo += \"null\\n\";\n",
       "            continue;\n",
       "        }\n",
       "        if (anchors[i].hasAttribute(\"id\")) {\n",
       "            // when converted in RST\n",
       "            href = anchors[i].id;\n",
       "            text_memo += \"#1-\" + href;\n",
       "            // passer à child suivant (le chercher)\n",
       "        }\n",
       "        else if (child.hasAttribute(\"id\")) {\n",
       "            // in a notebook\n",
       "            href = child.id;\n",
       "            text_memo += \"#2-\" + href;\n",
       "        }\n",
       "        else {\n",
       "            text_memo += \"#3-\" + \"*\" + \"\\n\";\n",
       "            continue;\n",
       "        }\n",
       "        var title = child.textContent;\n",
       "        var level = parseInt(child.tagName.substring(1,2));\n",
       "\n",
       "        text_memo += \"--\" + level + \"?\" + lfirst + \"--\" + title + \"\\n\";\n",
       "\n",
       "        if ((level < lfirst) || (level > llast)) {\n",
       "            continue ;\n",
       "        }\n",
       "        if (title.endsWith('¶')) {\n",
       "            title = title.substring(0,title.length-1).replace(\"<\", \"&lt;\")\n",
       "         .replace(\">\", \"&gt;\").replace(\"&\", \"&amp;\");\n",
       "        }\n",
       "        if (title.length == 0) {\n",
       "            continue;\n",
       "        }\n",
       "\n",
       "        while (level < memo_level) {\n",
       "            text_menu += end_format + \"</ul>\\n\";\n",
       "            format_open -= 1;\n",
       "            memo_level -= 1;\n",
       "        }\n",
       "        if (level == lfirst) {\n",
       "            main_item += 1;\n",
       "        }\n",
       "        if (keep_item != -1 && main_item != keep_item + 1) {\n",
       "            // alert(main_item + \" - \" + level + \" - \" + keep_item);\n",
       "            continue;\n",
       "        }\n",
       "        while (level > memo_level) {\n",
       "            text_menu += \"<ul>\\n\";\n",
       "            memo_level += 1;\n",
       "        }\n",
       "        text_menu += repeat_indent_string(level-2);\n",
       "        text_menu += begin_format + sformat.replace(\"__HREF__\", href).replace(\"__TITLE__\", title);\n",
       "        format_open += 1;\n",
       "    }\n",
       "    while (1 < memo_level) {\n",
       "        text_menu += end_format + \"</ul>\\n\";\n",
       "        memo_level -= 1;\n",
       "        format_open -= 1;\n",
       "    }\n",
       "    text_menu += send;\n",
       "    //text_menu += \"\\n\" + text_memo;\n",
       "\n",
       "    while (format_open > 0) {\n",
       "        text_menu += end_format;\n",
       "        format_open -= 1;\n",
       "    }\n",
       "    return text_menu;\n",
       "};\n",
       "var update_menu = function() {\n",
       "    var sbegin = \"\";\n",
       "    var sformat = '<a href=\"#__HREF__\">__TITLE__</a>';\n",
       "    var send = \"\";\n",
       "    var begin_format = '<li>';\n",
       "    var end_format = '</li>';\n",
       "    var keep_item = -1;\n",
       "    var text_menu = update_menu_string(sbegin, 2, 4, sformat, send, keep_item,\n",
       "       begin_format, end_format);\n",
       "    var menu = document.getElementById(\"my_id_menu_nb\");\n",
       "    menu.innerHTML=text_menu;\n",
       "};\n",
       "window.setTimeout(update_menu,2000);\n",
       "            </script>"
      ],
      "text/plain": [
       "<IPython.core.display.HTML object>"
      ]
     },
     "execution_count": 2,
     "metadata": {},
     "output_type": "execute_result"
    }
   ],
   "source": [
    "from jyquickhelper import add_notebook_menu\n",
    "\n",
    "add_notebook_menu()"
   ]
  },
  {
   "cell_type": "markdown",
   "metadata": {},
   "source": [
    "## Début de l'histoire"
   ]
  },
  {
   "cell_type": "markdown",
   "metadata": {},
   "source": [
    "$\\mathbf{1\\!\\!1}_{y_i}$"
   ]
  },
  {
   "cell_type": "markdown",
   "metadata": {},
   "source": [
    "### Confusions\n",
    "\n",
    "Un des premiers réflexes après avoir appris une classification multi-classe est de regarder la [matrice de confusion](https://fr.wikipedia.org/wiki/Matrice_de_confusion). Certaines classes sont difficiles à classer, d'autres non. Je me demandais s'il existait un moyen de déterminer cela sans apprendre un classifieur. On souhaite apprendre la classification des points $(X_i, y_i)$, $X_i$ est un vecteur, $y_i$ la classe attendue. Si $\\hat{y_i}$ est la classe prédite, l'erreur de classification est :\n",
    "\n",
    "$$E=\\sum_i \\mathbb{1}_{y_i \\neq \\hat{y_i}}$$\n",
    "\n",
    "On note $c_{ij} = \\mathbb{1}_{y_i = j}$ et $\\hat{c_{ij}} = \\mathbb{1}_{\\hat{y_i} = j}$. On note le vecteur $C_j=(c_{ij})_i$ et $\\hat{C_j}=(\\hat{c_{ij}})_i$. On peut réécrire l'erreur comme :\n",
    "\n",
    "$$E=\\sum_{ij} \\mathbb{1}_{y_i = j} \\mathbb{1}_{\\hat{y_i} \\neq j} =\\sum_{ij} \\mathbb{1}_{y_i = j} (1-\\mathbb{1}_{\\hat{y_i} = j})  =\\sum_{ij} c_{ij} (1-\\hat{c_{ij}})= \\sum_j < C_j , 1-\\hat{C_j}>$$\n",
    "\n",
    "C'est aussi égal à :\n",
    "\n",
    "$$E = \\sum_{k \\neq j} <C_j , \\hat{C_k}>$$\n",
    "\n",
    "Et $<C_j,\\hat{C_k}>$ correspond au nombre d'erreurs de confusion : le nombre d'éléments de la classe $j$ classés dans la classe $k$. $<C_j,\\hat{C_k}>$ est le nombre d'éléments correctement classés dans la classe $j$. On peut montrer que $$\\sum_{k, j} <C_j , \\hat{C_k}> = N$$ où $N$ est le nombre d'observations."
   ]
  },
  {
   "cell_type": "markdown",
   "metadata": {},
   "source": [
    "### Clustering\n",
    "\n",
    "Et si nous introduisions un clustering intermédiaire. On construit $Q$ cluster, $q_i$ est le cluster du point $X_i$ et on note $d_{il} = \\mathbb{1}_{q_i = l}$ et le vecteur $D_l=(d_{il})_i$.\n",
    "\n",
    "$$E = \\sum_{k \\neq j} <C_j , \\hat{C_k}>$$\n",
    "\n",
    "On note $X.Y$ le produit terme à terme de deux vecteurs.\n",
    "\n",
    "$$E = \\sum_{k \\neq j, l } <C_j.D_l , \\hat{C_k}> = \\sum_{k \\neq j, l } <C_j.D_l , \\hat{C_k}.D_l>$$\n",
    "\n",
    "Le nombre d'erreurs est la somme des erreurs faites sur chaque cluster. Supposons maintenant qu'un classifieur retourne une réponse constante sur chacun des clusters, on choisit la classe plus représentée. Ca ressemble beaucoup à un [classifieur bayésien](http://scikit-learn.org/stable/modules/naive_bayes.html). On note $f(l)$ cette classe la plus représentée. Elle vérifie :\n",
    "\n",
    "$$f(l) = \\arg \\max_j <C_j,D_l>$$\n",
    "\n",
    "Cela signifie que $\\hat{c_{ij}} = \\sum_l \\mathbb{1}_{j = f(l)} d_{il}$. Si on note $l(i)$ le cluster associé à $i$. On continue : $\\hat{c_{ij}} = \\mathbb{1}_{j = f(l(i))}$. On définit l'erreur $e(l)$ l'erreur de classification faite sur chaque cluster $l$ :\n",
    "\n",
    "$$e(l) = \\sum_i d_{il}\\sum_j c_{ij} (1-\\mathbb{1}_{j = f(l)}) = \\sum_i d_{il}\\left(\\sum_j c_{ij} -\\sum_j c_{ij}\\mathbb{1}_{j = f(l)}\\right) = \\sum_i d_{il}\\left(1 -c_{i,f(l)}\\right)= \\sum_i d_{il} -\\sum_i d_{il}c_{i,f(l)}$$\n",
    "\n",
    "Pour résumer, l'erreur est le nombre d'éléments moins le nombre d'éléments dans la classe majoritaire du cluster. Si le nombre de clusters $Q$ devient supérieur ou égal au nombre d'observations, cette erreur devient nulle."
   ]
  },
  {
   "cell_type": "markdown",
   "metadata": {
    "collapsed": true
   },
   "source": [
    "## Mise en pratique\n",
    "\n",
    "L'idée est de voir comment évolue cette erreur de classification naïve en fonction du nombre de clusters. La différence par rapport à un classifieur est qu'on sait comment sont fabriqués les clusters et qu'on peut imaginer les classes comme un assemblage de clusters d'une forme connue."
   ]
  },
  {
   "cell_type": "code",
   "execution_count": 2,
   "metadata": {
    "collapsed": true
   },
   "outputs": [],
   "source": []
  }
 ],
 "metadata": {
  "kernelspec": {
   "display_name": "Python 3",
   "language": "python",
   "name": "python3"
  },
  "language_info": {
   "codemirror_mode": {
    "name": "ipython",
    "version": 3
   },
   "file_extension": ".py",
   "mimetype": "text/x-python",
   "name": "python",
   "nbconvert_exporter": "python",
   "pygments_lexer": "ipython3",
   "version": "3.7.0"
  }
 },
 "nbformat": 4,
 "nbformat_minor": 2
}