{
 "cells": [
  {
   "cell_type": "markdown",
   "metadata": {},
   "source": [
    "# Répartir en base d'apprentissage et de test\n",
    "\n",
    "C'est un problème plutôt facile puisqu'il s'agit de répartir aléatoirement les lignes d'une base de données d'un côté ou de l'autre. Lorsque le problème de machine learning à résoudre est un problème de classification, il faut s'assurer que chaque côté contient une proportion raisonnable de chaque classe."
   ]
  },
  {
   "cell_type": "code",
   "execution_count": 1,
   "metadata": {},
   "outputs": [
    {
     "data": {
      "text/html": [
       "<div id=\"my_id_menu_nb\">run previous cell, wait for 2 seconds</div>\n",
       "<script>\n",
       "function repeat_indent_string(n){\n",
       "    var a = \"\" ;\n",
       "    for ( ; n > 0 ; --n)\n",
       "        a += \"    \";\n",
       "    return a;\n",
       "}\n",
       "// look up into all sections and builds an automated menu //\n",
       "var update_menu_string = function(begin, lfirst, llast, sformat, send, keep_item, begin_format, end_format) {\n",
       "    var anchors = document.getElementsByClassName(\"section\");\n",
       "    if (anchors.length == 0) {\n",
       "        anchors = document.getElementsByClassName(\"text_cell_render rendered_html\");\n",
       "    }\n",
       "    var i,t;\n",
       "    var text_menu = begin;\n",
       "    var text_memo = \"<pre>\\nlength:\" + anchors.length + \"\\n\";\n",
       "    var ind = \"\";\n",
       "    var memo_level = 1;\n",
       "    var href;\n",
       "    var tags = [];\n",
       "    var main_item = 0;\n",
       "    var format_open = 0;\n",
       "    for (i = 0; i <= llast; i++)\n",
       "        tags.push(\"h\" + i);\n",
       "\n",
       "    for (i = 0; i < anchors.length; i++) {\n",
       "        text_memo += \"**\" + anchors[i].id + \"--\\n\";\n",
       "\n",
       "        var child = null;\n",
       "        for(t = 0; t < tags.length; t++) {\n",
       "            var r = anchors[i].getElementsByTagName(tags[t]);\n",
       "            if (r.length > 0) {\n",
       "child = r[0];\n",
       "break;\n",
       "            }\n",
       "        }\n",
       "        if (child == null) {\n",
       "            text_memo += \"null\\n\";\n",
       "            continue;\n",
       "        }\n",
       "        if (anchors[i].hasAttribute(\"id\")) {\n",
       "            // when converted in RST\n",
       "            href = anchors[i].id;\n",
       "            text_memo += \"#1-\" + href;\n",
       "            // passer à child suivant (le chercher)\n",
       "        }\n",
       "        else if (child.hasAttribute(\"id\")) {\n",
       "            // in a notebook\n",
       "            href = child.id;\n",
       "            text_memo += \"#2-\" + href;\n",
       "        }\n",
       "        else {\n",
       "            text_memo += \"#3-\" + \"*\" + \"\\n\";\n",
       "            continue;\n",
       "        }\n",
       "        var title = child.textContent;\n",
       "        var level = parseInt(child.tagName.substring(1,2));\n",
       "\n",
       "        text_memo += \"--\" + level + \"?\" + lfirst + \"--\" + title + \"\\n\";\n",
       "\n",
       "        if ((level < lfirst) || (level > llast)) {\n",
       "            continue ;\n",
       "        }\n",
       "        if (title.endsWith('¶')) {\n",
       "            title = title.substring(0,title.length-1).replace(\"<\", \"&lt;\")\n",
       "         .replace(\">\", \"&gt;\").replace(\"&\", \"&amp;\");\n",
       "        }\n",
       "        if (title.length == 0) {\n",
       "            continue;\n",
       "        }\n",
       "\n",
       "        while (level < memo_level) {\n",
       "            text_menu += end_format + \"</ul>\\n\";\n",
       "            format_open -= 1;\n",
       "            memo_level -= 1;\n",
       "        }\n",
       "        if (level == lfirst) {\n",
       "            main_item += 1;\n",
       "        }\n",
       "        if (keep_item != -1 && main_item != keep_item + 1) {\n",
       "            // alert(main_item + \" - \" + level + \" - \" + keep_item);\n",
       "            continue;\n",
       "        }\n",
       "        while (level > memo_level) {\n",
       "            text_menu += \"<ul>\\n\";\n",
       "            memo_level += 1;\n",
       "        }\n",
       "        text_menu += repeat_indent_string(level-2);\n",
       "        text_menu += begin_format + sformat.replace(\"__HREF__\", href).replace(\"__TITLE__\", title);\n",
       "        format_open += 1;\n",
       "    }\n",
       "    while (1 < memo_level) {\n",
       "        text_menu += end_format + \"</ul>\\n\";\n",
       "        memo_level -= 1;\n",
       "        format_open -= 1;\n",
       "    }\n",
       "    text_menu += send;\n",
       "    //text_menu += \"\\n\" + text_memo;\n",
       "\n",
       "    while (format_open > 0) {\n",
       "        text_menu += end_format;\n",
       "        format_open -= 1;\n",
       "    }\n",
       "    return text_menu;\n",
       "};\n",
       "var update_menu = function() {\n",
       "    var sbegin = \"\";\n",
       "    var sformat = '<a href=\"#__HREF__\">__TITLE__</a>';\n",
       "    var send = \"\";\n",
       "    var begin_format = '<li>';\n",
       "    var end_format = '</li>';\n",
       "    var keep_item = -1;\n",
       "    var text_menu = update_menu_string(sbegin, 2, 4, sformat, send, keep_item,\n",
       "       begin_format, end_format);\n",
       "    var menu = document.getElementById(\"my_id_menu_nb\");\n",
       "    menu.innerHTML=text_menu;\n",
       "};\n",
       "window.setTimeout(update_menu,2000);\n",
       "            </script>"
      ],
      "text/plain": [
       "<IPython.core.display.HTML object>"
      ]
     },
     "execution_count": 2,
     "metadata": {},
     "output_type": "execute_result"
    }
   ],
   "source": [
    "from jyquickhelper import add_notebook_menu\n",
    "\n",
    "add_notebook_menu()"
   ]
  },
  {
   "cell_type": "code",
   "execution_count": 2,
   "metadata": {},
   "outputs": [],
   "source": [
    "import matplotlib.pyplot as plt\n",
    "\n",
    "%matplotlib inline"
   ]
  },
  {
   "cell_type": "markdown",
   "metadata": {},
   "source": [
    "## Répartition naïve\n",
    "\n",
    "On considère une base de données qu'on divise en 2/3 apprentissage, 1/3 test. On note cette proportion $t$. Deux classes 0 et 1, la proportion de la classe 1 est de $p$ qu'on choisit petit."
   ]
  },
  {
   "cell_type": "code",
   "execution_count": 3,
   "metadata": {},
   "outputs": [
    {
     "data": {
      "text/plain": [
       "40"
      ]
     },
     "execution_count": 4,
     "metadata": {},
     "output_type": "execute_result"
    }
   ],
   "source": [
    "import random\n",
    "\n",
    "\n",
    "def generate_dataset(n, t):\n",
    "    return [1 if random.random() < t else 0 for i in range(0, n)]\n",
    "\n",
    "\n",
    "ens = generate_dataset(4000, 0.01)\n",
    "sum(ens)"
   ]
  },
  {
   "cell_type": "markdown",
   "metadata": {},
   "source": [
    "Et on divise en base d'apprentissage et de test."
   ]
  },
  {
   "cell_type": "code",
   "execution_count": 4,
   "metadata": {},
   "outputs": [
    {
     "name": "stdout",
     "output_type": "stream",
     "text": [
      "2683 27 0.01006336190831159\n",
      "1317 13 0.009870918754745633\n"
     ]
    }
   ],
   "source": [
    "def custom_split_train_test(ens, p):\n",
    "    choice = generate_dataset(len(ens), p)\n",
    "    train = [x for x, c in zip(ens, choice) if c == 1]\n",
    "    test = [x for x, c in zip(ens, choice) if c == 0]\n",
    "    return train, test\n",
    "\n",
    "\n",
    "train, test = custom_split_train_test(ens, 0.66)\n",
    "print(len(train), sum(train), sum(train) / len(train))\n",
    "print(len(test), sum(test), sum(test) / len(test))"
   ]
  },
  {
   "cell_type": "markdown",
   "metadata": {},
   "source": [
    "On recommence un grand nombre de fois et on représente la proportion obtenue dans la base de test."
   ]
  },
  {
   "cell_type": "code",
   "execution_count": 5,
   "metadata": {},
   "outputs": [],
   "source": [
    "tirages = [\n",
    "    sum(test) / len(test)\n",
    "    for train, test in [custom_split_train_test(ens, 0.66) for i in range(0, 100)]\n",
    "]"
   ]
  },
  {
   "cell_type": "code",
   "execution_count": 6,
   "metadata": {},
   "outputs": [
    {
     "data": {
      "image/png": "[encoded data removed]",
      "text/plain": [
       "<Figure size 432x288 with 1 Axes>"
      ]
     },
     "metadata": {},
     "output_type": "display_data"
    }
   ],
   "source": [
    "plt.plot(tirages, \"o\")\n",
    "plt.ylabel(\"proportion classe 1\")\n",
    "plt.xlabel(\"tirages\");"
   ]
  },
  {
   "cell_type": "markdown",
   "metadata": {},
   "source": [
    "On considère maintenant la moyenne, les valeurs extrêmes de la proportion en faisant varier $p$."
   ]
  },
  {
   "cell_type": "code",
   "execution_count": 7,
   "metadata": {},
   "outputs": [],
   "source": [
    "ps = [0.001 * i for i in range(1, 50)]\n",
    "tmin, tmax, tmean = [], [], []\n",
    "for p in ps:\n",
    "    ens = generate_dataset(4000, p)\n",
    "    tirages = [\n",
    "        sum(test) / len(test)\n",
    "        for train, test in [custom_split_train_test(ens, 0.66) for i in range(0, 200)]\n",
    "    ]\n",
    "    tirages.sort()\n",
    "    tmin.append(tirages[int(len(tirages) * 0.05)])\n",
    "    tmax.append(tirages[-int(len(tirages) * 0.05)])\n",
    "    tmean.append(sum(tirages) / len(tirages))"
   ]
  },
  {
   "cell_type": "code",
   "execution_count": 8,
   "metadata": {},
   "outputs": [
    {
     "data": {
      "image/png": "[encoded data removed]",
      "text/plain": [
       "<Figure size 432x288 with 1 Axes>"
      ]
     },
     "metadata": {},
     "output_type": "display_data"
    }
   ],
   "source": [
    "fig, ax = plt.subplots(1, 1)\n",
    "ax.plot(ps, ps, \"--\", label=\"expected proportion\")\n",
    "ax.plot(ps, tmin, label=\"min\")\n",
    "ax.plot(ps, tmax, label=\"max\")\n",
    "ax.plot(ps, tmean, label=\"mean\")\n",
    "ax.legend();"
   ]
  },
  {
   "cell_type": "markdown",
   "metadata": {},
   "source": [
    "Et [train_test_split](http://scikit-learn.org/stable/modules/generated/sklearn.model_selection.train_test_split.html)..."
   ]
  },
  {
   "cell_type": "code",
   "execution_count": 9,
   "metadata": {},
   "outputs": [],
   "source": [
    "from sklearn.model_selection import train_test_split\n",
    "import pandas\n",
    "\n",
    "ps = [0.001 * i for i in range(1, 50)]\n",
    "tmin, tmax, tmean = [], [], []\n",
    "for p in ps:\n",
    "    ens = pandas.Series(generate_dataset(4000, p))\n",
    "    tirages = [\n",
    "        sum(test) / len(test)\n",
    "        for train, test in [\n",
    "            train_test_split(ens, test_size=0.66) for i in range(0, 200)\n",
    "        ]\n",
    "    ]\n",
    "    tirages.sort()\n",
    "    tmin.append(tirages[int(len(tirages) * 0.05)])\n",
    "    tmax.append(tirages[-int(len(tirages) * 0.05)])\n",
    "    tmean.append(sum(tirages) / len(tirages))"
   ]
  },
  {
   "cell_type": "code",
   "execution_count": 10,
   "metadata": {},
   "outputs": [
    {
     "data": {
      "image/png": "[encoded data removed]",
      "text/plain": [
       "<Figure size 432x288 with 1 Axes>"
      ]
     },
     "metadata": {},
     "output_type": "display_data"
    }
   ],
   "source": [
    "fig, ax = plt.subplots(1, 1)\n",
    "ax.plot(ps, ps, \"--\", label=\"expected proportion\")\n",
    "ax.plot(ps, tmin, label=\"min\")\n",
    "ax.plot(ps, tmax, label=\"max\")\n",
    "ax.plot(ps, tmean, label=\"mean\")\n",
    "ax.set_title(\"train_test_split from sklearn\")\n",
    "ax.legend();"
   ]
  },
  {
   "cell_type": "markdown",
   "metadata": {},
   "source": [
    "L'écart entre les extrêmes paraît plus petit. Le générateur pseudo aléatoire utilisé par [scikit-learn](http://scikit-learn.org/) paraît de meilleur qualité. Nous y reviendront peut-être un jour."
   ]
  },
  {
   "cell_type": "markdown",
   "metadata": {},
   "source": [
    "## Répartition stratifiée"
   ]
  },
  {
   "cell_type": "markdown",
   "metadata": {},
   "source": [
    "Nous utilisons maintenant le paramètre *stratify* qui permet de s'assurer que les deux classes sont équitablement réparties entre les deux ensembles *train* et *test*."
   ]
  },
  {
   "cell_type": "code",
   "execution_count": 11,
   "metadata": {},
   "outputs": [],
   "source": [
    "from sklearn.model_selection import train_test_split\n",
    "import pandas\n",
    "\n",
    "ps = [0.001 * i for i in range(1, 50)]\n",
    "tmin, tmax, tmean = [], [], []\n",
    "for p in ps:\n",
    "    ens = pandas.Series(generate_dataset(4000, p))\n",
    "\n",
    "    traintest = []\n",
    "    excs = []\n",
    "    for i in range(0, 200):\n",
    "        try:\n",
    "            train, test = train_test_split(ens, test_size=0.66, stratify=ens)\n",
    "            traintest.append((train, test))\n",
    "        except ValueError as e:\n",
    "            print(\"Skipping: small class too small in one side\", e)\n",
    "            excs.append(e)\n",
    "    if len(traintest) < 100:\n",
    "        ex = excs[0] if len(excs) > 0 else \"no exception\"\n",
    "        raise Exception(\n",
    "            \"Too few, you should check the implementation is ok.\\n{0}\".format(ex)\n",
    "        )\n",
    "    tirages = [sum(test) / len(test) for train, test in traintest]\n",
    "    tirages.sort()\n",
    "    tmin.append(tirages[int(len(tirages) * 0.05)])\n",
    "    tmax.append(tirages[-int(len(tirages) * 0.05)])\n",
    "    tmean.append(sum(tirages) / len(tirages))"
   ]
  },
  {
   "cell_type": "code",
   "execution_count": 12,
   "metadata": {},
   "outputs": [
    {
     "data": {
      "image/png": "[encoded data removed]",
      "text/plain": [
       "<Figure size 432x288 with 1 Axes>"
      ]
     },
     "metadata": {},
     "output_type": "display_data"
    }
   ],
   "source": [
    "fig, ax = plt.subplots(1, 1)\n",
    "ax.plot(ps, ps, \"--\", label=\"expected proportion\")\n",
    "ax.plot(ps, tmin, label=\"min\")\n",
    "ax.plot(ps, tmax, label=\"max\")\n",
    "ax.plot(ps, tmean, label=\"mean\")\n",
    "ax.set_title(\"stratified train_test_split from sklearn\")\n",
    "ax.legend();"
   ]
  },
  {
   "cell_type": "markdown",
   "metadata": {},
   "source": [
    "La proportion initiale est bien respectée. Comment faire cela en pratique ? Le plus simple est sans doute de :\n",
    "\n",
    "* De trier les observations qui appartiennent à chaque classe.\n",
    "* De les permuter de façon aléatoire.\n",
    "* Puis de prendre les premiers éléments pour la base d'apprentissage dans chaque classe et les derniers pour la base de test."
   ]
  },
  {
   "cell_type": "code",
   "execution_count": 13,
   "metadata": {},
   "outputs": [],
   "source": [
    "def custom_statitied_split_train_test(ens, p, stratify):\n",
    "    strat = set(stratify)\n",
    "    train = []\n",
    "    test = []\n",
    "    for st in strat:\n",
    "        cl = [e for e, s in zip(ens, stratify) if s == st]\n",
    "        random.shuffle(cl)\n",
    "        i = int(len(cl) * p)\n",
    "        train.extend(cl[:i])\n",
    "        test.extend(cl[i:])\n",
    "    return train, test"
   ]
  },
  {
   "cell_type": "code",
   "execution_count": 14,
   "metadata": {},
   "outputs": [],
   "source": [
    "ps = [0.001 * i for i in range(1, 50)]\n",
    "tmin, tmax, tmean = [], [], []\n",
    "for p in ps:\n",
    "    ens = generate_dataset(4000, p)\n",
    "    tirages = [\n",
    "        sum(test) / len(test)\n",
    "        for train, test in [\n",
    "            custom_statitied_split_train_test(ens, p=0.66, stratify=ens)\n",
    "            for i in range(0, 200)\n",
    "        ]\n",
    "    ]\n",
    "    tirages.sort()\n",
    "    tmin.append(tirages[int(len(tirages) * 0.05)])\n",
    "    tmax.append(tirages[-int(len(tirages) * 0.05)])\n",
    "    tmean.append(sum(tirages) / len(tirages))"
   ]
  },
  {
   "cell_type": "code",
   "execution_count": 15,
   "metadata": {},
   "outputs": [
    {
     "data": {
      "image/png": "[encoded data removed]",
      "text/plain": [
       "<Figure size 432x288 with 1 Axes>"
      ]
     },
     "metadata": {},
     "output_type": "display_data"
    }
   ],
   "source": [
    "fig, ax = plt.subplots(1, 1)\n",
    "ax.plot(ps, ps, \"--\", label=\"expected proportion\")\n",
    "ax.plot(ps, tmin, label=\"min\")\n",
    "ax.plot(ps, tmax, label=\"max\")\n",
    "ax.plot(ps, tmean, label=\"mean\")\n",
    "ax.set_title(\"custom stratified train_test_split\")\n",
    "ax.legend();"
   ]
  },
  {
   "cell_type": "markdown",
   "metadata": {},
   "source": [
    "La méthode est simple mais plus coûteuse puisqu'elle nécessite un tri."
   ]
  },
  {
   "cell_type": "code",
   "execution_count": 16,
   "metadata": {},
   "outputs": [
    {
     "name": "stdout",
     "output_type": "stream",
     "text": [
      "10000\n",
      "20000\n",
      "50000\n",
      "100000\n",
      "200000\n",
      "500000\n",
      "1000000\n",
      "2000000\n",
      "5000000\n"
     ]
    }
   ],
   "source": [
    "import time\n",
    "\n",
    "ns = []\n",
    "tn = []\n",
    "ts = []\n",
    "\n",
    "ii = 5\n",
    "for N in [10000, 20000, 50000, 100000, 200000, 500000, int(1e6), int(2e6), int(5e6)]:\n",
    "    print(N)\n",
    "    ens = pandas.Series(generate_dataset(N, 0.05))\n",
    "    ns.append(N)\n",
    "\n",
    "    tt = []\n",
    "    for i in range(0, ii):\n",
    "        t = time.perf_counter()\n",
    "        train_test_split(ens, test_size=0.66)\n",
    "        d = 1.0 * (time.perf_counter() - t) / ii\n",
    "        tt.append(d)\n",
    "    tt.sort()\n",
    "    tn.append(tt[len(tt) // 2])\n",
    "\n",
    "    tt = []\n",
    "    for i in range(0, ii):\n",
    "        t = time.perf_counter()\n",
    "        train_test_split(ens, test_size=0.66, stratify=ens)\n",
    "        d = 1.0 * (time.perf_counter() - t) / ii\n",
    "        tt.append(d)\n",
    "    tt.sort()\n",
    "    ts.append(tt[len(tt) // 2])"
   ]
  },
  {
   "cell_type": "code",
   "execution_count": 17,
   "metadata": {},
   "outputs": [
    {
     "data": {
      "image/png": "[encoded data removed]",
      "text/plain": [
       "<Figure size 432x288 with 1 Axes>"
      ]
     },
     "metadata": {},
     "output_type": "display_data"
    }
   ],
   "source": [
    "import math\n",
    "\n",
    "fig, ax = plt.subplots(1, 1)\n",
    "dd = tn[-1] - (ts[-1] - tn[-1]) * 1.3\n",
    "ax.plot(ns, [x * dd / ns[-1] for x in ns], label=\"O(x)\")\n",
    "ax.plot(\n",
    "    ns,\n",
    "    [x * math.log(x) * ns[0] * dd / ns[-1] / (ns[0] * math.log(ns[0])) for x in ns],\n",
    "    label=\"O(x ln x)\",\n",
    ")\n",
    "ax.plot(ns, tn, label=\"split\")\n",
    "ax.plot(ns, ts, label=\"stratified split\")\n",
    "ax.set_title(\"processing time for train_test_split\")\n",
    "ax.grid(True)\n",
    "ax.set_xscale(\"log\", nonposx=\"clip\")\n",
    "ax.set_yscale(\"log\", nonposy=\"clip\")\n",
    "ax.set_xlabel(\"N\")\n",
    "ax.set_ylabel(\"time(s)\")\n",
    "ax.legend();"
   ]
  },
  {
   "cell_type": "markdown",
   "metadata": {},
   "source": [
    "Le coût de la fonction [train_test_split](http://scikit-learn.org/stable/modules/generated/sklearn.model_selection.train_test_split.html) semble être entre $O(n)$ et $O(n \\ln n)$. Regardons."
   ]
  },
  {
   "cell_type": "code",
   "execution_count": 18,
   "metadata": {},
   "outputs": [
    {
     "data": {
      "image/png": "[encoded data removed]",
      "text/plain": [
       "<Figure size 432x288 with 1 Axes>"
      ]
     },
     "metadata": {},
     "output_type": "display_data"
    }
   ],
   "source": [
    "import math\n",
    "\n",
    "fig, ax = plt.subplots(1, 1)\n",
    "ax.plot(\n",
    "    ns,\n",
    "    [\n",
    "        (x / tn[-1]) / (n * math.log(n) / (ns[-1] * math.log(ns[-1])))\n",
    "        for x, n in zip(tn, ns)\n",
    "    ],\n",
    "    label=\"split / n ln s\",\n",
    ")\n",
    "ax.plot(\n",
    "    ns,\n",
    "    [\n",
    "        (x / ts[-1]) / (n * math.log(n) / (ns[-1] * math.log(ns[-1])))\n",
    "        for x, n in zip(ts, ns)\n",
    "    ],\n",
    "    label=\"stratified / n ln s\",\n",
    ")\n",
    "ax.plot(ns, [(x / tn[-1]) / (n / ns[-1]) for x, n in zip(tn, ns)], label=\"split / n\")\n",
    "ax.plot(\n",
    "    ns, [(x / ts[-1]) / (n / ns[-1]) for x, n in zip(ts, ns)], label=\"stratified / n\"\n",
    ")\n",
    "\n",
    "ax.set_title(\"processing time for train_test_split\")\n",
    "ax.grid(True)\n",
    "ax.set_xscale(\"log\", nonposx=\"clip\")\n",
    "ax.set_xlabel(\"N\")\n",
    "ax.set_ylabel(\"time(s) / (s ln s)\")\n",
    "ax.set_ylim([0.5, 1.5])\n",
    "ax.legend();"
   ]
  },
  {
   "cell_type": "markdown",
   "metadata": {},
   "source": [
    "C'est difficile à voir sur ce schéma. Il faudrait tirer plus d'exemple, regader les quantiles plutôt que la seule médiane. Le [code de scikit-learn](https://github.com/scikit-learn/scikit-learn/blob/master/sklearn/model_selection/_split.py#L1048) est plus explicite, une permutation précède la répartition en train / test."
   ]
  },
  {
   "cell_type": "markdown",
   "metadata": {},
   "source": [
    "## Streaming splitting\n",
    "\n",
    "Streaming veut dire qu'on traite les données sous la forme d'un flux et qu'on ne sait pas combien il y en. Concrètement, il faut commencer la répartition train / test au moment sans savoir quand elle s'arrêtera. Par conséquent, il faut qu'à tout instant, on soit capable d'interrompre la répartition et celle-ci doit être valide.\n",
    "\n",
    "Le premier algorithme qui consiste à tirer un nombre aléatoire et à le répartir en train ou test selon le nombre tiré. Chaque observation est traitée indépendamment. A tout moment, la répartition peut être interrompue. En pratique, on implémente ce type de processus sous la forme d'itérateur ou de mapper. C'est une fonction qui accepte un itérateur sur un ensemble et qui retourne un itérateur sur les valeurs transformées. Dans notre cas, on retourne l'observation, suivi de 0 si elle est classée en *train* et 1 en *test*."
   ]
  },
  {
   "cell_type": "code",
   "execution_count": 19,
   "metadata": {},
   "outputs": [],
   "source": [
    "def streaming_split_train_test(stream, p):\n",
    "    for obs in stream:\n",
    "        x = random.random()\n",
    "        yield obs, 0 if x <= p else 1"
   ]
  },
  {
   "cell_type": "code",
   "execution_count": 20,
   "metadata": {},
   "outputs": [
    {
     "name": "stdout",
     "output_type": "stream",
     "text": [
      "obs=0 train/test=1\n",
      "obs=0 train/test=0\n",
      "obs=0 train/test=0\n",
      "obs=0 train/test=1\n",
      "obs=0 train/test=0\n",
      "obs=1 train/test=0\n",
      "obs=0 train/test=0\n",
      "obs=0 train/test=0\n",
      "obs=0 train/test=0\n",
      "obs=0 train/test=0\n"
     ]
    }
   ],
   "source": [
    "def iterate_data(n, t):\n",
    "    while n > 0:\n",
    "        yield 1 if random.random() < t else 0\n",
    "        n -= 1\n",
    "\n",
    "\n",
    "for obs, s in streaming_split_train_test(iterate_data(10, 0.05), 0.66):\n",
    "    print(\"obs={0} train/test={1}\".format(obs, s))"
   ]
  },
  {
   "cell_type": "markdown",
   "metadata": {},
   "source": [
    "La répartition stratifiée repose sur une permutation aléatoire et cela implique d'avoir accès à l'intégralité des données au préalable. En *streaming*, ce n'est pas possible. Il faut donc penser à autre chose pour obtenir une version stratifiée de la version *streaming*. Rien n'empêche en version *streaming* de garder les dernières observations en mémoire pour faire une mini-permutation. Nous allons introduire quelques changements :\n",
    "\n",
    "1. Le *stream* est maintenant un flux sur deux valeurs, l'observation et la classe à laquelle il appartient.\n",
    "2. La fonction va conserver les dernières valeurs pour chaque classe.\n",
    "3. La fonction va produire des observations de temps en temps quand elle sera sûre que les observations seront stratifiées.\n",
    "4. Nuos allons compter les observations distribuées dans chaque base."
   ]
  },
  {
   "cell_type": "code",
   "execution_count": 21,
   "metadata": {},
   "outputs": [],
   "source": [
    "def streaming_stratified_split_train_test(stream, p):\n",
    "    n = max(1 / p, 1 / (1 - p))\n",
    "    if n > 10000:\n",
    "        raise Exception(\"Cette répartition train / test est vraiment déséquilibrée.\")\n",
    "    memory = {}\n",
    "    for obs, strat in stream:\n",
    "        if strat not in memory:\n",
    "            memory[strat] = []\n",
    "        memory[strat].append(obs)\n",
    "\n",
    "        for k in memory:\n",
    "            v = memory[k]\n",
    "            if len(v) >= n:\n",
    "                # on permute aléatoirement\n",
    "                random.shuffle(v)\n",
    "                i = int(len(v) * p + 0.5)\n",
    "                for j in range(0, i):\n",
    "                    yield v[j], 0  # apprentissage\n",
    "                for j in range(i, len(v)):\n",
    "                    yield v[j], 1  # test\n",
    "                # on efface de la mémoire les informations produites\n",
    "                memory[k] = []\n",
    "\n",
    "    # lorsqu'on a fini, il faut tout de même répartir les\n",
    "    # observations stockées\n",
    "    for k in memory:\n",
    "        v = memory[k]\n",
    "        # on permute aléatoirement\n",
    "        random.shuffle(v)\n",
    "        i = int(len(v) * p)\n",
    "        for j in range(0, i):\n",
    "            yield v[j], 0  # apprentissage\n",
    "        for j in range(i, len(v)):\n",
    "            yield v[j], 1  # test"
   ]
  },
  {
   "cell_type": "code",
   "execution_count": 22,
   "metadata": {},
   "outputs": [
    {
     "name": "stdout",
     "output_type": "stream",
     "text": [
      "(10000, 2)\n"
     ]
    },
    {
     "data": {
      "text/html": [
       "<div>\n",
       "<style scoped>\n",
       "    .dataframe tbody tr th:only-of-type {\n",
       "        vertical-align: middle;\n",
       "    }\n",
       "\n",
       "    .dataframe tbody tr th {\n",
       "        vertical-align: top;\n",
       "    }\n",
       "\n",
       "    .dataframe thead th {\n",
       "        text-align: right;\n",
       "    }\n",
       "</style>\n",
       "<table border=\"1\" class=\"dataframe\">\n",
       "  <thead>\n",
       "    <tr style=\"text-align: right;\">\n",
       "      <th></th>\n",
       "      <th>obs</th>\n",
       "      <th>train_test</th>\n",
       "    </tr>\n",
       "  </thead>\n",
       "  <tbody>\n",
       "    <tr>\n",
       "      <th>0</th>\n",
       "      <td>0</td>\n",
       "      <td>0</td>\n",
       "    </tr>\n",
       "    <tr>\n",
       "      <th>1</th>\n",
       "      <td>0</td>\n",
       "      <td>0</td>\n",
       "    </tr>\n",
       "    <tr>\n",
       "      <th>2</th>\n",
       "      <td>0</td>\n",
       "      <td>1</td>\n",
       "    </tr>\n",
       "    <tr>\n",
       "      <th>3</th>\n",
       "      <td>0</td>\n",
       "      <td>0</td>\n",
       "    </tr>\n",
       "    <tr>\n",
       "      <th>4</th>\n",
       "      <td>0</td>\n",
       "      <td>0</td>\n",
       "    </tr>\n",
       "  </tbody>\n",
       "</table>\n",
       "</div>"
      ],
      "text/plain": [
       "   obs  train_test\n",
       "0    0           0\n",
       "1    0           0\n",
       "2    0           1\n",
       "3    0           0\n",
       "4    0           0"
      ]
     },
     "execution_count": 23,
     "metadata": {},
     "output_type": "execute_result"
    }
   ],
   "source": [
    "iter = streaming_stratified_split_train_test(\n",
    "    ((i, i) for i in iterate_data(10000, 0.05)), 0.66\n",
    ")\n",
    "df = pandas.DataFrame(iter)\n",
    "df.columns = [\"obs\", \"train_test\"]\n",
    "print(df.shape)\n",
    "df.head()"
   ]
  },
  {
   "cell_type": "code",
   "execution_count": 23,
   "metadata": {},
   "outputs": [
    {
     "data": {
      "text/html": [
       "<div>\n",
       "<style scoped>\n",
       "    .dataframe tbody tr th:only-of-type {\n",
       "        vertical-align: middle;\n",
       "    }\n",
       "\n",
       "    .dataframe tbody tr th {\n",
       "        vertical-align: top;\n",
       "    }\n",
       "\n",
       "    .dataframe thead th {\n",
       "        text-align: right;\n",
       "    }\n",
       "</style>\n",
       "<table border=\"1\" class=\"dataframe\">\n",
       "  <thead>\n",
       "    <tr style=\"text-align: right;\">\n",
       "      <th>obs</th>\n",
       "      <th>0</th>\n",
       "      <th>1</th>\n",
       "    </tr>\n",
       "    <tr>\n",
       "      <th>train_test</th>\n",
       "      <th></th>\n",
       "      <th></th>\n",
       "    </tr>\n",
       "  </thead>\n",
       "  <tbody>\n",
       "    <tr>\n",
       "      <th>0</th>\n",
       "      <td>6346</td>\n",
       "      <td>320</td>\n",
       "    </tr>\n",
       "    <tr>\n",
       "      <th>1</th>\n",
       "      <td>3174</td>\n",
       "      <td>160</td>\n",
       "    </tr>\n",
       "  </tbody>\n",
       "</table>\n",
       "</div>"
      ],
      "text/plain": [
       "obs            0    1\n",
       "train_test           \n",
       "0           6346  320\n",
       "1           3174  160"
      ]
     },
     "execution_count": 24,
     "metadata": {},
     "output_type": "execute_result"
    }
   ],
   "source": [
    "df2 = df.copy()\n",
    "df2[\"un\"] = 1\n",
    "piv = (\n",
    "    df2.groupby([\"obs\", \"train_test\"], as_index=False)\n",
    "    .count()\n",
    "    .pivot(\"train_test\", \"obs\", \"un\")\n",
    ")\n",
    "piv"
   ]
  },
  {
   "cell_type": "markdown",
   "metadata": {},
   "source": [
    "Il y a juste un petit problème avec cette implémentation. On multiplie la taille du buffer par un réel. Je suggère d'enlever le nombre 0.5 dans le code pour voir ce qu'il se passe. La somme des arrondis est loin d'être un arrondi même si $N$ choisi tel que $N = \\max(\\frac{1}{p}, \\frac{1}{1-p})$."
   ]
  },
  {
   "cell_type": "code",
   "execution_count": 24,
   "metadata": {},
   "outputs": [
    {
     "data": {
      "text/html": [
       "<div>\n",
       "<style scoped>\n",
       "    .dataframe tbody tr th:only-of-type {\n",
       "        vertical-align: middle;\n",
       "    }\n",
       "\n",
       "    .dataframe tbody tr th {\n",
       "        vertical-align: top;\n",
       "    }\n",
       "\n",
       "    .dataframe thead th {\n",
       "        text-align: right;\n",
       "    }\n",
       "</style>\n",
       "<table border=\"1\" class=\"dataframe\">\n",
       "  <thead>\n",
       "    <tr style=\"text-align: right;\">\n",
       "      <th>obs</th>\n",
       "      <th>0</th>\n",
       "      <th>1</th>\n",
       "      <th>sum</th>\n",
       "      <th>ratio</th>\n",
       "    </tr>\n",
       "    <tr>\n",
       "      <th>train_test</th>\n",
       "      <th></th>\n",
       "      <th></th>\n",
       "      <th></th>\n",
       "      <th></th>\n",
       "    </tr>\n",
       "  </thead>\n",
       "  <tbody>\n",
       "    <tr>\n",
       "      <th>0</th>\n",
       "      <td>6346</td>\n",
       "      <td>320</td>\n",
       "      <td>6666</td>\n",
       "      <td>0.048005</td>\n",
       "    </tr>\n",
       "    <tr>\n",
       "      <th>1</th>\n",
       "      <td>3174</td>\n",
       "      <td>160</td>\n",
       "      <td>3334</td>\n",
       "      <td>0.047990</td>\n",
       "    </tr>\n",
       "  </tbody>\n",
       "</table>\n",
       "</div>"
      ],
      "text/plain": [
       "obs            0    1   sum     ratio\n",
       "train_test                           \n",
       "0           6346  320  6666  0.048005\n",
       "1           3174  160  3334  0.047990"
      ]
     },
     "execution_count": 25,
     "metadata": {},
     "output_type": "execute_result"
    }
   ],
   "source": [
    "piv[\"sum\"] = piv[0] + piv[1]\n",
    "piv[\"ratio\"] = piv[1] / piv[\"sum\"]\n",
    "piv"
   ]
  },
  {
   "cell_type": "markdown",
   "metadata": {},
   "source": [
    "Il faut corriger ces erreurs d'arrondi. On s'inspire de l'algorithme de [Bresenham](https://fr.wikipedia.org/wiki/Algorithme_de_trac%C3%A9_de_segment_de_Bresenham) et mémoriser les éléments répartis."
   ]
  },
  {
   "cell_type": "code",
   "execution_count": 25,
   "metadata": {},
   "outputs": [],
   "source": [
    "def streaming_stratified_split_train_test2(stream, p):\n",
    "    n = max(1 / p, 1 / (1 - p))\n",
    "    if n > 10000:\n",
    "        raise Exception(\"Cette répartition train / test est vraiment déséquilibrée.\")\n",
    "    counts = {}\n",
    "    memory = {}\n",
    "    for obs, strat in stream:\n",
    "        if strat not in memory:\n",
    "            memory[strat] = []\n",
    "        memory[strat].append(obs)\n",
    "\n",
    "        for k in memory:\n",
    "            v = memory[k]\n",
    "            if len(v) >= n:\n",
    "                # on permute aléatoirement\n",
    "                random.shuffle(v)\n",
    "                if (0, k) in counts:\n",
    "                    tt = counts[1, k] + counts[0, k]\n",
    "                    delta = -int(counts[0, k] - tt * p + 0.5)\n",
    "                else:\n",
    "                    delta = 0\n",
    "                i = int(len(v) * p + 0.5)\n",
    "                i += delta\n",
    "                i = max(0, min(len(v), i))\n",
    "                for j in range(0, i):\n",
    "                    yield v[j], 0  # apprentissage\n",
    "                for j in range(i, len(v)):\n",
    "                    yield v[j], 1  # test\n",
    "                if (0, k) not in counts:\n",
    "                    counts[0, k] = i\n",
    "                    counts[1, k] = len(v) - i\n",
    "                else:\n",
    "                    counts[0, k] += i\n",
    "                    counts[1, k] += len(v) - i\n",
    "                # on efface de la mémoire les informations produites\n",
    "                memory[k] = []\n",
    "\n",
    "    # lorsqu'on a fini, il faut tout de même répartir les\n",
    "    # observations stockées\n",
    "    for k in memory:\n",
    "        v = memory[k]\n",
    "        # on permute aléatoirement\n",
    "        random.shuffle(v)\n",
    "        if (0, k) in counts:\n",
    "            tt = counts[1, k] + counts[0, k]\n",
    "            delta = -int(counts[0, k] - tt * p + 0.5)\n",
    "        else:\n",
    "            delta = 0\n",
    "        i = int(len(v) * p + 0.5)\n",
    "        i += delta\n",
    "        i = max(0, min(len(v), i))\n",
    "        for j in range(0, i):\n",
    "            yield v[j], 0  # apprentissage\n",
    "        for j in range(i, len(v)):\n",
    "            yield v[j], 1  # test\n",
    "        if (0, k) not in counts:\n",
    "            counts[0, k] = i\n",
    "            counts[1, k] = len(v) - i\n",
    "        else:\n",
    "            counts[0, k] += i\n",
    "            counts[1, k] += len(v) - i"
   ]
  },
  {
   "cell_type": "code",
   "execution_count": 26,
   "metadata": {},
   "outputs": [
    {
     "name": "stdout",
     "output_type": "stream",
     "text": [
      "ratio de classe 1 dans l'échantillon entier 0.04980\n"
     ]
    },
    {
     "data": {
      "text/html": [
       "<div>\n",
       "<style scoped>\n",
       "    .dataframe tbody tr th:only-of-type {\n",
       "        vertical-align: middle;\n",
       "    }\n",
       "\n",
       "    .dataframe tbody tr th {\n",
       "        vertical-align: top;\n",
       "    }\n",
       "\n",
       "    .dataframe thead th {\n",
       "        text-align: right;\n",
       "    }\n",
       "</style>\n",
       "<table border=\"1\" class=\"dataframe\">\n",
       "  <thead>\n",
       "    <tr style=\"text-align: right;\">\n",
       "      <th>obs</th>\n",
       "      <th>0</th>\n",
       "      <th>1</th>\n",
       "      <th>sum</th>\n",
       "      <th>ratio</th>\n",
       "    </tr>\n",
       "    <tr>\n",
       "      <th>train_test</th>\n",
       "      <th></th>\n",
       "      <th></th>\n",
       "      <th></th>\n",
       "      <th></th>\n",
       "    </tr>\n",
       "  </thead>\n",
       "  <tbody>\n",
       "    <tr>\n",
       "      <th>0</th>\n",
       "      <td>6272</td>\n",
       "      <td>329</td>\n",
       "      <td>6601</td>\n",
       "      <td>0.049841</td>\n",
       "    </tr>\n",
       "    <tr>\n",
       "      <th>1</th>\n",
       "      <td>3230</td>\n",
       "      <td>169</td>\n",
       "      <td>3399</td>\n",
       "      <td>0.049721</td>\n",
       "    </tr>\n",
       "  </tbody>\n",
       "</table>\n",
       "</div>"
      ],
      "text/plain": [
       "obs            0    1   sum     ratio\n",
       "train_test                           \n",
       "0           6272  329  6601  0.049841\n",
       "1           3230  169  3399  0.049721"
      ]
     },
     "execution_count": 27,
     "metadata": {},
     "output_type": "execute_result"
    }
   ],
   "source": [
    "iter = streaming_stratified_split_train_test2(\n",
    "    ((i, i) for i in iterate_data(10000, 0.05)), 0.66\n",
    ")\n",
    "df = pandas.DataFrame(iter)\n",
    "df.columns = [\"obs\", \"train_test\"]\n",
    "df2 = df.copy()\n",
    "df2[\"un\"] = 1\n",
    "piv = (\n",
    "    df2.groupby([\"obs\", \"train_test\"], as_index=False)\n",
    "    .count()\n",
    "    .pivot(\"train_test\", \"obs\", \"un\")\n",
    ")\n",
    "piv[\"sum\"] = piv[0] + piv[1]\n",
    "piv[\"ratio\"] = piv[1] / piv[\"sum\"]\n",
    "print(\n",
    "    \"ratio de classe 1 dans l'échantillon entier %1.5f\"\n",
    "    % (\n",
    "        (piv.iloc[1, 1] + piv.iloc[0, 1])\n",
    "        / (piv.iloc[0, 1] + piv.iloc[0, 0] + piv.iloc[1, 1] + piv.iloc[1, 0])\n",
    "    )\n",
    ")\n",
    "piv"
   ]
  },
  {
   "cell_type": "markdown",
   "metadata": {},
   "source": [
    "Pas trop mal. Le dernier inconvénient est la taille de la fenêtre. Dans l'exemple qui suit, elle sera de 3. L'algorithme va donc grouper les éléments par trois, les permuter aléatoirement et les laisser filer. Nous ne pourrons jamais avoir trois éléments de suite du même côté *train* ou *test*. On peut bidouiller comme suit (ligne marquées ``# changement``). La fonction qui suit ne permet toujours pas d'avoir de grandes séquences répartie du même côté mais ce sera l'inconvénient de ce type d'algorithme. La taille du buffer limite cette possibilité."
   ]
  },
  {
   "cell_type": "code",
   "execution_count": 27,
   "metadata": {},
   "outputs": [],
   "source": [
    "def streaming_stratified_split_train_test3(stream, p):\n",
    "    n = 2 * max(1 / p, 1 / (1 - p))  # changement\n",
    "    if n > 10000:\n",
    "        raise Exception(\"Cette répartition train / test est vraiment déséquilibrée.\")\n",
    "    counts = {}\n",
    "    memory = {}\n",
    "    for obs, strat in stream:\n",
    "        if strat not in memory:\n",
    "            memory[strat] = []\n",
    "        memory[strat].append(obs)\n",
    "\n",
    "        for k in memory:\n",
    "            v = memory[k]\n",
    "            if len(v) >= n + random.randint(0, 10):  # changement\n",
    "                # on permute aléatoirement\n",
    "                random.shuffle(v)\n",
    "                if (0, k) in counts:\n",
    "                    tt = counts[1, k] + counts[0, k]\n",
    "                    delta = -int(counts[0, k] - tt * p + 0.5)\n",
    "                else:\n",
    "                    delta = 0\n",
    "                i = int(len(v) * p + 0.5)\n",
    "                i += delta\n",
    "                i = max(0, min(len(v), i))\n",
    "                for j in range(0, i):\n",
    "                    yield v[j], 0  # apprentissage\n",
    "                for j in range(i, len(v)):\n",
    "                    yield v[j], 1  # test\n",
    "                if (0, k) not in counts:\n",
    "                    counts[0, k] = i\n",
    "                    counts[1, k] = len(v) - i\n",
    "                else:\n",
    "                    counts[0, k] += i\n",
    "                    counts[1, k] += len(v) - i\n",
    "                # on efface de la mémoire les informations produites\n",
    "                memory[k] = []\n",
    "\n",
    "    # lorsqu'on a fini, il faut tout de même répartir les\n",
    "    # observations stockées\n",
    "    for k in memory:\n",
    "        v = memory[k]\n",
    "        # on permute aléatoirement\n",
    "        random.shuffle(v)\n",
    "        if (0, k) in counts:\n",
    "            tt = counts[1, k] + counts[0, k]\n",
    "            delta = -int(counts[0, k] - tt * p + 0.5)\n",
    "        else:\n",
    "            delta = 0\n",
    "        i = int(len(v) * p + 0.5)\n",
    "        i += delta\n",
    "        i = max(0, min(len(v), i))\n",
    "        for j in range(0, i):\n",
    "            yield v[j], 0  # apprentissage\n",
    "        for j in range(i, len(v)):\n",
    "            yield v[j], 1  # test\n",
    "        if (0, k) not in counts:\n",
    "            counts[0, k] = i\n",
    "            counts[1, k] = len(v) - i\n",
    "        else:\n",
    "            counts[0, k] += i\n",
    "            counts[1, k] += len(v) - i"
   ]
  },
  {
   "cell_type": "code",
   "execution_count": 28,
   "metadata": {},
   "outputs": [
    {
     "name": "stdout",
     "output_type": "stream",
     "text": [
      "ratio de classe 1 dans l'échantillon entier 0.05000\n"
     ]
    },
    {
     "data": {
      "text/html": [
       "<div>\n",
       "<style scoped>\n",
       "    .dataframe tbody tr th:only-of-type {\n",
       "        vertical-align: middle;\n",
       "    }\n",
       "\n",
       "    .dataframe tbody tr th {\n",
       "        vertical-align: top;\n",
       "    }\n",
       "\n",
       "    .dataframe thead th {\n",
       "        text-align: right;\n",
       "    }\n",
       "</style>\n",
       "<table border=\"1\" class=\"dataframe\">\n",
       "  <thead>\n",
       "    <tr style=\"text-align: right;\">\n",
       "      <th>obs</th>\n",
       "      <th>0</th>\n",
       "      <th>1</th>\n",
       "      <th>sum</th>\n",
       "      <th>ratio</th>\n",
       "    </tr>\n",
       "    <tr>\n",
       "      <th>train_test</th>\n",
       "      <th></th>\n",
       "      <th></th>\n",
       "      <th></th>\n",
       "      <th></th>\n",
       "    </tr>\n",
       "  </thead>\n",
       "  <tbody>\n",
       "    <tr>\n",
       "      <th>0</th>\n",
       "      <td>6270</td>\n",
       "      <td>329</td>\n",
       "      <td>6599</td>\n",
       "      <td>0.049856</td>\n",
       "    </tr>\n",
       "    <tr>\n",
       "      <th>1</th>\n",
       "      <td>3230</td>\n",
       "      <td>171</td>\n",
       "      <td>3401</td>\n",
       "      <td>0.050279</td>\n",
       "    </tr>\n",
       "  </tbody>\n",
       "</table>\n",
       "</div>"
      ],
      "text/plain": [
       "obs            0    1   sum     ratio\n",
       "train_test                           \n",
       "0           6270  329  6599  0.049856\n",
       "1           3230  171  3401  0.050279"
      ]
     },
     "execution_count": 29,
     "metadata": {},
     "output_type": "execute_result"
    }
   ],
   "source": [
    "iter = streaming_stratified_split_train_test3(\n",
    "    ((i, i) for i in iterate_data(10000, 0.05)), 0.66\n",
    ")\n",
    "df = pandas.DataFrame(iter)\n",
    "df.columns = [\"obs\", \"train_test\"]\n",
    "df2 = df.copy()\n",
    "df2[\"un\"] = 1\n",
    "piv = (\n",
    "    df2.groupby([\"obs\", \"train_test\"], as_index=False)\n",
    "    .count()\n",
    "    .pivot(\"train_test\", \"obs\", \"un\")\n",
    ")\n",
    "piv[\"sum\"] = piv[0] + piv[1]\n",
    "piv[\"ratio\"] = piv[1] / piv[\"sum\"]\n",
    "print(\n",
    "    \"ratio de classe 1 dans l'échantillon entier %1.5f\"\n",
    "    % (\n",
    "        (piv.iloc[1, 1] + piv.iloc[0, 1])\n",
    "        / (piv.iloc[0, 1] + piv.iloc[0, 0] + piv.iloc[1, 1] + piv.iloc[1, 0])\n",
    "    )\n",
    ")\n",
    "piv"
   ]
  },
  {
   "cell_type": "markdown",
   "metadata": {},
   "source": [
    "## Streaming distribué\n",
    "\n",
    "C'est possible mais c'est un peu plus compliqué parce que le hasard en distribué, c'est compliqué. On n'est jamais sûr que des séries pseudo-aléatoires soient tout-à-fait indépendantes lorsqu'elles sont générées en parallèles."
   ]
  },
  {
   "cell_type": "code",
   "execution_count": 29,
   "metadata": {},
   "outputs": [],
   "source": []
  }
 ],
 "metadata": {
  "kernelspec": {
   "display_name": "Python 3",
   "language": "python",
   "name": "python3"
  },
  "language_info": {
   "codemirror_mode": {
    "name": "ipython",
    "version": 3
   },
   "file_extension": ".py",
   "mimetype": "text/x-python",
   "name": "python",
   "nbconvert_exporter": "python",
   "pygments_lexer": "ipython3",
   "version": "3.7.0"
  }
 },
 "nbformat": 4,
 "nbformat_minor": 2
}
